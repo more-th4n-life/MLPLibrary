{
 "cells": [
  {
   "cell_type": "markdown",
   "id": "3ba18ebe",
   "metadata": {},
   "source": [
    "# Hyper-Parameter Tuning # Hidden Layers"
   ]
  },
  {
   "cell_type": "code",
   "execution_count": 1,
   "id": "39086bcc",
   "metadata": {},
   "outputs": [],
   "source": [
    "import os\n",
    "import sys\n",
    "\n",
    "# CHANGE LEVELS:\n",
    "chdir = os.path.dirname(os.getcwd())\n",
    "sys.path.insert(0, chdir)\n",
    "\n",
    "# Importing all the modules and functions related to constructing MLP network models\n",
    "\n",
    "from network.net import Net                   # Net class, base class for constructing MLP networks\n",
    "from network.layer import Linear              # Linear class, child class of parent class Layer \n",
    "from network.loss import CrossEntropyLoss     # CrossEntropyLoss class, child class of parent class Loss\n",
    "from network.activ import ReLU, LeakyReLU     # ReLU, LeakyReLU classes, child classes of parent class Activation\n",
    "from network.optim import SGD, Adam           # SGD, Adam classes, child classes of parent class Optimizer"
   ]
  },
  {
   "cell_type": "code",
   "execution_count": 2,
   "id": "c9cd70c8",
   "metadata": {},
   "outputs": [],
   "source": [
    "# Importing all the modules and functions related to data processing including loaders for the assignment data\n",
    "\n",
    "# Process module contains functions relating to data processing:\n",
    "from network.loader.process import (\n",
    "    train_test_split,        # Function to split data with chosen ratio, data can be shuffled\n",
    "    normalize,               # Normalizes data to have mean of zero and unit variance\n",
    "    standardize,             # Normalizes data to be between range 0-1, i.e. standardizes data\n",
    "    one_hot,                 # One hot encoding: 100% prob of 2 is [0, 0, 1] with 3 classes\n",
    "    pca                      # Reduces data to chosen K principal components\n",
    ") \n",
    "\n",
    "# Data module for loading the assignment data\n",
    "from network.dataset.source import (\n",
    "    get_data_from_file,   # Loads assignment data from file (must be within main directory)\n",
    "    get_data_from_url     # Loads assignment data from public GitHub repo that stores data\n",
    ")\n",
    "\n",
    "# Data loader module for automating processing of and loading of assignment data based on parameter selections\n",
    "from network.loader.data_loader import load_train_val_test  # Parameter selections decide method of processing\n",
    "\n",
    "import numpy as np\n",
    "import matplotlib.pyplot as pl\n",
    "import pandas as pd \n",
    "import seaborn as sns\n",
    "\n",
    "# setting random seed\n",
    "np.random.seed(123)"
   ]
  },
  {
   "cell_type": "code",
   "execution_count": 3,
   "id": "dc662da3",
   "metadata": {},
   "outputs": [],
   "source": [
    "def plot_results(stats):\n",
    "    ep, tl, ta, vl, va = stats\n",
    "    pl.figure(figsize = (10, 7))\n",
    "\n",
    "    fig, ((ax1, ax2), (ax3, ax4)) = pl.subplots(2, 2)\n",
    "    fig.suptitle(f'Training Results, best model found @ Epoch {ep}')\n",
    "\n",
    "    ax1.plot(tl)\n",
    "    ax1.set_title('Training Loss')\n",
    "\n",
    "    ax2.plot(vl, 'tab:orange')\n",
    "    ax2.set_title('Validation Loss')\n",
    "\n",
    "    ax3.plot(ta, 'tab:green')\n",
    "    ax3.set_title('Training Accuracy')\n",
    "\n",
    "    ax4.plot(va, 'tab:red')\n",
    "    ax4.set_title('Validation Accuracy')\n",
    "    \n",
    "    for ax in fig.get_axes():\n",
    "        ax.label_outer()\n",
    "\n",
    "    pl.show()\n",
    "\n",
    "# Note as we are loading data from URL it will take longer than from file.\n",
    "train_set, valid_set, test_set = load_train_val_test(\n",
    "    source = \"url\", method = \"standardize\", pca_N = 0, n_categories = 10, ratio = 0.2, shuffle = True\n",
    ")         "
   ]
  },
  {
   "cell_type": "markdown",
   "id": "0a53ccf3",
   "metadata": {},
   "source": [
    "## Current Best Model"
   ]
  },
  {
   "cell_type": "code",
   "execution_count": 4,
   "id": "959360fe",
   "metadata": {},
   "outputs": [
    {
     "name": "stdout",
     "output_type": "stream",
     "text": [
      "Adam_network is initialized and ready to be trained.\n"
     ]
    }
   ],
   "source": [
    "mlp = Net(\n",
    "    optimizer = Adam(),\n",
    "    criterion = CrossEntropyLoss(),\n",
    "    batch_norm = True,\n",
    "    L2_reg_term = 0.001\n",
    ")\n",
    "\n",
    "mlp.add(Linear(128, 1024, dropout=0.4))\n",
    "mlp.add(ReLU())\n",
    "mlp.add(Linear(1024, 512, dropout=0.2))\n",
    "mlp.add(ReLU())\n",
    "mlp.add(Linear(512, 64, dropout=0.2))\n",
    "mlp.add(ReLU())\n",
    "mlp.add(Linear(64, 16, dropout=0.2))\n",
    "mlp.add(ReLU())\n",
    "mlp.add(Linear(16, 10))  \n",
    "\n",
    "\n",
    "mlp.set_name(\"Adam_network\")\n",
    "print(f\"{mlp.model_name} is initialized and ready to be trained.\")"
   ]
  },
  {
   "cell_type": "markdown",
   "id": "9cf38bbe",
   "metadata": {},
   "source": [
    "## 0: Train and Evaluate Current Best Model"
   ]
  },
  {
   "cell_type": "code",
   "execution_count": 5,
   "id": "9e7b0d2e",
   "metadata": {},
   "outputs": [
    {
     "name": "stderr",
     "output_type": "stream",
     "text": [
      "  1%|█▍                                                                                                                                           | 1/100 [00:08<13:40,  8.29s/it]"
     ]
    },
    {
     "name": "stdout",
     "output_type": "stream",
     "text": [
      "Epoch: 0\tInterval Time: 8.3 sec(s)\tTraining Loss: 2.213828\t\tTraining Accuracy: 0.226825\n",
      "\t\t\t\t\t\tValidation Loss:1.867397\tValidation Accuracy: 0.350100\n"
     ]
    },
    {
     "name": "stderr",
     "output_type": "stream",
     "text": [
      "  6%|████████▍                                                                                                                                    | 6/100 [00:51<13:52,  8.85s/it]"
     ]
    },
    {
     "name": "stdout",
     "output_type": "stream",
     "text": [
      "Epoch: 5\tInterval Time: 43.5 sec(s)\tTraining Loss: 1.574976\t\tTraining Accuracy: 0.458350\n",
      "\t\t\t\t\t\tValidation Loss:1.481806\tValidation Accuracy: 0.504200\n"
     ]
    },
    {
     "name": "stderr",
     "output_type": "stream",
     "text": [
      " 11%|███████████████▍                                                                                                                            | 11/100 [01:36<13:17,  8.97s/it]"
     ]
    },
    {
     "name": "stdout",
     "output_type": "stream",
     "text": [
      "Epoch: 10\tInterval Time: 45.0 sec(s)\tTraining Loss: 1.417001\t\tTraining Accuracy: 0.531750\n",
      "\t\t\t\t\t\tValidation Loss:1.382571\tValidation Accuracy: 0.546100\n"
     ]
    },
    {
     "name": "stderr",
     "output_type": "stream",
     "text": [
      " 16%|██████████████████████▍                                                                                                                     | 16/100 [02:21<12:24,  8.86s/it]"
     ]
    },
    {
     "name": "stdout",
     "output_type": "stream",
     "text": [
      "Epoch: 15\tInterval Time: 44.3 sec(s)\tTraining Loss: 1.331786\t\tTraining Accuracy: 0.573775\n",
      "\t\t\t\t\t\tValidation Loss:1.346598\tValidation Accuracy: 0.563900\n"
     ]
    },
    {
     "name": "stderr",
     "output_type": "stream",
     "text": [
      " 21%|█████████████████████████████▍                                                                                                              | 21/100 [03:06<11:53,  9.03s/it]"
     ]
    },
    {
     "name": "stdout",
     "output_type": "stream",
     "text": [
      "Epoch: 20\tInterval Time: 45.3 sec(s)\tTraining Loss: 1.273557\t\tTraining Accuracy: 0.604275\n",
      "\t\t\t\t\t\tValidation Loss:1.315492\tValidation Accuracy: 0.576700\n"
     ]
    },
    {
     "name": "stderr",
     "output_type": "stream",
     "text": [
      " 26%|████████████████████████████████████▍                                                                                                       | 26/100 [03:52<11:31,  9.34s/it]"
     ]
    },
    {
     "name": "stdout",
     "output_type": "stream",
     "text": [
      "Epoch: 25\tInterval Time: 46.4 sec(s)\tTraining Loss: 1.231234\t\tTraining Accuracy: 0.628075\n",
      "\t\t\t\t\t\tValidation Loss:1.314901\tValidation Accuracy: 0.579400\n"
     ]
    },
    {
     "name": "stderr",
     "output_type": "stream",
     "text": [
      " 31%|███████████████████████████████████████████▍                                                                                                | 31/100 [04:39<10:36,  9.22s/it]"
     ]
    },
    {
     "name": "stdout",
     "output_type": "stream",
     "text": [
      "Epoch: 30\tInterval Time: 46.2 sec(s)\tTraining Loss: 1.193900\t\tTraining Accuracy: 0.647725\n",
      "\t\t\t\t\t\tValidation Loss:1.301203\tValidation Accuracy: 0.587400\n"
     ]
    },
    {
     "name": "stderr",
     "output_type": "stream",
     "text": [
      " 36%|██████████████████████████████████████████████████▍                                                                                         | 36/100 [05:25<10:02,  9.41s/it]"
     ]
    },
    {
     "name": "stdout",
     "output_type": "stream",
     "text": [
      "Epoch: 35\tInterval Time: 46.4 sec(s)\tTraining Loss: 1.168793\t\tTraining Accuracy: 0.659200\n",
      "\t\t\t\t\t\tValidation Loss:1.301198\tValidation Accuracy: 0.583700\n"
     ]
    },
    {
     "name": "stderr",
     "output_type": "stream",
     "text": [
      " 41%|█████████████████████████████████████████████████████████▍                                                                                  | 41/100 [06:11<09:10,  9.34s/it]"
     ]
    },
    {
     "name": "stdout",
     "output_type": "stream",
     "text": [
      "Epoch: 40\tInterval Time: 46.1 sec(s)\tTraining Loss: 1.150525\t\tTraining Accuracy: 0.668050\n",
      "\t\t\t\t\t\tValidation Loss:1.294413\tValidation Accuracy: 0.587600\n"
     ]
    },
    {
     "name": "stderr",
     "output_type": "stream",
     "text": [
      " 46%|████████████████████████████████████████████████████████████████▍                                                                           | 46/100 [06:58<08:18,  9.23s/it]"
     ]
    },
    {
     "name": "stdout",
     "output_type": "stream",
     "text": [
      "Epoch: 45\tInterval Time: 46.6 sec(s)\tTraining Loss: 1.126710\t\tTraining Accuracy: 0.677550\n",
      "\t\t\t\t\t\tValidation Loss:1.291413\tValidation Accuracy: 0.593300\n"
     ]
    },
    {
     "name": "stderr",
     "output_type": "stream",
     "text": [
      " 50%|██████████████████████████████████████████████████████████████████████                                                                      | 50/100 [07:39<07:39,  9.18s/it]"
     ]
    },
    {
     "name": "stdout",
     "output_type": "stream",
     "text": [
      "Epoch: 50\tInterval Time: 41.0 sec(s)\tTraining Loss: 1.109057\t\tTraining Accuracy: 0.688575\n",
      "\t\t\t\t\t\tValidation Loss:1.292969\tValidation Accuracy: 0.592400\n",
      "\n",
      "\n",
      "Minimum percent change (1e-25%) in training loss not exceeded.\n",
      "\n",
      "Convergence criteria achieved.\n",
      "Training completed @ Epoch 50.\n",
      "Total training time: 7 min 39.1 s\n",
      "\n",
      "                Best model found @ Epoch 45\n",
      "                --------------------------------------------\n",
      "                Training Loss: 1.126710\n",
      "                Validation Loss: 1.291413\n",
      "                --------------------------------------------\n",
      "                Training Accuracy: 0.677550\n",
      "                Validation Accuracy: 0.593300\n",
      "\n",
      "\n",
      "Best model 'Adam_network' saved in 'model/' directory.\n"
     ]
    },
    {
     "name": "stderr",
     "output_type": "stream",
     "text": [
      "\n"
     ]
    },
    {
     "data": {
      "text/plain": [
       "{'tags': ['hide-output']}"
      ]
     },
     "execution_count": 5,
     "metadata": {},
     "output_type": "execute_result"
    }
   ],
   "source": [
    "best = mlp.train_convergence(\n",
    "    train_set = train_set,\n",
    "    valid_set = valid_set,\n",
    "    batch_size = 500,\n",
    "    planned_epochs = 100,\n",
    "    last_check = 10,\n",
    "    threshold = 1e-25,\n",
    "    report_interval = 5\n",
    ")\n",
    "\n",
    "{\"tags\": [\"hide-output\"]}"
   ]
  },
  {
   "cell_type": "code",
   "execution_count": 6,
   "id": "cae55fb2",
   "metadata": {},
   "outputs": [
    {
     "data": {
      "text/plain": [
       "<Figure size 720x504 with 0 Axes>"
      ]
     },
     "metadata": {},
     "output_type": "display_data"
    },
    {
     "data": {
      "image/png": "[encoded data removed]",
      "text/plain": [
       "<Figure size 432x288 with 4 Axes>"
      ]
     },
     "metadata": {
      "needs_background": "light"
     },
     "output_type": "display_data"
    }
   ],
   "source": [
    "plot_results(best)"
   ]
  },
  {
   "cell_type": "code",
   "execution_count": 7,
   "id": "ecf4c73c",
   "metadata": {},
   "outputs": [
    {
     "name": "stdout",
     "output_type": "stream",
     "text": [
      "-------------------------------------------\n",
      "Accuracy on train data: 86.06%\n",
      "Total Count:  40000\n",
      "Total Match:  34425\n",
      "-------------------------------------------\n",
      "Test Accuracy of\t0: 92.75% (3737/4029)\n",
      "Test Accuracy of\t1: 80.45% (3235/4021)\n",
      "Test Accuracy of\t2: 76.63% (3052/3983)\n",
      "Test Accuracy of\t3: 84.88% (3356/3954)\n",
      "Test Accuracy of\t4: 76.94% (3083/4007)\n",
      "Test Accuracy of\t5: 90.69% (3655/4030)\n",
      "Test Accuracy of\t6: 90.49% (3665/4050)\n",
      "Test Accuracy of\t7: 91.00% (3620/3978)\n",
      "Test Accuracy of\t8: 88.53% (3527/3984)\n",
      "Test Accuracy of\t9: 88.17% (3495/3964)\n",
      "-------------------------------------------\n",
      "Accuracy on valid data: 59.33%\n",
      "Total Count:  10000\n",
      "Total Match:  5933\n",
      "-------------------------------------------\n",
      "Test Accuracy of\t0: 73.12% (710/971)\n",
      "Test Accuracy of\t1: 45.45% (445/979)\n",
      "Test Accuracy of\t2: 40.31% (410/1017)\n",
      "Test Accuracy of\t3: 54.49% (570/1046)\n",
      "Test Accuracy of\t4: 44.61% (443/993)\n",
      "Test Accuracy of\t5: 67.63% (656/970)\n",
      "Test Accuracy of\t6: 65.37% (621/950)\n",
      "Test Accuracy of\t7: 73.09% (747/1022)\n",
      "Test Accuracy of\t8: 62.20% (632/1016)\n",
      "Test Accuracy of\t9: 67.47% (699/1036)\n",
      "-------------------------------------------\n",
      "Accuracy on test data: 58.65%\n",
      "Total Count:  10000\n",
      "Total Match:  5865\n",
      "-------------------------------------------\n",
      "Test Accuracy of\t0: 70.50% (705/1000)\n",
      "Test Accuracy of\t1: 43.40% (434/1000)\n",
      "Test Accuracy of\t2: 39.10% (391/1000)\n",
      "Test Accuracy of\t3: 51.30% (513/1000)\n",
      "Test Accuracy of\t4: 46.00% (460/1000)\n",
      "Test Accuracy of\t5: 69.80% (698/1000)\n",
      "Test Accuracy of\t6: 70.00% (700/1000)\n",
      "Test Accuracy of\t7: 70.10% (701/1000)\n",
      "Test Accuracy of\t8: 59.40% (594/1000)\n",
      "Test Accuracy of\t9: 66.90% (669/1000)\n"
     ]
    }
   ],
   "source": [
    "# Loading best model found:\n",
    "\n",
    "best_model = Net.load_model(\"model/\" + mlp.model_name)\n",
    "best_model.test_network(train_set, \"train data\")\n",
    "best_model.test_network(valid_set, \"valid data\")\n",
    "best_model.test_network(test_set, \"test data\")"
   ]
  },
  {
   "cell_type": "markdown",
   "id": "067fe9d5",
   "metadata": {},
   "source": [
    "# 1: Removing a layer"
   ]
  },
  {
   "cell_type": "markdown",
   "id": "e4ca7c98",
   "metadata": {},
   "source": [
    "Note: need to ensure output dims match input dims of next layer:\n",
    "\n",
    "### Scenario A"
   ]
  },
  {
   "cell_type": "code",
   "execution_count": 8,
   "id": "a6cd039c",
   "metadata": {},
   "outputs": [],
   "source": [
    "remA = Net(\n",
    "    optimizer = Adam(),\n",
    "    criterion = CrossEntropyLoss(),\n",
    "    batch_norm = True,\n",
    "    L2_reg_term = 0.001\n",
    ")\n",
    "\n",
    "remA.add(Linear(128, 1024, dropout=0.4))\n",
    "remA.add(ReLU())\n",
    "remA.add(Linear(1024, 512, dropout=0.2))\n",
    "remA.add(ReLU())\n",
    "remA.add(Linear(512, 16, dropout=0.2))\n",
    "remA.add(ReLU())\n",
    "#mlp.add(Linear(64, 16, dropout=0.2))   # removing this layer\n",
    "#mlp.add(ReLU())\n",
    "remA.add(Linear(16, 10))  "
   ]
  },
  {
   "cell_type": "markdown",
   "id": "7cd11afb",
   "metadata": {},
   "source": [
    "### Train and Evaluate Scenario A"
   ]
  },
  {
   "cell_type": "code",
   "execution_count": 9,
   "id": "6899bd4d",
   "metadata": {},
   "outputs": [
    {
     "name": "stdout",
     "output_type": "stream",
     "text": [
      "Adam_network is initialized and ready to be trained.\n"
     ]
    },
    {
     "name": "stderr",
     "output_type": "stream",
     "text": [
      "  1%|█▍                                                                                                                                           | 1/100 [00:07<12:14,  7.42s/it]"
     ]
    },
    {
     "name": "stdout",
     "output_type": "stream",
     "text": [
      "Epoch: 0\tInterval Time: 7.4 sec(s)\tTraining Loss: 2.024905\t\tTraining Accuracy: 0.273700\n",
      "\t\t\t\t\t\tValidation Loss:1.750469\tValidation Accuracy: 0.396800\n"
     ]
    },
    {
     "name": "stderr",
     "output_type": "stream",
     "text": [
      "  6%|████████▍                                                                                                                                    | 6/100 [00:46<12:12,  7.79s/it]"
     ]
    },
    {
     "name": "stdout",
     "output_type": "stream",
     "text": [
      "Epoch: 5\tInterval Time: 38.8 sec(s)\tTraining Loss: 1.515017\t\tTraining Accuracy: 0.489375\n",
      "\t\t\t\t\t\tValidation Loss:1.474686\tValidation Accuracy: 0.510900\n"
     ]
    },
    {
     "name": "stderr",
     "output_type": "stream",
     "text": [
      " 11%|███████████████▍                                                                                                                            | 11/100 [01:27<12:17,  8.28s/it]"
     ]
    },
    {
     "name": "stdout",
     "output_type": "stream",
     "text": [
      "Epoch: 10\tInterval Time: 41.2 sec(s)\tTraining Loss: 1.378228\t\tTraining Accuracy: 0.550250\n",
      "\t\t\t\t\t\tValidation Loss:1.378452\tValidation Accuracy: 0.549300\n"
     ]
    },
    {
     "name": "stderr",
     "output_type": "stream",
     "text": [
      " 16%|██████████████████████▍                                                                                                                     | 16/100 [02:07<11:00,  7.86s/it]"
     ]
    },
    {
     "name": "stdout",
     "output_type": "stream",
     "text": [
      "Epoch: 15\tInterval Time: 39.9 sec(s)\tTraining Loss: 1.304036\t\tTraining Accuracy: 0.583700\n",
      "\t\t\t\t\t\tValidation Loss:1.349824\tValidation Accuracy: 0.568500\n"
     ]
    },
    {
     "name": "stderr",
     "output_type": "stream",
     "text": [
      " 21%|█████████████████████████████▍                                                                                                              | 21/100 [02:51<11:52,  9.02s/it]"
     ]
    },
    {
     "name": "stdout",
     "output_type": "stream",
     "text": [
      "Epoch: 20\tInterval Time: 44.3 sec(s)\tTraining Loss: 1.257405\t\tTraining Accuracy: 0.606800\n",
      "\t\t\t\t\t\tValidation Loss:1.334707\tValidation Accuracy: 0.575000\n"
     ]
    },
    {
     "name": "stderr",
     "output_type": "stream",
     "text": [
      " 24%|█████████████████████████████████▌                                                                                                          | 24/100 [03:25<10:51,  8.57s/it]"
     ]
    },
    {
     "name": "stdout",
     "output_type": "stream",
     "text": [
      "\n",
      "\n",
      "Minimum percent change (1e-25%) in training loss not exceeded.\n",
      "\n",
      "Convergence criteria achieved.\n",
      "Training completed @ Epoch 24.\n",
      "Total training time: 3 min 25.7 s\n",
      "\n",
      "                Best model found @ Epoch 24\n",
      "                --------------------------------------------\n",
      "                Training Loss: 1.238887\n",
      "                Validation Loss: 1.319198\n",
      "                --------------------------------------------\n",
      "                Training Accuracy: 0.614475\n",
      "                Validation Accuracy: 0.577400\n",
      "\n",
      "\n",
      "Best model 'remA' saved in 'model/' directory.\n"
     ]
    },
    {
     "name": "stderr",
     "output_type": "stream",
     "text": [
      "\n"
     ]
    },
    {
     "data": {
      "text/plain": [
       "{'tags': ['hide-output']}"
      ]
     },
     "execution_count": 9,
     "metadata": {},
     "output_type": "execute_result"
    }
   ],
   "source": [
    "\n",
    "remA.set_name(\"remA\")\n",
    "print(f\"{mlp.model_name} is initialized and ready to be trained.\")\n",
    "\n",
    "remAT = remA.train_convergence(\n",
    "    train_set = train_set,\n",
    "    valid_set = valid_set,\n",
    "    batch_size = 500,\n",
    "    planned_epochs = 100,\n",
    "    last_check = 10,\n",
    "    threshold = 1e-25,\n",
    "    report_interval = 5\n",
    ")\n",
    "\n",
    "{\"tags\": [\"hide-output\"]}"
   ]
  },
  {
   "cell_type": "code",
   "execution_count": 10,
   "id": "546fa314",
   "metadata": {},
   "outputs": [
    {
     "data": {
      "text/plain": [
       "<Figure size 720x504 with 0 Axes>"
      ]
     },
     "metadata": {},
     "output_type": "display_data"
    },
    {
     "data": {
      "image/png": "[encoded data removed]",
      "text/plain": [
       "<Figure size 432x288 with 4 Axes>"
      ]
     },
     "metadata": {
      "needs_background": "light"
     },
     "output_type": "display_data"
    }
   ],
   "source": [
    "plot_results(remAT)"
   ]
  },
  {
   "cell_type": "code",
   "execution_count": 11,
   "id": "abe36e28",
   "metadata": {},
   "outputs": [
    {
     "name": "stdout",
     "output_type": "stream",
     "text": [
      "-------------------------------------------\n",
      "Accuracy on train data: 77.99%\n",
      "Total Count:  40000\n",
      "Total Match:  31196\n",
      "-------------------------------------------\n",
      "Test Accuracy of\t0: 86.90% (3501/4029)\n",
      "Test Accuracy of\t1: 66.90% (2690/4021)\n",
      "Test Accuracy of\t2: 69.34% (2762/3983)\n",
      "Test Accuracy of\t3: 74.66% (2952/3954)\n",
      "Test Accuracy of\t4: 56.83% (2277/4007)\n",
      "Test Accuracy of\t5: 84.94% (3423/4030)\n",
      "Test Accuracy of\t6: 83.01% (3362/4050)\n",
      "Test Accuracy of\t7: 87.71% (3489/3978)\n",
      "Test Accuracy of\t8: 87.00% (3466/3984)\n",
      "Test Accuracy of\t9: 82.59% (3274/3964)\n",
      "-------------------------------------------\n",
      "Accuracy on valid data: 57.74%\n",
      "Total Count:  10000\n",
      "Total Match:  5774\n",
      "-------------------------------------------\n",
      "Test Accuracy of\t0: 68.59% (666/971)\n",
      "Test Accuracy of\t1: 40.55% (397/979)\n",
      "Test Accuracy of\t2: 43.36% (441/1017)\n",
      "Test Accuracy of\t3: 52.49% (549/1046)\n",
      "Test Accuracy of\t4: 39.78% (395/993)\n",
      "Test Accuracy of\t5: 66.08% (641/970)\n",
      "Test Accuracy of\t6: 60.32% (573/950)\n",
      "Test Accuracy of\t7: 74.17% (758/1022)\n",
      "Test Accuracy of\t8: 65.65% (667/1016)\n",
      "Test Accuracy of\t9: 66.31% (687/1036)\n",
      "-------------------------------------------\n",
      "Accuracy on test data: 57.41%\n",
      "Total Count:  10000\n",
      "Total Match:  5741\n",
      "-------------------------------------------\n",
      "Test Accuracy of\t0: 68.10% (681/1000)\n",
      "Test Accuracy of\t1: 40.70% (407/1000)\n",
      "Test Accuracy of\t2: 42.10% (421/1000)\n",
      "Test Accuracy of\t3: 47.80% (478/1000)\n",
      "Test Accuracy of\t4: 38.80% (388/1000)\n",
      "Test Accuracy of\t5: 71.60% (716/1000)\n",
      "Test Accuracy of\t6: 65.20% (652/1000)\n",
      "Test Accuracy of\t7: 71.50% (715/1000)\n",
      "Test Accuracy of\t8: 64.10% (641/1000)\n",
      "Test Accuracy of\t9: 64.20% (642/1000)\n"
     ]
    }
   ],
   "source": [
    "# Loading best model found:\n",
    "\n",
    "best_model = Net.load_model(\"model/\" + remA.model_name)\n",
    "best_model.test_network(train_set, \"train data\")\n",
    "best_model.test_network(valid_set, \"valid data\")\n",
    "best_model.test_network(test_set, \"test data\")"
   ]
  },
  {
   "cell_type": "markdown",
   "id": "daf4da0b",
   "metadata": {},
   "source": [
    "### Scenario B"
   ]
  },
  {
   "cell_type": "code",
   "execution_count": 12,
   "id": "5c07a95e",
   "metadata": {},
   "outputs": [],
   "source": [
    "remB = Net(\n",
    "    optimizer = Adam(),\n",
    "    criterion = CrossEntropyLoss(),\n",
    "    batch_norm = True,\n",
    "    L2_reg_term = 0.001\n",
    ")\n",
    "\n",
    "remB.add(Linear(128, 1024, dropout=0.4))\n",
    "remB.add(ReLU())\n",
    "remB.add(Linear(1024, 64, dropout=0.2))\n",
    "remB.add(ReLU())\n",
    "#remB.add(Linear(512, 16, dropout=0.2))  # removing this layer\n",
    "#remB.add(ReLU())\n",
    "remB.add(Linear(64, 16, dropout=0.2))   \n",
    "remB.add(ReLU())\n",
    "remB.add(Linear(16, 10))"
   ]
  },
  {
   "cell_type": "markdown",
   "id": "96e79a04",
   "metadata": {},
   "source": [
    "### Train and Evaluate Scenario B"
   ]
  },
  {
   "cell_type": "code",
   "execution_count": 13,
   "id": "e7b9e986",
   "metadata": {},
   "outputs": [
    {
     "name": "stdout",
     "output_type": "stream",
     "text": [
      "Adam_network is initialized and ready to be trained.\n"
     ]
    },
    {
     "name": "stderr",
     "output_type": "stream",
     "text": [
      "  1%|█▍                                                                                                                                           | 1/100 [00:04<07:41,  4.66s/it]"
     ]
    },
    {
     "name": "stdout",
     "output_type": "stream",
     "text": [
      "Epoch: 0\tInterval Time: 4.6 sec(s)\tTraining Loss: 2.193259\t\tTraining Accuracy: 0.220975\n",
      "\t\t\t\t\t\tValidation Loss:1.844722\tValidation Accuracy: 0.367400\n"
     ]
    },
    {
     "name": "stderr",
     "output_type": "stream",
     "text": [
      "  6%|████████▍                                                                                                                                    | 6/100 [00:28<07:35,  4.84s/it]"
     ]
    },
    {
     "name": "stdout",
     "output_type": "stream",
     "text": [
      "Epoch: 5\tInterval Time: 24.3 sec(s)\tTraining Loss: 1.622170\t\tTraining Accuracy: 0.435975\n",
      "\t\t\t\t\t\tValidation Loss:1.544687\tValidation Accuracy: 0.482100\n"
     ]
    },
    {
     "name": "stderr",
     "output_type": "stream",
     "text": [
      " 11%|███████████████▍                                                                                                                            | 11/100 [00:51<06:46,  4.57s/it]"
     ]
    },
    {
     "name": "stdout",
     "output_type": "stream",
     "text": [
      "Epoch: 10\tInterval Time: 22.7 sec(s)\tTraining Loss: 1.487146\t\tTraining Accuracy: 0.492725\n",
      "\t\t\t\t\t\tValidation Loss:1.437874\tValidation Accuracy: 0.524200\n"
     ]
    },
    {
     "name": "stderr",
     "output_type": "stream",
     "text": [
      " 16%|██████████████████████▍                                                                                                                     | 16/100 [01:13<06:11,  4.42s/it]"
     ]
    },
    {
     "name": "stdout",
     "output_type": "stream",
     "text": [
      "Epoch: 15\tInterval Time: 22.1 sec(s)\tTraining Loss: 1.402600\t\tTraining Accuracy: 0.534050\n",
      "\t\t\t\t\t\tValidation Loss:1.389964\tValidation Accuracy: 0.542000\n"
     ]
    },
    {
     "name": "stderr",
     "output_type": "stream",
     "text": [
      " 21%|█████████████████████████████▍                                                                                                              | 21/100 [01:34<05:37,  4.28s/it]"
     ]
    },
    {
     "name": "stdout",
     "output_type": "stream",
     "text": [
      "Epoch: 20\tInterval Time: 21.3 sec(s)\tTraining Loss: 1.348399\t\tTraining Accuracy: 0.565050\n",
      "\t\t\t\t\t\tValidation Loss:1.363972\tValidation Accuracy: 0.556700\n"
     ]
    },
    {
     "name": "stderr",
     "output_type": "stream",
     "text": [
      " 26%|████████████████████████████████████▍                                                                                                       | 26/100 [01:57<05:37,  4.56s/it]"
     ]
    },
    {
     "name": "stdout",
     "output_type": "stream",
     "text": [
      "Epoch: 25\tInterval Time: 22.9 sec(s)\tTraining Loss: 1.322098\t\tTraining Accuracy: 0.574925\n",
      "\t\t\t\t\t\tValidation Loss:1.344735\tValidation Accuracy: 0.566800\n"
     ]
    },
    {
     "name": "stderr",
     "output_type": "stream",
     "text": [
      " 31%|███████████████████████████████████████████▍                                                                                                | 31/100 [02:19<04:59,  4.35s/it]"
     ]
    },
    {
     "name": "stdout",
     "output_type": "stream",
     "text": [
      "Epoch: 30\tInterval Time: 21.5 sec(s)\tTraining Loss: 1.293016\t\tTraining Accuracy: 0.590450\n",
      "\t\t\t\t\t\tValidation Loss:1.335203\tValidation Accuracy: 0.572300\n"
     ]
    },
    {
     "name": "stderr",
     "output_type": "stream",
     "text": [
      " 34%|███████████████████████████████████████████████▌                                                                                            | 34/100 [02:36<05:04,  4.61s/it]"
     ]
    },
    {
     "name": "stdout",
     "output_type": "stream",
     "text": [
      "\n",
      "\n",
      "Minimum percent change (1e-25%) in training loss not exceeded.\n",
      "\n",
      "Convergence criteria achieved.\n",
      "Training completed @ Epoch 34.\n",
      "Total training time: 2 min 36.7 s\n",
      "\n",
      "                Best model found @ Epoch 34\n",
      "                --------------------------------------------\n",
      "                Training Loss: 1.276709\n",
      "                Validation Loss: 1.327389\n",
      "                --------------------------------------------\n",
      "                Training Accuracy: 0.601125\n",
      "                Validation Accuracy: 0.574100\n",
      "\n",
      "\n",
      "Best model 'remB' saved in 'model/' directory.\n"
     ]
    },
    {
     "name": "stderr",
     "output_type": "stream",
     "text": [
      "\n"
     ]
    },
    {
     "data": {
      "text/plain": [
       "{'tags': ['hide-output']}"
      ]
     },
     "execution_count": 13,
     "metadata": {},
     "output_type": "execute_result"
    }
   ],
   "source": [
    "remB.set_name(\"remB\")\n",
    "print(f\"{mlp.model_name} is initialized and ready to be trained.\")\n",
    "\n",
    "remB_stat = remB.train_convergence(\n",
    "    train_set = train_set,\n",
    "    valid_set = valid_set,\n",
    "    batch_size = 500,\n",
    "    planned_epochs = 100,\n",
    "    last_check = 10,\n",
    "    threshold = 1e-25,\n",
    "    report_interval = 5\n",
    ")\n",
    "\n",
    "{\"tags\": [\"hide-output\"]}"
   ]
  },
  {
   "cell_type": "code",
   "execution_count": 14,
   "id": "2cff270a",
   "metadata": {},
   "outputs": [
    {
     "data": {
      "text/plain": [
       "<Figure size 720x504 with 0 Axes>"
      ]
     },
     "metadata": {},
     "output_type": "display_data"
    },
    {
     "data": {
      "image/png": "[encoded data removed]",
      "text/plain": [
       "<Figure size 432x288 with 4 Axes>"
      ]
     },
     "metadata": {
      "needs_background": "light"
     },
     "output_type": "display_data"
    }
   ],
   "source": [
    "plot_results(remB_stat)"
   ]
  },
  {
   "cell_type": "code",
   "execution_count": 15,
   "id": "7dc8f913",
   "metadata": {},
   "outputs": [
    {
     "name": "stdout",
     "output_type": "stream",
     "text": [
      "-------------------------------------------\n",
      "Accuracy on train data: 76.05%\n",
      "Total Count:  40000\n",
      "Total Match:  30422\n",
      "-------------------------------------------\n",
      "Test Accuracy of\t0: 87.71% (3534/4029)\n",
      "Test Accuracy of\t1: 65.66% (2640/4021)\n",
      "Test Accuracy of\t2: 60.56% (2412/3983)\n",
      "Test Accuracy of\t3: 69.20% (2736/3954)\n",
      "Test Accuracy of\t4: 57.72% (2313/4007)\n",
      "Test Accuracy of\t5: 86.45% (3484/4030)\n",
      "Test Accuracy of\t6: 82.81% (3354/4050)\n",
      "Test Accuracy of\t7: 87.25% (3471/3978)\n",
      "Test Accuracy of\t8: 84.14% (3352/3984)\n",
      "Test Accuracy of\t9: 78.86% (3126/3964)\n",
      "-------------------------------------------\n",
      "Accuracy on valid data: 57.41%\n",
      "Total Count:  10000\n",
      "Total Match:  5741\n",
      "-------------------------------------------\n",
      "Test Accuracy of\t0: 70.96% (689/971)\n",
      "Test Accuracy of\t1: 39.53% (387/979)\n",
      "Test Accuracy of\t2: 40.02% (407/1017)\n",
      "Test Accuracy of\t3: 50.10% (524/1046)\n",
      "Test Accuracy of\t4: 40.68% (404/993)\n",
      "Test Accuracy of\t5: 68.87% (668/970)\n",
      "Test Accuracy of\t6: 62.84% (597/950)\n",
      "Test Accuracy of\t7: 74.95% (766/1022)\n",
      "Test Accuracy of\t8: 64.37% (654/1016)\n",
      "Test Accuracy of\t9: 62.26% (645/1036)\n",
      "-------------------------------------------\n",
      "Accuracy on test data: 56.98%\n",
      "Total Count:  10000\n",
      "Total Match:  5698\n",
      "-------------------------------------------\n",
      "Test Accuracy of\t0: 70.30% (703/1000)\n",
      "Test Accuracy of\t1: 40.80% (408/1000)\n",
      "Test Accuracy of\t2: 36.90% (369/1000)\n",
      "Test Accuracy of\t3: 45.70% (457/1000)\n",
      "Test Accuracy of\t4: 41.40% (414/1000)\n",
      "Test Accuracy of\t5: 71.20% (712/1000)\n",
      "Test Accuracy of\t6: 66.20% (662/1000)\n",
      "Test Accuracy of\t7: 71.60% (716/1000)\n",
      "Test Accuracy of\t8: 62.20% (622/1000)\n",
      "Test Accuracy of\t9: 63.50% (635/1000)\n"
     ]
    }
   ],
   "source": [
    "# Loading best model found:\n",
    "\n",
    "best_model = Net.load_model(\"model/\" + remB.model_name)\n",
    "best_model.test_network(train_set, \"train data\")\n",
    "best_model.test_network(valid_set, \"valid data\")\n",
    "best_model.test_network(test_set, \"test data\")"
   ]
  },
  {
   "cell_type": "markdown",
   "id": "e4826b53",
   "metadata": {},
   "source": [
    "### Scenario C"
   ]
  },
  {
   "cell_type": "code",
   "execution_count": 16,
   "id": "d82a95f6",
   "metadata": {},
   "outputs": [],
   "source": [
    "remC = Net(\n",
    "    optimizer = Adam(),\n",
    "    criterion = CrossEntropyLoss(),\n",
    "    batch_norm = True,\n",
    "    L2_reg_term = 0.001\n",
    ")\n",
    "\n",
    "remC.add(Linear(128, 1024, dropout=0.4))\n",
    "remC.add(ReLU())\n",
    "#remC.add(Linear(1024, 64, dropout=0.2))   # removing this layer\n",
    "#remC.add(ReLU())\n",
    "remC.add(Linear(1024, 64, dropout=0.2))  \n",
    "remC.add(ReLU())\n",
    "remC.add(Linear(64, 16, dropout=0.2))   \n",
    "remC.add(ReLU())\n",
    "remC.add(Linear(16, 10))"
   ]
  },
  {
   "cell_type": "markdown",
   "id": "f81c6dc4",
   "metadata": {},
   "source": [
    "### Train and Evaluate Scenario C"
   ]
  },
  {
   "cell_type": "code",
   "execution_count": 17,
   "id": "a1d5e161",
   "metadata": {},
   "outputs": [
    {
     "name": "stdout",
     "output_type": "stream",
     "text": [
      "remC is initialized and ready to be trained.\n"
     ]
    },
    {
     "name": "stderr",
     "output_type": "stream",
     "text": [
      "  1%|█▍                                                                                                                                           | 1/100 [00:04<07:43,  4.68s/it]"
     ]
    },
    {
     "name": "stdout",
     "output_type": "stream",
     "text": [
      "Epoch: 0\tInterval Time: 4.7 sec(s)\tTraining Loss: 2.210719\t\tTraining Accuracy: 0.231975\n",
      "\t\t\t\t\t\tValidation Loss:1.848732\tValidation Accuracy: 0.368000\n"
     ]
    },
    {
     "name": "stderr",
     "output_type": "stream",
     "text": [
      "  6%|████████▍                                                                                                                                    | 6/100 [00:26<06:59,  4.47s/it]"
     ]
    },
    {
     "name": "stdout",
     "output_type": "stream",
     "text": [
      "Epoch: 5\tInterval Time: 22.0 sec(s)\tTraining Loss: 1.608983\t\tTraining Accuracy: 0.439600\n",
      "\t\t\t\t\t\tValidation Loss:1.538671\tValidation Accuracy: 0.485600\n"
     ]
    },
    {
     "name": "stderr",
     "output_type": "stream",
     "text": [
      " 11%|███████████████▍                                                                                                                            | 11/100 [00:51<07:20,  4.95s/it]"
     ]
    },
    {
     "name": "stdout",
     "output_type": "stream",
     "text": [
      "Epoch: 10\tInterval Time: 25.0 sec(s)\tTraining Loss: 1.473548\t\tTraining Accuracy: 0.500800\n",
      "\t\t\t\t\t\tValidation Loss:1.423571\tValidation Accuracy: 0.536100\n"
     ]
    },
    {
     "name": "stderr",
     "output_type": "stream",
     "text": [
      " 16%|██████████████████████▍                                                                                                                     | 16/100 [01:15<06:46,  4.84s/it]"
     ]
    },
    {
     "name": "stdout",
     "output_type": "stream",
     "text": [
      "Epoch: 15\tInterval Time: 23.6 sec(s)\tTraining Loss: 1.396154\t\tTraining Accuracy: 0.536425\n",
      "\t\t\t\t\t\tValidation Loss:1.379087\tValidation Accuracy: 0.553200\n"
     ]
    },
    {
     "name": "stderr",
     "output_type": "stream",
     "text": [
      " 21%|█████████████████████████████▍                                                                                                              | 21/100 [01:39<06:17,  4.78s/it]"
     ]
    },
    {
     "name": "stdout",
     "output_type": "stream",
     "text": [
      "Epoch: 20\tInterval Time: 24.6 sec(s)\tTraining Loss: 1.346378\t\tTraining Accuracy: 0.561625\n",
      "\t\t\t\t\t\tValidation Loss:1.354407\tValidation Accuracy: 0.565000\n"
     ]
    },
    {
     "name": "stderr",
     "output_type": "stream",
     "text": [
      " 26%|████████████████████████████████████▍                                                                                                       | 26/100 [02:03<05:49,  4.72s/it]"
     ]
    },
    {
     "name": "stdout",
     "output_type": "stream",
     "text": [
      "Epoch: 25\tInterval Time: 23.5 sec(s)\tTraining Loss: 1.314736\t\tTraining Accuracy: 0.577225\n",
      "\t\t\t\t\t\tValidation Loss:1.341496\tValidation Accuracy: 0.566200\n"
     ]
    },
    {
     "name": "stderr",
     "output_type": "stream",
     "text": [
      " 31%|███████████████████████████████████████████▍                                                                                                | 31/100 [02:26<05:10,  4.51s/it]"
     ]
    },
    {
     "name": "stdout",
     "output_type": "stream",
     "text": [
      "Epoch: 30\tInterval Time: 22.9 sec(s)\tTraining Loss: 1.287766\t\tTraining Accuracy: 0.591625\n",
      "\t\t\t\t\t\tValidation Loss:1.336896\tValidation Accuracy: 0.569800\n"
     ]
    },
    {
     "name": "stderr",
     "output_type": "stream",
     "text": [
      " 36%|██████████████████████████████████████████████████▍                                                                                         | 36/100 [02:48<04:43,  4.43s/it]"
     ]
    },
    {
     "name": "stdout",
     "output_type": "stream",
     "text": [
      "Epoch: 35\tInterval Time: 22.0 sec(s)\tTraining Loss: 1.270825\t\tTraining Accuracy: 0.600350\n",
      "\t\t\t\t\t\tValidation Loss:1.330571\tValidation Accuracy: 0.573900\n"
     ]
    },
    {
     "name": "stderr",
     "output_type": "stream",
     "text": [
      "\r",
      " 36%|██████████████████████████████████████████████████▍                                                                                         | 36/100 [02:52<05:07,  4.80s/it]"
     ]
    },
    {
     "name": "stdout",
     "output_type": "stream",
     "text": [
      "\n",
      "\n",
      "Minimum percent change (1e-25%) in training loss not exceeded.\n",
      "\n",
      "Convergence criteria achieved.\n",
      "Training completed @ Epoch 36.\n",
      "Total training time: 2 min 52.7 s\n",
      "\n",
      "                Best model found @ Epoch 36\n",
      "                --------------------------------------------\n",
      "                Training Loss: 1.273752\n",
      "                Validation Loss: 1.328997\n",
      "                --------------------------------------------\n",
      "                Training Accuracy: 0.600175\n",
      "                Validation Accuracy: 0.573100\n",
      "\n",
      "\n",
      "Best model 'remC' saved in 'model/' directory.\n"
     ]
    },
    {
     "name": "stderr",
     "output_type": "stream",
     "text": [
      "\n"
     ]
    },
    {
     "data": {
      "text/plain": [
       "{'tags': ['hide-output']}"
      ]
     },
     "execution_count": 17,
     "metadata": {},
     "output_type": "execute_result"
    }
   ],
   "source": [
    "\n",
    "remC.set_name(\"remC\")\n",
    "print(f\"{remC.model_name} is initialized and ready to be trained.\")\n",
    "\n",
    "remC_stat = remC.train_convergence(\n",
    "    train_set = train_set,\n",
    "    valid_set = valid_set,\n",
    "    batch_size = 500,\n",
    "    planned_epochs = 100,\n",
    "    last_check = 10,\n",
    "    threshold = 1e-25,\n",
    "    report_interval = 5\n",
    ")\n",
    "\n",
    "{\"tags\": [\"hide-output\"]}"
   ]
  },
  {
   "cell_type": "code",
   "execution_count": 18,
   "id": "ea20f8c2",
   "metadata": {},
   "outputs": [
    {
     "data": {
      "text/plain": [
       "<Figure size 720x504 with 0 Axes>"
      ]
     },
     "metadata": {},
     "output_type": "display_data"
    },
    {
     "data": {
      "image/png": "[encoded data removed]",
      "text/plain": [
       "<Figure size 432x288 with 4 Axes>"
      ]
     },
     "metadata": {
      "needs_background": "light"
     },
     "output_type": "display_data"
    }
   ],
   "source": [
    "plot_results(remC_stat)"
   ]
  },
  {
   "cell_type": "code",
   "execution_count": 19,
   "id": "d43d281a",
   "metadata": {},
   "outputs": [
    {
     "name": "stdout",
     "output_type": "stream",
     "text": [
      "-------------------------------------------\n",
      "Accuracy on train data: 76.57%\n",
      "Total Count:  40000\n",
      "Total Match:  30627\n",
      "-------------------------------------------\n",
      "Test Accuracy of\t0: 88.21% (3554/4029)\n",
      "Test Accuracy of\t1: 66.92% (2691/4021)\n",
      "Test Accuracy of\t2: 61.64% (2455/3983)\n",
      "Test Accuracy of\t3: 72.05% (2849/3954)\n",
      "Test Accuracy of\t4: 58.45% (2342/4007)\n",
      "Test Accuracy of\t5: 85.61% (3450/4030)\n",
      "Test Accuracy of\t6: 83.28% (3373/4050)\n",
      "Test Accuracy of\t7: 85.82% (3414/3978)\n",
      "Test Accuracy of\t8: 84.51% (3367/3984)\n",
      "Test Accuracy of\t9: 79.01% (3132/3964)\n",
      "-------------------------------------------\n",
      "Accuracy on valid data: 57.31%\n",
      "Total Count:  10000\n",
      "Total Match:  5731\n",
      "-------------------------------------------\n",
      "Test Accuracy of\t0: 70.24% (682/971)\n",
      "Test Accuracy of\t1: 41.98% (411/979)\n",
      "Test Accuracy of\t2: 40.71% (414/1017)\n",
      "Test Accuracy of\t3: 49.90% (522/1046)\n",
      "Test Accuracy of\t4: 41.99% (417/993)\n",
      "Test Accuracy of\t5: 65.57% (636/970)\n",
      "Test Accuracy of\t6: 63.16% (600/950)\n",
      "Test Accuracy of\t7: 72.60% (742/1022)\n",
      "Test Accuracy of\t8: 65.75% (668/1016)\n",
      "Test Accuracy of\t9: 61.68% (639/1036)\n",
      "-------------------------------------------\n",
      "Accuracy on test data: 57.37%\n",
      "Total Count:  10000\n",
      "Total Match:  5737\n",
      "-------------------------------------------\n",
      "Test Accuracy of\t0: 70.30% (703/1000)\n",
      "Test Accuracy of\t1: 41.80% (418/1000)\n",
      "Test Accuracy of\t2: 38.00% (380/1000)\n",
      "Test Accuracy of\t3: 48.40% (484/1000)\n",
      "Test Accuracy of\t4: 43.30% (433/1000)\n",
      "Test Accuracy of\t5: 69.10% (691/1000)\n",
      "Test Accuracy of\t6: 65.00% (650/1000)\n",
      "Test Accuracy of\t7: 70.00% (700/1000)\n",
      "Test Accuracy of\t8: 64.70% (647/1000)\n",
      "Test Accuracy of\t9: 63.10% (631/1000)\n"
     ]
    }
   ],
   "source": [
    "# Loading best model found:\n",
    "\n",
    "best_model = Net.load_model(\"model/\" + remC.model_name)\n",
    "best_model.test_network(train_set, \"train data\")\n",
    "best_model.test_network(valid_set, \"valid data\")\n",
    "best_model.test_network(test_set, \"test data\")"
   ]
  },
  {
   "cell_type": "markdown",
   "id": "e21fee4e",
   "metadata": {},
   "source": [
    "# 2: Adding a Layer"
   ]
  },
  {
   "cell_type": "markdown",
   "id": "b7eebd73",
   "metadata": {},
   "source": [
    "For consistency, let's choose an output dimension for an added hidden layer to be half the size of the output dims in the previous layer."
   ]
  },
  {
   "cell_type": "markdown",
   "id": "9a0be827",
   "metadata": {},
   "source": [
    "### Scenario A"
   ]
  },
  {
   "cell_type": "code",
   "execution_count": 20,
   "id": "a5cae34c",
   "metadata": {},
   "outputs": [
    {
     "name": "stdout",
     "output_type": "stream",
     "text": [
      "Adam_network is initialized and ready to be trained.\n"
     ]
    }
   ],
   "source": [
    "mlp = Net(\n",
    "    optimizer = Adam(),\n",
    "    criterion = CrossEntropyLoss(),\n",
    "    batch_norm = True,\n",
    "    L2_reg_term = 0.001\n",
    ")\n",
    "\n",
    "mlp.add(Linear(128, 1024, dropout=0.4))\n",
    "mlp.add(ReLU())\n",
    "mlp.add(Linear(1024, 512, dropout=0.2))\n",
    "mlp.add(ReLU())\n",
    "mlp.add(Linear(512, 64, dropout=0.2))\n",
    "mlp.add(ReLU())\n",
    "# Adding layer\n",
    "mlp.add(Linear(64, 32, dropout=0.2))  # half above output\n",
    "mlp.add(ReLU())\n",
    "mlp.add(Linear(32, 16, dropout=0.2))  # reduce 64 to match 32\n",
    "mlp.add(ReLU())\n",
    "mlp.add(Linear(16, 10))  \n",
    "\n",
    "\n",
    "mlp.set_name(\"Adam_network\")\n",
    "print(f\"{mlp.model_name} is initialized and ready to be trained.\")"
   ]
  },
  {
   "cell_type": "markdown",
   "id": "fa7ac7a7",
   "metadata": {},
   "source": [
    "### Train and Evaluate Scenario A"
   ]
  },
  {
   "cell_type": "code",
   "execution_count": 21,
   "id": "9bfee5fe",
   "metadata": {},
   "outputs": [
    {
     "name": "stdout",
     "output_type": "stream",
     "text": [
      "add is initialized and ready to be trained.\n"
     ]
    },
    {
     "name": "stderr",
     "output_type": "stream",
     "text": [
      "  1%|█▍                                                                                                                                           | 1/100 [00:07<13:04,  7.93s/it]"
     ]
    },
    {
     "name": "stdout",
     "output_type": "stream",
     "text": [
      "Epoch: 0\tInterval Time: 7.9 sec(s)\tTraining Loss: 2.290060\t\tTraining Accuracy: 0.185275\n",
      "\t\t\t\t\t\tValidation Loss:1.914627\tValidation Accuracy: 0.313400\n"
     ]
    },
    {
     "name": "stderr",
     "output_type": "stream",
     "text": [
      "  6%|████████▍                                                                                                                                    | 6/100 [00:48<12:58,  8.28s/it]"
     ]
    },
    {
     "name": "stdout",
     "output_type": "stream",
     "text": [
      "Epoch: 5\tInterval Time: 40.9 sec(s)\tTraining Loss: 1.676340\t\tTraining Accuracy: 0.406000\n",
      "\t\t\t\t\t\tValidation Loss:1.566034\tValidation Accuracy: 0.465700\n"
     ]
    },
    {
     "name": "stderr",
     "output_type": "stream",
     "text": [
      " 11%|███████████████▍                                                                                                                            | 11/100 [01:30<12:26,  8.39s/it]"
     ]
    },
    {
     "name": "stdout",
     "output_type": "stream",
     "text": [
      "Epoch: 10\tInterval Time: 41.5 sec(s)\tTraining Loss: 1.508287\t\tTraining Accuracy: 0.489325\n",
      "\t\t\t\t\t\tValidation Loss:1.442713\tValidation Accuracy: 0.520400\n"
     ]
    },
    {
     "name": "stderr",
     "output_type": "stream",
     "text": [
      " 16%|██████████████████████▍                                                                                                                     | 16/100 [02:09<11:00,  7.86s/it]"
     ]
    },
    {
     "name": "stdout",
     "output_type": "stream",
     "text": [
      "Epoch: 15\tInterval Time: 39.1 sec(s)\tTraining Loss: 1.406465\t\tTraining Accuracy: 0.540925\n",
      "\t\t\t\t\t\tValidation Loss:1.384610\tValidation Accuracy: 0.537500\n"
     ]
    },
    {
     "name": "stderr",
     "output_type": "stream",
     "text": [
      " 21%|█████████████████████████████▍                                                                                                              | 21/100 [02:47<09:57,  7.56s/it]"
     ]
    },
    {
     "name": "stdout",
     "output_type": "stream",
     "text": [
      "Epoch: 20\tInterval Time: 38.0 sec(s)\tTraining Loss: 1.343609\t\tTraining Accuracy: 0.572750\n",
      "\t\t\t\t\t\tValidation Loss:1.350632\tValidation Accuracy: 0.551300\n"
     ]
    },
    {
     "name": "stderr",
     "output_type": "stream",
     "text": [
      " 26%|████████████████████████████████████▍                                                                                                       | 26/100 [03:23<08:58,  7.27s/it]"
     ]
    },
    {
     "name": "stdout",
     "output_type": "stream",
     "text": [
      "Epoch: 25\tInterval Time: 36.0 sec(s)\tTraining Loss: 1.295893\t\tTraining Accuracy: 0.590375\n",
      "\t\t\t\t\t\tValidation Loss:1.342343\tValidation Accuracy: 0.561300\n"
     ]
    },
    {
     "name": "stderr",
     "output_type": "stream",
     "text": [
      " 31%|███████████████████████████████████████████▍                                                                                                | 31/100 [04:02<08:47,  7.64s/it]"
     ]
    },
    {
     "name": "stdout",
     "output_type": "stream",
     "text": [
      "Epoch: 30\tInterval Time: 38.8 sec(s)\tTraining Loss: 1.268212\t\tTraining Accuracy: 0.602150\n",
      "\t\t\t\t\t\tValidation Loss:1.333130\tValidation Accuracy: 0.560400\n"
     ]
    },
    {
     "name": "stderr",
     "output_type": "stream",
     "text": [
      " 36%|██████████████████████████████████████████████████▍                                                                                         | 36/100 [04:41<08:23,  7.86s/it]"
     ]
    },
    {
     "name": "stdout",
     "output_type": "stream",
     "text": [
      "Epoch: 35\tInterval Time: 39.2 sec(s)\tTraining Loss: 1.235945\t\tTraining Accuracy: 0.618325\n",
      "\t\t\t\t\t\tValidation Loss:1.324421\tValidation Accuracy: 0.567300\n"
     ]
    },
    {
     "name": "stderr",
     "output_type": "stream",
     "text": [
      " 40%|████████████████████████████████████████████████████████                                                                                    | 40/100 [05:20<08:01,  8.02s/it]"
     ]
    },
    {
     "name": "stdout",
     "output_type": "stream",
     "text": [
      "Epoch: 40\tInterval Time: 39.4 sec(s)\tTraining Loss: 1.217017\t\tTraining Accuracy: 0.626550\n",
      "\t\t\t\t\t\tValidation Loss:1.317501\tValidation Accuracy: 0.571700\n",
      "\n",
      "\n",
      "Minimum percent change (1e-25%) in training loss not exceeded.\n",
      "\n",
      "Convergence criteria achieved.\n",
      "Training completed @ Epoch 40.\n",
      "Total training time: 5 min 20.7 s\n",
      "\n",
      "                Best model found @ Epoch 40\n",
      "                --------------------------------------------\n",
      "                Training Loss: 1.217017\n",
      "                Validation Loss: 1.317501\n",
      "                --------------------------------------------\n",
      "                Training Accuracy: 0.626550\n",
      "                Validation Accuracy: 0.571700\n",
      "\n",
      "\n",
      "Best model 'add' saved in 'model/' directory.\n"
     ]
    },
    {
     "name": "stderr",
     "output_type": "stream",
     "text": [
      "\n"
     ]
    },
    {
     "data": {
      "text/plain": [
       "{'tags': ['hide-output']}"
      ]
     },
     "execution_count": 21,
     "metadata": {},
     "output_type": "execute_result"
    }
   ],
   "source": [
    "\n",
    "mlp.set_name(\"add\")\n",
    "print(f\"{mlp.model_name} is initialized and ready to be trained.\")\n",
    "\n",
    "addA = mlp.train_convergence(\n",
    "    train_set = train_set,\n",
    "    valid_set = valid_set,\n",
    "    batch_size = 500,\n",
    "    planned_epochs = 100,\n",
    "    last_check = 10,\n",
    "    threshold = 1e-25,\n",
    "    report_interval = 5\n",
    ")\n",
    "\n",
    "{\"tags\": [\"hide-output\"]}"
   ]
  },
  {
   "cell_type": "code",
   "execution_count": 23,
   "id": "f71fdc0d",
   "metadata": {},
   "outputs": [
    {
     "data": {
      "text/plain": [
       "<Figure size 720x504 with 0 Axes>"
      ]
     },
     "metadata": {},
     "output_type": "display_data"
    },
    {
     "data": {
      "image/png": "[encoded data removed]",
      "text/plain": [
       "<Figure size 432x288 with 4 Axes>"
      ]
     },
     "metadata": {
      "needs_background": "light"
     },
     "output_type": "display_data"
    }
   ],
   "source": [
    "plot_results(addA)"
   ]
  },
  {
   "cell_type": "code",
   "execution_count": 24,
   "id": "021cdab0",
   "metadata": {},
   "outputs": [
    {
     "name": "stdout",
     "output_type": "stream",
     "text": [
      "-------------------------------------------\n",
      "Accuracy on train data: 77.91%\n",
      "Total Count:  40000\n",
      "Total Match:  31162\n",
      "-------------------------------------------\n",
      "Test Accuracy of\t0: 91.54% (3688/4029)\n",
      "Test Accuracy of\t1: 69.19% (2782/4021)\n",
      "Test Accuracy of\t2: 34.87% (1389/3983)\n",
      "Test Accuracy of\t3: 75.92% (3002/3954)\n",
      "Test Accuracy of\t4: 67.43% (2702/4007)\n",
      "Test Accuracy of\t5: 89.58% (3610/4030)\n",
      "Test Accuracy of\t6: 85.88% (3478/4050)\n",
      "Test Accuracy of\t7: 90.87% (3615/3978)\n",
      "Test Accuracy of\t8: 88.70% (3534/3984)\n",
      "Test Accuracy of\t9: 84.81% (3362/3964)\n",
      "-------------------------------------------\n",
      "Accuracy on valid data: 57.17%\n",
      "Total Count:  10000\n",
      "Total Match:  5717\n",
      "-------------------------------------------\n",
      "Test Accuracy of\t0: 69.82% (678/971)\n",
      "Test Accuracy of\t1: 42.08% (412/979)\n",
      "Test Accuracy of\t2: 24.29% (247/1017)\n",
      "Test Accuracy of\t3: 51.82% (542/1046)\n",
      "Test Accuracy of\t4: 47.23% (469/993)\n",
      "Test Accuracy of\t5: 70.10% (680/970)\n",
      "Test Accuracy of\t6: 64.84% (616/950)\n",
      "Test Accuracy of\t7: 74.56% (762/1022)\n",
      "Test Accuracy of\t8: 64.86% (659/1016)\n",
      "Test Accuracy of\t9: 62.93% (652/1036)\n",
      "-------------------------------------------\n",
      "Accuracy on test data: 57.04%\n",
      "Total Count:  10000\n",
      "Total Match:  5704\n",
      "-------------------------------------------\n",
      "Test Accuracy of\t0: 70.10% (701/1000)\n",
      "Test Accuracy of\t1: 41.20% (412/1000)\n",
      "Test Accuracy of\t2: 21.30% (213/1000)\n",
      "Test Accuracy of\t3: 49.70% (497/1000)\n",
      "Test Accuracy of\t4: 51.00% (510/1000)\n",
      "Test Accuracy of\t5: 72.50% (725/1000)\n",
      "Test Accuracy of\t6: 66.00% (660/1000)\n",
      "Test Accuracy of\t7: 71.30% (713/1000)\n",
      "Test Accuracy of\t8: 63.60% (636/1000)\n",
      "Test Accuracy of\t9: 63.70% (637/1000)\n"
     ]
    }
   ],
   "source": [
    "# Loading best model found:\n",
    "\n",
    "best_model = Net.load_model(\"model/\" + mlp.model_name)\n",
    "best_model.test_network(train_set, \"train data\")\n",
    "best_model.test_network(valid_set, \"valid data\")\n",
    "best_model.test_network(test_set, \"test data\")"
   ]
  },
  {
   "cell_type": "markdown",
   "id": "f1d02f2d",
   "metadata": {},
   "source": [
    "### Scenario B"
   ]
  },
  {
   "cell_type": "code",
   "execution_count": 25,
   "id": "99f6c688",
   "metadata": {},
   "outputs": [
    {
     "name": "stdout",
     "output_type": "stream",
     "text": [
      "Adam_network is initialized and ready to be trained.\n"
     ]
    }
   ],
   "source": [
    "mlp = Net(\n",
    "    optimizer = Adam(),\n",
    "    criterion = CrossEntropyLoss(),\n",
    "    batch_norm = True,\n",
    "    L2_reg_term = 0.001\n",
    ")\n",
    "\n",
    "mlp.add(Linear(128, 1024, dropout=0.4))\n",
    "mlp.add(ReLU())\n",
    "mlp.add(Linear(1024, 512, dropout=0.2))\n",
    "mlp.add(ReLU())\n",
    "# adding layer\n",
    "mlp.add(Linear(512, 64, dropout=0.2))\n",
    "mlp.add(ReLU())\n",
    "mlp.add(Linear(64, 32, dropout=0.2))\n",
    "mlp.add(ReLU())\n",
    "mlp.add(Linear(32, 16, dropout=0.2))  \n",
    "mlp.add(ReLU())\n",
    "mlp.add(Linear(16, 10))  \n",
    "\n",
    "\n",
    "mlp.set_name(\"Adam_network\")\n",
    "print(f\"{mlp.model_name} is initialized and ready to be trained.\")"
   ]
  },
  {
   "cell_type": "markdown",
   "id": "71a74faa",
   "metadata": {},
   "source": [
    "### Train and Evaluate Scenario B"
   ]
  },
  {
   "cell_type": "code",
   "execution_count": 26,
   "id": "9a634ee8",
   "metadata": {},
   "outputs": [
    {
     "name": "stdout",
     "output_type": "stream",
     "text": [
      "add2 is initialized and ready to be trained.\n"
     ]
    },
    {
     "name": "stderr",
     "output_type": "stream",
     "text": [
      "  1%|█▍                                                                                                                                           | 1/100 [00:07<12:21,  7.49s/it]"
     ]
    },
    {
     "name": "stdout",
     "output_type": "stream",
     "text": [
      "Epoch: 0\tInterval Time: 7.5 sec(s)\tTraining Loss: 2.334971\t\tTraining Accuracy: 0.184450\n",
      "\t\t\t\t\t\tValidation Loss:1.960513\tValidation Accuracy: 0.308200\n"
     ]
    },
    {
     "name": "stderr",
     "output_type": "stream",
     "text": [
      "  6%|████████▍                                                                                                                                    | 6/100 [00:43<11:22,  7.27s/it]"
     ]
    },
    {
     "name": "stdout",
     "output_type": "stream",
     "text": [
      "Epoch: 5\tInterval Time: 36.3 sec(s)\tTraining Loss: 1.677803\t\tTraining Accuracy: 0.417900\n",
      "\t\t\t\t\t\tValidation Loss:1.554564\tValidation Accuracy: 0.475400\n"
     ]
    },
    {
     "name": "stderr",
     "output_type": "stream",
     "text": [
      " 11%|███████████████▍                                                                                                                            | 11/100 [01:20<10:59,  7.41s/it]"
     ]
    },
    {
     "name": "stdout",
     "output_type": "stream",
     "text": [
      "Epoch: 10\tInterval Time: 36.7 sec(s)\tTraining Loss: 1.512622\t\tTraining Accuracy: 0.492650\n",
      "\t\t\t\t\t\tValidation Loss:1.435345\tValidation Accuracy: 0.524200\n"
     ]
    },
    {
     "name": "stderr",
     "output_type": "stream",
     "text": [
      " 16%|██████████████████████▍                                                                                                                     | 16/100 [01:59<10:53,  7.78s/it]"
     ]
    },
    {
     "name": "stdout",
     "output_type": "stream",
     "text": [
      "Epoch: 15\tInterval Time: 39.5 sec(s)\tTraining Loss: 1.410168\t\tTraining Accuracy: 0.537400\n",
      "\t\t\t\t\t\tValidation Loss:1.381948\tValidation Accuracy: 0.543700\n"
     ]
    },
    {
     "name": "stderr",
     "output_type": "stream",
     "text": [
      " 21%|█████████████████████████████▍                                                                                                              | 21/100 [02:37<09:54,  7.53s/it]"
     ]
    },
    {
     "name": "stdout",
     "output_type": "stream",
     "text": [
      "Epoch: 20\tInterval Time: 37.4 sec(s)\tTraining Loss: 1.348913\t\tTraining Accuracy: 0.566475\n",
      "\t\t\t\t\t\tValidation Loss:1.352545\tValidation Accuracy: 0.555500\n"
     ]
    },
    {
     "name": "stderr",
     "output_type": "stream",
     "text": [
      " 26%|████████████████████████████████████▍                                                                                                       | 26/100 [03:16<09:38,  7.82s/it]"
     ]
    },
    {
     "name": "stdout",
     "output_type": "stream",
     "text": [
      "Epoch: 25\tInterval Time: 39.1 sec(s)\tTraining Loss: 1.299465\t\tTraining Accuracy: 0.589575\n",
      "\t\t\t\t\t\tValidation Loss:1.343080\tValidation Accuracy: 0.557400\n"
     ]
    },
    {
     "name": "stderr",
     "output_type": "stream",
     "text": [
      " 31%|███████████████████████████████████████████▍                                                                                                | 31/100 [03:54<08:45,  7.61s/it]"
     ]
    },
    {
     "name": "stdout",
     "output_type": "stream",
     "text": [
      "Epoch: 30\tInterval Time: 38.4 sec(s)\tTraining Loss: 1.268356\t\tTraining Accuracy: 0.608325\n",
      "\t\t\t\t\t\tValidation Loss:1.328810\tValidation Accuracy: 0.568400\n"
     ]
    },
    {
     "name": "stderr",
     "output_type": "stream",
     "text": [
      " 36%|██████████████████████████████████████████████████▍                                                                                         | 36/100 [04:33<08:12,  7.70s/it]"
     ]
    },
    {
     "name": "stdout",
     "output_type": "stream",
     "text": [
      "Epoch: 35\tInterval Time: 38.6 sec(s)\tTraining Loss: 1.235810\t\tTraining Accuracy: 0.623025\n",
      "\t\t\t\t\t\tValidation Loss:1.324016\tValidation Accuracy: 0.571400\n"
     ]
    },
    {
     "name": "stderr",
     "output_type": "stream",
     "text": [
      " 41%|█████████████████████████████████████████████████████████▍                                                                                  | 41/100 [05:14<07:46,  7.90s/it]"
     ]
    },
    {
     "name": "stdout",
     "output_type": "stream",
     "text": [
      "Epoch: 40\tInterval Time: 40.9 sec(s)\tTraining Loss: 1.206595\t\tTraining Accuracy: 0.633950\n",
      "\t\t\t\t\t\tValidation Loss:1.319178\tValidation Accuracy: 0.578800\n"
     ]
    },
    {
     "name": "stderr",
     "output_type": "stream",
     "text": [
      " 46%|████████████████████████████████████████████████████████████████▍                                                                           | 46/100 [05:53<07:00,  7.78s/it]"
     ]
    },
    {
     "name": "stdout",
     "output_type": "stream",
     "text": [
      "Epoch: 45\tInterval Time: 39.3 sec(s)\tTraining Loss: 1.189953\t\tTraining Accuracy: 0.646775\n",
      "\t\t\t\t\t\tValidation Loss:1.315719\tValidation Accuracy: 0.575800\n"
     ]
    },
    {
     "name": "stderr",
     "output_type": "stream",
     "text": [
      " 47%|█████████████████████████████████████████████████████████████████▊                                                                          | 47/100 [06:11<06:58,  7.90s/it]"
     ]
    },
    {
     "name": "stdout",
     "output_type": "stream",
     "text": [
      "\n",
      "\n",
      "Minimum percent change (1e-25%) in training loss not exceeded.\n",
      "\n",
      "Convergence criteria achieved.\n",
      "Training completed @ Epoch 47.\n",
      "Total training time: 6 min 11.5 s\n",
      "\n",
      "                Best model found @ Epoch 37\n",
      "                --------------------------------------------\n",
      "                Training Loss: 1.222942\n",
      "                Validation Loss: 1.315397\n",
      "                --------------------------------------------\n",
      "                Training Accuracy: 0.628925\n",
      "                Validation Accuracy: 0.577700\n",
      "\n",
      "\n",
      "Best model 'add2' saved in 'model/' directory.\n"
     ]
    },
    {
     "name": "stderr",
     "output_type": "stream",
     "text": [
      "\n"
     ]
    },
    {
     "data": {
      "text/plain": [
       "{'tags': ['hide-output']}"
      ]
     },
     "execution_count": 26,
     "metadata": {},
     "output_type": "execute_result"
    }
   ],
   "source": [
    "\n",
    "mlp.set_name(\"add2\")\n",
    "print(f\"{mlp.model_name} is initialized and ready to be trained.\")\n",
    "\n",
    "addB = mlp.train_convergence(\n",
    "    train_set = train_set,\n",
    "    valid_set = valid_set,\n",
    "    batch_size = 500,\n",
    "    planned_epochs = 100,\n",
    "    last_check = 10,\n",
    "    threshold = 1e-25,\n",
    "    report_interval = 5\n",
    ")\n",
    "\n",
    "{\"tags\": [\"hide-output\"]}"
   ]
  },
  {
   "cell_type": "code",
   "execution_count": 29,
   "id": "e8ff5ec8",
   "metadata": {},
   "outputs": [
    {
     "data": {
      "text/plain": [
       "<Figure size 720x504 with 0 Axes>"
      ]
     },
     "metadata": {},
     "output_type": "display_data"
    },
    {
     "data": {
      "image/png": "[encoded data removed]",
      "text/plain": [
       "<Figure size 432x288 with 4 Axes>"
      ]
     },
     "metadata": {
      "needs_background": "light"
     },
     "output_type": "display_data"
    }
   ],
   "source": [
    "plot_results(addB)"
   ]
  },
  {
   "cell_type": "code",
   "execution_count": 30,
   "id": "275c1b3e",
   "metadata": {},
   "outputs": [
    {
     "name": "stdout",
     "output_type": "stream",
     "text": [
      "-------------------------------------------\n",
      "Accuracy on train data: 78.27%\n",
      "Total Count:  40000\n",
      "Total Match:  31310\n",
      "-------------------------------------------\n",
      "Test Accuracy of\t0: 89.13% (3591/4029)\n",
      "Test Accuracy of\t1: 69.34% (2788/4021)\n",
      "Test Accuracy of\t2: 47.68% (1899/3983)\n",
      "Test Accuracy of\t3: 80.37% (3178/3954)\n",
      "Test Accuracy of\t4: 63.71% (2553/4007)\n",
      "Test Accuracy of\t5: 89.38% (3602/4030)\n",
      "Test Accuracy of\t6: 84.52% (3423/4050)\n",
      "Test Accuracy of\t7: 91.68% (3647/3978)\n",
      "Test Accuracy of\t8: 85.34% (3400/3984)\n",
      "Test Accuracy of\t9: 81.46% (3229/3964)\n",
      "-------------------------------------------\n",
      "Accuracy on valid data: 57.77%\n",
      "Total Count:  10000\n",
      "Total Match:  5777\n",
      "-------------------------------------------\n",
      "Test Accuracy of\t0: 70.96% (689/971)\n",
      "Test Accuracy of\t1: 41.57% (407/979)\n",
      "Test Accuracy of\t2: 34.22% (348/1017)\n",
      "Test Accuracy of\t3: 55.83% (584/1046)\n",
      "Test Accuracy of\t4: 47.23% (469/993)\n",
      "Test Accuracy of\t5: 65.88% (639/970)\n",
      "Test Accuracy of\t6: 59.58% (566/950)\n",
      "Test Accuracy of\t7: 77.01% (787/1022)\n",
      "Test Accuracy of\t8: 63.58% (646/1016)\n",
      "Test Accuracy of\t9: 61.97% (642/1036)\n",
      "-------------------------------------------\n",
      "Accuracy on test data: 57.05%\n",
      "Total Count:  10000\n",
      "Total Match:  5705\n",
      "-------------------------------------------\n",
      "Test Accuracy of\t0: 69.50% (695/1000)\n",
      "Test Accuracy of\t1: 43.20% (432/1000)\n",
      "Test Accuracy of\t2: 31.30% (313/1000)\n",
      "Test Accuracy of\t3: 53.60% (536/1000)\n",
      "Test Accuracy of\t4: 45.70% (457/1000)\n",
      "Test Accuracy of\t5: 68.90% (689/1000)\n",
      "Test Accuracy of\t6: 62.40% (624/1000)\n",
      "Test Accuracy of\t7: 73.00% (730/1000)\n",
      "Test Accuracy of\t8: 60.20% (602/1000)\n",
      "Test Accuracy of\t9: 62.70% (627/1000)\n"
     ]
    }
   ],
   "source": [
    "# Loading best model found:\n",
    "\n",
    "best_model = Net.load_model(\"model/\" + mlp.model_name)\n",
    "best_model.test_network(train_set, \"train data\")\n",
    "best_model.test_network(valid_set, \"valid data\")\n",
    "best_model.test_network(test_set, \"test data\")"
   ]
  },
  {
   "cell_type": "markdown",
   "id": "2c4e2024",
   "metadata": {},
   "source": [
    "## Scenario C"
   ]
  },
  {
   "cell_type": "code",
   "execution_count": 31,
   "id": "74a5894c",
   "metadata": {},
   "outputs": [
    {
     "name": "stdout",
     "output_type": "stream",
     "text": [
      "Adam_network is initialized and ready to be trained.\n"
     ]
    }
   ],
   "source": [
    "mlp = Net(\n",
    "    optimizer = Adam(),\n",
    "    criterion = CrossEntropyLoss(),\n",
    "    batch_norm = True,\n",
    "    L2_reg_term = 0.001\n",
    ")\n",
    "\n",
    "mlp.add(Linear(128, 1024, dropout=0.4))\n",
    "mlp.add(ReLU())\n",
    "# adding layer\n",
    "mlp.add(Linear(1024, 512, dropout=0.4))\n",
    "mlp.add(ReLU())\n",
    "mlp.add(Linear(512, 128, dropout=0.2))\n",
    "mlp.add(ReLU())\n",
    "mlp.add(Linear(128, 32, dropout=0.2))\n",
    "mlp.add(ReLU())\n",
    "mlp.add(Linear(32, 16, dropout=0.2))  \n",
    "mlp.add(ReLU())\n",
    "mlp.add(Linear(16, 10))  \n",
    "\n",
    "\n",
    "mlp.set_name(\"Adam_network\")\n",
    "print(f\"{mlp.model_name} is initialized and ready to be trained.\")"
   ]
  },
  {
   "cell_type": "markdown",
   "id": "6ec23a47",
   "metadata": {},
   "source": [
    "## Train and Evaluate Scenario C"
   ]
  },
  {
   "cell_type": "code",
   "execution_count": 32,
   "id": "d943e55e",
   "metadata": {},
   "outputs": [
    {
     "name": "stdout",
     "output_type": "stream",
     "text": [
      "add3 is initialized and ready to be trained.\n"
     ]
    },
    {
     "name": "stderr",
     "output_type": "stream",
     "text": [
      "  1%|█▍                                                                                                                                           | 1/100 [00:08<13:24,  8.13s/it]"
     ]
    },
    {
     "name": "stdout",
     "output_type": "stream",
     "text": [
      "Epoch: 0\tInterval Time: 8.1 sec(s)\tTraining Loss: 2.345788\t\tTraining Accuracy: 0.169975\n",
      "\t\t\t\t\t\tValidation Loss:1.967015\tValidation Accuracy: 0.307200\n"
     ]
    },
    {
     "name": "stderr",
     "output_type": "stream",
     "text": [
      "  6%|████████▍                                                                                                                                    | 6/100 [00:49<13:02,  8.32s/it]"
     ]
    },
    {
     "name": "stdout",
     "output_type": "stream",
     "text": [
      "Epoch: 5\tInterval Time: 41.4 sec(s)\tTraining Loss: 1.680194\t\tTraining Accuracy: 0.408425\n",
      "\t\t\t\t\t\tValidation Loss:1.553577\tValidation Accuracy: 0.469300\n"
     ]
    },
    {
     "name": "stderr",
     "output_type": "stream",
     "text": [
      " 11%|███████████████▍                                                                                                                            | 11/100 [01:30<12:12,  8.23s/it]"
     ]
    },
    {
     "name": "stdout",
     "output_type": "stream",
     "text": [
      "Epoch: 10\tInterval Time: 41.3 sec(s)\tTraining Loss: 1.517639\t\tTraining Accuracy: 0.486325\n",
      "\t\t\t\t\t\tValidation Loss:1.430776\tValidation Accuracy: 0.517400\n"
     ]
    },
    {
     "name": "stderr",
     "output_type": "stream",
     "text": [
      " 16%|██████████████████████▍                                                                                                                     | 16/100 [02:11<11:35,  8.28s/it]"
     ]
    },
    {
     "name": "stdout",
     "output_type": "stream",
     "text": [
      "Epoch: 15\tInterval Time: 41.2 sec(s)\tTraining Loss: 1.427705\t\tTraining Accuracy: 0.528475\n",
      "\t\t\t\t\t\tValidation Loss:1.377731\tValidation Accuracy: 0.544500\n"
     ]
    },
    {
     "name": "stderr",
     "output_type": "stream",
     "text": [
      " 21%|█████████████████████████████▍                                                                                                              | 21/100 [02:56<11:19,  8.60s/it]"
     ]
    },
    {
     "name": "stdout",
     "output_type": "stream",
     "text": [
      "Epoch: 20\tInterval Time: 44.3 sec(s)\tTraining Loss: 1.370125\t\tTraining Accuracy: 0.555125\n",
      "\t\t\t\t\t\tValidation Loss:1.354126\tValidation Accuracy: 0.554300\n"
     ]
    },
    {
     "name": "stderr",
     "output_type": "stream",
     "text": [
      " 26%|████████████████████████████████████▍                                                                                                       | 26/100 [03:37<10:09,  8.23s/it]"
     ]
    },
    {
     "name": "stdout",
     "output_type": "stream",
     "text": [
      "Epoch: 25\tInterval Time: 41.0 sec(s)\tTraining Loss: 1.321667\t\tTraining Accuracy: 0.582900\n",
      "\t\t\t\t\t\tValidation Loss:1.341259\tValidation Accuracy: 0.560100\n"
     ]
    },
    {
     "name": "stderr",
     "output_type": "stream",
     "text": [
      " 31%|███████████████████████████████████████████▍                                                                                                | 31/100 [04:21<10:11,  8.86s/it]"
     ]
    },
    {
     "name": "stdout",
     "output_type": "stream",
     "text": [
      "Epoch: 30\tInterval Time: 44.5 sec(s)\tTraining Loss: 1.295040\t\tTraining Accuracy: 0.595325\n",
      "\t\t\t\t\t\tValidation Loss:1.334890\tValidation Accuracy: 0.562200\n"
     ]
    },
    {
     "name": "stderr",
     "output_type": "stream",
     "text": [
      " 32%|████████████████████████████████████████████▊                                                                                               | 32/100 [04:40<09:55,  8.76s/it]"
     ]
    },
    {
     "name": "stdout",
     "output_type": "stream",
     "text": [
      "\n",
      "\n",
      "Minimum percent change (1e-25%) in training loss not exceeded.\n",
      "\n",
      "Convergence criteria achieved.\n",
      "Training completed @ Epoch 32.\n",
      "Total training time: 4 min 40.2 s\n",
      "\n",
      "                Best model found @ Epoch 32\n",
      "                --------------------------------------------\n",
      "                Training Loss: 1.284628\n",
      "                Validation Loss: 1.327777\n",
      "                --------------------------------------------\n",
      "                Training Accuracy: 0.598350\n",
      "                Validation Accuracy: 0.567300\n",
      "\n",
      "\n",
      "Best model 'add3' saved in 'model/' directory.\n"
     ]
    },
    {
     "name": "stderr",
     "output_type": "stream",
     "text": [
      "\n"
     ]
    },
    {
     "data": {
      "text/plain": [
       "{'tags': ['hide-output']}"
      ]
     },
     "execution_count": 32,
     "metadata": {},
     "output_type": "execute_result"
    }
   ],
   "source": [
    "\n",
    "mlp.set_name(\"add3\")\n",
    "print(f\"{mlp.model_name} is initialized and ready to be trained.\")\n",
    "\n",
    "addC = mlp.train_convergence(\n",
    "    train_set = train_set,\n",
    "    valid_set = valid_set,\n",
    "    batch_size = 500,\n",
    "    planned_epochs = 100,\n",
    "    last_check = 10,\n",
    "    threshold = 1e-25,\n",
    "    report_interval = 5\n",
    ")\n",
    "\n",
    "{\"tags\": [\"hide-output\"]}"
   ]
  },
  {
   "cell_type": "code",
   "execution_count": 34,
   "id": "03330ccc",
   "metadata": {},
   "outputs": [
    {
     "data": {
      "text/plain": [
       "<Figure size 720x504 with 0 Axes>"
      ]
     },
     "metadata": {},
     "output_type": "display_data"
    },
    {
     "data": {
      "image/png": "[encoded data removed]",
      "text/plain": [
       "<Figure size 432x288 with 4 Axes>"
      ]
     },
     "metadata": {
      "needs_background": "light"
     },
     "output_type": "display_data"
    }
   ],
   "source": [
    "plot_results(addC)"
   ]
  },
  {
   "cell_type": "code",
   "execution_count": 33,
   "id": "6c882b4c",
   "metadata": {},
   "outputs": [
    {
     "name": "stdout",
     "output_type": "stream",
     "text": [
      "-------------------------------------------\n",
      "Accuracy on train data: 74.73%\n",
      "Total Count:  40000\n",
      "Total Match:  29892\n",
      "-------------------------------------------\n",
      "Test Accuracy of\t0: 86.10% (3469/4029)\n",
      "Test Accuracy of\t1: 66.97% (2693/4021)\n",
      "Test Accuracy of\t2: 48.53% (1933/3983)\n",
      "Test Accuracy of\t3: 68.41% (2705/3954)\n",
      "Test Accuracy of\t4: 57.60% (2308/4007)\n",
      "Test Accuracy of\t5: 85.04% (3427/4030)\n",
      "Test Accuracy of\t6: 82.44% (3339/4050)\n",
      "Test Accuracy of\t7: 88.44% (3518/3978)\n",
      "Test Accuracy of\t8: 84.71% (3375/3984)\n",
      "Test Accuracy of\t9: 78.83% (3125/3964)\n",
      "-------------------------------------------\n",
      "Accuracy on valid data: 56.73%\n",
      "Total Count:  10000\n",
      "Total Match:  5673\n",
      "-------------------------------------------\n",
      "Test Accuracy of\t0: 67.25% (653/971)\n",
      "Test Accuracy of\t1: 45.45% (445/979)\n",
      "Test Accuracy of\t2: 35.59% (362/1017)\n",
      "Test Accuracy of\t3: 50.38% (527/1046)\n",
      "Test Accuracy of\t4: 44.71% (444/993)\n",
      "Test Accuracy of\t5: 66.39% (644/970)\n",
      "Test Accuracy of\t6: 62.42% (593/950)\n",
      "Test Accuracy of\t7: 73.39% (750/1022)\n",
      "Test Accuracy of\t8: 62.70% (637/1016)\n",
      "Test Accuracy of\t9: 59.65% (618/1036)\n",
      "-------------------------------------------\n",
      "Accuracy on test data: 56.11%\n",
      "Total Count:  10000\n",
      "Total Match:  5611\n",
      "-------------------------------------------\n",
      "Test Accuracy of\t0: 66.10% (661/1000)\n",
      "Test Accuracy of\t1: 44.60% (446/1000)\n",
      "Test Accuracy of\t2: 32.50% (325/1000)\n",
      "Test Accuracy of\t3: 46.40% (464/1000)\n",
      "Test Accuracy of\t4: 45.30% (453/1000)\n",
      "Test Accuracy of\t5: 67.00% (670/1000)\n",
      "Test Accuracy of\t6: 65.30% (653/1000)\n",
      "Test Accuracy of\t7: 70.80% (708/1000)\n",
      "Test Accuracy of\t8: 62.80% (628/1000)\n",
      "Test Accuracy of\t9: 60.30% (603/1000)\n"
     ]
    }
   ],
   "source": [
    "# Loading best model found:\n",
    "\n",
    "best_model = Net.load_model(\"model/\" + mlp.model_name)\n",
    "best_model.test_network(train_set, \"train data\")\n",
    "best_model.test_network(valid_set, \"valid data\")\n",
    "best_model.test_network(test_set, \"test data\")"
   ]
  }
 ],
 "metadata": {
  "kernelspec": {
   "display_name": "Python 3 (ipykernel)",
   "language": "python",
   "name": "python3"
  },
  "language_info": {
   "codemirror_mode": {
    "name": "ipython",
    "version": 3
   },
   "file_extension": ".py",
   "mimetype": "text/x-python",
   "name": "python",
   "nbconvert_exporter": "python",
   "pygments_lexer": "ipython3",
   "version": "3.10.2"
  }
 },
 "nbformat": 4,
 "nbformat_minor": 5
}
