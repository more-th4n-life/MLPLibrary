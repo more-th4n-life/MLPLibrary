{
 "cells": [
  {
   "cell_type": "markdown",
   "metadata": {},
   "source": [
    "# Batch-Norm Tuning"
   ]
  },
  {
   "cell_type": "markdown",
   "metadata": {},
   "source": [
    "For more detailed instructions of using MLPLibrary consult the documentation. This demo will give practical demonstration of MLPLibrary functions and usage for constructing MLP models, setting hyperparameters and evaluating training and testing performance, using the provided data for COMP5329 Assignment 1. "
   ]
  },
  {
   "cell_type": "markdown",
   "metadata": {},
   "source": [
    "### Installing MLPLibrary"
   ]
  },
  {
   "cell_type": "markdown",
   "metadata": {},
   "source": [
    "As provided in the README.md in the main folder, MLPlibrary may be installed locally as a portable library (similar to NumPy or PyTorch) simply by navigating into the network directory (i.e. ```'MLPLibrary/network/'```) and executing the following statement:\n",
    "```\n",
    "pip install ..\n",
    "```\n",
    "This will install all the required dependencies stated in the ```setup.py``` file and allow usage of our library functions anywhere on your device locally."
   ]
  },
  {
   "cell_type": "markdown",
   "metadata": {},
   "source": [
    "After this step, you may perform the following imports. If you decide not to install MLPLibrary, make sure you are within the main folder of MLPLibrary."
   ]
  },
  {
   "cell_type": "markdown",
   "metadata": {},
   "source": [
    "## IMPORTING MLPLibrary"
   ]
  },
  {
   "cell_type": "code",
   "execution_count": 1,
   "metadata": {},
   "outputs": [],
   "source": [
    "# Importing all the modules and functions related to constructing MLP network models\n",
    "\n",
    "from network.net import Net                   # Net class, base class for constructing MLP networks\n",
    "from network.layer import Linear              # Linear class, child class of parent class Layer \n",
    "from network.loss import CrossEntropyLoss     # CrossEntropyLoss class, child class of parent class Loss\n",
    "from network.activ import ReLU, LeakyReLU     # ReLU, LeakyReLU classes, child classes of parent class Activation\n",
    "from network.optim import SGD, Adam           # SGD, Adam classes, child classes of parent class Optimizer"
   ]
  },
  {
   "cell_type": "markdown",
   "metadata": {},
   "source": [
    "### Importing Standard Libraries"
   ]
  },
  {
   "cell_type": "code",
   "execution_count": 2,
   "metadata": {},
   "outputs": [],
   "source": [
    "# Importing all the modules and functions related to data processing including loaders for the assignment data\n",
    "\n",
    "# Process module contains functions relating to data processing:\n",
    "from network.loader.process import (\n",
    "    train_test_split,        # Function to split data with chosen ratio, data can be shuffled\n",
    "    normalize,               # Normalizes data to have mean of zero and unit variance\n",
    "    standardize,             # Normalizes data to be between range 0-1, i.e. standardizes data\n",
    "    one_hot,                 # One hot encoding: 100% prob of 2 is [0, 0, 1] with 3 classes\n",
    "    pca                      # Reduces data to chosen K principal components\n",
    ") \n",
    "\n",
    "# Data module for loading the assignment data\n",
    "from network.dataset.source import (\n",
    "    get_data_from_file,   # Loads assignment data from file (must be within main directory)\n",
    "    get_data_from_url     # Loads assignment data from public GitHub repo that stores data\n",
    ")\n",
    "\n",
    "# Data loader module for automating processing of and loading of assignment data based on parameter selections\n",
    "from network.loader.data_loader import load_train_val_test  # Parameter selections decide method of processing                            "
   ]
  },
  {
   "cell_type": "code",
   "execution_count": 3,
   "metadata": {},
   "outputs": [],
   "source": [
    "import numpy as np\n",
    "import matplotlib.pyplot as pl\n",
    "import pandas as pd \n",
    "import seaborn as sns\n",
    "\n",
    "# setting random seed\n",
    "np.random.seed(88)"
   ]
  },
  {
   "cell_type": "code",
   "execution_count": 4,
   "metadata": {},
   "outputs": [],
   "source": [
    "SOURCE_DATA = \"url\"          # May choose from \"url\" or \"file\" to source assignment data (must be in main for \"file\")\n",
    "NORM_METHOD = \"standardize\"  # May choose from \"standardize\", \"normalize\" or \"none\" (none is no normalization on data)\n",
    "PCA_N_COMPONENTS = 0         # If PCA_N_COMPONENTS > 0;\n",
    "                                # Normalization is skipped as done implicitly by mean centering prior to applying PCA\n",
    "                                # Strictly, the choice of PCA_N_COMPONENTS <= N_DIMENSIONS of the input dataset \n",
    "N_CATEGORIES = 10            # If N_CATEGORIES > 0 chosen, then categorical one-hot encoding is applied to label data\n",
    "SPLIT_RATIO = 0.2             # Ratio data is to be split upon when obtaining a train test split (default is set to 0.2)\n",
    "SHUFFLE_DATA = True          # IF SHUFFLE is True, then the data is shuffled prior to splitting by taking random indices"
   ]
  },
  {
   "cell_type": "markdown",
   "metadata": {},
   "source": [
    "#### Obtaining loaded and processed data based on the chosen parameter selections:"
   ]
  },
  {
   "cell_type": "markdown",
   "metadata": {},
   "source": [
    "#### Obtaining loaded and processed data based on the chosen parameter selections:"
   ]
  },
  {
   "cell_type": "code",
   "execution_count": 5,
   "metadata": {},
   "outputs": [],
   "source": [
    "# Note as we are loading data from URL it will take longer than from file.\n",
    "train_set, valid_set, test_set = load_train_val_test(\n",
    "    source = SOURCE_DATA,\n",
    "    method = NORM_METHOD,      \n",
    "    pca_N = PCA_N_COMPONENTS,\n",
    "    n_categories = N_CATEGORIES,\n",
    "    ratio = SPLIT_RATIO,\n",
    "    shuffle = SHUFFLE_DATA\n",
    ")"
   ]
  },
  {
   "cell_type": "code",
   "execution_count": 7,
   "metadata": {},
   "outputs": [
    {
     "name": "stdout",
     "output_type": "stream",
     "text": [
      "------------------------------------------------\n",
      "Shape of Training Data: (40000, 128)\n",
      "Shape of Training Labels: (40000, 10)\n",
      "------------------------------------------------\n",
      "Shape of Validation Data: (10000, 128)\n",
      "Shape of Validation Labels: (10000, 10)\n",
      "------------------------------------------------\n",
      "Shape of Test Data: (10000, 128)\n",
      "Shape of Test Labels: (10000, 10)\n",
      "------------------------------------------------\n",
      "\n",
      "First 10 one-hot encoded labels of test data:\n",
      "\n",
      "[[0. 0. 0. 1. 0. 0. 0. 0. 0. 0.]\n",
      " [0. 0. 0. 0. 0. 0. 0. 0. 1. 0.]\n",
      " [0. 0. 0. 0. 0. 0. 0. 0. 1. 0.]\n",
      " [1. 0. 0. 0. 0. 0. 0. 0. 0. 0.]\n",
      " [0. 0. 0. 0. 0. 0. 1. 0. 0. 0.]\n",
      " [0. 0. 0. 0. 0. 0. 1. 0. 0. 0.]\n",
      " [0. 1. 0. 0. 0. 0. 0. 0. 0. 0.]\n",
      " [0. 0. 0. 0. 0. 0. 1. 0. 0. 0.]\n",
      " [0. 0. 0. 1. 0. 0. 0. 0. 0. 0.]\n",
      " [0. 1. 0. 0. 0. 0. 0. 0. 0. 0.]]\n",
      "\n",
      "Equivalent to: [3, 8, 8, 0, 6, 6, 1, 6, 3, 1]\n"
     ]
    }
   ],
   "source": [
    "line_sep = \"------------------------------------------------\"\n",
    "print(line_sep)\n",
    "print(f\"Shape of Training Data: {train_set[0].shape}\")\n",
    "print(f\"Shape of Training Labels: {train_set[1].shape}\")\n",
    "print(line_sep)\n",
    "print(f\"Shape of Validation Data: {valid_set[0].shape}\")\n",
    "print(f\"Shape of Validation Labels: {valid_set[1].shape}\")\n",
    "print(line_sep)\n",
    "print(f\"Shape of Test Data: {test_set[0].shape}\")\n",
    "print(f\"Shape of Test Labels: {test_set[1].shape}\")\n",
    "print(line_sep + '\\n')\n",
    "print(f\"First 10 one-hot encoded labels of test data:\\n\\n{test_set[1][:10]}\")\n",
    "print(f\"\\nEquivalent to: {[np.argmax(label) for label in test_set[1][:10]]}\")"
   ]
  },
  {
   "cell_type": "code",
   "execution_count": 8,
   "metadata": {},
   "outputs": [],
   "source": [
    "def plot_results(stats):\n",
    "    ep, tl, ta, vl, va = stats\n",
    "    pl.figure(figsize = (10, 7))\n",
    "\n",
    "    fig, ((ax1, ax2), (ax3, ax4)) = pl.subplots(2, 2)\n",
    "    fig.suptitle(f'Training Results, best model found @ Epoch {ep}')\n",
    "\n",
    "    ax1.plot(tl)\n",
    "    ax1.set_title('Training Loss')\n",
    "\n",
    "    ax2.plot(vl, 'tab:orange')\n",
    "    ax2.set_title('Validation Loss')\n",
    "\n",
    "    ax3.plot(ta, 'tab:green')\n",
    "    ax3.set_title('Training Accuracy')\n",
    "\n",
    "    ax4.plot(va, 'tab:red')\n",
    "    ax4.set_title('Validation Accuracy')\n",
    "    \n",
    "    for ax in fig.get_axes():\n",
    "        ax.label_outer()\n",
    "\n",
    "    pl.show()"
   ]
  },
  {
   "cell_type": "markdown",
   "metadata": {},
   "source": [
    "## CONSTRUCTING MLP MODELS"
   ]
  },
  {
   "cell_type": "markdown",
   "metadata": {},
   "source": [
    "#### Batch Norm optimization "
   ]
  },
  {
   "cell_type": "code",
   "execution_count": 9,
   "metadata": {},
   "outputs": [
    {
     "name": "stdout",
     "output_type": "stream",
     "text": [
      "Adam_network is initialized and ready to be trained.\n"
     ]
    }
   ],
   "source": [
    "mlp = Net(\n",
    "    optimizer=Adam(),\n",
    "    criterion=CrossEntropyLoss(),\n",
    "    batch_norm=True,\n",
    "    L2_reg_term=0.001\n",
    ")\n",
    "\n",
    "mlp.add(Linear(128, 1024, dropout=0.4))\n",
    "mlp.add(ReLU())\n",
    "mlp.add(Linear(1024, 512, dropout=0.2))\n",
    "mlp.add(ReLU())\n",
    "mlp.add(Linear(512, 64, dropout=0.2))\n",
    "mlp.add(ReLU())\n",
    "mlp.add(Linear(64, 16, dropout=0.2))\n",
    "mlp.add(ReLU())\n",
    "mlp.add(Linear(16, 10))\n",
    "\n",
    "\n",
    "mlp.set_name(\"Adam_network\")\n",
    "print(f\"{mlp.model_name} is initialized and ready to be trained.\")"
   ]
  },
  {
   "cell_type": "code",
   "execution_count": 10,
   "metadata": {},
   "outputs": [
    {
     "name": "stderr",
     "output_type": "stream",
     "text": [
      "  1%|          | 1/100 [00:09<15:13,  9.22s/it]"
     ]
    },
    {
     "name": "stdout",
     "output_type": "stream",
     "text": [
      "Epoch: 0\tInterval Time: 9.1 sec(s)\tTraining Loss: 2.201704\t\tTraining Accuracy: 0.225875\n",
      "\t\t\t\t\t\tValidation Loss:1.823623\tValidation Accuracy: 0.374000\n"
     ]
    },
    {
     "name": "stderr",
     "output_type": "stream",
     "text": [
      "  6%|▌         | 6/100 [00:59<16:10, 10.33s/it]"
     ]
    },
    {
     "name": "stdout",
     "output_type": "stream",
     "text": [
      "Epoch: 5\tInterval Time: 50.5 sec(s)\tTraining Loss: 1.580214\t\tTraining Accuracy: 0.459475\n",
      "\t\t\t\t\t\tValidation Loss:1.481203\tValidation Accuracy: 0.500100\n"
     ]
    },
    {
     "name": "stderr",
     "output_type": "stream",
     "text": [
      " 11%|█         | 11/100 [01:50<15:10, 10.23s/it]"
     ]
    },
    {
     "name": "stdout",
     "output_type": "stream",
     "text": [
      "Epoch: 10\tInterval Time: 51.0 sec(s)\tTraining Loss: 1.419881\t\tTraining Accuracy: 0.533275\n",
      "\t\t\t\t\t\tValidation Loss:1.382884\tValidation Accuracy: 0.538900\n"
     ]
    },
    {
     "name": "stderr",
     "output_type": "stream",
     "text": [
      " 16%|█▌        | 16/100 [02:39<13:39,  9.76s/it]"
     ]
    },
    {
     "name": "stdout",
     "output_type": "stream",
     "text": [
      "Epoch: 15\tInterval Time: 48.5 sec(s)\tTraining Loss: 1.332486\t\tTraining Accuracy: 0.576350\n",
      "\t\t\t\t\t\tValidation Loss:1.339057\tValidation Accuracy: 0.556900\n"
     ]
    },
    {
     "name": "stderr",
     "output_type": "stream",
     "text": [
      " 21%|██        | 21/100 [03:30<13:25, 10.20s/it]"
     ]
    },
    {
     "name": "stdout",
     "output_type": "stream",
     "text": [
      "Epoch: 20\tInterval Time: 51.1 sec(s)\tTraining Loss: 1.278055\t\tTraining Accuracy: 0.604775\n",
      "\t\t\t\t\t\tValidation Loss:1.318695\tValidation Accuracy: 0.566400\n"
     ]
    },
    {
     "name": "stderr",
     "output_type": "stream",
     "text": [
      " 26%|██▌       | 26/100 [04:19<12:22, 10.03s/it]"
     ]
    },
    {
     "name": "stdout",
     "output_type": "stream",
     "text": [
      "Epoch: 25\tInterval Time: 49.6 sec(s)\tTraining Loss: 1.240620\t\tTraining Accuracy: 0.618875\n",
      "\t\t\t\t\t\tValidation Loss:1.311170\tValidation Accuracy: 0.572700\n"
     ]
    },
    {
     "name": "stderr",
     "output_type": "stream",
     "text": [
      " 31%|███       | 31/100 [05:10<11:24,  9.92s/it]"
     ]
    },
    {
     "name": "stdout",
     "output_type": "stream",
     "text": [
      "Epoch: 30\tInterval Time: 50.6 sec(s)\tTraining Loss: 1.201828\t\tTraining Accuracy: 0.642300\n",
      "\t\t\t\t\t\tValidation Loss:1.304981\tValidation Accuracy: 0.576800\n"
     ]
    },
    {
     "name": "stderr",
     "output_type": "stream",
     "text": [
      " 36%|███▌      | 36/100 [05:56<09:57,  9.34s/it]"
     ]
    },
    {
     "name": "stdout",
     "output_type": "stream",
     "text": [
      "Epoch: 35\tInterval Time: 45.8 sec(s)\tTraining Loss: 1.173148\t\tTraining Accuracy: 0.655300\n",
      "\t\t\t\t\t\tValidation Loss:1.299326\tValidation Accuracy: 0.581400\n"
     ]
    },
    {
     "name": "stderr",
     "output_type": "stream",
     "text": [
      " 39%|███▉      | 39/100 [06:32<10:14, 10.07s/it]"
     ]
    },
    {
     "name": "stdout",
     "output_type": "stream",
     "text": [
      "\n",
      "\n",
      "Minimum percent change (1e-25%) in training loss not exceeded.\n",
      "\n",
      "Convergence criteria achieved.\n",
      "Training completed @ Epoch 39.\n",
      "Total training time: 6 min 32.9 s\n",
      "\n",
      "                Best model found @ Epoch 39\n",
      "                --------------------------------------------\n",
      "                Training Loss: 1.160748\n",
      "                Validation Loss: 1.296855\n",
      "                --------------------------------------------\n",
      "                Training Accuracy: 0.663100\n",
      "                Validation Accuracy: 0.585900\n",
      "\n",
      "\n",
      "Best model 'Adam_network' saved in 'model/' directory.\n"
     ]
    },
    {
     "name": "stderr",
     "output_type": "stream",
     "text": [
      "\n"
     ]
    },
    {
     "data": {
      "text/plain": [
       "{'tags': ['hide-output']}"
      ]
     },
     "execution_count": 10,
     "metadata": {},
     "output_type": "execute_result"
    }
   ],
   "source": [
    "base_norm_stat = mlp.train_convergence(\n",
    "    train_set = train_set,\n",
    "    valid_set = valid_set,\n",
    "    batch_size = 500,\n",
    "    planned_epochs = 100,\n",
    "    last_check = 10,\n",
    "    threshold = 1e-25,\n",
    "    report_interval = 5\n",
    ")\n",
    "\n",
    "{\"tags\": [\"hide-output\"]}"
   ]
  },
  {
   "cell_type": "code",
   "execution_count": 11,
   "metadata": {},
   "outputs": [
    {
     "data": {
      "text/plain": [
       "<Figure size 720x504 with 0 Axes>"
      ]
     },
     "metadata": {},
     "output_type": "display_data"
    },
    {
     "data": {
      "image/png": "[encoded data removed]",
      "text/plain": [
       "<Figure size 432x288 with 4 Axes>"
      ]
     },
     "metadata": {
      "needs_background": "light"
     },
     "output_type": "display_data"
    }
   ],
   "source": [
    "plot_results(base_norm_stat)"
   ]
  },
  {
   "cell_type": "code",
   "execution_count": 12,
   "metadata": {},
   "outputs": [
    {
     "name": "stdout",
     "output_type": "stream",
     "text": [
      "-------------------------------------------\n",
      "Accuracy on train data: 82.17%\n",
      "Total Count:  40000\n",
      "Total Match:  32868\n",
      "-------------------------------------------\n",
      "Test Accuracy of\t0: 92.23% (3727/4041)\n",
      "Test Accuracy of\t1: 72.89% (2885/3958)\n",
      "Test Accuracy of\t2: 79.07% (3150/3984)\n",
      "Test Accuracy of\t3: 82.10% (3279/3994)\n",
      "Test Accuracy of\t4: 54.61% (2185/4001)\n",
      "Test Accuracy of\t5: 89.16% (3586/4022)\n",
      "Test Accuracy of\t6: 85.46% (3422/4004)\n",
      "Test Accuracy of\t7: 90.43% (3618/4001)\n",
      "Test Accuracy of\t8: 89.13% (3560/3994)\n",
      "Test Accuracy of\t9: 86.38% (3456/4001)\n",
      "-------------------------------------------\n",
      "Accuracy on valid data: 58.59%\n",
      "Total Count:  10000\n",
      "Total Match:  5859\n",
      "-------------------------------------------\n",
      "Test Accuracy of\t0: 72.05% (691/959)\n",
      "Test Accuracy of\t1: 43.19% (450/1042)\n",
      "Test Accuracy of\t2: 52.56% (534/1016)\n",
      "Test Accuracy of\t3: 53.68% (540/1006)\n",
      "Test Accuracy of\t4: 33.13% (331/999)\n",
      "Test Accuracy of\t5: 65.75% (643/978)\n",
      "Test Accuracy of\t6: 65.96% (657/996)\n",
      "Test Accuracy of\t7: 70.07% (700/999)\n",
      "Test Accuracy of\t8: 67.69% (681/1006)\n",
      "Test Accuracy of\t9: 63.26% (632/999)\n",
      "-------------------------------------------\n",
      "Accuracy on test data: 57.88%\n",
      "Total Count:  10000\n",
      "Total Match:  5788\n",
      "-------------------------------------------\n",
      "Test Accuracy of\t0: 71.00% (710/1000)\n",
      "Test Accuracy of\t1: 40.40% (404/1000)\n",
      "Test Accuracy of\t2: 50.80% (508/1000)\n",
      "Test Accuracy of\t3: 48.50% (485/1000)\n",
      "Test Accuracy of\t4: 34.60% (346/1000)\n",
      "Test Accuracy of\t5: 69.70% (697/1000)\n",
      "Test Accuracy of\t6: 64.10% (641/1000)\n",
      "Test Accuracy of\t7: 69.20% (692/1000)\n",
      "Test Accuracy of\t8: 64.80% (648/1000)\n",
      "Test Accuracy of\t9: 65.70% (657/1000)\n"
     ]
    }
   ],
   "source": [
    "# Loading best model found:\n",
    "\n",
    "best_model = Net.load_model(\"model/\" + mlp.model_name)\n",
    "best_model.test_network(train_set, \"train data\")\n",
    "best_model.test_network(valid_set, \"valid data\")\n",
    "best_model.test_network(test_set, \"test data\")"
   ]
  },
  {
   "cell_type": "code",
   "execution_count": 14,
   "metadata": {},
   "outputs": [
    {
     "name": "stdout",
     "output_type": "stream",
     "text": [
      "Adam_network is initialized and ready to be trained.\n"
     ]
    }
   ],
   "source": [
    "mlp_nbn = Net(\n",
    "    optimizer=Adam(),\n",
    "    criterion=CrossEntropyLoss(),\n",
    "    batch_norm=False,\n",
    "    L2_reg_term=0.001\n",
    ")\n",
    "\n",
    "mlp_nbn.add(Linear(128, 1024, dropout=0.4))\n",
    "mlp_nbn.add(ReLU())\n",
    "mlp_nbn.add(Linear(1024, 512, dropout=0.2))\n",
    "mlp_nbn.add(ReLU())\n",
    "mlp_nbn.add(Linear(512, 64, dropout=0.2))\n",
    "mlp_nbn.add(ReLU())\n",
    "mlp_nbn.add(Linear(64, 16, dropout=0.2))\n",
    "mlp_nbn.add(ReLU())\n",
    "mlp_nbn.add(Linear(16, 10))\n",
    "\n",
    "\n",
    "mlp_nbn.set_name(\"Adam_no_batchNorm_network\")\n",
    "print(f\"{mlp.model_name} is initialized and ready to be trained.\")"
   ]
  },
  {
   "cell_type": "code",
   "execution_count": 15,
   "metadata": {},
   "outputs": [
    {
     "name": "stderr",
     "output_type": "stream",
     "text": [
      "  1%|          | 1/100 [00:06<10:10,  6.17s/it]"
     ]
    },
    {
     "name": "stdout",
     "output_type": "stream",
     "text": [
      "Epoch: 0\tInterval Time: 6.1 sec(s)\tTraining Loss: 2.197735\t\tTraining Accuracy: 0.167950\n",
      "\t\t\t\t\t\tValidation Loss:1.917577\tValidation Accuracy: 0.308000\n"
     ]
    },
    {
     "name": "stderr",
     "output_type": "stream",
     "text": [
      "  6%|▌         | 6/100 [00:46<12:52,  8.22s/it]"
     ]
    },
    {
     "name": "stdout",
     "output_type": "stream",
     "text": [
      "Epoch: 5\tInterval Time: 39.9 sec(s)\tTraining Loss: 1.485814\t\tTraining Accuracy: 0.472875\n",
      "\t\t\t\t\t\tValidation Loss:1.412862\tValidation Accuracy: 0.503000\n"
     ]
    },
    {
     "name": "stderr",
     "output_type": "stream",
     "text": [
      " 11%|█         | 11/100 [01:23<11:31,  7.77s/it]"
     ]
    },
    {
     "name": "stdout",
     "output_type": "stream",
     "text": [
      "Epoch: 10\tInterval Time: 37.5 sec(s)\tTraining Loss: 1.256615\t\tTraining Accuracy: 0.562675\n",
      "\t\t\t\t\t\tValidation Loss:1.300700\tValidation Accuracy: 0.544300\n"
     ]
    },
    {
     "name": "stderr",
     "output_type": "stream",
     "text": [
      " 16%|█▌        | 16/100 [02:06<11:57,  8.54s/it]"
     ]
    },
    {
     "name": "stdout",
     "output_type": "stream",
     "text": [
      "Epoch: 15\tInterval Time: 43.3 sec(s)\tTraining Loss: 1.106082\t\tTraining Accuracy: 0.616450\n",
      "\t\t\t\t\t\tValidation Loss:1.276624\tValidation Accuracy: 0.562300\n"
     ]
    },
    {
     "name": "stderr",
     "output_type": "stream",
     "text": [
      " 21%|██        | 21/100 [02:50<11:25,  8.67s/it]"
     ]
    },
    {
     "name": "stdout",
     "output_type": "stream",
     "text": [
      "Epoch: 20\tInterval Time: 43.7 sec(s)\tTraining Loss: 0.985858\t\tTraining Accuracy: 0.660575\n",
      "\t\t\t\t\t\tValidation Loss:1.292231\tValidation Accuracy: 0.560900\n"
     ]
    },
    {
     "name": "stderr",
     "output_type": "stream",
     "text": [
      " 26%|██▌       | 26/100 [03:37<11:15,  9.13s/it]"
     ]
    },
    {
     "name": "stdout",
     "output_type": "stream",
     "text": [
      "Epoch: 25\tInterval Time: 46.7 sec(s)\tTraining Loss: 0.890204\t\tTraining Accuracy: 0.693350\n",
      "\t\t\t\t\t\tValidation Loss:1.320557\tValidation Accuracy: 0.564800\n"
     ]
    },
    {
     "name": "stderr",
     "output_type": "stream",
     "text": [
      " 26%|██▌       | 26/100 [03:45<10:42,  8.68s/it]"
     ]
    },
    {
     "name": "stdout",
     "output_type": "stream",
     "text": [
      "\n",
      "\n",
      "No decrease in validation loss during last 10 epoch(s).\n",
      "\n",
      "Convergence criteria achieved.\n",
      "Training completed @ Epoch 26.\n",
      "Total training time: 3 min 45.6 s\n",
      "\n",
      "                Best model found @ Epoch 15\n",
      "                --------------------------------------------\n",
      "                Training Loss: 1.106082\n",
      "                Validation Loss: 1.276624\n",
      "                --------------------------------------------\n",
      "                Training Accuracy: 0.616450\n",
      "                Validation Accuracy: 0.562300\n",
      "\n",
      "\n",
      "Best model 'Adam_no_batchNorm_network' saved in 'model/' directory.\n"
     ]
    },
    {
     "name": "stderr",
     "output_type": "stream",
     "text": [
      "\n"
     ]
    },
    {
     "data": {
      "text/plain": [
       "{'tags': ['hide-output']}"
      ]
     },
     "execution_count": 15,
     "metadata": {},
     "output_type": "execute_result"
    }
   ],
   "source": [
    "without_bnorm_stat = mlp_nbn.train_convergence(\n",
    "    train_set = train_set,\n",
    "    valid_set = valid_set,\n",
    "    batch_size = 500,\n",
    "    planned_epochs = 100,\n",
    "    last_check = 10,\n",
    "    threshold = 1e-25,\n",
    "    report_interval = 5\n",
    ")\n",
    "\n",
    "{\"tags\": [\"hide-output\"]}"
   ]
  },
  {
   "cell_type": "code",
   "execution_count": 16,
   "metadata": {},
   "outputs": [
    {
     "data": {
      "text/plain": [
       "<Figure size 720x504 with 0 Axes>"
      ]
     },
     "metadata": {},
     "output_type": "display_data"
    },
    {
     "data": {
      "image/png": "[encoded data removed]",
      "text/plain": [
       "<Figure size 432x288 with 4 Axes>"
      ]
     },
     "metadata": {
      "needs_background": "light"
     },
     "output_type": "display_data"
    }
   ],
   "source": [
    "plot_results(without_bnorm_stat)"
   ]
  },
  {
   "cell_type": "code",
   "execution_count": 19,
   "metadata": {},
   "outputs": [
    {
     "name": "stdout",
     "output_type": "stream",
     "text": [
      "-------------------------------------------\n",
      "Accuracy on train data: 74.98%\n",
      "Total Count:  40000\n",
      "Total Match:  29994\n",
      "-------------------------------------------\n",
      "Test Accuracy of\t0: 87.90% (3552/4041)\n",
      "Test Accuracy of\t1: 59.37% (2350/3958)\n",
      "Test Accuracy of\t2: 63.83% (2543/3984)\n",
      "Test Accuracy of\t3: 68.08% (2719/3994)\n",
      "Test Accuracy of\t4: 47.04% (1882/4001)\n",
      "Test Accuracy of\t5: 85.83% (3452/4022)\n",
      "Test Accuracy of\t6: 82.04% (3285/4004)\n",
      "Test Accuracy of\t7: 90.83% (3634/4001)\n",
      "Test Accuracy of\t8: 84.88% (3390/3994)\n",
      "Test Accuracy of\t9: 79.66% (3187/4001)\n",
      "-------------------------------------------\n",
      "Accuracy on valid data: 56.23%\n",
      "Total Count:  10000\n",
      "Total Match:  5623\n",
      "-------------------------------------------\n",
      "Test Accuracy of\t0: 70.07% (672/959)\n",
      "Test Accuracy of\t1: 41.65% (434/1042)\n",
      "Test Accuracy of\t2: 43.31% (440/1016)\n",
      "Test Accuracy of\t3: 48.21% (485/1006)\n",
      "Test Accuracy of\t4: 32.03% (320/999)\n",
      "Test Accuracy of\t5: 65.95% (645/978)\n",
      "Test Accuracy of\t6: 64.66% (644/996)\n",
      "Test Accuracy of\t7: 75.68% (756/999)\n",
      "Test Accuracy of\t8: 64.61% (650/1006)\n",
      "Test Accuracy of\t9: 57.76% (577/999)\n"
     ]
    }
   ],
   "source": [
    "# Loading best model found:\n",
    "\n",
    "best_model = Net.load_model(\"model/\" + mlp_nbn.model_name)\n",
    "best_model.test_network(train_set, \"train data\")\n",
    "best_model.test_network(valid_set, \"valid data\")"
   ]
  },
  {
   "cell_type": "code",
   "execution_count": 20,
   "metadata": {},
   "outputs": [
    {
     "name": "stdout",
     "output_type": "stream",
     "text": [
      "-------------------------------------------\n",
      "Accuracy on test data: 55.19%\n",
      "Total Count:  10000\n",
      "Total Match:  5519\n",
      "-------------------------------------------\n",
      "Test Accuracy of\t0: 68.00% (680/1000)\n",
      "Test Accuracy of\t1: 39.50% (395/1000)\n",
      "Test Accuracy of\t2: 42.40% (424/1000)\n",
      "Test Accuracy of\t3: 45.80% (458/1000)\n",
      "Test Accuracy of\t4: 33.30% (333/1000)\n",
      "Test Accuracy of\t5: 67.30% (673/1000)\n",
      "Test Accuracy of\t6: 62.50% (625/1000)\n",
      "Test Accuracy of\t7: 70.20% (702/1000)\n",
      "Test Accuracy of\t8: 61.50% (615/1000)\n",
      "Test Accuracy of\t9: 61.40% (614/1000)\n"
     ]
    }
   ],
   "source": [
    "best_model.test_network(test_set, \"test data\")"
   ]
  },
  {
   "cell_type": "code",
   "execution_count": 36,
   "metadata": {},
   "outputs": [
    {
     "data": {
      "image/png": "[encoded data removed]",
      "text/plain": [
       "<Figure size 720x504 with 1 Axes>"
      ]
     },
     "metadata": {
      "needs_background": "light"
     },
     "output_type": "display_data"
    }
   ],
   "source": [
    "ep, tl, ta, vl, va = without_bnorm_stat\n",
    "bep, btl, bta, bvl, bva = base_norm_stat\n",
    "\n",
    "pl.figure(figsize = (10, 7))\n",
    "pl.plot(va,label='Without Batch Norm')\n",
    "pl.plot(bva,label='Base Model')\n",
    "pl.xlabel(\"Epoch\")\n",
    "pl.ylabel(\"Validaition Accuracy \")  \n",
    "pl.title('Validation Accuracy Batch Norm opt')\n",
    "pl.legend()\n",
    "\n",
    "pl.show()\n"
   ]
  }
 ],
 "metadata": {
  "interpreter": {
   "hash": "767d51c1340bd893661ea55ea3124f6de3c7a262a8b4abca0554b478b1e2ff90"
  },
  "kernelspec": {
   "display_name": "Python 3 (ipykernel)",
   "language": "python",
   "name": "python3"
  },
  "language_info": {
   "codemirror_mode": {
    "name": "ipython",
    "version": 3
   },
   "file_extension": ".py",
   "mimetype": "text/x-python",
   "name": "python",
   "nbconvert_exporter": "python",
   "pygments_lexer": "ipython3",
   "version": "3.10.2"
  }
 },
 "nbformat": 4,
 "nbformat_minor": 2
}
