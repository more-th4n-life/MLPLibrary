{
 "cells": [
  {
   "cell_type": "markdown",
   "metadata": {},
   "source": [
    "# Demo of MLP Library Usage"
   ]
  },
  {
   "cell_type": "markdown",
   "metadata": {},
   "source": [
    "For more detailed instructions of using MLPLibrary consult the documentation. This demo will give practical demonstration of MLPLibrary functions and usage for constructing MLP models, setting hyperparameters and evaluating training and testing performance, using the provided data for COMP5329 Assignment 1. "
   ]
  },
  {
   "cell_type": "markdown",
   "metadata": {},
   "source": [
    "### Installing MLPLibrary"
   ]
  },
  {
   "cell_type": "markdown",
   "metadata": {},
   "source": [
    "As provided in the README.md in the main folder, MLPlibrary may be installed locally as a portable library (similar to NumPy or PyTorch) simply by navigating into the network directory (i.e. ```'MLPLibrary/network/'```) and executing the following statement:\n",
    "```\n",
    "pip install ..\n",
    "```\n",
    "This will install all the required dependencies stated in the ```setup.py``` file and allow usage of our library functions anywhere on your device locally."
   ]
  },
  {
   "cell_type": "markdown",
   "metadata": {},
   "source": [
    "After this step, you may perform the following imports. If you decide not to install MLPLibrary, make sure you are within the main folder of MLPLibrary."
   ]
  },
  {
   "cell_type": "markdown",
   "metadata": {},
   "source": [
    "## IMPORTING MLPLibrary"
   ]
  },
  {
   "cell_type": "code",
   "execution_count": 1,
   "metadata": {},
   "outputs": [],
   "source": [
    "import os\n",
    "import sys\n",
    "\n",
    "# CHANGE LEVELS:\n",
    "chdir = os.path.dirname(os.getcwd())\n",
    "sys.path.insert(0, chdir)\n",
    "\n",
    "# Importing all the modules and functions related to constructing MLP network models\n",
    "\n",
    "from network.net import Net                   # Net class, base class for constructing MLP networks\n",
    "from network.layer import Linear              # Linear class, child class of parent class Layer \n",
    "from network.loss import CrossEntropyLoss     # CrossEntropyLoss class, child class of parent class Loss\n",
    "from network.activ import ReLU, LeakyReLU     # ReLU, LeakyReLU classes, child classes of parent class Activation\n",
    "from network.optim import SGD, Adam           # SGD, Adam classes, child classes of parent class Optimizer"
   ]
  },
  {
   "cell_type": "markdown",
   "metadata": {},
   "source": [
    "### Importing Standard Libraries"
   ]
  },
  {
   "cell_type": "code",
   "execution_count": 2,
   "metadata": {},
   "outputs": [],
   "source": [
    "# Importing all the modules and functions related to data processing including loaders for the assignment data\n",
    "\n",
    "# Process module contains functions relating to data processing:\n",
    "from network.loader.process import (\n",
    "    train_test_split,        # Function to split data with chosen ratio, data can be shuffled\n",
    "    normalize,               # Normalizes data to have mean of zero and unit variance\n",
    "    standardize,             # Normalizes data to be between range 0-1, i.e. standardizes data\n",
    "    one_hot,                 # One hot encoding: 100% prob of 2 is [0, 0, 1] with 3 classes\n",
    "    pca                      # Reduces data to chosen K principal components\n",
    ") \n",
    "\n",
    "# Data module for loading the assignment data\n",
    "from network.dataset.source import (\n",
    "    get_data_from_file,   # Loads assignment data from file (must be within main directory)\n",
    "    get_data_from_url     # Loads assignment data from public GitHub repo that stores data\n",
    ")\n",
    "\n",
    "# Data loader module for automating processing of and loading of assignment data based on parameter selections\n",
    "from network.loader.data_loader import load_train_val_test  # Parameter selections decide method of processing                            "
   ]
  },
  {
   "cell_type": "code",
   "execution_count": 3,
   "metadata": {},
   "outputs": [],
   "source": [
    "import numpy as np\n",
    "import matplotlib.pyplot as pl\n",
    "import pandas as pd \n",
    "import seaborn as sns\n",
    "\n",
    "# setting random seed\n",
    "np.random.seed(88)"
   ]
  },
  {
   "cell_type": "code",
   "execution_count": 4,
   "metadata": {},
   "outputs": [],
   "source": [
    "SOURCE_DATA = \"url\"          # May choose from \"url\" or \"file\" to source assignment data (must be in main for \"file\")\n",
    "NORM_METHOD = \"standardize\"  # May choose from \"standardize\", \"normalize\" or \"none\" (none is no normalization on data)\n",
    "PCA_N_COMPONENTS = 0         # If PCA_N_COMPONENTS > 0;\n",
    "                                # Normalization is skipped as done implicitly by mean centering prior to applying PCA\n",
    "                                # Strictly, the choice of PCA_N_COMPONENTS <= N_DIMENSIONS of the input dataset \n",
    "N_CATEGORIES = 10            # If N_CATEGORIES > 0 chosen, then categorical one-hot encoding is applied to label data\n",
    "SPLIT_RATIO = 0.2             # Ratio data is to be split upon when obtaining a train test split (default is set to 0.2)\n",
    "SHUFFLE_DATA = True          # IF SHUFFLE is True, then the data is shuffled prior to splitting by taking random indices"
   ]
  },
  {
   "cell_type": "markdown",
   "metadata": {},
   "source": [
    "#### Obtaining loaded and processed data based on the chosen parameter selections:"
   ]
  },
  {
   "cell_type": "markdown",
   "metadata": {},
   "source": [
    "#### Obtaining loaded and processed data based on the chosen parameter selections:"
   ]
  },
  {
   "cell_type": "code",
   "execution_count": 5,
   "metadata": {},
   "outputs": [],
   "source": [
    "# Note as we are loading data from URL it will take longer than from file.\n",
    "train_set, valid_set, test_set = load_train_val_test(\n",
    "    source = SOURCE_DATA,\n",
    "    method = NORM_METHOD,      \n",
    "    pca_N = PCA_N_COMPONENTS,\n",
    "    n_categories = N_CATEGORIES,\n",
    "    ratio = SPLIT_RATIO,\n",
    "    shuffle = SHUFFLE_DATA\n",
    ")"
   ]
  },
  {
   "cell_type": "code",
   "execution_count": 6,
   "metadata": {},
   "outputs": [
    {
     "name": "stdout",
     "output_type": "stream",
     "text": [
      "------------------------------------------------\n",
      "Shape of Training Data: (40000, 128)\n",
      "Shape of Training Labels: (40000, 10)\n",
      "------------------------------------------------\n",
      "Shape of Validation Data: (10000, 128)\n",
      "Shape of Validation Labels: (10000, 10)\n",
      "------------------------------------------------\n",
      "Shape of Test Data: (10000, 128)\n",
      "Shape of Test Labels: (10000, 10)\n",
      "------------------------------------------------\n",
      "\n",
      "First 10 one-hot encoded labels of test data:\n",
      "\n",
      "[[0. 0. 0. 1. 0. 0. 0. 0. 0. 0.]\n",
      " [0. 0. 0. 0. 0. 0. 0. 0. 1. 0.]\n",
      " [0. 0. 0. 0. 0. 0. 0. 0. 1. 0.]\n",
      " [1. 0. 0. 0. 0. 0. 0. 0. 0. 0.]\n",
      " [0. 0. 0. 0. 0. 0. 1. 0. 0. 0.]\n",
      " [0. 0. 0. 0. 0. 0. 1. 0. 0. 0.]\n",
      " [0. 1. 0. 0. 0. 0. 0. 0. 0. 0.]\n",
      " [0. 0. 0. 0. 0. 0. 1. 0. 0. 0.]\n",
      " [0. 0. 0. 1. 0. 0. 0. 0. 0. 0.]\n",
      " [0. 1. 0. 0. 0. 0. 0. 0. 0. 0.]]\n",
      "\n",
      "Equivalent to: [3, 8, 8, 0, 6, 6, 1, 6, 3, 1]\n"
     ]
    }
   ],
   "source": [
    "line_sep = \"------------------------------------------------\"\n",
    "print(line_sep)\n",
    "print(f\"Shape of Training Data: {train_set[0].shape}\")\n",
    "print(f\"Shape of Training Labels: {train_set[1].shape}\")\n",
    "print(line_sep)\n",
    "print(f\"Shape of Validation Data: {valid_set[0].shape}\")\n",
    "print(f\"Shape of Validation Labels: {valid_set[1].shape}\")\n",
    "print(line_sep)\n",
    "print(f\"Shape of Test Data: {test_set[0].shape}\")\n",
    "print(f\"Shape of Test Labels: {test_set[1].shape}\")\n",
    "print(line_sep + '\\n')\n",
    "print(f\"First 10 one-hot encoded labels of test data:\\n\\n{test_set[1][:10]}\")\n",
    "print(f\"\\nEquivalent to: {[np.argmax(label) for label in test_set[1][:10]]}\")"
   ]
  },
  {
   "cell_type": "code",
   "execution_count": 7,
   "metadata": {},
   "outputs": [],
   "source": [
    "def plot_results(stats):\n",
    "    ep, tl, ta, vl, va = stats\n",
    "    pl.figure(figsize = (10, 7))\n",
    "\n",
    "    fig, ((ax1, ax2), (ax3, ax4)) = pl.subplots(2, 2)\n",
    "    fig.suptitle(f'Training Results, best model found @ Epoch {ep}')\n",
    "\n",
    "    ax1.plot(tl)\n",
    "    ax1.set_title('Training Loss')\n",
    "\n",
    "    ax2.plot(vl, 'tab:orange')\n",
    "    ax2.set_title('Validation Loss')\n",
    "\n",
    "    ax3.plot(ta, 'tab:green')\n",
    "    ax3.set_title('Training Accuracy')\n",
    "\n",
    "    ax4.plot(va, 'tab:red')\n",
    "    ax4.set_title('Validation Accuracy')\n",
    "    \n",
    "    for ax in fig.get_axes():\n",
    "        ax.label_outer()\n",
    "\n",
    "    pl.show()"
   ]
  },
  {
   "cell_type": "markdown",
   "metadata": {},
   "source": [
    "## CONSTRUCTING MLP MODELS"
   ]
  },
  {
   "cell_type": "markdown",
   "metadata": {},
   "source": [
    "#### Regularization(Weigth Decay) optimization "
   ]
  },
  {
   "cell_type": "code",
   "execution_count": 8,
   "metadata": {},
   "outputs": [
    {
     "name": "stdout",
     "output_type": "stream",
     "text": [
      "Adam_network is initialized and ready to be trained.\n"
     ]
    }
   ],
   "source": [
    "mlp = Net(\n",
    "    optimizer=Adam(),\n",
    "    criterion=CrossEntropyLoss(),\n",
    "    batch_norm=True,\n",
    "    L2_reg_term=0.001\n",
    ")\n",
    "\n",
    "mlp.add(Linear(128, 1024, dropout=0.4))\n",
    "mlp.add(ReLU())\n",
    "mlp.add(Linear(1024, 512, dropout=0.2))\n",
    "mlp.add(ReLU())\n",
    "mlp.add(Linear(512, 64, dropout=0.2))\n",
    "mlp.add(ReLU())\n",
    "mlp.add(Linear(64, 16, dropout=0.2))\n",
    "mlp.add(ReLU())\n",
    "mlp.add(Linear(16, 10))\n",
    "\n",
    "\n",
    "mlp.set_name(\"Adam_network\")\n",
    "print(f\"{mlp.model_name} is initialized and ready to be trained.\")"
   ]
  },
  {
   "cell_type": "code",
   "execution_count": 9,
   "metadata": {},
   "outputs": [
    {
     "name": "stderr",
     "output_type": "stream",
     "text": [
      "  1%|          | 1/100 [00:09<16:04,  9.74s/it]"
     ]
    },
    {
     "name": "stdout",
     "output_type": "stream",
     "text": [
      "Epoch: 0\tInterval Time: 9.7 sec(s)\tTraining Loss: 2.201704\t\tTraining Accuracy: 0.225875\n",
      "\t\t\t\t\t\tValidation Loss:1.823623\tValidation Accuracy: 0.374000\n"
     ]
    },
    {
     "name": "stderr",
     "output_type": "stream",
     "text": [
      "  6%|▌         | 6/100 [01:04<17:16, 11.02s/it]"
     ]
    },
    {
     "name": "stdout",
     "output_type": "stream",
     "text": [
      "Epoch: 5\tInterval Time: 55.0 sec(s)\tTraining Loss: 1.580214\t\tTraining Accuracy: 0.459475\n",
      "\t\t\t\t\t\tValidation Loss:1.481203\tValidation Accuracy: 0.500100\n"
     ]
    },
    {
     "name": "stderr",
     "output_type": "stream",
     "text": [
      " 11%|█         | 11/100 [01:57<15:54, 10.72s/it]"
     ]
    },
    {
     "name": "stdout",
     "output_type": "stream",
     "text": [
      "Epoch: 10\tInterval Time: 52.8 sec(s)\tTraining Loss: 1.419881\t\tTraining Accuracy: 0.533275\n",
      "\t\t\t\t\t\tValidation Loss:1.382884\tValidation Accuracy: 0.538900\n"
     ]
    },
    {
     "name": "stderr",
     "output_type": "stream",
     "text": [
      " 16%|█▌        | 16/100 [02:47<13:36,  9.72s/it]"
     ]
    },
    {
     "name": "stdout",
     "output_type": "stream",
     "text": [
      "Epoch: 15\tInterval Time: 50.1 sec(s)\tTraining Loss: 1.332486\t\tTraining Accuracy: 0.576350\n",
      "\t\t\t\t\t\tValidation Loss:1.339057\tValidation Accuracy: 0.556900\n"
     ]
    },
    {
     "name": "stderr",
     "output_type": "stream",
     "text": [
      " 21%|██        | 21/100 [03:43<14:42, 11.17s/it]"
     ]
    },
    {
     "name": "stdout",
     "output_type": "stream",
     "text": [
      "Epoch: 20\tInterval Time: 56.3 sec(s)\tTraining Loss: 1.278055\t\tTraining Accuracy: 0.604775\n",
      "\t\t\t\t\t\tValidation Loss:1.318695\tValidation Accuracy: 0.566400\n"
     ]
    },
    {
     "name": "stderr",
     "output_type": "stream",
     "text": [
      " 26%|██▌       | 26/100 [04:38<13:29, 10.94s/it]"
     ]
    },
    {
     "name": "stdout",
     "output_type": "stream",
     "text": [
      "Epoch: 25\tInterval Time: 54.6 sec(s)\tTraining Loss: 1.240620\t\tTraining Accuracy: 0.618875\n",
      "\t\t\t\t\t\tValidation Loss:1.311170\tValidation Accuracy: 0.572700\n"
     ]
    },
    {
     "name": "stderr",
     "output_type": "stream",
     "text": [
      " 31%|███       | 31/100 [05:31<12:09, 10.58s/it]"
     ]
    },
    {
     "name": "stdout",
     "output_type": "stream",
     "text": [
      "Epoch: 30\tInterval Time: 53.5 sec(s)\tTraining Loss: 1.201828\t\tTraining Accuracy: 0.642300\n",
      "\t\t\t\t\t\tValidation Loss:1.304981\tValidation Accuracy: 0.576800\n"
     ]
    },
    {
     "name": "stderr",
     "output_type": "stream",
     "text": [
      " 36%|███▌      | 36/100 [06:17<09:52,  9.26s/it]"
     ]
    },
    {
     "name": "stdout",
     "output_type": "stream",
     "text": [
      "Epoch: 35\tInterval Time: 45.2 sec(s)\tTraining Loss: 1.173148\t\tTraining Accuracy: 0.655300\n",
      "\t\t\t\t\t\tValidation Loss:1.299326\tValidation Accuracy: 0.581400\n"
     ]
    },
    {
     "name": "stderr",
     "output_type": "stream",
     "text": [
      " 39%|███▉      | 39/100 [06:51<10:43, 10.55s/it]"
     ]
    },
    {
     "name": "stdout",
     "output_type": "stream",
     "text": [
      "\n",
      "\n",
      "Minimum percent change (1e-25%) in training loss not exceeded.\n",
      "\n",
      "Convergence criteria achieved.\n",
      "Training completed @ Epoch 39.\n",
      "Total training time: 6 min 51.3 s\n",
      "\n",
      "                Best model found @ Epoch 39\n",
      "                --------------------------------------------\n",
      "                Training Loss: 1.160748\n",
      "                Validation Loss: 1.296855\n",
      "                --------------------------------------------\n",
      "                Training Accuracy: 0.663100\n",
      "                Validation Accuracy: 0.585900\n",
      "\n",
      "\n",
      "Best model 'Adam_network' saved in 'model/' directory.\n"
     ]
    },
    {
     "name": "stderr",
     "output_type": "stream",
     "text": [
      "\n"
     ]
    },
    {
     "data": {
      "text/plain": [
       "{'tags': ['hide-output']}"
      ]
     },
     "execution_count": 9,
     "metadata": {},
     "output_type": "execute_result"
    }
   ],
   "source": [
    "base_norm_stat = mlp.train_convergence(\n",
    "    train_set = train_set,\n",
    "    valid_set = valid_set,\n",
    "    batch_size = 500,\n",
    "    planned_epochs = 100,\n",
    "    last_check = 10,\n",
    "    threshold = 1e-25,\n",
    "    report_interval = 5\n",
    ")\n",
    "\n",
    "{\"tags\": [\"hide-output\"]}"
   ]
  },
  {
   "cell_type": "code",
   "execution_count": 11,
   "metadata": {},
   "outputs": [
    {
     "data": {
      "text/plain": [
       "<Figure size 720x504 with 0 Axes>"
      ]
     },
     "metadata": {},
     "output_type": "display_data"
    },
    {
     "data": {
      "image/png": "[encoded data removed]",
      "text/plain": [
       "<Figure size 432x288 with 4 Axes>"
      ]
     },
     "metadata": {
      "needs_background": "light"
     },
     "output_type": "display_data"
    }
   ],
   "source": [
    "plot_results(base_norm_stat)"
   ]
  },
  {
   "cell_type": "code",
   "execution_count": 12,
   "metadata": {},
   "outputs": [
    {
     "name": "stdout",
     "output_type": "stream",
     "text": [
      "-------------------------------------------\n",
      "Accuracy on train data: 82.17%\n",
      "Total Count:  40000\n",
      "Total Match:  32868\n",
      "-------------------------------------------\n",
      "Test Accuracy of\t0: 92.23% (3727/4041)\n",
      "Test Accuracy of\t1: 72.89% (2885/3958)\n",
      "Test Accuracy of\t2: 79.07% (3150/3984)\n",
      "Test Accuracy of\t3: 82.10% (3279/3994)\n",
      "Test Accuracy of\t4: 54.61% (2185/4001)\n",
      "Test Accuracy of\t5: 89.16% (3586/4022)\n",
      "Test Accuracy of\t6: 85.46% (3422/4004)\n",
      "Test Accuracy of\t7: 90.43% (3618/4001)\n",
      "Test Accuracy of\t8: 89.13% (3560/3994)\n",
      "Test Accuracy of\t9: 86.38% (3456/4001)\n",
      "-------------------------------------------\n",
      "Accuracy on valid data: 58.59%\n",
      "Total Count:  10000\n",
      "Total Match:  5859\n",
      "-------------------------------------------\n",
      "Test Accuracy of\t0: 72.05% (691/959)\n",
      "Test Accuracy of\t1: 43.19% (450/1042)\n",
      "Test Accuracy of\t2: 52.56% (534/1016)\n",
      "Test Accuracy of\t3: 53.68% (540/1006)\n",
      "Test Accuracy of\t4: 33.13% (331/999)\n",
      "Test Accuracy of\t5: 65.75% (643/978)\n",
      "Test Accuracy of\t6: 65.96% (657/996)\n",
      "Test Accuracy of\t7: 70.07% (700/999)\n",
      "Test Accuracy of\t8: 67.69% (681/1006)\n",
      "Test Accuracy of\t9: 63.26% (632/999)\n",
      "-------------------------------------------\n",
      "Accuracy on test data: 57.88%\n",
      "Total Count:  10000\n",
      "Total Match:  5788\n",
      "-------------------------------------------\n",
      "Test Accuracy of\t0: 71.00% (710/1000)\n",
      "Test Accuracy of\t1: 40.40% (404/1000)\n",
      "Test Accuracy of\t2: 50.80% (508/1000)\n",
      "Test Accuracy of\t3: 48.50% (485/1000)\n",
      "Test Accuracy of\t4: 34.60% (346/1000)\n",
      "Test Accuracy of\t5: 69.70% (697/1000)\n",
      "Test Accuracy of\t6: 64.10% (641/1000)\n",
      "Test Accuracy of\t7: 69.20% (692/1000)\n",
      "Test Accuracy of\t8: 64.80% (648/1000)\n",
      "Test Accuracy of\t9: 65.70% (657/1000)\n"
     ]
    }
   ],
   "source": [
    "# Loading best model found:\n",
    "\n",
    "best_model = Net.load_model(\"model/\" + mlp.model_name)\n",
    "best_model.test_network(train_set, \"train data\")\n",
    "best_model.test_network(valid_set, \"valid data\")\n",
    "best_model.test_network(test_set, \"test data\")"
   ]
  },
  {
   "cell_type": "markdown",
   "metadata": {},
   "source": [
    "##### Weight Decay with L2 set at 0.02"
   ]
  },
  {
   "cell_type": "code",
   "execution_count": 13,
   "metadata": {},
   "outputs": [
    {
     "name": "stdout",
     "output_type": "stream",
     "text": [
      "Adam_network is initialized and ready to be trained.\n"
     ]
    }
   ],
   "source": [
    "mlp_w2 = Net(\n",
    "    optimizer=Adam(),\n",
    "    criterion=CrossEntropyLoss(),\n",
    "    batch_norm=False,\n",
    "    L2_reg_term=0.002\n",
    ")\n",
    "\n",
    "mlp_w2.add(Linear(128, 1024, dropout=0.4))\n",
    "mlp_w2.add(ReLU())\n",
    "mlp_w2.add(Linear(1024, 512, dropout=0.2))\n",
    "mlp_w2.add(ReLU())\n",
    "mlp_w2.add(Linear(512, 64, dropout=0.2))\n",
    "mlp_w2.add(ReLU())\n",
    "mlp_w2.add(Linear(64, 16, dropout=0.2))\n",
    "mlp_w2.add(ReLU())\n",
    "mlp_w2.add(Linear(16, 10))\n",
    "\n",
    "\n",
    "mlp_w2.set_name(\"Adam_w2_network\")\n",
    "print(f\"{mlp.model_name} is initialized and ready to be trained.\")"
   ]
  },
  {
   "cell_type": "code",
   "execution_count": 14,
   "metadata": {},
   "outputs": [
    {
     "name": "stderr",
     "output_type": "stream",
     "text": [
      "  1%|          | 1/100 [00:07<12:38,  7.67s/it]"
     ]
    },
    {
     "name": "stdout",
     "output_type": "stream",
     "text": [
      "Epoch: 0\tInterval Time: 7.6 sec(s)\tTraining Loss: 2.203478\t\tTraining Accuracy: 0.165550\n",
      "\t\t\t\t\t\tValidation Loss:1.912543\tValidation Accuracy: 0.313100\n"
     ]
    },
    {
     "name": "stderr",
     "output_type": "stream",
     "text": [
      "  6%|▌         | 6/100 [00:51<14:08,  9.03s/it]"
     ]
    },
    {
     "name": "stdout",
     "output_type": "stream",
     "text": [
      "Epoch: 5\tInterval Time: 43.7 sec(s)\tTraining Loss: 1.485445\t\tTraining Accuracy: 0.471175\n",
      "\t\t\t\t\t\tValidation Loss:1.417434\tValidation Accuracy: 0.499500\n"
     ]
    },
    {
     "name": "stderr",
     "output_type": "stream",
     "text": [
      " 11%|█         | 11/100 [01:28<10:56,  7.38s/it]"
     ]
    },
    {
     "name": "stdout",
     "output_type": "stream",
     "text": [
      "Epoch: 10\tInterval Time: 36.8 sec(s)\tTraining Loss: 1.259502\t\tTraining Accuracy: 0.561575\n",
      "\t\t\t\t\t\tValidation Loss:1.305724\tValidation Accuracy: 0.543100\n"
     ]
    },
    {
     "name": "stderr",
     "output_type": "stream",
     "text": [
      " 16%|█▌        | 16/100 [02:06<11:08,  7.96s/it]"
     ]
    },
    {
     "name": "stdout",
     "output_type": "stream",
     "text": [
      "Epoch: 15\tInterval Time: 38.3 sec(s)\tTraining Loss: 1.114949\t\tTraining Accuracy: 0.613100\n",
      "\t\t\t\t\t\tValidation Loss:1.285751\tValidation Accuracy: 0.553400\n"
     ]
    },
    {
     "name": "stderr",
     "output_type": "stream",
     "text": [
      " 21%|██        | 21/100 [02:48<10:57,  8.32s/it]"
     ]
    },
    {
     "name": "stdout",
     "output_type": "stream",
     "text": [
      "Epoch: 20\tInterval Time: 42.3 sec(s)\tTraining Loss: 0.999804\t\tTraining Accuracy: 0.652200\n",
      "\t\t\t\t\t\tValidation Loss:1.299858\tValidation Accuracy: 0.559200\n"
     ]
    },
    {
     "name": "stderr",
     "output_type": "stream",
     "text": [
      " 26%|██▌       | 26/100 [03:26<09:09,  7.42s/it]"
     ]
    },
    {
     "name": "stdout",
     "output_type": "stream",
     "text": [
      "Epoch: 25\tInterval Time: 37.6 sec(s)\tTraining Loss: 0.909798\t\tTraining Accuracy: 0.688125\n",
      "\t\t\t\t\t\tValidation Loss:1.318715\tValidation Accuracy: 0.558000\n"
     ]
    },
    {
     "name": "stderr",
     "output_type": "stream",
     "text": [
      " 27%|██▋       | 27/100 [03:41<09:58,  8.20s/it]"
     ]
    },
    {
     "name": "stdout",
     "output_type": "stream",
     "text": [
      "\n",
      "\n",
      "No decrease in validation loss during last 10 epoch(s).\n",
      "\n",
      "Convergence criteria achieved.\n",
      "Training completed @ Epoch 27.\n",
      "Total training time: 3 min 41.4 s\n",
      "\n",
      "                Best model found @ Epoch 16\n",
      "                --------------------------------------------\n",
      "                Training Loss: 1.090799\n",
      "                Validation Loss: 1.278653\n",
      "                --------------------------------------------\n",
      "                Training Accuracy: 0.620525\n",
      "                Validation Accuracy: 0.557900\n",
      "\n",
      "\n",
      "Best model 'Adam_w2_network' saved in 'model/' directory.\n"
     ]
    },
    {
     "name": "stderr",
     "output_type": "stream",
     "text": [
      "\n"
     ]
    },
    {
     "data": {
      "text/plain": [
       "{'tags': ['hide-output']}"
      ]
     },
     "execution_count": 14,
     "metadata": {},
     "output_type": "execute_result"
    }
   ],
   "source": [
    "w2_stat = mlp_w2.train_convergence(\n",
    "    train_set = train_set,\n",
    "    valid_set = valid_set,\n",
    "    batch_size = 500,\n",
    "    planned_epochs = 100,\n",
    "    last_check = 10,\n",
    "    threshold = 1e-25,\n",
    "    report_interval = 5\n",
    ")\n",
    "\n",
    "{\"tags\": [\"hide-output\"]}"
   ]
  },
  {
   "cell_type": "code",
   "execution_count": 15,
   "metadata": {},
   "outputs": [
    {
     "data": {
      "text/plain": [
       "<Figure size 720x504 with 0 Axes>"
      ]
     },
     "metadata": {},
     "output_type": "display_data"
    },
    {
     "data": {
      "image/png": "[encoded data removed]",
      "text/plain": [
       "<Figure size 432x288 with 4 Axes>"
      ]
     },
     "metadata": {
      "needs_background": "light"
     },
     "output_type": "display_data"
    }
   ],
   "source": [
    "plot_results(w2_stat)"
   ]
  },
  {
   "cell_type": "code",
   "execution_count": 16,
   "metadata": {},
   "outputs": [
    {
     "name": "stdout",
     "output_type": "stream",
     "text": [
      "-------------------------------------------\n",
      "Accuracy on train data: 76.02%\n",
      "Total Count:  40000\n",
      "Total Match:  30408\n",
      "-------------------------------------------\n",
      "Test Accuracy of\t0: 86.32% (3488/4041)\n",
      "Test Accuracy of\t1: 63.90% (2529/3958)\n",
      "Test Accuracy of\t2: 53.99% (2151/3984)\n",
      "Test Accuracy of\t3: 72.33% (2889/3994)\n",
      "Test Accuracy of\t4: 55.89% (2236/4001)\n",
      "Test Accuracy of\t5: 87.42% (3516/4022)\n",
      "Test Accuracy of\t6: 81.62% (3268/4004)\n",
      "Test Accuracy of\t7: 88.95% (3559/4001)\n",
      "Test Accuracy of\t8: 86.45% (3453/3994)\n",
      "Test Accuracy of\t9: 82.95% (3319/4001)\n",
      "-------------------------------------------\n",
      "Accuracy on valid data: 55.79%\n",
      "Total Count:  10000\n",
      "Total Match:  5579\n",
      "-------------------------------------------\n",
      "Test Accuracy of\t0: 65.69% (630/959)\n",
      "Test Accuracy of\t1: 43.47% (453/1042)\n",
      "Test Accuracy of\t2: 35.73% (363/1016)\n",
      "Test Accuracy of\t3: 50.00% (503/1006)\n",
      "Test Accuracy of\t4: 38.64% (386/999)\n",
      "Test Accuracy of\t5: 66.46% (650/978)\n",
      "Test Accuracy of\t6: 63.05% (628/996)\n",
      "Test Accuracy of\t7: 71.47% (714/999)\n",
      "Test Accuracy of\t8: 63.32% (637/1006)\n",
      "Test Accuracy of\t9: 61.56% (615/999)\n"
     ]
    }
   ],
   "source": [
    "# Loading best model found:\n",
    "\n",
    "best_model = Net.load_model(\"model/\" + mlp_w2.model_name)\n",
    "best_model.test_network(train_set, \"train data\")\n",
    "best_model.test_network(valid_set, \"valid data\")"
   ]
  },
  {
   "cell_type": "code",
   "execution_count": 17,
   "metadata": {},
   "outputs": [
    {
     "name": "stdout",
     "output_type": "stream",
     "text": [
      "-------------------------------------------\n",
      "Accuracy on test data: 55.83%\n",
      "Total Count:  10000\n",
      "Total Match:  5583\n",
      "-------------------------------------------\n",
      "Test Accuracy of\t0: 65.70% (657/1000)\n",
      "Test Accuracy of\t1: 43.30% (433/1000)\n",
      "Test Accuracy of\t2: 32.30% (323/1000)\n",
      "Test Accuracy of\t3: 50.50% (505/1000)\n",
      "Test Accuracy of\t4: 40.50% (405/1000)\n",
      "Test Accuracy of\t5: 68.70% (687/1000)\n",
      "Test Accuracy of\t6: 60.20% (602/1000)\n",
      "Test Accuracy of\t7: 68.00% (680/1000)\n",
      "Test Accuracy of\t8: 63.30% (633/1000)\n",
      "Test Accuracy of\t9: 65.80% (658/1000)\n"
     ]
    }
   ],
   "source": [
    "best_model.test_network(test_set, \"test data\")"
   ]
  },
  {
   "cell_type": "markdown",
   "metadata": {},
   "source": [
    "##### Weight decay with L2 set at 0.004"
   ]
  },
  {
   "cell_type": "code",
   "execution_count": 24,
   "metadata": {},
   "outputs": [
    {
     "name": "stdout",
     "output_type": "stream",
     "text": [
      "Adam_network is initialized and ready to be trained.\n"
     ]
    }
   ],
   "source": [
    "mlp_w4 = Net(\n",
    "    optimizer=Adam(),\n",
    "    criterion=CrossEntropyLoss(),\n",
    "    batch_norm=False,\n",
    "    L2_reg_term=0.004\n",
    ")\n",
    "\n",
    "mlp_w4.add(Linear(128, 1024, dropout=0.4))\n",
    "mlp_w4.add(ReLU())\n",
    "mlp_w4.add(Linear(1024, 512, dropout=0.2))\n",
    "mlp_w4.add(ReLU())\n",
    "mlp_w4.add(Linear(512, 64, dropout=0.2))\n",
    "mlp_w4.add(ReLU())\n",
    "mlp_w4.add(Linear(64, 16, dropout=0.2))\n",
    "mlp_w4.add(ReLU())\n",
    "mlp_w4.add(Linear(16, 10))\n",
    "\n",
    "\n",
    "mlp_w4.set_name(\"Adam_w4_network\")\n",
    "print(f\"{mlp.model_name} is initialized and ready to be trained.\")"
   ]
  },
  {
   "cell_type": "code",
   "execution_count": 25,
   "metadata": {},
   "outputs": [
    {
     "name": "stderr",
     "output_type": "stream",
     "text": [
      "  1%|          | 1/100 [00:08<14:36,  8.85s/it]"
     ]
    },
    {
     "name": "stdout",
     "output_type": "stream",
     "text": [
      "Epoch: 0\tInterval Time: 8.8 sec(s)\tTraining Loss: 2.200550\t\tTraining Accuracy: 0.179625\n",
      "\t\t\t\t\t\tValidation Loss:1.945931\tValidation Accuracy: 0.300500\n"
     ]
    },
    {
     "name": "stderr",
     "output_type": "stream",
     "text": [
      "  6%|▌         | 6/100 [00:49<12:50,  8.20s/it]"
     ]
    },
    {
     "name": "stdout",
     "output_type": "stream",
     "text": [
      "Epoch: 5\tInterval Time: 40.8 sec(s)\tTraining Loss: 1.464847\t\tTraining Accuracy: 0.475800\n",
      "\t\t\t\t\t\tValidation Loss:1.394793\tValidation Accuracy: 0.503900\n"
     ]
    },
    {
     "name": "stderr",
     "output_type": "stream",
     "text": [
      " 11%|█         | 11/100 [01:29<12:09,  8.20s/it]"
     ]
    },
    {
     "name": "stdout",
     "output_type": "stream",
     "text": [
      "Epoch: 10\tInterval Time: 40.3 sec(s)\tTraining Loss: 1.232880\t\tTraining Accuracy: 0.566400\n",
      "\t\t\t\t\t\tValidation Loss:1.305505\tValidation Accuracy: 0.543500\n"
     ]
    },
    {
     "name": "stderr",
     "output_type": "stream",
     "text": [
      " 16%|█▌        | 16/100 [02:08<10:46,  7.69s/it]"
     ]
    },
    {
     "name": "stdout",
     "output_type": "stream",
     "text": [
      "Epoch: 15\tInterval Time: 38.6 sec(s)\tTraining Loss: 1.084772\t\tTraining Accuracy: 0.622675\n",
      "\t\t\t\t\t\tValidation Loss:1.278827\tValidation Accuracy: 0.551900\n"
     ]
    },
    {
     "name": "stderr",
     "output_type": "stream",
     "text": [
      " 21%|██        | 21/100 [02:45<09:52,  7.50s/it]"
     ]
    },
    {
     "name": "stdout",
     "output_type": "stream",
     "text": [
      "Epoch: 20\tInterval Time: 36.8 sec(s)\tTraining Loss: 0.984157\t\tTraining Accuracy: 0.657375\n",
      "\t\t\t\t\t\tValidation Loss:1.285908\tValidation Accuracy: 0.558000\n"
     ]
    },
    {
     "name": "stderr",
     "output_type": "stream",
     "text": [
      " 26%|██▌       | 26/100 [03:21<08:46,  7.11s/it]"
     ]
    },
    {
     "name": "stdout",
     "output_type": "stream",
     "text": [
      "Epoch: 25\tInterval Time: 36.1 sec(s)\tTraining Loss: 0.889844\t\tTraining Accuracy: 0.691925\n",
      "\t\t\t\t\t\tValidation Loss:1.304451\tValidation Accuracy: 0.561000\n"
     ]
    },
    {
     "name": "stderr",
     "output_type": "stream",
     "text": [
      " 26%|██▌       | 26/100 [03:27<09:51,  8.00s/it]"
     ]
    },
    {
     "name": "stdout",
     "output_type": "stream",
     "text": [
      "\n",
      "\n",
      "No decrease in validation loss during last 10 epoch(s).\n",
      "\n",
      "Convergence criteria achieved.\n",
      "Training completed @ Epoch 26.\n",
      "Total training time: 3 min 28.0 s\n",
      "\n",
      "                Best model found @ Epoch 15\n",
      "                --------------------------------------------\n",
      "                Training Loss: 1.084772\n",
      "                Validation Loss: 1.278827\n",
      "                --------------------------------------------\n",
      "                Training Accuracy: 0.622675\n",
      "                Validation Accuracy: 0.551900\n",
      "\n",
      "\n",
      "Best model 'Adam_w4_network' saved in 'model/' directory.\n"
     ]
    },
    {
     "name": "stderr",
     "output_type": "stream",
     "text": [
      "\n"
     ]
    },
    {
     "data": {
      "text/plain": [
       "{'tags': ['hide-output']}"
      ]
     },
     "execution_count": 25,
     "metadata": {},
     "output_type": "execute_result"
    }
   ],
   "source": [
    "w4_stat = mlp_w4.train_convergence(\n",
    "    train_set = train_set,\n",
    "    valid_set = valid_set,\n",
    "    batch_size = 500,\n",
    "    planned_epochs = 100,\n",
    "    last_check = 10,\n",
    "    threshold = 1e-25,\n",
    "    report_interval = 5\n",
    ")\n",
    "\n",
    "{\"tags\": [\"hide-output\"]}"
   ]
  },
  {
   "cell_type": "code",
   "execution_count": 29,
   "metadata": {},
   "outputs": [
    {
     "data": {
      "text/plain": [
       "<Figure size 720x504 with 0 Axes>"
      ]
     },
     "metadata": {},
     "output_type": "display_data"
    },
    {
     "data": {
      "image/png": "[encoded data removed]",
      "text/plain": [
       "<Figure size 432x288 with 4 Axes>"
      ]
     },
     "metadata": {
      "needs_background": "light"
     },
     "output_type": "display_data"
    }
   ],
   "source": [
    "plot_results(w4_stat)"
   ]
  },
  {
   "cell_type": "code",
   "execution_count": 30,
   "metadata": {},
   "outputs": [
    {
     "name": "stdout",
     "output_type": "stream",
     "text": [
      "-------------------------------------------\n",
      "Accuracy on train data: 75.37%\n",
      "Total Count:  40000\n",
      "Total Match:  30146\n",
      "-------------------------------------------\n",
      "Test Accuracy of\t0: 89.16% (3603/4041)\n",
      "Test Accuracy of\t1: 58.74% (2325/3958)\n",
      "Test Accuracy of\t2: 47.29% (1884/3984)\n",
      "Test Accuracy of\t3: 67.05% (2678/3994)\n",
      "Test Accuracy of\t4: 68.16% (2727/4001)\n",
      "Test Accuracy of\t5: 85.55% (3441/4022)\n",
      "Test Accuracy of\t6: 83.37% (3338/4004)\n",
      "Test Accuracy of\t7: 88.43% (3538/4001)\n",
      "Test Accuracy of\t8: 81.72% (3264/3994)\n",
      "Test Accuracy of\t9: 83.68% (3348/4001)\n",
      "-------------------------------------------\n",
      "Accuracy on valid data: 55.19%\n",
      "Total Count:  10000\n",
      "Total Match:  5519\n",
      "-------------------------------------------\n",
      "Test Accuracy of\t0: 69.97% (671/959)\n",
      "Test Accuracy of\t1: 40.21% (419/1042)\n",
      "Test Accuracy of\t2: 30.02% (305/1016)\n",
      "Test Accuracy of\t3: 48.41% (487/1006)\n",
      "Test Accuracy of\t4: 48.05% (480/999)\n",
      "Test Accuracy of\t5: 62.88% (615/978)\n",
      "Test Accuracy of\t6: 63.86% (636/996)\n",
      "Test Accuracy of\t7: 68.17% (681/999)\n",
      "Test Accuracy of\t8: 59.64% (600/1006)\n",
      "Test Accuracy of\t9: 62.56% (625/999)\n"
     ]
    }
   ],
   "source": [
    "# Loading best model found:\n",
    "\n",
    "best_model = Net.load_model(\"model/\" + mlp_w4.model_name)\n",
    "best_model.test_network(train_set, \"train data\")\n",
    "best_model.test_network(valid_set, \"valid data\")"
   ]
  },
  {
   "cell_type": "code",
   "execution_count": 31,
   "metadata": {},
   "outputs": [
    {
     "name": "stdout",
     "output_type": "stream",
     "text": [
      "-------------------------------------------\n",
      "Accuracy on test data: 55.56%\n",
      "Total Count:  10000\n",
      "Total Match:  5556\n",
      "-------------------------------------------\n",
      "Test Accuracy of\t0: 68.50% (685/1000)\n",
      "Test Accuracy of\t1: 39.90% (399/1000)\n",
      "Test Accuracy of\t2: 29.60% (296/1000)\n",
      "Test Accuracy of\t3: 45.70% (457/1000)\n",
      "Test Accuracy of\t4: 49.90% (499/1000)\n",
      "Test Accuracy of\t5: 65.80% (658/1000)\n",
      "Test Accuracy of\t6: 63.70% (637/1000)\n",
      "Test Accuracy of\t7: 66.50% (665/1000)\n",
      "Test Accuracy of\t8: 60.00% (600/1000)\n",
      "Test Accuracy of\t9: 66.00% (660/1000)\n"
     ]
    }
   ],
   "source": [
    "best_model.test_network(test_set, \"test data\")"
   ]
  },
  {
   "cell_type": "markdown",
   "metadata": {},
   "source": [
    "##### No weight decay "
   ]
  },
  {
   "cell_type": "code",
   "execution_count": 32,
   "metadata": {},
   "outputs": [
    {
     "name": "stdout",
     "output_type": "stream",
     "text": [
      "Adam_network is initialized and ready to be trained.\n"
     ]
    }
   ],
   "source": [
    "mlp_nw = Net(\n",
    "    optimizer=Adam(),\n",
    "    criterion=CrossEntropyLoss(),\n",
    "    batch_norm=False,\n",
    "    L2_reg_term=0\n",
    ")\n",
    "\n",
    "mlp_nw.add(Linear(128, 1024, dropout=0.4))\n",
    "mlp_nw.add(ReLU())\n",
    "mlp_nw.add(Linear(1024, 512, dropout=0.2))\n",
    "mlp_nw.add(ReLU())\n",
    "mlp_nw.add(Linear(512, 64, dropout=0.2))\n",
    "mlp_nw.add(ReLU())\n",
    "mlp_nw.add(Linear(64, 16, dropout=0.2))\n",
    "mlp_nw.add(ReLU())\n",
    "mlp_nw.add(Linear(16, 10))\n",
    "\n",
    "\n",
    "mlp_nw.set_name(\"Adam_nw_network\")\n",
    "print(f\"{mlp.model_name} is initialized and ready to be trained.\")"
   ]
  },
  {
   "cell_type": "code",
   "execution_count": 33,
   "metadata": {},
   "outputs": [
    {
     "name": "stderr",
     "output_type": "stream",
     "text": [
      "  1%|          | 1/100 [00:08<13:37,  8.26s/it]"
     ]
    },
    {
     "name": "stdout",
     "output_type": "stream",
     "text": [
      "Epoch: 0\tInterval Time: 8.1 sec(s)\tTraining Loss: 2.230154\t\tTraining Accuracy: 0.162050\n",
      "\t\t\t\t\t\tValidation Loss:1.978560\tValidation Accuracy: 0.298000\n"
     ]
    },
    {
     "name": "stderr",
     "output_type": "stream",
     "text": [
      "  6%|▌         | 6/100 [00:45<11:32,  7.37s/it]"
     ]
    },
    {
     "name": "stdout",
     "output_type": "stream",
     "text": [
      "Epoch: 5\tInterval Time: 37.6 sec(s)\tTraining Loss: 1.476051\t\tTraining Accuracy: 0.480150\n",
      "\t\t\t\t\t\tValidation Loss:1.403955\tValidation Accuracy: 0.514500\n"
     ]
    },
    {
     "name": "stderr",
     "output_type": "stream",
     "text": [
      " 11%|█         | 11/100 [01:20<10:07,  6.83s/it]"
     ]
    },
    {
     "name": "stdout",
     "output_type": "stream",
     "text": [
      "Epoch: 10\tInterval Time: 34.3 sec(s)\tTraining Loss: 1.228126\t\tTraining Accuracy: 0.571225\n",
      "\t\t\t\t\t\tValidation Loss:1.299492\tValidation Accuracy: 0.549500\n"
     ]
    },
    {
     "name": "stderr",
     "output_type": "stream",
     "text": [
      " 16%|█▌        | 16/100 [01:58<11:03,  7.90s/it]"
     ]
    },
    {
     "name": "stdout",
     "output_type": "stream",
     "text": [
      "Epoch: 15\tInterval Time: 38.9 sec(s)\tTraining Loss: 1.079434\t\tTraining Accuracy: 0.626900\n",
      "\t\t\t\t\t\tValidation Loss:1.287093\tValidation Accuracy: 0.553500\n"
     ]
    },
    {
     "name": "stderr",
     "output_type": "stream",
     "text": [
      " 21%|██        | 21/100 [02:34<09:40,  7.35s/it]"
     ]
    },
    {
     "name": "stdout",
     "output_type": "stream",
     "text": [
      "Epoch: 20\tInterval Time: 36.0 sec(s)\tTraining Loss: 0.979188\t\tTraining Accuracy: 0.664100\n",
      "\t\t\t\t\t\tValidation Loss:1.297991\tValidation Accuracy: 0.556500\n"
     ]
    },
    {
     "name": "stderr",
     "output_type": "stream",
     "text": [
      " 25%|██▌       | 25/100 [03:10<09:31,  7.62s/it]"
     ]
    },
    {
     "name": "stdout",
     "output_type": "stream",
     "text": [
      "Epoch: 25\tInterval Time: 35.6 sec(s)\tTraining Loss: 0.890996\t\tTraining Accuracy: 0.695725\n",
      "\t\t\t\t\t\tValidation Loss:1.325121\tValidation Accuracy: 0.555500\n",
      "\n",
      "\n",
      "No decrease in validation loss during last 10 epoch(s).\n",
      "\n",
      "Convergence criteria achieved.\n",
      "Training completed @ Epoch 25.\n",
      "Total training time: 3 min 10.4 s\n",
      "\n",
      "                Best model found @ Epoch 14\n",
      "                --------------------------------------------\n",
      "                Training Loss: 1.109517\n",
      "                Validation Loss: 1.285915\n",
      "                --------------------------------------------\n",
      "                Training Accuracy: 0.616850\n",
      "                Validation Accuracy: 0.552600\n",
      "\n",
      "\n",
      "Best model 'Adam_nw_network' saved in 'model/' directory.\n"
     ]
    },
    {
     "name": "stderr",
     "output_type": "stream",
     "text": [
      "\n"
     ]
    },
    {
     "data": {
      "text/plain": [
       "{'tags': ['hide-output']}"
      ]
     },
     "execution_count": 33,
     "metadata": {},
     "output_type": "execute_result"
    }
   ],
   "source": [
    "nw_stat = mlp_nw.train_convergence(\n",
    "    train_set = train_set,\n",
    "    valid_set = valid_set,\n",
    "    batch_size = 500,\n",
    "    planned_epochs = 100,\n",
    "    last_check = 10,\n",
    "    threshold = 1e-25,\n",
    "    report_interval = 5\n",
    ")\n",
    "\n",
    "{\"tags\": [\"hide-output\"]}"
   ]
  },
  {
   "cell_type": "code",
   "execution_count": 34,
   "metadata": {},
   "outputs": [
    {
     "data": {
      "text/plain": [
       "<Figure size 720x504 with 0 Axes>"
      ]
     },
     "metadata": {},
     "output_type": "display_data"
    },
    {
     "data": {
      "image/png": "[encoded data removed]",
      "text/plain": [
       "<Figure size 432x288 with 4 Axes>"
      ]
     },
     "metadata": {
      "needs_background": "light"
     },
     "output_type": "display_data"
    }
   ],
   "source": [
    "plot_results(nw_stat)"
   ]
  },
  {
   "cell_type": "code",
   "execution_count": 35,
   "metadata": {},
   "outputs": [
    {
     "name": "stdout",
     "output_type": "stream",
     "text": [
      "-------------------------------------------\n",
      "Accuracy on train data: 74.66%\n",
      "Total Count:  40000\n",
      "Total Match:  29864\n",
      "-------------------------------------------\n",
      "Test Accuracy of\t0: 88.42% (3573/4041)\n",
      "Test Accuracy of\t1: 58.79% (2327/3958)\n",
      "Test Accuracy of\t2: 58.23% (2320/3984)\n",
      "Test Accuracy of\t3: 65.25% (2606/3994)\n",
      "Test Accuracy of\t4: 58.84% (2354/4001)\n",
      "Test Accuracy of\t5: 85.45% (3437/4022)\n",
      "Test Accuracy of\t6: 80.00% (3203/4004)\n",
      "Test Accuracy of\t7: 90.88% (3636/4001)\n",
      "Test Accuracy of\t8: 83.68% (3342/3994)\n",
      "Test Accuracy of\t9: 76.63% (3066/4001)\n",
      "-------------------------------------------\n",
      "Accuracy on valid data: 55.26%\n",
      "Total Count:  10000\n",
      "Total Match:  5526\n",
      "-------------------------------------------\n",
      "Test Accuracy of\t0: 68.93% (661/959)\n",
      "Test Accuracy of\t1: 38.77% (404/1042)\n",
      "Test Accuracy of\t2: 41.83% (425/1016)\n",
      "Test Accuracy of\t3: 46.22% (465/1006)\n",
      "Test Accuracy of\t4: 40.24% (402/999)\n",
      "Test Accuracy of\t5: 62.68% (613/978)\n",
      "Test Accuracy of\t6: 61.65% (614/996)\n",
      "Test Accuracy of\t7: 73.47% (734/999)\n",
      "Test Accuracy of\t8: 63.62% (640/1006)\n",
      "Test Accuracy of\t9: 56.86% (568/999)\n"
     ]
    }
   ],
   "source": [
    "# Loading best model found:\n",
    "\n",
    "best_model = Net.load_model(\"model/\" + mlp_nw.model_name)\n",
    "best_model.test_network(train_set, \"train data\")\n",
    "best_model.test_network(valid_set, \"valid data\")"
   ]
  },
  {
   "cell_type": "code",
   "execution_count": 36,
   "metadata": {},
   "outputs": [
    {
     "name": "stdout",
     "output_type": "stream",
     "text": [
      "-------------------------------------------\n",
      "Accuracy on test data: 55.71%\n",
      "Total Count:  10000\n",
      "Total Match:  5571\n",
      "-------------------------------------------\n",
      "Test Accuracy of\t0: 69.10% (691/1000)\n",
      "Test Accuracy of\t1: 39.70% (397/1000)\n",
      "Test Accuracy of\t2: 39.80% (398/1000)\n",
      "Test Accuracy of\t3: 43.60% (436/1000)\n",
      "Test Accuracy of\t4: 42.80% (428/1000)\n",
      "Test Accuracy of\t5: 67.50% (675/1000)\n",
      "Test Accuracy of\t6: 60.20% (602/1000)\n",
      "Test Accuracy of\t7: 71.20% (712/1000)\n",
      "Test Accuracy of\t8: 62.70% (627/1000)\n",
      "Test Accuracy of\t9: 60.50% (605/1000)\n"
     ]
    }
   ],
   "source": [
    "best_model.test_network(test_set, \"test data\")"
   ]
  },
  {
   "cell_type": "code",
   "execution_count": 37,
   "metadata": {},
   "outputs": [
    {
     "data": {
      "image/png": "[encoded data removed]",
      "text/plain": [
       "<Figure size 720x504 with 1 Axes>"
      ]
     },
     "metadata": {
      "needs_background": "light"
     },
     "output_type": "display_data"
    }
   ],
   "source": [
    "w2ep, w2tl, w2ta, w2vl, w2va = w2_stat\n",
    "w4ep, w4tl, w4ta, w4vl, w4va = w4_stat\n",
    "nwep, nwtl, nwta, nwvl, nwva = nw_stat\n",
    "\n",
    "bep, btl, bta, bvl, bva = base_norm_stat\n",
    "\n",
    "pl.figure(figsize = (10, 7))\n",
    "pl.plot(w2va,label='Weight decay 0.002')\n",
    "pl.plot(w4va,label='Weight decay 0.004')\n",
    "pl.plot(nwva,label='No Weight decay')\n",
    "pl.plot(bva,label='Base Model')\n",
    "pl.xlabel(\"Epoch\")\n",
    "pl.ylabel(\"Validaition Accuracy \")  \n",
    "pl.title('Validation Accuracy Weight Decay opt')\n",
    "pl.legend()\n",
    "\n",
    "pl.show()\n"
   ]
  }
 ],
 "metadata": {
  "interpreter": {
   "hash": "767d51c1340bd893661ea55ea3124f6de3c7a262a8b4abca0554b478b1e2ff90"
  },
  "kernelspec": {
   "display_name": "Python 3 (ipykernel)",
   "language": "python",
   "name": "python3"
  },
  "language_info": {
   "codemirror_mode": {
    "name": "ipython",
    "version": 3
   },
   "file_extension": ".py",
   "mimetype": "text/x-python",
   "name": "python",
   "nbconvert_exporter": "python",
   "pygments_lexer": "ipython3",
   "version": "3.10.2"
  }
 },
 "nbformat": 4,
 "nbformat_minor": 2
}
