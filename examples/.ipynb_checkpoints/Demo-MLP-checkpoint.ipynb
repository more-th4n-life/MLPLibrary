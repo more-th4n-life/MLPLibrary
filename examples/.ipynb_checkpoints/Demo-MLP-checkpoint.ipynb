{
 "cells": [
  {
   "cell_type": "markdown",
   "id": "8ad2405b",
   "metadata": {},
   "source": [
    "# Demo of MLP Library Usage"
   ]
  },
  {
   "cell_type": "markdown",
   "id": "b8e8080a",
   "metadata": {},
   "source": [
    "## INSTRUCTIONS"
   ]
  },
  {
   "cell_type": "markdown",
   "id": "38c31d24",
   "metadata": {},
   "source": [
    "For more detailed instructions of using MLPLibrary consult the documentation. This demo will give practical demonstration of MLPLibrary functions and usage for constructing MLP models, setting hyperparameters and evaluating training and testing performance, using the provided data for COMP5329 Assignment 1. "
   ]
  },
  {
   "cell_type": "markdown",
   "id": "332c0e07",
   "metadata": {},
   "source": [
    "### Installing MLPLibrary"
   ]
  },
  {
   "cell_type": "markdown",
   "id": "a5885a23",
   "metadata": {},
   "source": [
    "As provided in the README.md in the main folder, MLPlibrary may be installed locally as a portable library (similar to NumPy or PyTorch) simply by navigating into the network directory (i.e. ```'MLPLibrary/network/'```) and executing the following statement:\n",
    "```\n",
    "pip install ..\n",
    "```\n",
    "This will install all the required dependencies stated in the ```setup.py``` file and allow usage of our library functions anywhere on your device locally."
   ]
  },
  {
   "cell_type": "markdown",
   "id": "43f97264",
   "metadata": {},
   "source": [
    "After this step, you may perform the following imports. If you decide not to install MLPLibrary, make sure you are within the main folder of MLPLibrary."
   ]
  },
  {
   "cell_type": "markdown",
   "id": "88e4fa07",
   "metadata": {},
   "source": [
    "## IMPORTING MLPLibrary"
   ]
  },
  {
   "cell_type": "code",
   "execution_count": 1,
   "id": "5c44217b",
   "metadata": {},
   "outputs": [],
   "source": [
    "# Importing all the modules and functions related to constructing MLP network models\n",
    "\n",
    "from network.net import Net                   # Net class, base class for constructing MLP networks\n",
    "from network.layer import Linear              # Linear class, child class of parent class Layer \n",
    "from network.loss import CrossEntropyLoss     # CrossEntropyLoss class, child class of parent class Loss\n",
    "from network.activ import ReLU, LeakyReLU     # ReLU, LeakyReLU classes, child classes of parent class Activation\n",
    "from network.optim import SGD, Adam           # SGD, Adam classes, child classes of parent class Optimizer"
   ]
  },
  {
   "cell_type": "code",
   "execution_count": 2,
   "id": "b8ca7658",
   "metadata": {},
   "outputs": [],
   "source": [
    "# Importing all the modules and functions related to data processing including loaders for the assignment data\n",
    "\n",
    "# Process module contains functions relating to data processing:\n",
    "from network.loader.process import (\n",
    "    train_test_split,        # Function to split data with chosen ratio, data can be shuffled\n",
    "    normalize,               # Normalizes data to have mean of zero and unit variance\n",
    "    standardize,             # Normalizes data to be between range 0-1, i.e. standardizes data\n",
    "    one_hot,                 # One hot encoding: 100% prob of 2 is [0, 0, 1] with 3 classes\n",
    "    pca                      # Reduces data to chosen K principal components\n",
    ") \n",
    "\n",
    "# Data module for loading the assignment data\n",
    "from network.dataset.source import (\n",
    "    get_data_from_file,   # Loads assignment data from file (must be within main directory)\n",
    "    get_data_from_url     # Loads assignment data from public GitHub repo that stores data\n",
    ")\n",
    "\n",
    "# Data loader module for automating processing of and loading of assignment data based on parameter selections\n",
    "from network.loader.data_loader import load_train_val_test  # Parameter selections decide method of processing                            "
   ]
  },
  {
   "cell_type": "markdown",
   "id": "e03c176d",
   "metadata": {},
   "source": [
    "### Importing Standard Libraries"
   ]
  },
  {
   "cell_type": "code",
   "execution_count": 3,
   "id": "51d13889",
   "metadata": {},
   "outputs": [],
   "source": [
    "import numpy as np\n",
    "import matplotlib.pyplot as pl\n",
    "import pandas as pd \n",
    "import seaborn as sns\n",
    "\n",
    "# setting random seed\n",
    "np.random.seed(418)"
   ]
  },
  {
   "cell_type": "markdown",
   "id": "db6951b7",
   "metadata": {},
   "source": [
    "### Example Data Loading and Preprocessing\n",
    "\n",
    "#### Parameter Selections:"
   ]
  },
  {
   "cell_type": "code",
   "execution_count": 4,
   "id": "5f20709b",
   "metadata": {},
   "outputs": [],
   "source": [
    "SOURCE_DATA = \"url\"          # May choose from \"url\" or \"file\" to source assignment data (must be in main for \"file\")\n",
    "NORM_METHOD = \"standardize\"  # May choose from \"standardize\", \"normalize\" or \"none\" (none is no normalization on data)\n",
    "PCA_N_COMPONENTS = 0         # If PCA_N_COMPONENTS > 0;\n",
    "                                # Normalization is skipped as done implicitly by mean centering prior to applying PCA\n",
    "                                # Strictly, the choice of PCA_N_COMPONENTS <= N_DIMENSIONS of the input dataset \n",
    "N_CATEGORIES = 10            # If N_CATEGORIES > 0 chosen, then categorical one-hot encoding is applied to label data\n",
    "SPLIT_RATIO = 0.2             # Ratio data is to be split upon when obtaining a train test split (default is set to 0.2)\n",
    "SHUFFLE_DATA = True          # IF SHUFFLE is True, then the data is shuffled prior to splitting by taking random indices"
   ]
  },
  {
   "cell_type": "markdown",
   "id": "754fd715",
   "metadata": {},
   "source": [
    "#### Obtaining loaded and processed data based on the chosen parameter selections:"
   ]
  },
  {
   "cell_type": "code",
   "execution_count": 5,
   "id": "2317d107",
   "metadata": {},
   "outputs": [],
   "source": [
    "# Note as we are loading data from URL it will take longer than from file.\n",
    "train_set, valid_set, test_set = load_train_val_test(\n",
    "    source = SOURCE_DATA,\n",
    "    method = NORM_METHOD,      \n",
    "    pca_N = PCA_N_COMPONENTS,\n",
    "    n_categories = N_CATEGORIES,\n",
    "    ratio = SPLIT_RATIO,\n",
    "    shuffle = SHUFFLE_DATA\n",
    ")"
   ]
  },
  {
   "cell_type": "markdown",
   "id": "198bb38c",
   "metadata": {},
   "source": [
    "With a ratio of 0.2 and shuffle selected, the validation set is split from the training set by shuffling the data and taking random indices in proportion of the ratio."
   ]
  },
  {
   "cell_type": "code",
   "execution_count": 6,
   "id": "1c8d375c",
   "metadata": {},
   "outputs": [
    {
     "name": "stdout",
     "output_type": "stream",
     "text": [
      "------------------------------------------------\n",
      "Shape of Training Data: (40000, 128)\n",
      "Shape of Training Labels: (40000, 10)\n",
      "------------------------------------------------\n",
      "Shape of Validation Data: (10000, 128)\n",
      "Shape of Validation Labels: (10000, 10)\n",
      "------------------------------------------------\n",
      "Shape of Test Data: (10000, 128)\n",
      "Shape of Test Labels: (10000, 10)\n",
      "------------------------------------------------\n",
      "\n",
      "First 10 one-hot encoded labels of test data:\n",
      "\n",
      "[[0. 0. 0. 1. 0. 0. 0. 0. 0. 0.]\n",
      " [0. 0. 0. 0. 0. 0. 0. 0. 1. 0.]\n",
      " [0. 0. 0. 0. 0. 0. 0. 0. 1. 0.]\n",
      " [1. 0. 0. 0. 0. 0. 0. 0. 0. 0.]\n",
      " [0. 0. 0. 0. 0. 0. 1. 0. 0. 0.]\n",
      " [0. 0. 0. 0. 0. 0. 1. 0. 0. 0.]\n",
      " [0. 1. 0. 0. 0. 0. 0. 0. 0. 0.]\n",
      " [0. 0. 0. 0. 0. 0. 1. 0. 0. 0.]\n",
      " [0. 0. 0. 1. 0. 0. 0. 0. 0. 0.]\n",
      " [0. 1. 0. 0. 0. 0. 0. 0. 0. 0.]]\n",
      "\n",
      "Equivalent to: [3, 8, 8, 0, 6, 6, 1, 6, 3, 1]\n"
     ]
    }
   ],
   "source": [
    "line_sep = \"------------------------------------------------\"\n",
    "print(line_sep)\n",
    "print(f\"Shape of Training Data: {train_set[0].shape}\")\n",
    "print(f\"Shape of Training Labels: {train_set[1].shape}\")\n",
    "print(line_sep)\n",
    "print(f\"Shape of Validation Data: {valid_set[0].shape}\")\n",
    "print(f\"Shape of Validation Labels: {valid_set[1].shape}\")\n",
    "print(line_sep)\n",
    "print(f\"Shape of Test Data: {test_set[0].shape}\")\n",
    "print(f\"Shape of Test Labels: {test_set[1].shape}\")\n",
    "print(line_sep + '\\n')\n",
    "print(f\"First 10 one-hot encoded labels of test data:\\n\\n{test_set[1][:10]}\")\n",
    "print(f\"\\nEquivalent to: {[np.argmax(label) for label in test_set[1][:10]]}\")"
   ]
  },
  {
   "cell_type": "markdown",
   "id": "134c61ab",
   "metadata": {},
   "source": [
    "## CONSTRUCTING MLP MODELS"
   ]
  },
  {
   "cell_type": "markdown",
   "id": "db1fa068",
   "metadata": {},
   "source": [
    "### OPTIMIZER SELECTION"
   ]
  },
  {
   "cell_type": "markdown",
   "id": "8e7b4809",
   "metadata": {},
   "source": [
    "##### Optimizer 1: Stochastic Gradient Descent"
   ]
  },
  {
   "cell_type": "code",
   "execution_count": 7,
   "id": "b090088f",
   "metadata": {},
   "outputs": [
    {
     "name": "stdout",
     "output_type": "stream",
     "text": [
      "Optimizer: SGD(wd+mm) is initialized and ready to be deployed.\n"
     ]
    }
   ],
   "source": [
    "LEARNING_RATE = 0.04\n",
    "WEIGHT_DECAY = 0.001\n",
    "MOMENTUM_TERM = 0.999\n",
    "LR_SCHEDULER = \"step\"\n",
    "STEP_TERMS = (25, .95)  # lr dropped by factor of 5% each step of 25 epochs\n",
    "\n",
    "sgd = SGD(\n",
    "    learning_rate = LEARNING_RATE,\n",
    "    weight_decay = WEIGHT_DECAY,\n",
    "    momentum = MOMENTUM_TERM,\n",
    "    lr_decay = LR_SCHEDULER,\n",
    "    step_terms = STEP_TERMS,\n",
    ")\n",
    "print(f\"Optimizer: {sgd} is initialized and ready to be deployed.\")"
   ]
  },
  {
   "cell_type": "markdown",
   "id": "ce4ac741",
   "metadata": {},
   "source": [
    "##### Optimizer 2: Adam"
   ]
  },
  {
   "cell_type": "code",
   "execution_count": 8,
   "id": "ea0eb1d9",
   "metadata": {},
   "outputs": [
    {
     "name": "stdout",
     "output_type": "stream",
     "text": [
      "Optimizer: Adam is initialized and ready to be deployed.\n"
     ]
    }
   ],
   "source": [
    "LEARNING_RATE = 0.0008    # can set even smaller than default 0.001 (can hopefully increase performance)\n",
    "BETA_TERM_ONE = 0.900            # this is allowed in adaptive learning rate methods such as Adam\n",
    "BETA_TERM_TWO = 0.999       # will take longer to converge, however, may reach a lower validation loss\n",
    "EPS_STABILITY = 1e-09 # usually a sharp loss is seen when lr = 0.001 which is good to see but doesn't produce BEST results\n",
    "\n",
    "adam = Adam(\n",
    "    learning_rate = LEARNING_RATE,\n",
    "    beta1 = BETA_TERM_ONE,\n",
    "    beta2 = BETA_TERM_TWO,\n",
    "    epsilon = EPS_STABILITY\n",
    ")\n",
    "print(f\"Optimizer: {adam} is initialized and ready to be deployed.\")"
   ]
  },
  {
   "cell_type": "markdown",
   "id": "7055ce5a",
   "metadata": {},
   "source": [
    "### MODEL ARCHITECTURE"
   ]
  },
  {
   "cell_type": "markdown",
   "id": "f3294055",
   "metadata": {},
   "source": [
    "##### Network Hyperparameters"
   ]
  },
  {
   "cell_type": "code",
   "execution_count": 9,
   "id": "a036660a",
   "metadata": {},
   "outputs": [],
   "source": [
    "OPTIMIZER = sgd\n",
    "CRITERION = CrossEntropyLoss()\n",
    "BATCH_NORM = True\n",
    "ALPHA_TERM = 0.9\n",
    "L2_REG_TERM = 0.004\n",
    "\n",
    "mlp = Net(\n",
    "    optimizer = OPTIMIZER,\n",
    "    criterion = CRITERION,\n",
    "    batch_norm = BATCH_NORM,\n",
    "    alpha = ALPHA_TERM,\n",
    "    L2_reg_term = L2_REG_TERM\n",
    ")"
   ]
  },
  {
   "cell_type": "markdown",
   "id": "f6af2d9e",
   "metadata": {},
   "source": [
    "##### Adding Hidden Linear and Activation Layers "
   ]
  },
  {
   "cell_type": "code",
   "execution_count": 10,
   "id": "5cbd2cc4",
   "metadata": {},
   "outputs": [
    {
     "name": "stdout",
     "output_type": "stream",
     "text": [
      "SGD_small_network is initialized and ready to be trained.\n"
     ]
    }
   ],
   "source": [
    "mlp.add(Linear(indim = 128, outdim = 1024, dropout = 0.2))\n",
    "mlp.add(ReLU())\n",
    "mlp.add(Linear(indim = 1024, outdim = 64, dropout = 0.2))\n",
    "mlp.add(ReLU())\n",
    "mlp.add(Linear(indim = 64, outdim = 32, dropout = 0.2))\n",
    "mlp.add(ReLU())\n",
    "mlp.add(Linear(indim = 32, outdim = 10))\n",
    "\n",
    "mlp.set_name(\"SGD_small_network\")\n",
    "print(f\"{mlp.model_name} is initialized and ready to be trained.\")"
   ]
  },
  {
   "cell_type": "markdown",
   "id": "b4ab1f87",
   "metadata": {},
   "source": [
    "### Plotting Helper Functions"
   ]
  },
  {
   "cell_type": "code",
   "execution_count": 11,
   "id": "80ade171",
   "metadata": {},
   "outputs": [],
   "source": [
    "def plot_results(stats):\n",
    "    ep, tl, ta, vl, va = stats\n",
    "    pl.figure(figsize = (10, 7))\n",
    "\n",
    "    fig, ((ax1, ax2), (ax3, ax4)) = pl.subplots(2, 2)\n",
    "    fig.suptitle(f'Training Results, best model found @ Epoch {ep}')\n",
    "\n",
    "    ax1.plot(tl)\n",
    "    ax1.set_title('Training Loss')\n",
    "\n",
    "    ax2.plot(vl, 'tab:orange')\n",
    "    ax2.set_title('Validation Loss')\n",
    "\n",
    "    ax3.plot(ta, 'tab:green')\n",
    "    ax3.set_title('Training Accuracy')\n",
    "\n",
    "    ax4.plot(va, 'tab:red')\n",
    "    ax4.set_title('Validation Accuracy')\n",
    "    \n",
    "    for ax in fig.get_axes():\n",
    "        ax.label_outer()\n",
    "\n",
    "    pl.show()"
   ]
  },
  {
   "cell_type": "markdown",
   "id": "76a5ec63",
   "metadata": {},
   "source": [
    "## NETWORK TRAINING"
   ]
  },
  {
   "cell_type": "markdown",
   "id": "b6dcd712",
   "metadata": {},
   "source": [
    "### TRAINING TILL CONVERGENCE"
   ]
  },
  {
   "cell_type": "code",
   "execution_count": 12,
   "id": "a045bc1d",
   "metadata": {},
   "outputs": [
    {
     "name": "stderr",
     "output_type": "stream",
     "text": [
      "  0%|▋                                                                                                                                            | 1/200 [00:05<16:51,  5.08s/it]"
     ]
    },
    {
     "name": "stdout",
     "output_type": "stream",
     "text": [
      "Epoch: 0\tInterval Time: 5.1 sec(s)\tTraining Loss: 2.378741\t\tTraining Accuracy: 0.174050\n",
      "\t\t\t\t\t\tValidation Loss:2.008017\tValidation Accuracy: 0.281300\n"
     ]
    },
    {
     "name": "stderr",
     "output_type": "stream",
     "text": [
      "\r",
      "  1%|█▍                                                                                                                                           | 2/200 [00:10<16:41,  5.06s/it]"
     ]
    },
    {
     "name": "stdout",
     "output_type": "stream",
     "text": [
      "Epoch: 1\tInterval Time: 5.0 sec(s)\tTraining Loss: 2.043909\t\tTraining Accuracy: 0.261875\n",
      "\t\t\t\t\t\tValidation Loss:1.871520\tValidation Accuracy: 0.340900\n"
     ]
    },
    {
     "name": "stderr",
     "output_type": "stream",
     "text": [
      "\r",
      "  2%|██                                                                                                                                           | 3/200 [00:15<17:00,  5.18s/it]"
     ]
    },
    {
     "name": "stdout",
     "output_type": "stream",
     "text": [
      "Epoch: 2\tInterval Time: 5.3 sec(s)\tTraining Loss: 1.929640\t\tTraining Accuracy: 0.304150\n",
      "\t\t\t\t\t\tValidation Loss:1.810081\tValidation Accuracy: 0.371100\n"
     ]
    },
    {
     "name": "stderr",
     "output_type": "stream",
     "text": [
      "\r",
      "  2%|██▊                                                                                                                                          | 4/200 [00:20<17:17,  5.29s/it]"
     ]
    },
    {
     "name": "stdout",
     "output_type": "stream",
     "text": [
      "Epoch: 3\tInterval Time: 5.5 sec(s)\tTraining Loss: 1.861572\t\tTraining Accuracy: 0.330075\n",
      "\t\t\t\t\t\tValidation Loss:1.767309\tValidation Accuracy: 0.392300\n"
     ]
    },
    {
     "name": "stderr",
     "output_type": "stream",
     "text": [
      "\r",
      "  2%|███▌                                                                                                                                         | 5/200 [00:25<16:39,  5.12s/it]"
     ]
    },
    {
     "name": "stdout",
     "output_type": "stream",
     "text": [
      "Epoch: 4\tInterval Time: 4.8 sec(s)\tTraining Loss: 1.821269\t\tTraining Accuracy: 0.348950\n",
      "\t\t\t\t\t\tValidation Loss:1.741606\tValidation Accuracy: 0.403400\n"
     ]
    },
    {
     "name": "stderr",
     "output_type": "stream",
     "text": [
      "\r",
      "  3%|████▏                                                                                                                                        | 6/200 [00:30<16:22,  5.06s/it]"
     ]
    },
    {
     "name": "stdout",
     "output_type": "stream",
     "text": [
      "Epoch: 5\tInterval Time: 4.9 sec(s)\tTraining Loss: 1.784456\t\tTraining Accuracy: 0.363525\n",
      "\t\t\t\t\t\tValidation Loss:1.717680\tValidation Accuracy: 0.416600\n"
     ]
    },
    {
     "name": "stderr",
     "output_type": "stream",
     "text": [
      "\r",
      "  4%|████▉                                                                                                                                        | 7/200 [00:35<15:43,  4.89s/it]"
     ]
    },
    {
     "name": "stdout",
     "output_type": "stream",
     "text": [
      "Epoch: 6\tInterval Time: 4.5 sec(s)\tTraining Loss: 1.764009\t\tTraining Accuracy: 0.374675\n",
      "\t\t\t\t\t\tValidation Loss:1.693017\tValidation Accuracy: 0.424200\n"
     ]
    },
    {
     "name": "stderr",
     "output_type": "stream",
     "text": [
      "\r",
      "  4%|█████▋                                                                                                                                       | 8/200 [00:40<16:04,  5.03s/it]"
     ]
    },
    {
     "name": "stdout",
     "output_type": "stream",
     "text": [
      "Epoch: 7\tInterval Time: 5.3 sec(s)\tTraining Loss: 1.740814\t\tTraining Accuracy: 0.381925\n",
      "\t\t\t\t\t\tValidation Loss:1.679266\tValidation Accuracy: 0.427400\n"
     ]
    },
    {
     "name": "stderr",
     "output_type": "stream",
     "text": [
      "\r",
      "  4%|██████▎                                                                                                                                      | 9/200 [00:45<16:00,  5.03s/it]"
     ]
    },
    {
     "name": "stdout",
     "output_type": "stream",
     "text": [
      "Epoch: 8\tInterval Time: 5.0 sec(s)\tTraining Loss: 1.722056\t\tTraining Accuracy: 0.394075\n",
      "\t\t\t\t\t\tValidation Loss:1.661117\tValidation Accuracy: 0.438800\n"
     ]
    },
    {
     "name": "stderr",
     "output_type": "stream",
     "text": [
      "\r",
      "  5%|███████                                                                                                                                     | 10/200 [00:50<15:40,  4.95s/it]"
     ]
    },
    {
     "name": "stdout",
     "output_type": "stream",
     "text": [
      "Epoch: 9\tInterval Time: 4.8 sec(s)\tTraining Loss: 1.703850\t\tTraining Accuracy: 0.403600\n",
      "\t\t\t\t\t\tValidation Loss:1.649727\tValidation Accuracy: 0.442100\n"
     ]
    },
    {
     "name": "stderr",
     "output_type": "stream",
     "text": [
      "\r",
      "  6%|███████▋                                                                                                                                    | 11/200 [00:54<15:05,  4.79s/it]"
     ]
    },
    {
     "name": "stdout",
     "output_type": "stream",
     "text": [
      "Epoch: 10\tInterval Time: 4.4 sec(s)\tTraining Loss: 1.686072\t\tTraining Accuracy: 0.408500\n",
      "\t\t\t\t\t\tValidation Loss:1.633595\tValidation Accuracy: 0.449300\n"
     ]
    },
    {
     "name": "stderr",
     "output_type": "stream",
     "text": [
      "\r",
      "  6%|████████▍                                                                                                                                   | 12/200 [00:59<14:46,  4.72s/it]"
     ]
    },
    {
     "name": "stdout",
     "output_type": "stream",
     "text": [
      "Epoch: 11\tInterval Time: 4.5 sec(s)\tTraining Loss: 1.670075\t\tTraining Accuracy: 0.415675\n",
      "\t\t\t\t\t\tValidation Loss:1.621029\tValidation Accuracy: 0.456600\n"
     ]
    },
    {
     "name": "stderr",
     "output_type": "stream",
     "text": [
      "\r",
      "  6%|█████████                                                                                                                                   | 13/200 [01:04<15:18,  4.91s/it]"
     ]
    },
    {
     "name": "stdout",
     "output_type": "stream",
     "text": [
      "Epoch: 12\tInterval Time: 5.4 sec(s)\tTraining Loss: 1.654887\t\tTraining Accuracy: 0.423650\n",
      "\t\t\t\t\t\tValidation Loss:1.611363\tValidation Accuracy: 0.456500\n"
     ]
    },
    {
     "name": "stderr",
     "output_type": "stream",
     "text": [
      "\r",
      "  7%|█████████▊                                                                                                                                  | 14/200 [01:09<15:22,  4.96s/it]"
     ]
    },
    {
     "name": "stdout",
     "output_type": "stream",
     "text": [
      "Epoch: 13\tInterval Time: 5.1 sec(s)\tTraining Loss: 1.641629\t\tTraining Accuracy: 0.429675\n",
      "\t\t\t\t\t\tValidation Loss:1.601140\tValidation Accuracy: 0.460000\n"
     ]
    },
    {
     "name": "stderr",
     "output_type": "stream",
     "text": [
      "\r",
      "  8%|██████████▌                                                                                                                                 | 15/200 [01:13<14:35,  4.73s/it]"
     ]
    },
    {
     "name": "stdout",
     "output_type": "stream",
     "text": [
      "Epoch: 14\tInterval Time: 4.2 sec(s)\tTraining Loss: 1.633958\t\tTraining Accuracy: 0.433275\n",
      "\t\t\t\t\t\tValidation Loss:1.589329\tValidation Accuracy: 0.464500\n"
     ]
    },
    {
     "name": "stderr",
     "output_type": "stream",
     "text": [
      "\r",
      "  8%|███████████▏                                                                                                                                | 16/200 [01:18<14:13,  4.64s/it]"
     ]
    },
    {
     "name": "stdout",
     "output_type": "stream",
     "text": [
      "Epoch: 15\tInterval Time: 4.4 sec(s)\tTraining Loss: 1.619187\t\tTraining Accuracy: 0.439025\n",
      "\t\t\t\t\t\tValidation Loss:1.581843\tValidation Accuracy: 0.466900\n"
     ]
    },
    {
     "name": "stderr",
     "output_type": "stream",
     "text": [
      "\r",
      "  8%|███████████▉                                                                                                                                | 17/200 [01:23<14:14,  4.67s/it]"
     ]
    },
    {
     "name": "stdout",
     "output_type": "stream",
     "text": [
      "Epoch: 16\tInterval Time: 4.7 sec(s)\tTraining Loss: 1.606967\t\tTraining Accuracy: 0.442875\n",
      "\t\t\t\t\t\tValidation Loss:1.571544\tValidation Accuracy: 0.471500\n"
     ]
    },
    {
     "name": "stderr",
     "output_type": "stream",
     "text": [
      "\r",
      "  9%|████████████▌                                                                                                                               | 18/200 [01:28<14:31,  4.79s/it]"
     ]
    },
    {
     "name": "stdout",
     "output_type": "stream",
     "text": [
      "Epoch: 17\tInterval Time: 5.1 sec(s)\tTraining Loss: 1.597211\t\tTraining Accuracy: 0.451150\n",
      "\t\t\t\t\t\tValidation Loss:1.559873\tValidation Accuracy: 0.476500\n"
     ]
    },
    {
     "name": "stderr",
     "output_type": "stream",
     "text": [
      "\r",
      " 10%|█████████████▎                                                                                                                              | 19/200 [01:32<14:13,  4.72s/it]"
     ]
    },
    {
     "name": "stdout",
     "output_type": "stream",
     "text": [
      "Epoch: 18\tInterval Time: 4.5 sec(s)\tTraining Loss: 1.588293\t\tTraining Accuracy: 0.454500\n",
      "\t\t\t\t\t\tValidation Loss:1.554472\tValidation Accuracy: 0.479600\n"
     ]
    },
    {
     "name": "stderr",
     "output_type": "stream",
     "text": [
      "\r",
      " 10%|██████████████                                                                                                                              | 20/200 [01:37<14:04,  4.69s/it]"
     ]
    },
    {
     "name": "stdout",
     "output_type": "stream",
     "text": [
      "Epoch: 19\tInterval Time: 4.6 sec(s)\tTraining Loss: 1.576237\t\tTraining Accuracy: 0.458350\n",
      "\t\t\t\t\t\tValidation Loss:1.547359\tValidation Accuracy: 0.480400\n"
     ]
    },
    {
     "name": "stderr",
     "output_type": "stream",
     "text": [
      "\r",
      " 10%|██████████████▋                                                                                                                             | 21/200 [01:42<14:07,  4.73s/it]"
     ]
    },
    {
     "name": "stdout",
     "output_type": "stream",
     "text": [
      "Epoch: 20\tInterval Time: 4.8 sec(s)\tTraining Loss: 1.567197\t\tTraining Accuracy: 0.463075\n",
      "\t\t\t\t\t\tValidation Loss:1.540891\tValidation Accuracy: 0.485800\n"
     ]
    },
    {
     "name": "stderr",
     "output_type": "stream",
     "text": [
      "\r",
      " 11%|███████████████▍                                                                                                                            | 22/200 [01:46<13:41,  4.62s/it]"
     ]
    },
    {
     "name": "stdout",
     "output_type": "stream",
     "text": [
      "Epoch: 21\tInterval Time: 4.3 sec(s)\tTraining Loss: 1.556522\t\tTraining Accuracy: 0.467825\n",
      "\t\t\t\t\t\tValidation Loss:1.530818\tValidation Accuracy: 0.487700\n"
     ]
    },
    {
     "name": "stderr",
     "output_type": "stream",
     "text": [
      "\r",
      " 12%|████████████████                                                                                                                            | 23/200 [01:51<13:33,  4.59s/it]"
     ]
    },
    {
     "name": "stdout",
     "output_type": "stream",
     "text": [
      "Epoch: 22\tInterval Time: 4.5 sec(s)\tTraining Loss: 1.545034\t\tTraining Accuracy: 0.473825\n",
      "\t\t\t\t\t\tValidation Loss:1.523083\tValidation Accuracy: 0.491500\n"
     ]
    },
    {
     "name": "stderr",
     "output_type": "stream",
     "text": [
      "\r",
      " 12%|████████████████▊                                                                                                                           | 24/200 [01:55<13:29,  4.60s/it]"
     ]
    },
    {
     "name": "stdout",
     "output_type": "stream",
     "text": [
      "Epoch: 23\tInterval Time: 4.6 sec(s)\tTraining Loss: 1.534439\t\tTraining Accuracy: 0.478400\n",
      "\t\t\t\t\t\tValidation Loss:1.517614\tValidation Accuracy: 0.493900\n"
     ]
    },
    {
     "name": "stderr",
     "output_type": "stream",
     "text": [
      "\r",
      " 12%|█████████████████▌                                                                                                                          | 25/200 [02:00<13:32,  4.64s/it]"
     ]
    },
    {
     "name": "stdout",
     "output_type": "stream",
     "text": [
      "Epoch: 24\tInterval Time: 4.7 sec(s)\tTraining Loss: 1.528626\t\tTraining Accuracy: 0.479325\n",
      "\t\t\t\t\t\tValidation Loss:1.508004\tValidation Accuracy: 0.497900\n"
     ]
    },
    {
     "name": "stderr",
     "output_type": "stream",
     "text": [
      "\r",
      " 13%|██████████████████▏                                                                                                                         | 26/200 [02:04<13:15,  4.57s/it]"
     ]
    },
    {
     "name": "stdout",
     "output_type": "stream",
     "text": [
      "Epoch: 25\tInterval Time: 4.4 sec(s)\tTraining Loss: 1.520642\t\tTraining Accuracy: 0.485575\n",
      "\t\t\t\t\t\tValidation Loss:1.501380\tValidation Accuracy: 0.500900\n"
     ]
    },
    {
     "name": "stderr",
     "output_type": "stream",
     "text": [
      "\r",
      " 14%|██████████████████▉                                                                                                                         | 27/200 [02:09<13:00,  4.51s/it]"
     ]
    },
    {
     "name": "stdout",
     "output_type": "stream",
     "text": [
      "Epoch: 26\tInterval Time: 4.4 sec(s)\tTraining Loss: 1.511166\t\tTraining Accuracy: 0.488450\n",
      "\t\t\t\t\t\tValidation Loss:1.495233\tValidation Accuracy: 0.501900\n"
     ]
    },
    {
     "name": "stderr",
     "output_type": "stream",
     "text": [
      "\r",
      " 14%|███████████████████▌                                                                                                                        | 28/200 [02:13<12:53,  4.50s/it]"
     ]
    },
    {
     "name": "stdout",
     "output_type": "stream",
     "text": [
      "Epoch: 27\tInterval Time: 4.5 sec(s)\tTraining Loss: 1.507048\t\tTraining Accuracy: 0.488125\n",
      "\t\t\t\t\t\tValidation Loss:1.490337\tValidation Accuracy: 0.505600\n"
     ]
    },
    {
     "name": "stderr",
     "output_type": "stream",
     "text": [
      "\r",
      " 14%|████████████████████▎                                                                                                                       | 29/200 [02:17<12:26,  4.37s/it]"
     ]
    },
    {
     "name": "stdout",
     "output_type": "stream",
     "text": [
      "Epoch: 28\tInterval Time: 4.1 sec(s)\tTraining Loss: 1.491485\t\tTraining Accuracy: 0.498225\n",
      "\t\t\t\t\t\tValidation Loss:1.486316\tValidation Accuracy: 0.505700\n"
     ]
    },
    {
     "name": "stderr",
     "output_type": "stream",
     "text": [
      "\r",
      " 15%|█████████████████████                                                                                                                       | 30/200 [02:21<12:05,  4.27s/it]"
     ]
    },
    {
     "name": "stdout",
     "output_type": "stream",
     "text": [
      "Epoch: 29\tInterval Time: 4.0 sec(s)\tTraining Loss: 1.484959\t\tTraining Accuracy: 0.499800\n",
      "\t\t\t\t\t\tValidation Loss:1.479605\tValidation Accuracy: 0.510900\n"
     ]
    },
    {
     "name": "stderr",
     "output_type": "stream",
     "text": [
      "\r",
      " 16%|█████████████████████▋                                                                                                                      | 31/200 [02:25<11:46,  4.18s/it]"
     ]
    },
    {
     "name": "stdout",
     "output_type": "stream",
     "text": [
      "Epoch: 30\tInterval Time: 4.0 sec(s)\tTraining Loss: 1.477771\t\tTraining Accuracy: 0.504300\n",
      "\t\t\t\t\t\tValidation Loss:1.472088\tValidation Accuracy: 0.514700\n"
     ]
    },
    {
     "name": "stderr",
     "output_type": "stream",
     "text": [
      "\r",
      " 16%|██████████████████████▍                                                                                                                     | 32/200 [02:30<12:00,  4.29s/it]"
     ]
    },
    {
     "name": "stdout",
     "output_type": "stream",
     "text": [
      "Epoch: 31\tInterval Time: 4.5 sec(s)\tTraining Loss: 1.473624\t\tTraining Accuracy: 0.506850\n",
      "\t\t\t\t\t\tValidation Loss:1.469891\tValidation Accuracy: 0.517100\n"
     ]
    },
    {
     "name": "stderr",
     "output_type": "stream",
     "text": [
      "\r",
      " 16%|███████████████████████                                                                                                                     | 33/200 [02:35<12:25,  4.46s/it]"
     ]
    },
    {
     "name": "stdout",
     "output_type": "stream",
     "text": [
      "Epoch: 32\tInterval Time: 4.9 sec(s)\tTraining Loss: 1.463155\t\tTraining Accuracy: 0.508750\n",
      "\t\t\t\t\t\tValidation Loss:1.460610\tValidation Accuracy: 0.518700\n"
     ]
    },
    {
     "name": "stderr",
     "output_type": "stream",
     "text": [
      "\r",
      " 17%|███████████████████████▊                                                                                                                    | 34/200 [02:39<11:52,  4.29s/it]"
     ]
    },
    {
     "name": "stdout",
     "output_type": "stream",
     "text": [
      "Epoch: 33\tInterval Time: 3.9 sec(s)\tTraining Loss: 1.453578\t\tTraining Accuracy: 0.515325\n",
      "\t\t\t\t\t\tValidation Loss:1.456359\tValidation Accuracy: 0.524200\n"
     ]
    },
    {
     "name": "stderr",
     "output_type": "stream",
     "text": [
      "\r",
      " 18%|████████████████████████▌                                                                                                                   | 35/200 [02:44<12:30,  4.55s/it]"
     ]
    },
    {
     "name": "stdout",
     "output_type": "stream",
     "text": [
      "Epoch: 34\tInterval Time: 5.1 sec(s)\tTraining Loss: 1.449251\t\tTraining Accuracy: 0.516675\n",
      "\t\t\t\t\t\tValidation Loss:1.449849\tValidation Accuracy: 0.523600\n"
     ]
    },
    {
     "name": "stderr",
     "output_type": "stream",
     "text": [
      "\r",
      " 18%|█████████████████████████▏                                                                                                                  | 36/200 [02:48<12:06,  4.43s/it]"
     ]
    },
    {
     "name": "stdout",
     "output_type": "stream",
     "text": [
      "Epoch: 35\tInterval Time: 4.2 sec(s)\tTraining Loss: 1.441904\t\tTraining Accuracy: 0.520200\n",
      "\t\t\t\t\t\tValidation Loss:1.446698\tValidation Accuracy: 0.524900\n"
     ]
    },
    {
     "name": "stderr",
     "output_type": "stream",
     "text": [
      "\r",
      " 18%|█████████████████████████▉                                                                                                                  | 37/200 [02:52<11:39,  4.29s/it]"
     ]
    },
    {
     "name": "stdout",
     "output_type": "stream",
     "text": [
      "Epoch: 36\tInterval Time: 4.0 sec(s)\tTraining Loss: 1.432987\t\tTraining Accuracy: 0.525300\n",
      "\t\t\t\t\t\tValidation Loss:1.442662\tValidation Accuracy: 0.528100\n"
     ]
    },
    {
     "name": "stderr",
     "output_type": "stream",
     "text": [
      "\r",
      " 19%|██████████████████████████▌                                                                                                                 | 38/200 [02:56<11:06,  4.12s/it]"
     ]
    },
    {
     "name": "stdout",
     "output_type": "stream",
     "text": [
      "Epoch: 37\tInterval Time: 3.7 sec(s)\tTraining Loss: 1.423831\t\tTraining Accuracy: 0.525900\n",
      "\t\t\t\t\t\tValidation Loss:1.436924\tValidation Accuracy: 0.528800\n"
     ]
    },
    {
     "name": "stderr",
     "output_type": "stream",
     "text": [
      "\r",
      " 20%|███████████████████████████▎                                                                                                                | 39/200 [03:00<11:01,  4.11s/it]"
     ]
    },
    {
     "name": "stdout",
     "output_type": "stream",
     "text": [
      "Epoch: 38\tInterval Time: 4.1 sec(s)\tTraining Loss: 1.416128\t\tTraining Accuracy: 0.530800\n",
      "\t\t\t\t\t\tValidation Loss:1.433508\tValidation Accuracy: 0.531300\n"
     ]
    },
    {
     "name": "stderr",
     "output_type": "stream",
     "text": [
      "\r",
      " 20%|████████████████████████████                                                                                                                | 40/200 [03:03<10:43,  4.02s/it]"
     ]
    },
    {
     "name": "stdout",
     "output_type": "stream",
     "text": [
      "Epoch: 39\tInterval Time: 3.8 sec(s)\tTraining Loss: 1.411593\t\tTraining Accuracy: 0.535600\n",
      "\t\t\t\t\t\tValidation Loss:1.429446\tValidation Accuracy: 0.535300\n"
     ]
    },
    {
     "name": "stderr",
     "output_type": "stream",
     "text": [
      "\r",
      " 20%|████████████████████████████▋                                                                                                               | 41/200 [03:07<10:33,  3.98s/it]"
     ]
    },
    {
     "name": "stdout",
     "output_type": "stream",
     "text": [
      "Epoch: 40\tInterval Time: 3.9 sec(s)\tTraining Loss: 1.407514\t\tTraining Accuracy: 0.536750\n",
      "\t\t\t\t\t\tValidation Loss:1.427725\tValidation Accuracy: 0.533000\n"
     ]
    },
    {
     "name": "stderr",
     "output_type": "stream",
     "text": [
      "\r",
      " 21%|█████████████████████████████▍                                                                                                              | 42/200 [03:11<10:32,  4.00s/it]"
     ]
    },
    {
     "name": "stdout",
     "output_type": "stream",
     "text": [
      "Epoch: 41\tInterval Time: 4.0 sec(s)\tTraining Loss: 1.397795\t\tTraining Accuracy: 0.537575\n",
      "\t\t\t\t\t\tValidation Loss:1.422703\tValidation Accuracy: 0.536500\n"
     ]
    },
    {
     "name": "stderr",
     "output_type": "stream",
     "text": [
      "\r",
      " 22%|██████████████████████████████                                                                                                              | 43/200 [03:15<10:31,  4.02s/it]"
     ]
    },
    {
     "name": "stdout",
     "output_type": "stream",
     "text": [
      "Epoch: 42\tInterval Time: 4.1 sec(s)\tTraining Loss: 1.392128\t\tTraining Accuracy: 0.541150\n",
      "\t\t\t\t\t\tValidation Loss:1.415634\tValidation Accuracy: 0.537500\n"
     ]
    },
    {
     "name": "stderr",
     "output_type": "stream",
     "text": [
      "\r",
      " 22%|██████████████████████████████▊                                                                                                             | 44/200 [03:20<10:38,  4.09s/it]"
     ]
    },
    {
     "name": "stdout",
     "output_type": "stream",
     "text": [
      "Epoch: 43\tInterval Time: 4.3 sec(s)\tTraining Loss: 1.387547\t\tTraining Accuracy: 0.544950\n",
      "\t\t\t\t\t\tValidation Loss:1.413807\tValidation Accuracy: 0.540400\n"
     ]
    },
    {
     "name": "stderr",
     "output_type": "stream",
     "text": [
      "\r",
      " 22%|███████████████████████████████▌                                                                                                            | 45/200 [03:24<10:34,  4.09s/it]"
     ]
    },
    {
     "name": "stdout",
     "output_type": "stream",
     "text": [
      "Epoch: 44\tInterval Time: 4.1 sec(s)\tTraining Loss: 1.376604\t\tTraining Accuracy: 0.550775\n",
      "\t\t\t\t\t\tValidation Loss:1.408286\tValidation Accuracy: 0.542700\n"
     ]
    },
    {
     "name": "stderr",
     "output_type": "stream",
     "text": [
      "\r",
      " 23%|████████████████████████████████▏                                                                                                           | 46/200 [03:28<10:24,  4.06s/it]"
     ]
    },
    {
     "name": "stdout",
     "output_type": "stream",
     "text": [
      "Epoch: 45\tInterval Time: 4.0 sec(s)\tTraining Loss: 1.371124\t\tTraining Accuracy: 0.553025\n",
      "\t\t\t\t\t\tValidation Loss:1.404147\tValidation Accuracy: 0.541500\n"
     ]
    },
    {
     "name": "stderr",
     "output_type": "stream",
     "text": [
      "\r",
      " 24%|████████████████████████████████▉                                                                                                           | 47/200 [03:32<10:17,  4.03s/it]"
     ]
    },
    {
     "name": "stdout",
     "output_type": "stream",
     "text": [
      "Epoch: 46\tInterval Time: 4.0 sec(s)\tTraining Loss: 1.370565\t\tTraining Accuracy: 0.553175\n",
      "\t\t\t\t\t\tValidation Loss:1.399661\tValidation Accuracy: 0.544700\n"
     ]
    },
    {
     "name": "stderr",
     "output_type": "stream",
     "text": [
      "\r",
      " 24%|█████████████████████████████████▌                                                                                                          | 48/200 [03:36<10:14,  4.04s/it]"
     ]
    },
    {
     "name": "stdout",
     "output_type": "stream",
     "text": [
      "Epoch: 47\tInterval Time: 4.1 sec(s)\tTraining Loss: 1.359817\t\tTraining Accuracy: 0.556450\n",
      "\t\t\t\t\t\tValidation Loss:1.397213\tValidation Accuracy: 0.548200\n"
     ]
    },
    {
     "name": "stderr",
     "output_type": "stream",
     "text": [
      "\r",
      " 24%|██████████████████████████████████▎                                                                                                         | 49/200 [03:40<10:13,  4.06s/it]"
     ]
    },
    {
     "name": "stdout",
     "output_type": "stream",
     "text": [
      "Epoch: 48\tInterval Time: 4.1 sec(s)\tTraining Loss: 1.351674\t\tTraining Accuracy: 0.559775\n",
      "\t\t\t\t\t\tValidation Loss:1.393049\tValidation Accuracy: 0.548400\n"
     ]
    },
    {
     "name": "stderr",
     "output_type": "stream",
     "text": [
      "\r",
      " 25%|███████████████████████████████████                                                                                                         | 50/200 [03:44<10:27,  4.18s/it]"
     ]
    },
    {
     "name": "stdout",
     "output_type": "stream",
     "text": [
      "Epoch: 49\tInterval Time: 4.5 sec(s)\tTraining Loss: 1.340532\t\tTraining Accuracy: 0.566750\n",
      "\t\t\t\t\t\tValidation Loss:1.391375\tValidation Accuracy: 0.550300\n"
     ]
    },
    {
     "name": "stderr",
     "output_type": "stream",
     "text": [
      "\r",
      " 26%|███████████████████████████████████▋                                                                                                        | 51/200 [03:49<10:57,  4.41s/it]"
     ]
    },
    {
     "name": "stdout",
     "output_type": "stream",
     "text": [
      "Epoch: 50\tInterval Time: 5.0 sec(s)\tTraining Loss: 1.337571\t\tTraining Accuracy: 0.571700\n",
      "\t\t\t\t\t\tValidation Loss:1.389218\tValidation Accuracy: 0.551100\n"
     ]
    },
    {
     "name": "stderr",
     "output_type": "stream",
     "text": [
      "\r",
      " 26%|████████████████████████████████████▍                                                                                                       | 52/200 [03:54<10:59,  4.46s/it]"
     ]
    },
    {
     "name": "stdout",
     "output_type": "stream",
     "text": [
      "Epoch: 51\tInterval Time: 4.6 sec(s)\tTraining Loss: 1.333997\t\tTraining Accuracy: 0.572400\n",
      "\t\t\t\t\t\tValidation Loss:1.384859\tValidation Accuracy: 0.554200\n"
     ]
    },
    {
     "name": "stderr",
     "output_type": "stream",
     "text": [
      "\r",
      " 26%|█████████████████████████████████████                                                                                                       | 53/200 [03:58<10:57,  4.47s/it]"
     ]
    },
    {
     "name": "stdout",
     "output_type": "stream",
     "text": [
      "Epoch: 52\tInterval Time: 4.5 sec(s)\tTraining Loss: 1.328366\t\tTraining Accuracy: 0.573425\n",
      "\t\t\t\t\t\tValidation Loss:1.381410\tValidation Accuracy: 0.555700\n"
     ]
    },
    {
     "name": "stderr",
     "output_type": "stream",
     "text": [
      "\r",
      " 27%|█████████████████████████████████████▊                                                                                                      | 54/200 [04:02<10:30,  4.32s/it]"
     ]
    },
    {
     "name": "stdout",
     "output_type": "stream",
     "text": [
      "Epoch: 53\tInterval Time: 4.0 sec(s)\tTraining Loss: 1.320407\t\tTraining Accuracy: 0.574675\n",
      "\t\t\t\t\t\tValidation Loss:1.377671\tValidation Accuracy: 0.555400\n"
     ]
    },
    {
     "name": "stderr",
     "output_type": "stream",
     "text": [
      "\r",
      " 28%|██████████████████████████████████████▌                                                                                                     | 55/200 [04:06<10:09,  4.21s/it]"
     ]
    },
    {
     "name": "stdout",
     "output_type": "stream",
     "text": [
      "Epoch: 54\tInterval Time: 3.9 sec(s)\tTraining Loss: 1.317550\t\tTraining Accuracy: 0.577475\n",
      "\t\t\t\t\t\tValidation Loss:1.375168\tValidation Accuracy: 0.556400\n"
     ]
    },
    {
     "name": "stderr",
     "output_type": "stream",
     "text": [
      "\r",
      " 28%|███████████████████████████████████████▏                                                                                                    | 56/200 [04:11<10:28,  4.37s/it]"
     ]
    },
    {
     "name": "stdout",
     "output_type": "stream",
     "text": [
      "Epoch: 55\tInterval Time: 4.7 sec(s)\tTraining Loss: 1.307321\t\tTraining Accuracy: 0.582375\n",
      "\t\t\t\t\t\tValidation Loss:1.374094\tValidation Accuracy: 0.556900\n"
     ]
    },
    {
     "name": "stderr",
     "output_type": "stream",
     "text": [
      "\r",
      " 28%|███████████████████████████████████████▏                                                                                                    | 56/200 [04:15<10:57,  4.57s/it]"
     ]
    },
    {
     "name": "stdout",
     "output_type": "stream",
     "text": [
      "Epoch: 56\tInterval Time: 4.2 sec(s)\tTraining Loss: 1.307810\t\tTraining Accuracy: 0.584250\n",
      "\t\t\t\t\t\tValidation Loss:1.372298\tValidation Accuracy: 0.556900\n",
      "\n",
      "\n",
      "Minimum percent change (1e-25%) in training loss not exceeded.\n",
      "\n",
      "Convergence criteria achieved.\n",
      "Training completed @ Epoch 56.\n",
      "Total training time: 4 min 15.8 s\n",
      "\n",
      "                Best model found @ Epoch 56\n",
      "                --------------------------------------------\n",
      "                Training Loss: 1.307810\n",
      "                Validation Loss: 1.372298\n",
      "                --------------------------------------------\n",
      "                Training Accuracy: 0.584250\n",
      "                Validation Accuracy: 0.556900\n",
      "\n",
      "\n",
      "Best model 'SGD_small_network' saved in 'model/' directory.\n"
     ]
    },
    {
     "name": "stderr",
     "output_type": "stream",
     "text": [
      "\n"
     ]
    },
    {
     "data": {
      "text/plain": [
       "{'tags': ['hide-output']}"
      ]
     },
     "execution_count": 12,
     "metadata": {},
     "output_type": "execute_result"
    }
   ],
   "source": [
    "PERCENT_CHANGE_IN_LOSS = 1e-25    # convergence criteria has been achieved when:\n",
    "CHECK_LAST_N_MODELS = 10            # (1) training loss is not reduced in next model by chosen N percentage change; OR\n",
    "BATCH_SIZE = 500                    # (2) if min val loss since last best model is not beat by any of the next M models\n",
    "MAX_EPOCHS = 200                  \n",
    "REPORTING_INTERVAL = 1\n",
    "\n",
    "stats = mlp.train_convergence(\n",
    "    train_set = train_set,\n",
    "    valid_set = valid_set,\n",
    "    batch_size = BATCH_SIZE,\n",
    "    planned_epochs = MAX_EPOCHS,\n",
    "    last_check = CHECK_LAST_N_MODELS,\n",
    "    threshold = PERCENT_CHANGE_IN_LOSS,\n",
    "    report_interval = REPORTING_INTERVAL\n",
    ")\n",
    "\n",
    "{\"tags\": [\"hide-output\"]}"
   ]
  },
  {
   "cell_type": "markdown",
   "id": "e19f58e2",
   "metadata": {},
   "source": [
    "### Plotting Epoch-wise Loss and Accuracy Curves"
   ]
  },
  {
   "cell_type": "code",
   "execution_count": 13,
   "id": "32577a6f",
   "metadata": {},
   "outputs": [
    {
     "data": {
      "text/plain": [
       "<Figure size 720x504 with 0 Axes>"
      ]
     },
     "metadata": {},
     "output_type": "display_data"
    },
    {
     "data": {
      "image/png": "[encoded data removed]",
      "text/plain": [
       "<Figure size 432x288 with 4 Axes>"
      ]
     },
     "metadata": {
      "needs_background": "light"
     },
     "output_type": "display_data"
    }
   ],
   "source": [
    "plot_results(stats)"
   ]
  },
  {
   "cell_type": "markdown",
   "id": "55546543",
   "metadata": {},
   "source": [
    "### Checking Accuracy of Best Model"
   ]
  },
  {
   "cell_type": "code",
   "execution_count": 14,
   "id": "0c074b86",
   "metadata": {},
   "outputs": [
    {
     "name": "stdout",
     "output_type": "stream",
     "text": [
      "-------------------------------------------\n",
      "Accuracy on train data: 71.05%\n",
      "Total Count:  40000\n",
      "Total Match:  28421\n",
      "-------------------------------------------\n",
      "Test Accuracy of\t0: 81.35% (3246/3990)\n",
      "Test Accuracy of\t1: 59.01% (2360/3999)\n",
      "Test Accuracy of\t2: 62.67% (2513/4010)\n",
      "Test Accuracy of\t3: 64.72% (2625/4056)\n",
      "Test Accuracy of\t4: 50.88% (2032/3994)\n",
      "Test Accuracy of\t5: 79.73% (3202/4016)\n",
      "Test Accuracy of\t6: 75.30% (2967/3940)\n",
      "Test Accuracy of\t7: 84.51% (3345/3958)\n",
      "Test Accuracy of\t8: 78.85% (3173/4024)\n",
      "Test Accuracy of\t9: 73.71% (2958/4013)\n",
      "-------------------------------------------\n",
      "Accuracy on valid data: 55.69%\n",
      "Total Count:  10000\n",
      "Total Match:  5569\n",
      "-------------------------------------------\n",
      "Test Accuracy of\t0: 63.76% (644/1010)\n",
      "Test Accuracy of\t1: 42.26% (423/1001)\n",
      "Test Accuracy of\t2: 43.74% (433/990)\n",
      "Test Accuracy of\t3: 46.61% (440/944)\n",
      "Test Accuracy of\t4: 38.67% (389/1006)\n",
      "Test Accuracy of\t5: 65.85% (648/984)\n",
      "Test Accuracy of\t6: 60.85% (645/1060)\n",
      "Test Accuracy of\t7: 71.02% (740/1042)\n",
      "Test Accuracy of\t8: 63.01% (615/976)\n",
      "Test Accuracy of\t9: 59.98% (592/987)\n",
      "-------------------------------------------\n",
      "Accuracy on test data: 55.05%\n",
      "Total Count:  10000\n",
      "Total Match:  5505\n",
      "-------------------------------------------\n",
      "Test Accuracy of\t0: 64.30% (643/1000)\n",
      "Test Accuracy of\t1: 40.60% (406/1000)\n",
      "Test Accuracy of\t2: 41.70% (417/1000)\n",
      "Test Accuracy of\t3: 46.50% (465/1000)\n",
      "Test Accuracy of\t4: 37.00% (370/1000)\n",
      "Test Accuracy of\t5: 67.40% (674/1000)\n",
      "Test Accuracy of\t6: 59.90% (599/1000)\n",
      "Test Accuracy of\t7: 69.30% (693/1000)\n",
      "Test Accuracy of\t8: 61.00% (610/1000)\n",
      "Test Accuracy of\t9: 62.80% (628/1000)\n"
     ]
    }
   ],
   "source": [
    "# Loading best model found:\n",
    "\n",
    "best_model = Net.load_model(\"model/\" + mlp.model_name)\n",
    "best_model.test_network(train_set, \"train data\")\n",
    "best_model.test_network(valid_set, \"valid data\")\n",
    "best_model.test_network(test_set, \"test data\")"
   ]
  },
  {
   "cell_type": "markdown",
   "id": "1c58de12",
   "metadata": {},
   "source": [
    "### Can We Do Better?"
   ]
  },
  {
   "cell_type": "markdown",
   "id": "54e228b1",
   "metadata": {},
   "source": [
    "Let's nudge training to see if we can obtain a better model in the next 50 epochs. Learning rate is also reset, this could allow us to get out of a local minima."
   ]
  },
  {
   "cell_type": "code",
   "execution_count": 15,
   "id": "e9a467c8",
   "metadata": {},
   "outputs": [
    {
     "name": "stderr",
     "output_type": "stream",
     "text": [
      "  2%|██▊                                                                                                                                           | 1/50 [00:04<03:51,  4.73s/it]"
     ]
    },
    {
     "name": "stdout",
     "output_type": "stream",
     "text": [
      "Epoch: 0\tInterval Time: 4.7 sec(s)\tTraining Loss: 1.314393\t\tTraining Accuracy: 0.579700\n",
      "\t\t\t\t\t\tValidation Loss:1.366914\tValidation Accuracy: 0.554900\n"
     ]
    },
    {
     "name": "stderr",
     "output_type": "stream",
     "text": [
      "\r",
      "  4%|█████▋                                                                                                                                        | 2/50 [00:09<03:50,  4.79s/it]"
     ]
    },
    {
     "name": "stdout",
     "output_type": "stream",
     "text": [
      "Epoch: 1\tInterval Time: 4.8 sec(s)\tTraining Loss: 1.303068\t\tTraining Accuracy: 0.584100\n",
      "\t\t\t\t\t\tValidation Loss:1.362914\tValidation Accuracy: 0.558500\n"
     ]
    },
    {
     "name": "stderr",
     "output_type": "stream",
     "text": [
      "\r",
      "  6%|████████▌                                                                                                                                     | 3/50 [00:14<03:40,  4.68s/it]"
     ]
    },
    {
     "name": "stdout",
     "output_type": "stream",
     "text": [
      "Epoch: 2\tInterval Time: 4.6 sec(s)\tTraining Loss: 1.295397\t\tTraining Accuracy: 0.588975\n",
      "\t\t\t\t\t\tValidation Loss:1.360183\tValidation Accuracy: 0.563100\n"
     ]
    },
    {
     "name": "stderr",
     "output_type": "stream",
     "text": [
      "\r",
      "  8%|███████████▎                                                                                                                                  | 4/50 [00:18<03:31,  4.59s/it]"
     ]
    },
    {
     "name": "stdout",
     "output_type": "stream",
     "text": [
      "Epoch: 3\tInterval Time: 4.4 sec(s)\tTraining Loss: 1.288078\t\tTraining Accuracy: 0.593125\n",
      "\t\t\t\t\t\tValidation Loss:1.354889\tValidation Accuracy: 0.561200\n"
     ]
    },
    {
     "name": "stderr",
     "output_type": "stream",
     "text": [
      "\r",
      " 10%|██████████████▏                                                                                                                               | 5/50 [00:23<03:28,  4.64s/it]"
     ]
    },
    {
     "name": "stdout",
     "output_type": "stream",
     "text": [
      "Epoch: 4\tInterval Time: 4.7 sec(s)\tTraining Loss: 1.276484\t\tTraining Accuracy: 0.596750\n",
      "\t\t\t\t\t\tValidation Loss:1.352451\tValidation Accuracy: 0.563500\n"
     ]
    },
    {
     "name": "stderr",
     "output_type": "stream",
     "text": [
      "\r",
      " 12%|█████████████████                                                                                                                             | 6/50 [00:27<03:22,  4.60s/it]"
     ]
    },
    {
     "name": "stdout",
     "output_type": "stream",
     "text": [
      "Epoch: 5\tInterval Time: 4.5 sec(s)\tTraining Loss: 1.264613\t\tTraining Accuracy: 0.602800\n",
      "\t\t\t\t\t\tValidation Loss:1.352463\tValidation Accuracy: 0.561500\n"
     ]
    },
    {
     "name": "stderr",
     "output_type": "stream",
     "text": [
      "\r",
      " 14%|███████████████████▉                                                                                                                          | 7/50 [00:32<03:22,  4.70s/it]"
     ]
    },
    {
     "name": "stdout",
     "output_type": "stream",
     "text": [
      "Epoch: 6\tInterval Time: 4.9 sec(s)\tTraining Loss: 1.254995\t\tTraining Accuracy: 0.604325\n",
      "\t\t\t\t\t\tValidation Loss:1.345418\tValidation Accuracy: 0.568900\n"
     ]
    },
    {
     "name": "stderr",
     "output_type": "stream",
     "text": [
      "\r",
      " 16%|██████████████████████▋                                                                                                                       | 8/50 [00:37<03:18,  4.74s/it]"
     ]
    },
    {
     "name": "stdout",
     "output_type": "stream",
     "text": [
      "Epoch: 7\tInterval Time: 4.8 sec(s)\tTraining Loss: 1.246535\t\tTraining Accuracy: 0.612825\n",
      "\t\t\t\t\t\tValidation Loss:1.342319\tValidation Accuracy: 0.564400\n"
     ]
    },
    {
     "name": "stderr",
     "output_type": "stream",
     "text": [
      "\r",
      " 18%|█████████████████████████▌                                                                                                                    | 9/50 [00:42<03:16,  4.78s/it]"
     ]
    },
    {
     "name": "stdout",
     "output_type": "stream",
     "text": [
      "Epoch: 8\tInterval Time: 4.9 sec(s)\tTraining Loss: 1.238021\t\tTraining Accuracy: 0.613875\n",
      "\t\t\t\t\t\tValidation Loss:1.343204\tValidation Accuracy: 0.566400\n"
     ]
    },
    {
     "name": "stderr",
     "output_type": "stream",
     "text": [
      "\r",
      " 20%|████████████████████████████▏                                                                                                                | 10/50 [00:46<03:07,  4.69s/it]"
     ]
    },
    {
     "name": "stdout",
     "output_type": "stream",
     "text": [
      "Epoch: 9\tInterval Time: 4.5 sec(s)\tTraining Loss: 1.231829\t\tTraining Accuracy: 0.615075\n",
      "\t\t\t\t\t\tValidation Loss:1.338682\tValidation Accuracy: 0.572500\n"
     ]
    },
    {
     "name": "stderr",
     "output_type": "stream",
     "text": [
      "\r",
      " 22%|███████████████████████████████                                                                                                              | 11/50 [00:51<03:03,  4.69s/it]"
     ]
    },
    {
     "name": "stdout",
     "output_type": "stream",
     "text": [
      "Epoch: 10\tInterval Time: 4.7 sec(s)\tTraining Loss: 1.222830\t\tTraining Accuracy: 0.624550\n",
      "\t\t\t\t\t\tValidation Loss:1.337060\tValidation Accuracy: 0.571000\n"
     ]
    },
    {
     "name": "stderr",
     "output_type": "stream",
     "text": [
      "\r",
      " 24%|█████████████████████████████████▊                                                                                                           | 12/50 [00:56<03:00,  4.74s/it]"
     ]
    },
    {
     "name": "stdout",
     "output_type": "stream",
     "text": [
      "Epoch: 11\tInterval Time: 4.9 sec(s)\tTraining Loss: 1.213105\t\tTraining Accuracy: 0.626875\n",
      "\t\t\t\t\t\tValidation Loss:1.336240\tValidation Accuracy: 0.571000\n"
     ]
    },
    {
     "name": "stderr",
     "output_type": "stream",
     "text": [
      "\r",
      " 26%|████████████████████████████████████▋                                                                                                        | 13/50 [01:01<02:54,  4.70s/it]"
     ]
    },
    {
     "name": "stdout",
     "output_type": "stream",
     "text": [
      "Epoch: 12\tInterval Time: 4.6 sec(s)\tTraining Loss: 1.207503\t\tTraining Accuracy: 0.627475\n",
      "\t\t\t\t\t\tValidation Loss:1.334724\tValidation Accuracy: 0.569700\n"
     ]
    },
    {
     "name": "stderr",
     "output_type": "stream",
     "text": [
      "\r",
      " 28%|███████████████████████████████████████▍                                                                                                     | 14/50 [01:05<02:48,  4.69s/it]"
     ]
    },
    {
     "name": "stdout",
     "output_type": "stream",
     "text": [
      "Epoch: 13\tInterval Time: 4.7 sec(s)\tTraining Loss: 1.202218\t\tTraining Accuracy: 0.632450\n",
      "\t\t\t\t\t\tValidation Loss:1.331286\tValidation Accuracy: 0.570000\n"
     ]
    },
    {
     "name": "stderr",
     "output_type": "stream",
     "text": [
      "\r",
      " 30%|██████████████████████████████████████████▎                                                                                                  | 15/50 [01:10<02:44,  4.70s/it]"
     ]
    },
    {
     "name": "stdout",
     "output_type": "stream",
     "text": [
      "Epoch: 14\tInterval Time: 4.7 sec(s)\tTraining Loss: 1.192885\t\tTraining Accuracy: 0.636825\n",
      "\t\t\t\t\t\tValidation Loss:1.337791\tValidation Accuracy: 0.572000\n"
     ]
    },
    {
     "name": "stderr",
     "output_type": "stream",
     "text": [
      "\r",
      " 32%|█████████████████████████████████████████████                                                                                                | 16/50 [01:14<02:37,  4.62s/it]"
     ]
    },
    {
     "name": "stdout",
     "output_type": "stream",
     "text": [
      "Epoch: 15\tInterval Time: 4.4 sec(s)\tTraining Loss: 1.190093\t\tTraining Accuracy: 0.636300\n",
      "\t\t\t\t\t\tValidation Loss:1.328410\tValidation Accuracy: 0.574200\n"
     ]
    },
    {
     "name": "stderr",
     "output_type": "stream",
     "text": [
      "\r",
      " 34%|███████████████████████████████████████████████▉                                                                                             | 17/50 [01:19<02:30,  4.56s/it]"
     ]
    },
    {
     "name": "stdout",
     "output_type": "stream",
     "text": [
      "Epoch: 16\tInterval Time: 4.4 sec(s)\tTraining Loss: 1.180209\t\tTraining Accuracy: 0.642650\n",
      "\t\t\t\t\t\tValidation Loss:1.324018\tValidation Accuracy: 0.572100\n"
     ]
    },
    {
     "name": "stderr",
     "output_type": "stream",
     "text": [
      "\r",
      " 36%|██████████████████████████████████████████████████▊                                                                                          | 18/50 [01:23<02:26,  4.58s/it]"
     ]
    },
    {
     "name": "stdout",
     "output_type": "stream",
     "text": [
      "Epoch: 17\tInterval Time: 4.6 sec(s)\tTraining Loss: 1.173458\t\tTraining Accuracy: 0.645875\n",
      "\t\t\t\t\t\tValidation Loss:1.323759\tValidation Accuracy: 0.573600\n"
     ]
    },
    {
     "name": "stderr",
     "output_type": "stream",
     "text": [
      "\r",
      " 38%|█████████████████████████████████████████████████████▌                                                                                       | 19/50 [01:28<02:25,  4.68s/it]"
     ]
    },
    {
     "name": "stdout",
     "output_type": "stream",
     "text": [
      "Epoch: 18\tInterval Time: 4.9 sec(s)\tTraining Loss: 1.166806\t\tTraining Accuracy: 0.647250\n",
      "\t\t\t\t\t\tValidation Loss:1.319485\tValidation Accuracy: 0.578500\n"
     ]
    },
    {
     "name": "stderr",
     "output_type": "stream",
     "text": [
      "\r",
      " 40%|████████████████████████████████████████████████████████▍                                                                                    | 20/50 [01:34<02:27,  4.90s/it]"
     ]
    },
    {
     "name": "stdout",
     "output_type": "stream",
     "text": [
      "Epoch: 19\tInterval Time: 5.4 sec(s)\tTraining Loss: 1.163479\t\tTraining Accuracy: 0.652275\n",
      "\t\t\t\t\t\tValidation Loss:1.322162\tValidation Accuracy: 0.576700\n"
     ]
    },
    {
     "name": "stderr",
     "output_type": "stream",
     "text": [
      "\r",
      " 42%|███████████████████████████████████████████████████████████▏                                                                                 | 21/50 [01:39<02:23,  4.94s/it]"
     ]
    },
    {
     "name": "stdout",
     "output_type": "stream",
     "text": [
      "Epoch: 20\tInterval Time: 5.0 sec(s)\tTraining Loss: 1.157084\t\tTraining Accuracy: 0.652575\n",
      "\t\t\t\t\t\tValidation Loss:1.327082\tValidation Accuracy: 0.576300\n"
     ]
    },
    {
     "name": "stderr",
     "output_type": "stream",
     "text": [
      "\r",
      " 44%|██████████████████████████████████████████████████████████████                                                                               | 22/50 [01:43<02:10,  4.68s/it]"
     ]
    },
    {
     "name": "stdout",
     "output_type": "stream",
     "text": [
      "Epoch: 21\tInterval Time: 4.1 sec(s)\tTraining Loss: 1.147245\t\tTraining Accuracy: 0.658525\n",
      "\t\t\t\t\t\tValidation Loss:1.327349\tValidation Accuracy: 0.576600\n"
     ]
    },
    {
     "name": "stderr",
     "output_type": "stream",
     "text": [
      "\r",
      " 46%|████████████████████████████████████████████████████████████████▊                                                                            | 23/50 [01:47<02:03,  4.57s/it]"
     ]
    },
    {
     "name": "stdout",
     "output_type": "stream",
     "text": [
      "Epoch: 22\tInterval Time: 4.3 sec(s)\tTraining Loss: 1.148296\t\tTraining Accuracy: 0.656800\n",
      "\t\t\t\t\t\tValidation Loss:1.320644\tValidation Accuracy: 0.579000\n"
     ]
    },
    {
     "name": "stderr",
     "output_type": "stream",
     "text": [
      "\r",
      " 48%|███████████████████████████████████████████████████████████████████▋                                                                         | 24/50 [01:52<01:57,  4.53s/it]"
     ]
    },
    {
     "name": "stdout",
     "output_type": "stream",
     "text": [
      "Epoch: 23\tInterval Time: 4.4 sec(s)\tTraining Loss: 1.142121\t\tTraining Accuracy: 0.660500\n",
      "\t\t\t\t\t\tValidation Loss:1.317897\tValidation Accuracy: 0.579900\n"
     ]
    },
    {
     "name": "stderr",
     "output_type": "stream",
     "text": [
      "\r",
      " 50%|██████████████████████████████████████████████████████████████████████▌                                                                      | 25/50 [01:56<01:53,  4.54s/it]"
     ]
    },
    {
     "name": "stdout",
     "output_type": "stream",
     "text": [
      "Epoch: 24\tInterval Time: 4.6 sec(s)\tTraining Loss: 1.128292\t\tTraining Accuracy: 0.666975\n",
      "\t\t\t\t\t\tValidation Loss:1.320514\tValidation Accuracy: 0.577000\n"
     ]
    },
    {
     "name": "stderr",
     "output_type": "stream",
     "text": [
      "\r",
      " 52%|█████████████████████████████████████████████████████████████████████████▎                                                                   | 26/50 [02:01<01:48,  4.53s/it]"
     ]
    },
    {
     "name": "stdout",
     "output_type": "stream",
     "text": [
      "Epoch: 25\tInterval Time: 4.5 sec(s)\tTraining Loss: 1.122812\t\tTraining Accuracy: 0.672250\n",
      "\t\t\t\t\t\tValidation Loss:1.319165\tValidation Accuracy: 0.577300\n"
     ]
    },
    {
     "name": "stderr",
     "output_type": "stream",
     "text": [
      "\r",
      " 54%|████████████████████████████████████████████████████████████████████████████▏                                                                | 27/50 [02:05<01:41,  4.42s/it]"
     ]
    },
    {
     "name": "stdout",
     "output_type": "stream",
     "text": [
      "Epoch: 26\tInterval Time: 4.2 sec(s)\tTraining Loss: 1.123022\t\tTraining Accuracy: 0.670450\n",
      "\t\t\t\t\t\tValidation Loss:1.318902\tValidation Accuracy: 0.577300\n"
     ]
    },
    {
     "name": "stderr",
     "output_type": "stream",
     "text": [
      "\r",
      " 56%|██████████████████████████████████████████████████████████████████████████████▉                                                              | 28/50 [02:09<01:35,  4.32s/it]"
     ]
    },
    {
     "name": "stdout",
     "output_type": "stream",
     "text": [
      "Epoch: 27\tInterval Time: 4.1 sec(s)\tTraining Loss: 1.114799\t\tTraining Accuracy: 0.673700\n",
      "\t\t\t\t\t\tValidation Loss:1.318202\tValidation Accuracy: 0.576800\n"
     ]
    },
    {
     "name": "stderr",
     "output_type": "stream",
     "text": [
      "\r",
      " 58%|█████████████████████████████████████████████████████████████████████████████████▊                                                           | 29/50 [02:13<01:29,  4.28s/it]"
     ]
    },
    {
     "name": "stdout",
     "output_type": "stream",
     "text": [
      "Epoch: 28\tInterval Time: 4.2 sec(s)\tTraining Loss: 1.110413\t\tTraining Accuracy: 0.678775\n",
      "\t\t\t\t\t\tValidation Loss:1.316670\tValidation Accuracy: 0.581300\n"
     ]
    },
    {
     "name": "stderr",
     "output_type": "stream",
     "text": [
      "\r",
      " 60%|████████████████████████████████████████████████████████████████████████████████████▌                                                        | 30/50 [02:17<01:24,  4.24s/it]"
     ]
    },
    {
     "name": "stdout",
     "output_type": "stream",
     "text": [
      "Epoch: 29\tInterval Time: 4.1 sec(s)\tTraining Loss: 1.109417\t\tTraining Accuracy: 0.677325\n",
      "\t\t\t\t\t\tValidation Loss:1.320719\tValidation Accuracy: 0.580300\n"
     ]
    },
    {
     "name": "stderr",
     "output_type": "stream",
     "text": [
      "\r",
      " 62%|███████████████████████████████████████████████████████████████████████████████████████▍                                                     | 31/50 [02:21<01:19,  4.21s/it]"
     ]
    },
    {
     "name": "stdout",
     "output_type": "stream",
     "text": [
      "Epoch: 30\tInterval Time: 4.1 sec(s)\tTraining Loss: 1.101532\t\tTraining Accuracy: 0.678725\n",
      "\t\t\t\t\t\tValidation Loss:1.322998\tValidation Accuracy: 0.579800\n"
     ]
    },
    {
     "name": "stderr",
     "output_type": "stream",
     "text": [
      "\r",
      " 64%|██████████████████████████████████████████████████████████████████████████████████████████▏                                                  | 32/50 [02:26<01:16,  4.26s/it]"
     ]
    },
    {
     "name": "stdout",
     "output_type": "stream",
     "text": [
      "Epoch: 31\tInterval Time: 4.4 sec(s)\tTraining Loss: 1.099102\t\tTraining Accuracy: 0.680725\n",
      "\t\t\t\t\t\tValidation Loss:1.322872\tValidation Accuracy: 0.572300\n"
     ]
    },
    {
     "name": "stderr",
     "output_type": "stream",
     "text": [
      "\r",
      " 66%|█████████████████████████████████████████████████████████████████████████████████████████████                                                | 33/50 [02:30<01:12,  4.24s/it]"
     ]
    },
    {
     "name": "stdout",
     "output_type": "stream",
     "text": [
      "Epoch: 32\tInterval Time: 4.2 sec(s)\tTraining Loss: 1.089719\t\tTraining Accuracy: 0.686725\n",
      "\t\t\t\t\t\tValidation Loss:1.322530\tValidation Accuracy: 0.574500\n"
     ]
    },
    {
     "name": "stderr",
     "output_type": "stream",
     "text": [
      "\r",
      " 68%|███████████████████████████████████████████████████████████████████████████████████████████████▉                                             | 34/50 [02:34<01:07,  4.20s/it]"
     ]
    },
    {
     "name": "stdout",
     "output_type": "stream",
     "text": [
      "Epoch: 33\tInterval Time: 4.1 sec(s)\tTraining Loss: 1.087793\t\tTraining Accuracy: 0.687850\n",
      "\t\t\t\t\t\tValidation Loss:1.323436\tValidation Accuracy: 0.577600\n"
     ]
    },
    {
     "name": "stderr",
     "output_type": "stream",
     "text": [
      "\r",
      " 70%|██████████████████████████████████████████████████████████████████████████████████████████████████▋                                          | 35/50 [02:38<01:03,  4.21s/it]"
     ]
    },
    {
     "name": "stdout",
     "output_type": "stream",
     "text": [
      "Epoch: 34\tInterval Time: 4.2 sec(s)\tTraining Loss: 1.085877\t\tTraining Accuracy: 0.688525\n",
      "\t\t\t\t\t\tValidation Loss:1.324395\tValidation Accuracy: 0.579400\n"
     ]
    },
    {
     "name": "stderr",
     "output_type": "stream",
     "text": [
      "\r",
      " 72%|█████████████████████████████████████████████████████████████████████████████████████████████████████▌                                       | 36/50 [02:43<00:59,  4.22s/it]"
     ]
    },
    {
     "name": "stdout",
     "output_type": "stream",
     "text": [
      "Epoch: 35\tInterval Time: 4.3 sec(s)\tTraining Loss: 1.084876\t\tTraining Accuracy: 0.689050\n",
      "\t\t\t\t\t\tValidation Loss:1.322563\tValidation Accuracy: 0.575900\n"
     ]
    },
    {
     "name": "stderr",
     "output_type": "stream",
     "text": [
      "\r",
      " 74%|████████████████████████████████████████████████████████████████████████████████████████████████████████▎                                    | 37/50 [02:47<00:55,  4.26s/it]"
     ]
    },
    {
     "name": "stdout",
     "output_type": "stream",
     "text": [
      "Epoch: 36\tInterval Time: 4.3 sec(s)\tTraining Loss: 1.083720\t\tTraining Accuracy: 0.689300\n",
      "\t\t\t\t\t\tValidation Loss:1.327165\tValidation Accuracy: 0.574300\n"
     ]
    },
    {
     "name": "stderr",
     "output_type": "stream",
     "text": [
      "\r",
      " 76%|███████████████████████████████████████████████████████████████████████████████████████████████████████████▏                                 | 38/50 [02:51<00:51,  4.25s/it]"
     ]
    },
    {
     "name": "stdout",
     "output_type": "stream",
     "text": [
      "Epoch: 37\tInterval Time: 4.2 sec(s)\tTraining Loss: 1.074748\t\tTraining Accuracy: 0.691875\n",
      "\t\t\t\t\t\tValidation Loss:1.325624\tValidation Accuracy: 0.572500\n"
     ]
    },
    {
     "name": "stderr",
     "output_type": "stream",
     "text": [
      "\r",
      " 78%|█████████████████████████████████████████████████████████████████████████████████████████████████████████████▉                               | 39/50 [02:55<00:46,  4.27s/it]"
     ]
    },
    {
     "name": "stdout",
     "output_type": "stream",
     "text": [
      "Epoch: 38\tInterval Time: 4.3 sec(s)\tTraining Loss: 1.072152\t\tTraining Accuracy: 0.696150\n",
      "\t\t\t\t\t\tValidation Loss:1.322189\tValidation Accuracy: 0.578300\n"
     ]
    },
    {
     "name": "stderr",
     "output_type": "stream",
     "text": [
      "\r",
      " 80%|████████████████████████████████████████████████████████████████████████████████████████████████████████████████▊                            | 40/50 [03:00<00:43,  4.31s/it]"
     ]
    },
    {
     "name": "stdout",
     "output_type": "stream",
     "text": [
      "Epoch: 39\tInterval Time: 4.4 sec(s)\tTraining Loss: 1.072068\t\tTraining Accuracy: 0.695275\n",
      "\t\t\t\t\t\tValidation Loss:1.323931\tValidation Accuracy: 0.571100\n"
     ]
    },
    {
     "name": "stderr",
     "output_type": "stream",
     "text": [
      "\r",
      " 82%|███████████████████████████████████████████████████████████████████████████████████████████████████████████████████▌                         | 41/50 [03:04<00:39,  4.33s/it]"
     ]
    },
    {
     "name": "stdout",
     "output_type": "stream",
     "text": [
      "Epoch: 40\tInterval Time: 4.4 sec(s)\tTraining Loss: 1.064133\t\tTraining Accuracy: 0.698550\n",
      "\t\t\t\t\t\tValidation Loss:1.327533\tValidation Accuracy: 0.577900\n"
     ]
    },
    {
     "name": "stderr",
     "output_type": "stream",
     "text": [
      "\r",
      " 84%|██████████████████████████████████████████████████████████████████████████████████████████████████████████████████████▍                      | 42/50 [03:08<00:34,  4.28s/it]"
     ]
    },
    {
     "name": "stdout",
     "output_type": "stream",
     "text": [
      "Epoch: 41\tInterval Time: 4.1 sec(s)\tTraining Loss: 1.060046\t\tTraining Accuracy: 0.701375\n",
      "\t\t\t\t\t\tValidation Loss:1.324816\tValidation Accuracy: 0.577800\n"
     ]
    },
    {
     "name": "stderr",
     "output_type": "stream",
     "text": [
      "\r",
      " 86%|█████████████████████████████████████████████████████████████████████████████████████████████████████████████████████████▎                   | 43/50 [03:12<00:29,  4.21s/it]"
     ]
    },
    {
     "name": "stdout",
     "output_type": "stream",
     "text": [
      "Epoch: 42\tInterval Time: 4.1 sec(s)\tTraining Loss: 1.055230\t\tTraining Accuracy: 0.703275\n",
      "\t\t\t\t\t\tValidation Loss:1.325399\tValidation Accuracy: 0.575000\n"
     ]
    },
    {
     "name": "stderr",
     "output_type": "stream",
     "text": [
      "\r",
      " 88%|████████████████████████████████████████████████████████████████████████████████████████████████████████████████████████████                 | 44/50 [03:16<00:24,  4.16s/it]"
     ]
    },
    {
     "name": "stdout",
     "output_type": "stream",
     "text": [
      "Epoch: 43\tInterval Time: 4.0 sec(s)\tTraining Loss: 1.056370\t\tTraining Accuracy: 0.702875\n",
      "\t\t\t\t\t\tValidation Loss:1.323535\tValidation Accuracy: 0.574900\n"
     ]
    },
    {
     "name": "stderr",
     "output_type": "stream",
     "text": [
      "\r",
      " 90%|██████████████████████████████████████████████████████████████████████████████████████████████████████████████████████████████▉              | 45/50 [03:21<00:20,  4.18s/it]"
     ]
    },
    {
     "name": "stdout",
     "output_type": "stream",
     "text": [
      "Epoch: 44\tInterval Time: 4.2 sec(s)\tTraining Loss: 1.052513\t\tTraining Accuracy: 0.702775\n",
      "\t\t\t\t\t\tValidation Loss:1.326126\tValidation Accuracy: 0.578700\n"
     ]
    },
    {
     "name": "stderr",
     "output_type": "stream",
     "text": [
      "\r",
      " 92%|█████████████████████████████████████████████████████████████████████████████████████████████████████████████████████████████████▋           | 46/50 [03:26<00:17,  4.36s/it]"
     ]
    },
    {
     "name": "stdout",
     "output_type": "stream",
     "text": [
      "Epoch: 45\tInterval Time: 4.8 sec(s)\tTraining Loss: 1.048587\t\tTraining Accuracy: 0.704750\n",
      "\t\t\t\t\t\tValidation Loss:1.328522\tValidation Accuracy: 0.574100\n"
     ]
    },
    {
     "name": "stderr",
     "output_type": "stream",
     "text": [
      "\r",
      " 94%|████████████████████████████████████████████████████████████████████████████████████████████████████████████████████████████████████▌        | 47/50 [03:30<00:13,  4.36s/it]"
     ]
    },
    {
     "name": "stdout",
     "output_type": "stream",
     "text": [
      "Epoch: 46\tInterval Time: 4.4 sec(s)\tTraining Loss: 1.045890\t\tTraining Accuracy: 0.708800\n",
      "\t\t\t\t\t\tValidation Loss:1.329104\tValidation Accuracy: 0.572600\n"
     ]
    },
    {
     "name": "stderr",
     "output_type": "stream",
     "text": [
      "\r",
      " 96%|███████████████████████████████████████████████████████████████████████████████████████████████████████████████████████████████████████▎     | 48/50 [03:35<00:08,  4.46s/it]"
     ]
    },
    {
     "name": "stdout",
     "output_type": "stream",
     "text": [
      "Epoch: 47\tInterval Time: 4.7 sec(s)\tTraining Loss: 1.048012\t\tTraining Accuracy: 0.709750\n",
      "\t\t\t\t\t\tValidation Loss:1.326579\tValidation Accuracy: 0.577100\n"
     ]
    },
    {
     "name": "stderr",
     "output_type": "stream",
     "text": [
      "\r",
      " 98%|██████████████████████████████████████████████████████████████████████████████████████████████████████████████████████████████████████████▏  | 49/50 [03:39<00:04,  4.40s/it]"
     ]
    },
    {
     "name": "stdout",
     "output_type": "stream",
     "text": [
      "Epoch: 48\tInterval Time: 4.3 sec(s)\tTraining Loss: 1.038189\t\tTraining Accuracy: 0.712750\n",
      "\t\t\t\t\t\tValidation Loss:1.327890\tValidation Accuracy: 0.571200\n"
     ]
    },
    {
     "name": "stderr",
     "output_type": "stream",
     "text": [
      "100%|█████████████████████████████████████████████████████████████████████████████████████████████████████████████████████████████████████████████| 50/50 [03:43<00:00,  4.47s/it]"
     ]
    },
    {
     "name": "stdout",
     "output_type": "stream",
     "text": [
      "Epoch: 49\tInterval Time: 4.1 sec(s)\tTraining Loss: 1.034330\t\tTraining Accuracy: 0.715225\n",
      "\t\t\t\t\t\tValidation Loss:1.327371\tValidation Accuracy: 0.572800\n",
      "\n",
      "\n",
      "Model has finished training after 49 epoch(s).\n",
      "\n",
      "\n",
      "Total training time: 3 min 43.5 s\n",
      "\n",
      "                Best model found @ Epoch 28\n",
      "                --------------------------------------------\n",
      "                Training Loss: 1.110413\n",
      "                Validation Loss: 1.316670\n",
      "                --------------------------------------------\n",
      "                Training Accuracy: 0.678775\n",
      "                Validation Accuracy: 0.581300\n",
      "\n",
      "\n",
      "Best model 'SGD_small_network_alt' saved in 'model/' directory.\n"
     ]
    },
    {
     "name": "stderr",
     "output_type": "stream",
     "text": [
      "\n"
     ]
    },
    {
     "data": {
      "text/plain": [
       "{'tags': ['hide-output']}"
      ]
     },
     "execution_count": 15,
     "metadata": {},
     "output_type": "execute_result"
    }
   ],
   "source": [
    "best_model.set_name(\"SGD_small_network_alt\")\n",
    "\n",
    "stats = best_model.train_network(\n",
    "    train_set = train_set,\n",
    "    valid_set = valid_set,\n",
    "    batch_size = 250,        # reduced batch size to vary any possible patterns learned\n",
    "    epochs = 50,\n",
    "    report_interval = 1\n",
    ")\n",
    "\n",
    "{\"tags\": [\"hide-output\"]}"
   ]
  },
  {
   "cell_type": "markdown",
   "id": "64230e2f",
   "metadata": {},
   "source": [
    "### Plotting Epoch-wise Loss and Accuracy Curves"
   ]
  },
  {
   "cell_type": "code",
   "execution_count": 16,
   "id": "c18cb9bb",
   "metadata": {},
   "outputs": [
    {
     "data": {
      "text/plain": [
       "<Figure size 720x504 with 0 Axes>"
      ]
     },
     "metadata": {},
     "output_type": "display_data"
    },
    {
     "data": {
      "image/png": "[encoded data removed]",
      "text/plain": [
       "<Figure size 432x288 with 4 Axes>"
      ]
     },
     "metadata": {
      "needs_background": "light"
     },
     "output_type": "display_data"
    }
   ],
   "source": [
    "plot_results(stats)"
   ]
  },
  {
   "cell_type": "markdown",
   "id": "d90ee1a1",
   "metadata": {},
   "source": [
    "### Let's see how our new model does"
   ]
  },
  {
   "cell_type": "code",
   "execution_count": 17,
   "id": "1a5a0bbb",
   "metadata": {},
   "outputs": [
    {
     "name": "stdout",
     "output_type": "stream",
     "text": [
      "-------------------------------------------\n",
      "Accuracy on train data: 87.55%\n",
      "Total Count:  40000\n",
      "Total Match:  35020\n",
      "-------------------------------------------\n",
      "Test Accuracy of\t0: 93.76% (3741/3990)\n",
      "Test Accuracy of\t1: 80.52% (3220/3999)\n",
      "Test Accuracy of\t2: 81.95% (3286/4010)\n",
      "Test Accuracy of\t3: 86.17% (3495/4056)\n",
      "Test Accuracy of\t4: 82.57% (3298/3994)\n",
      "Test Accuracy of\t5: 90.51% (3635/4016)\n",
      "Test Accuracy of\t6: 88.48% (3486/3940)\n",
      "Test Accuracy of\t7: 92.82% (3674/3958)\n",
      "Test Accuracy of\t8: 91.67% (3689/4024)\n",
      "Test Accuracy of\t9: 87.12% (3496/4013)\n",
      "-------------------------------------------\n",
      "Accuracy on valid data: 57.28%\n",
      "Total Count:  10000\n",
      "Total Match:  5728\n",
      "-------------------------------------------\n",
      "Test Accuracy of\t0: 69.11% (698/1010)\n",
      "Test Accuracy of\t1: 45.05% (451/1001)\n",
      "Test Accuracy of\t2: 42.12% (417/990)\n",
      "Test Accuracy of\t3: 46.82% (442/944)\n",
      "Test Accuracy of\t4: 47.32% (476/1006)\n",
      "Test Accuracy of\t5: 66.16% (651/984)\n",
      "Test Accuracy of\t6: 62.64% (664/1060)\n",
      "Test Accuracy of\t7: 68.52% (714/1042)\n",
      "Test Accuracy of\t8: 64.14% (626/976)\n",
      "Test Accuracy of\t9: 59.68% (589/987)\n",
      "-------------------------------------------\n",
      "Accuracy on test data: 56.60%\n",
      "Total Count:  10000\n",
      "Total Match:  5660\n",
      "-------------------------------------------\n",
      "Test Accuracy of\t0: 69.00% (690/1000)\n",
      "Test Accuracy of\t1: 43.30% (433/1000)\n",
      "Test Accuracy of\t2: 39.10% (391/1000)\n",
      "Test Accuracy of\t3: 48.30% (483/1000)\n",
      "Test Accuracy of\t4: 46.50% (465/1000)\n",
      "Test Accuracy of\t5: 66.20% (662/1000)\n",
      "Test Accuracy of\t6: 58.50% (585/1000)\n",
      "Test Accuracy of\t7: 71.00% (710/1000)\n",
      "Test Accuracy of\t8: 62.80% (628/1000)\n",
      "Test Accuracy of\t9: 61.30% (613/1000)\n"
     ]
    }
   ],
   "source": [
    "# Loading new best model found:\n",
    "\n",
    "new_model = Net.load_model(\"model/SGD_small_network_alt\")\n",
    "new_model.test_network(train_set, \"train data\")\n",
    "new_model.test_network(valid_set, \"valid data\")\n",
    "new_model.test_network(test_set, \"test data\")"
   ]
  },
  {
   "cell_type": "markdown",
   "id": "06864f2d",
   "metadata": {},
   "source": [
    "### Confusion Matrix Helper Function"
   ]
  },
  {
   "cell_type": "code",
   "execution_count": 18,
   "id": "ea7fde1e",
   "metadata": {},
   "outputs": [],
   "source": [
    "def confusion_matrix(pred, label):\n",
    "    x, y = len(np.unique(pred)), len(np.unique(label))\n",
    "    matrix = np.zeros((x, y))\n",
    "    for i in range(len(pred)):\n",
    "        m, n = pred[i], label[i]\n",
    "        matrix[m, n] += 1\n",
    "    return matrix"
   ]
  },
  {
   "cell_type": "code",
   "execution_count": 19,
   "id": "d13defc6",
   "metadata": {},
   "outputs": [
    {
     "data": {
      "image/png": "[encoded data removed]",
      "text/plain": [
       "<Figure size 720x504 with 2 Axes>"
      ]
     },
     "metadata": {
      "needs_background": "light"
     },
     "output_type": "display_data"
    }
   ],
   "source": [
    "# Plot the confusion matrix of training data\n",
    "pred = new_model.predict(train_set[0], train_set[1].shape[1])\n",
    "pred_train_labels = np.argmax(pred, axis=1)\n",
    "\n",
    "matrix = confusion_matrix(pred_train_labels, np.argmax(train_set[1], axis=1))\n",
    "matrix_df = pd.DataFrame(matrix, index = np.arange(10), columns = np.arange(10))\n",
    "\n",
    "pl.figure(figsize = (10,7))\n",
    "sns.heatmap(matrix, annot=True)\n",
    "pl.show()"
   ]
  },
  {
   "cell_type": "code",
   "execution_count": 20,
   "id": "5fbb4ec7",
   "metadata": {},
   "outputs": [
    {
     "data": {
      "image/png": "[encoded data removed]",
      "text/plain": [
       "<Figure size 720x504 with 2 Axes>"
      ]
     },
     "metadata": {
      "needs_background": "light"
     },
     "output_type": "display_data"
    }
   ],
   "source": [
    "# Plot the confusion matrix on test data\n",
    "pred = new_model.predict(test_set[0], test_set[1].shape[1])\n",
    "pred_test_labels = np.argmax(pred, axis=1)\n",
    "\n",
    "matrix = confusion_matrix(pred_test_labels, np.argmax(test_set[1], axis=1))\n",
    "matrix_df = pd.DataFrame(matrix, index = np.arange(10), columns = np.arange(10))\n",
    "\n",
    "pl.figure(figsize = (10,7))\n",
    "sns.heatmap(matrix, annot=True)\n",
    "pl.show()"
   ]
  },
  {
   "cell_type": "code",
   "execution_count": 21,
   "id": "b3e1c9b2",
   "metadata": {},
   "outputs": [
    {
     "name": "stdout",
     "output_type": "stream",
     "text": [
      "Predicted labels: (10000,) \n",
      " [3 8 8 ... 2 2 4]\n"
     ]
    }
   ],
   "source": [
    "print('Predicted labels:', pred_test_labels.shape, '\\n', pred_test_labels)"
   ]
  },
  {
   "cell_type": "markdown",
   "id": "721b274c",
   "metadata": {},
   "source": [
    "## Using Adam"
   ]
  },
  {
   "cell_type": "code",
   "execution_count": 22,
   "id": "831f7c58",
   "metadata": {},
   "outputs": [
    {
     "name": "stdout",
     "output_type": "stream",
     "text": [
      "Adam_network is initialized and ready to be trained.\n"
     ]
    }
   ],
   "source": [
    "OPTIMIZER = adam\n",
    "L2_REG_TERM = 0.001\n",
    "\n",
    "\n",
    "mlp = Net(\n",
    "    optimizer = OPTIMIZER,\n",
    "    criterion = CRITERION,\n",
    "    batch_norm = BATCH_NORM,\n",
    "    alpha = ALPHA_TERM,\n",
    "    L2_reg_term = L2_REG_TERM\n",
    ")\n",
    "\n",
    "mlp.add(Linear(128, 1024, dropout=0.4))\n",
    "mlp.add(ReLU())\n",
    "mlp.add(Linear(1024, 512, dropout=0.2))\n",
    "mlp.add(ReLU())\n",
    "mlp.add(Linear(512, 64, dropout=0.2))\n",
    "mlp.add(ReLU())\n",
    "mlp.add(Linear(64, 16, dropout=0.2))\n",
    "mlp.add(ReLU())\n",
    "mlp.add(Linear(16, 10))  \n",
    "\n",
    "\n",
    "mlp.set_name(\"Adam_network\")\n",
    "print(f\"{mlp.model_name} is initialized and ready to be trained.\")"
   ]
  },
  {
   "cell_type": "markdown",
   "id": "f438bc2c",
   "metadata": {},
   "source": [
    "### TRAINING TILL CONVERGENCE"
   ]
  },
  {
   "cell_type": "code",
   "execution_count": 23,
   "id": "e7c8bdec",
   "metadata": {},
   "outputs": [
    {
     "name": "stderr",
     "output_type": "stream",
     "text": [
      "  0%|▋                                                                                                                                            | 1/200 [00:07<25:20,  7.64s/it]"
     ]
    },
    {
     "name": "stdout",
     "output_type": "stream",
     "text": [
      "Epoch: 0\tInterval Time: 7.6 sec(s)\tTraining Loss: 2.218597\t\tTraining Accuracy: 0.212950\n",
      "\t\t\t\t\t\tValidation Loss:1.849428\tValidation Accuracy: 0.360000\n"
     ]
    },
    {
     "name": "stderr",
     "output_type": "stream",
     "text": [
      "\r",
      "  1%|█▍                                                                                                                                           | 2/200 [00:16<27:53,  8.45s/it]"
     ]
    },
    {
     "name": "stdout",
     "output_type": "stream",
     "text": [
      "Epoch: 1\tInterval Time: 9.0 sec(s)\tTraining Loss: 1.898859\t\tTraining Accuracy: 0.321025\n",
      "\t\t\t\t\t\tValidation Loss:1.725515\tValidation Accuracy: 0.413500\n"
     ]
    },
    {
     "name": "stderr",
     "output_type": "stream",
     "text": [
      "\r",
      "  2%|██                                                                                                                                           | 3/200 [00:25<28:29,  8.68s/it]"
     ]
    },
    {
     "name": "stdout",
     "output_type": "stream",
     "text": [
      "Epoch: 2\tInterval Time: 8.9 sec(s)\tTraining Loss: 1.790780\t\tTraining Accuracy: 0.367600\n",
      "\t\t\t\t\t\tValidation Loss:1.645876\tValidation Accuracy: 0.443200\n"
     ]
    },
    {
     "name": "stderr",
     "output_type": "stream",
     "text": [
      "\r",
      "  2%|██▊                                                                                                                                          | 4/200 [00:35<29:31,  9.04s/it]"
     ]
    },
    {
     "name": "stdout",
     "output_type": "stream",
     "text": [
      "Epoch: 3\tInterval Time: 9.6 sec(s)\tTraining Loss: 1.723556\t\tTraining Accuracy: 0.393925\n",
      "\t\t\t\t\t\tValidation Loss:1.596063\tValidation Accuracy: 0.461600\n"
     ]
    },
    {
     "name": "stderr",
     "output_type": "stream",
     "text": [
      "\r",
      "  2%|███▌                                                                                                                                         | 5/200 [00:44<29:40,  9.13s/it]"
     ]
    },
    {
     "name": "stdout",
     "output_type": "stream",
     "text": [
      "Epoch: 4\tInterval Time: 9.3 sec(s)\tTraining Loss: 1.666719\t\tTraining Accuracy: 0.421450\n",
      "\t\t\t\t\t\tValidation Loss:1.549560\tValidation Accuracy: 0.482100\n"
     ]
    },
    {
     "name": "stderr",
     "output_type": "stream",
     "text": [
      "\r",
      "  3%|████▏                                                                                                                                        | 6/200 [00:53<29:42,  9.19s/it]"
     ]
    },
    {
     "name": "stdout",
     "output_type": "stream",
     "text": [
      "Epoch: 5\tInterval Time: 9.3 sec(s)\tTraining Loss: 1.620108\t\tTraining Accuracy: 0.443275\n",
      "\t\t\t\t\t\tValidation Loss:1.514554\tValidation Accuracy: 0.496700\n"
     ]
    },
    {
     "name": "stderr",
     "output_type": "stream",
     "text": [
      "\r",
      "  4%|████▉                                                                                                                                        | 7/200 [01:01<28:28,  8.85s/it]"
     ]
    },
    {
     "name": "stdout",
     "output_type": "stream",
     "text": [
      "Epoch: 6\tInterval Time: 8.2 sec(s)\tTraining Loss: 1.585296\t\tTraining Accuracy: 0.457750\n",
      "\t\t\t\t\t\tValidation Loss:1.487219\tValidation Accuracy: 0.505200\n"
     ]
    },
    {
     "name": "stderr",
     "output_type": "stream",
     "text": [
      "\r",
      "  4%|█████▋                                                                                                                                       | 8/200 [01:09<27:21,  8.55s/it]"
     ]
    },
    {
     "name": "stdout",
     "output_type": "stream",
     "text": [
      "Epoch: 7\tInterval Time: 7.9 sec(s)\tTraining Loss: 1.549941\t\tTraining Accuracy: 0.474225\n",
      "\t\t\t\t\t\tValidation Loss:1.462279\tValidation Accuracy: 0.512600\n"
     ]
    },
    {
     "name": "stderr",
     "output_type": "stream",
     "text": [
      "\r",
      "  4%|██████▎                                                                                                                                      | 9/200 [01:17<26:46,  8.41s/it]"
     ]
    },
    {
     "name": "stdout",
     "output_type": "stream",
     "text": [
      "Epoch: 8\tInterval Time: 8.1 sec(s)\tTraining Loss: 1.516725\t\tTraining Accuracy: 0.489800\n",
      "\t\t\t\t\t\tValidation Loss:1.435422\tValidation Accuracy: 0.524800\n"
     ]
    },
    {
     "name": "stderr",
     "output_type": "stream",
     "text": [
      "\r",
      "  5%|███████                                                                                                                                     | 10/200 [01:25<25:58,  8.20s/it]"
     ]
    },
    {
     "name": "stdout",
     "output_type": "stream",
     "text": [
      "Epoch: 9\tInterval Time: 7.7 sec(s)\tTraining Loss: 1.487786\t\tTraining Accuracy: 0.501075\n",
      "\t\t\t\t\t\tValidation Loss:1.410394\tValidation Accuracy: 0.536600\n"
     ]
    },
    {
     "name": "stderr",
     "output_type": "stream",
     "text": [
      "\r",
      "  6%|███████▋                                                                                                                                    | 11/200 [01:33<25:02,  7.95s/it]"
     ]
    },
    {
     "name": "stdout",
     "output_type": "stream",
     "text": [
      "Epoch: 10\tInterval Time: 7.4 sec(s)\tTraining Loss: 1.465245\t\tTraining Accuracy: 0.511600\n",
      "\t\t\t\t\t\tValidation Loss:1.396555\tValidation Accuracy: 0.538200\n"
     ]
    },
    {
     "name": "stderr",
     "output_type": "stream",
     "text": [
      "\r",
      "  6%|████████▍                                                                                                                                   | 12/200 [01:40<24:05,  7.69s/it]"
     ]
    },
    {
     "name": "stdout",
     "output_type": "stream",
     "text": [
      "Epoch: 11\tInterval Time: 7.1 sec(s)\tTraining Loss: 1.437189\t\tTraining Accuracy: 0.528425\n",
      "\t\t\t\t\t\tValidation Loss:1.383098\tValidation Accuracy: 0.542600\n"
     ]
    },
    {
     "name": "stderr",
     "output_type": "stream",
     "text": [
      "\r",
      "  6%|█████████                                                                                                                                   | 13/200 [01:49<25:24,  8.15s/it]"
     ]
    },
    {
     "name": "stdout",
     "output_type": "stream",
     "text": [
      "Epoch: 12\tInterval Time: 9.2 sec(s)\tTraining Loss: 1.417336\t\tTraining Accuracy: 0.535875\n",
      "\t\t\t\t\t\tValidation Loss:1.375548\tValidation Accuracy: 0.545000\n"
     ]
    },
    {
     "name": "stderr",
     "output_type": "stream",
     "text": [
      "\r",
      "  7%|█████████▊                                                                                                                                  | 14/200 [01:59<27:07,  8.75s/it]"
     ]
    },
    {
     "name": "stdout",
     "output_type": "stream",
     "text": [
      "Epoch: 13\tInterval Time: 10.1 sec(s)\tTraining Loss: 1.397945\t\tTraining Accuracy: 0.545625\n",
      "\t\t\t\t\t\tValidation Loss:1.359696\tValidation Accuracy: 0.550200\n"
     ]
    },
    {
     "name": "stderr",
     "output_type": "stream",
     "text": [
      "\r",
      "  8%|██████████▌                                                                                                                                 | 15/200 [02:08<26:48,  8.69s/it]"
     ]
    },
    {
     "name": "stdout",
     "output_type": "stream",
     "text": [
      "Epoch: 14\tInterval Time: 8.6 sec(s)\tTraining Loss: 1.381004\t\tTraining Accuracy: 0.554275\n",
      "\t\t\t\t\t\tValidation Loss:1.343661\tValidation Accuracy: 0.563000\n"
     ]
    },
    {
     "name": "stderr",
     "output_type": "stream",
     "text": [
      "\r",
      "  8%|███████████▏                                                                                                                                | 16/200 [02:16<26:23,  8.61s/it]"
     ]
    },
    {
     "name": "stdout",
     "output_type": "stream",
     "text": [
      "Epoch: 15\tInterval Time: 8.4 sec(s)\tTraining Loss: 1.362463\t\tTraining Accuracy: 0.564500\n",
      "\t\t\t\t\t\tValidation Loss:1.334650\tValidation Accuracy: 0.561400\n"
     ]
    },
    {
     "name": "stderr",
     "output_type": "stream",
     "text": [
      "\r",
      "  8%|███████████▉                                                                                                                                | 17/200 [02:24<25:24,  8.33s/it]"
     ]
    },
    {
     "name": "stdout",
     "output_type": "stream",
     "text": [
      "Epoch: 16\tInterval Time: 7.7 sec(s)\tTraining Loss: 1.348569\t\tTraining Accuracy: 0.567350\n",
      "\t\t\t\t\t\tValidation Loss:1.340008\tValidation Accuracy: 0.563800\n"
     ]
    },
    {
     "name": "stderr",
     "output_type": "stream",
     "text": [
      "\r",
      "  9%|████████████▌                                                                                                                               | 18/200 [02:31<24:43,  8.15s/it]"
     ]
    },
    {
     "name": "stdout",
     "output_type": "stream",
     "text": [
      "Epoch: 17\tInterval Time: 7.7 sec(s)\tTraining Loss: 1.328949\t\tTraining Accuracy: 0.577975\n",
      "\t\t\t\t\t\tValidation Loss:1.330275\tValidation Accuracy: 0.572900\n"
     ]
    },
    {
     "name": "stderr",
     "output_type": "stream",
     "text": [
      "\r",
      " 10%|█████████████▎                                                                                                                              | 19/200 [02:39<24:26,  8.10s/it]"
     ]
    },
    {
     "name": "stdout",
     "output_type": "stream",
     "text": [
      "Epoch: 18\tInterval Time: 8.0 sec(s)\tTraining Loss: 1.317352\t\tTraining Accuracy: 0.582500\n",
      "\t\t\t\t\t\tValidation Loss:1.328118\tValidation Accuracy: 0.570600\n"
     ]
    },
    {
     "name": "stderr",
     "output_type": "stream",
     "text": [
      "\r",
      " 10%|██████████████                                                                                                                              | 20/200 [02:47<24:00,  8.00s/it]"
     ]
    },
    {
     "name": "stdout",
     "output_type": "stream",
     "text": [
      "Epoch: 19\tInterval Time: 7.8 sec(s)\tTraining Loss: 1.309885\t\tTraining Accuracy: 0.587300\n",
      "\t\t\t\t\t\tValidation Loss:1.318415\tValidation Accuracy: 0.573100\n"
     ]
    },
    {
     "name": "stderr",
     "output_type": "stream",
     "text": [
      "\r",
      " 10%|██████████████▋                                                                                                                             | 21/200 [02:57<25:11,  8.44s/it]"
     ]
    },
    {
     "name": "stdout",
     "output_type": "stream",
     "text": [
      "Epoch: 20\tInterval Time: 9.5 sec(s)\tTraining Loss: 1.298846\t\tTraining Accuracy: 0.590725\n",
      "\t\t\t\t\t\tValidation Loss:1.325853\tValidation Accuracy: 0.575000\n"
     ]
    },
    {
     "name": "stderr",
     "output_type": "stream",
     "text": [
      "\r",
      " 11%|███████████████▍                                                                                                                            | 22/200 [03:06<26:15,  8.85s/it]"
     ]
    },
    {
     "name": "stdout",
     "output_type": "stream",
     "text": [
      "Epoch: 21\tInterval Time: 9.8 sec(s)\tTraining Loss: 1.291386\t\tTraining Accuracy: 0.595900\n",
      "\t\t\t\t\t\tValidation Loss:1.318918\tValidation Accuracy: 0.574600\n"
     ]
    },
    {
     "name": "stderr",
     "output_type": "stream",
     "text": [
      "\r",
      " 12%|████████████████                                                                                                                            | 23/200 [03:17<27:40,  9.38s/it]"
     ]
    },
    {
     "name": "stdout",
     "output_type": "stream",
     "text": [
      "Epoch: 22\tInterval Time: 10.6 sec(s)\tTraining Loss: 1.274921\t\tTraining Accuracy: 0.603525\n",
      "\t\t\t\t\t\tValidation Loss:1.315317\tValidation Accuracy: 0.575700\n"
     ]
    },
    {
     "name": "stderr",
     "output_type": "stream",
     "text": [
      "\r",
      " 12%|████████████████▊                                                                                                                           | 24/200 [03:26<27:18,  9.31s/it]"
     ]
    },
    {
     "name": "stdout",
     "output_type": "stream",
     "text": [
      "Epoch: 23\tInterval Time: 9.1 sec(s)\tTraining Loss: 1.265693\t\tTraining Accuracy: 0.607075\n",
      "\t\t\t\t\t\tValidation Loss:1.314236\tValidation Accuracy: 0.577200\n"
     ]
    },
    {
     "name": "stderr",
     "output_type": "stream",
     "text": [
      "\r",
      " 12%|█████████████████▌                                                                                                                          | 25/200 [03:35<26:59,  9.26s/it]"
     ]
    },
    {
     "name": "stdout",
     "output_type": "stream",
     "text": [
      "Epoch: 24\tInterval Time: 9.1 sec(s)\tTraining Loss: 1.260094\t\tTraining Accuracy: 0.611700\n",
      "\t\t\t\t\t\tValidation Loss:1.307802\tValidation Accuracy: 0.574500\n"
     ]
    },
    {
     "name": "stderr",
     "output_type": "stream",
     "text": [
      "\r",
      " 13%|██████████████████▏                                                                                                                         | 26/200 [03:44<26:38,  9.19s/it]"
     ]
    },
    {
     "name": "stdout",
     "output_type": "stream",
     "text": [
      "Epoch: 25\tInterval Time: 9.0 sec(s)\tTraining Loss: 1.253498\t\tTraining Accuracy: 0.614675\n",
      "\t\t\t\t\t\tValidation Loss:1.304555\tValidation Accuracy: 0.582200\n"
     ]
    },
    {
     "name": "stderr",
     "output_type": "stream",
     "text": [
      "\r",
      " 14%|██████████████████▉                                                                                                                         | 27/200 [03:53<26:19,  9.13s/it]"
     ]
    },
    {
     "name": "stdout",
     "output_type": "stream",
     "text": [
      "Epoch: 26\tInterval Time: 9.0 sec(s)\tTraining Loss: 1.241081\t\tTraining Accuracy: 0.619625\n",
      "\t\t\t\t\t\tValidation Loss:1.308882\tValidation Accuracy: 0.576000\n"
     ]
    },
    {
     "name": "stderr",
     "output_type": "stream",
     "text": [
      "\r",
      " 14%|███████████████████▌                                                                                                                        | 28/200 [04:02<25:33,  8.91s/it]"
     ]
    },
    {
     "name": "stdout",
     "output_type": "stream",
     "text": [
      "Epoch: 27\tInterval Time: 8.4 sec(s)\tTraining Loss: 1.231893\t\tTraining Accuracy: 0.622550\n",
      "\t\t\t\t\t\tValidation Loss:1.297956\tValidation Accuracy: 0.583900\n"
     ]
    },
    {
     "name": "stderr",
     "output_type": "stream",
     "text": [
      "\r",
      " 14%|███████████████████▌                                                                                                                        | 28/200 [04:10<25:37,  8.94s/it]"
     ]
    },
    {
     "name": "stdout",
     "output_type": "stream",
     "text": [
      "Epoch: 28\tInterval Time: 8.0 sec(s)\tTraining Loss: 1.232389\t\tTraining Accuracy: 0.625575\n",
      "\t\t\t\t\t\tValidation Loss:1.301466\tValidation Accuracy: 0.581200\n",
      "\n",
      "\n",
      "Minimum percent change (1e-25%) in training loss not exceeded.\n",
      "\n",
      "Convergence criteria achieved.\n",
      "Training completed @ Epoch 28.\n",
      "Total training time: 4 min 10.2 s\n",
      "\n",
      "                Best model found @ Epoch 27\n",
      "                --------------------------------------------\n",
      "                Training Loss: 1.231893\n",
      "                Validation Loss: 1.297956\n",
      "                --------------------------------------------\n",
      "                Training Accuracy: 0.622550\n",
      "                Validation Accuracy: 0.583900\n",
      "\n",
      "\n",
      "Best model 'Adam_network' saved in 'model/' directory.\n"
     ]
    },
    {
     "name": "stderr",
     "output_type": "stream",
     "text": [
      "\n"
     ]
    },
    {
     "data": {
      "text/plain": [
       "{'tags': ['hide-output']}"
      ]
     },
     "execution_count": 23,
     "metadata": {},
     "output_type": "execute_result"
    }
   ],
   "source": [
    "stats = mlp.train_convergence(\n",
    "    train_set = train_set,\n",
    "    valid_set = valid_set,\n",
    "    batch_size = BATCH_SIZE,\n",
    "    planned_epochs = MAX_EPOCHS,\n",
    "    last_check = CHECK_LAST_N_MODELS,\n",
    "    threshold = PERCENT_CHANGE_IN_LOSS,\n",
    "    report_interval = REPORTING_INTERVAL\n",
    ")\n",
    "\n",
    "{\"tags\": [\"hide-output\"]}"
   ]
  },
  {
   "cell_type": "markdown",
   "id": "4cbcd928",
   "metadata": {},
   "source": [
    "### Plotting Epoch-wise Loss and Accuracy Curves"
   ]
  },
  {
   "cell_type": "code",
   "execution_count": 24,
   "id": "bcb54907",
   "metadata": {},
   "outputs": [
    {
     "data": {
      "text/plain": [
       "<Figure size 720x504 with 0 Axes>"
      ]
     },
     "metadata": {},
     "output_type": "display_data"
    },
    {
     "data": {
      "image/png": "[encoded data removed]",
      "text/plain": [
       "<Figure size 432x288 with 4 Axes>"
      ]
     },
     "metadata": {
      "needs_background": "light"
     },
     "output_type": "display_data"
    }
   ],
   "source": [
    "plot_results(stats)"
   ]
  },
  {
   "cell_type": "markdown",
   "id": "188c2fdb",
   "metadata": {},
   "source": [
    "### Checking Accuracy of Best Model Found"
   ]
  },
  {
   "cell_type": "code",
   "execution_count": 25,
   "id": "0d1d9d13",
   "metadata": {},
   "outputs": [
    {
     "name": "stdout",
     "output_type": "stream",
     "text": [
      "-------------------------------------------\n",
      "Accuracy on train data: 77.81%\n",
      "Total Count:  40000\n",
      "Total Match:  31123\n",
      "-------------------------------------------\n",
      "Test Accuracy of\t0: 87.24% (3481/3990)\n",
      "Test Accuracy of\t1: 70.62% (2824/3999)\n",
      "Test Accuracy of\t2: 60.87% (2441/4010)\n",
      "Test Accuracy of\t3: 74.65% (3028/4056)\n",
      "Test Accuracy of\t4: 57.01% (2277/3994)\n",
      "Test Accuracy of\t5: 86.83% (3487/4016)\n",
      "Test Accuracy of\t6: 84.59% (3333/3940)\n",
      "Test Accuracy of\t7: 90.80% (3594/3958)\n",
      "Test Accuracy of\t8: 84.42% (3397/4024)\n",
      "Test Accuracy of\t9: 81.26% (3261/4013)\n",
      "-------------------------------------------\n",
      "Accuracy on valid data: 58.39%\n",
      "Total Count:  10000\n",
      "Total Match:  5839\n",
      "-------------------------------------------\n",
      "Test Accuracy of\t0: 68.81% (695/1010)\n",
      "Test Accuracy of\t1: 48.15% (482/1001)\n",
      "Test Accuracy of\t2: 41.01% (406/990)\n",
      "Test Accuracy of\t3: 49.15% (464/944)\n",
      "Test Accuracy of\t4: 39.07% (393/1006)\n",
      "Test Accuracy of\t5: 70.43% (693/984)\n",
      "Test Accuracy of\t6: 65.47% (694/1060)\n",
      "Test Accuracy of\t7: 73.22% (763/1042)\n",
      "Test Accuracy of\t8: 66.50% (649/976)\n",
      "Test Accuracy of\t9: 60.79% (600/987)\n",
      "-------------------------------------------\n",
      "Accuracy on test data: 57.45%\n",
      "Total Count:  10000\n",
      "Total Match:  5745\n",
      "-------------------------------------------\n",
      "Test Accuracy of\t0: 68.30% (683/1000)\n",
      "Test Accuracy of\t1: 46.00% (460/1000)\n",
      "Test Accuracy of\t2: 38.40% (384/1000)\n",
      "Test Accuracy of\t3: 49.50% (495/1000)\n",
      "Test Accuracy of\t4: 38.20% (382/1000)\n",
      "Test Accuracy of\t5: 71.50% (715/1000)\n",
      "Test Accuracy of\t6: 66.10% (661/1000)\n",
      "Test Accuracy of\t7: 72.10% (721/1000)\n",
      "Test Accuracy of\t8: 61.60% (616/1000)\n",
      "Test Accuracy of\t9: 62.80% (628/1000)\n"
     ]
    }
   ],
   "source": [
    "# Loading best model found:\n",
    "\n",
    "best_model = Net.load_model(\"model/\" + mlp.model_name)\n",
    "best_model.test_network(train_set, \"train data\")\n",
    "best_model.test_network(valid_set, \"valid data\")\n",
    "best_model.test_network(test_set, \"test data\")"
   ]
  },
  {
   "cell_type": "markdown",
   "id": "e39dd009",
   "metadata": {},
   "source": [
    "### Can we do better?"
   ]
  },
  {
   "cell_type": "code",
   "execution_count": 26,
   "id": "e63190e0",
   "metadata": {},
   "outputs": [
    {
     "name": "stderr",
     "output_type": "stream",
     "text": [
      "  2%|██▊                                                                                                                                           | 1/50 [00:09<07:30,  9.20s/it]"
     ]
    },
    {
     "name": "stdout",
     "output_type": "stream",
     "text": [
      "Epoch: 0\tInterval Time: 9.2 sec(s)\tTraining Loss: 1.219927\t\tTraining Accuracy: 0.629925\n",
      "\t\t\t\t\t\tValidation Loss:1.295938\tValidation Accuracy: 0.584300\n"
     ]
    },
    {
     "name": "stderr",
     "output_type": "stream",
     "text": [
      "\r",
      "  4%|█████▋                                                                                                                                        | 2/50 [00:19<07:48,  9.77s/it]"
     ]
    },
    {
     "name": "stdout",
     "output_type": "stream",
     "text": [
      "Epoch: 1\tInterval Time: 10.2 sec(s)\tTraining Loss: 1.228730\t\tTraining Accuracy: 0.625100\n",
      "\t\t\t\t\t\tValidation Loss:1.295670\tValidation Accuracy: 0.586900\n"
     ]
    },
    {
     "name": "stderr",
     "output_type": "stream",
     "text": [
      "\r",
      "  6%|████████▌                                                                                                                                     | 3/50 [00:31<08:22, 10.70s/it]"
     ]
    },
    {
     "name": "stdout",
     "output_type": "stream",
     "text": [
      "Epoch: 2\tInterval Time: 11.8 sec(s)\tTraining Loss: 1.234295\t\tTraining Accuracy: 0.624425\n",
      "\t\t\t\t\t\tValidation Loss:1.294372\tValidation Accuracy: 0.584500\n"
     ]
    },
    {
     "name": "stderr",
     "output_type": "stream",
     "text": [
      "\r",
      "  8%|███████████▎                                                                                                                                  | 4/50 [00:42<08:29, 11.08s/it]"
     ]
    },
    {
     "name": "stdout",
     "output_type": "stream",
     "text": [
      "Epoch: 3\tInterval Time: 11.7 sec(s)\tTraining Loss: 1.223897\t\tTraining Accuracy: 0.628875\n",
      "\t\t\t\t\t\tValidation Loss:1.301520\tValidation Accuracy: 0.585000\n"
     ]
    },
    {
     "name": "stderr",
     "output_type": "stream",
     "text": [
      "\r",
      " 10%|██████████████▏                                                                                                                               | 5/50 [00:52<07:48, 10.42s/it]"
     ]
    },
    {
     "name": "stdout",
     "output_type": "stream",
     "text": [
      "Epoch: 4\tInterval Time: 9.2 sec(s)\tTraining Loss: 1.223075\t\tTraining Accuracy: 0.628275\n",
      "\t\t\t\t\t\tValidation Loss:1.300627\tValidation Accuracy: 0.579200\n"
     ]
    },
    {
     "name": "stderr",
     "output_type": "stream",
     "text": [
      "\r",
      " 12%|█████████████████                                                                                                                             | 6/50 [01:01<07:20, 10.02s/it]"
     ]
    },
    {
     "name": "stdout",
     "output_type": "stream",
     "text": [
      "Epoch: 5\tInterval Time: 9.2 sec(s)\tTraining Loss: 1.225208\t\tTraining Accuracy: 0.628950\n",
      "\t\t\t\t\t\tValidation Loss:1.297669\tValidation Accuracy: 0.582700\n"
     ]
    },
    {
     "name": "stderr",
     "output_type": "stream",
     "text": [
      "\r",
      " 14%|███████████████████▉                                                                                                                          | 7/50 [01:12<07:20, 10.23s/it]"
     ]
    },
    {
     "name": "stdout",
     "output_type": "stream",
     "text": [
      "Epoch: 6\tInterval Time: 10.7 sec(s)\tTraining Loss: 1.217444\t\tTraining Accuracy: 0.632300\n",
      "\t\t\t\t\t\tValidation Loss:1.294964\tValidation Accuracy: 0.586500\n"
     ]
    },
    {
     "name": "stderr",
     "output_type": "stream",
     "text": [
      "\r",
      " 16%|██████████████████████▋                                                                                                                       | 8/50 [01:20<06:53,  9.84s/it]"
     ]
    },
    {
     "name": "stdout",
     "output_type": "stream",
     "text": [
      "Epoch: 7\tInterval Time: 9.0 sec(s)\tTraining Loss: 1.211423\t\tTraining Accuracy: 0.635275\n",
      "\t\t\t\t\t\tValidation Loss:1.303318\tValidation Accuracy: 0.581100\n"
     ]
    },
    {
     "name": "stderr",
     "output_type": "stream",
     "text": [
      "\r",
      " 18%|█████████████████████████▌                                                                                                                    | 9/50 [01:30<06:33,  9.60s/it]"
     ]
    },
    {
     "name": "stdout",
     "output_type": "stream",
     "text": [
      "Epoch: 8\tInterval Time: 9.1 sec(s)\tTraining Loss: 1.214701\t\tTraining Accuracy: 0.631850\n",
      "\t\t\t\t\t\tValidation Loss:1.300100\tValidation Accuracy: 0.584900\n"
     ]
    },
    {
     "name": "stderr",
     "output_type": "stream",
     "text": [
      "\r",
      " 20%|████████████████████████████▏                                                                                                                | 10/50 [01:38<06:11,  9.30s/it]"
     ]
    },
    {
     "name": "stdout",
     "output_type": "stream",
     "text": [
      "Epoch: 9\tInterval Time: 8.6 sec(s)\tTraining Loss: 1.207935\t\tTraining Accuracy: 0.636750\n",
      "\t\t\t\t\t\tValidation Loss:1.301021\tValidation Accuracy: 0.586800\n"
     ]
    },
    {
     "name": "stderr",
     "output_type": "stream",
     "text": [
      "\r",
      " 22%|███████████████████████████████                                                                                                              | 11/50 [01:47<05:53,  9.06s/it]"
     ]
    },
    {
     "name": "stdout",
     "output_type": "stream",
     "text": [
      "Epoch: 10\tInterval Time: 8.5 sec(s)\tTraining Loss: 1.201156\t\tTraining Accuracy: 0.642475\n",
      "\t\t\t\t\t\tValidation Loss:1.298041\tValidation Accuracy: 0.584400\n"
     ]
    },
    {
     "name": "stderr",
     "output_type": "stream",
     "text": [
      "\r",
      " 24%|█████████████████████████████████▊                                                                                                           | 12/50 [01:56<05:49,  9.20s/it]"
     ]
    },
    {
     "name": "stdout",
     "output_type": "stream",
     "text": [
      "Epoch: 11\tInterval Time: 9.5 sec(s)\tTraining Loss: 1.192555\t\tTraining Accuracy: 0.647325\n",
      "\t\t\t\t\t\tValidation Loss:1.294550\tValidation Accuracy: 0.588100\n"
     ]
    },
    {
     "name": "stderr",
     "output_type": "stream",
     "text": [
      "\r",
      " 26%|████████████████████████████████████▋                                                                                                        | 13/50 [02:05<05:36,  9.08s/it]"
     ]
    },
    {
     "name": "stdout",
     "output_type": "stream",
     "text": [
      "Epoch: 12\tInterval Time: 8.8 sec(s)\tTraining Loss: 1.189482\t\tTraining Accuracy: 0.647175\n",
      "\t\t\t\t\t\tValidation Loss:1.293171\tValidation Accuracy: 0.589200\n"
     ]
    },
    {
     "name": "stderr",
     "output_type": "stream",
     "text": [
      "\r",
      " 28%|███████████████████████████████████████▍                                                                                                     | 14/50 [02:14<05:27,  9.10s/it]"
     ]
    },
    {
     "name": "stdout",
     "output_type": "stream",
     "text": [
      "Epoch: 13\tInterval Time: 9.2 sec(s)\tTraining Loss: 1.188769\t\tTraining Accuracy: 0.647650\n",
      "\t\t\t\t\t\tValidation Loss:1.292006\tValidation Accuracy: 0.585800\n"
     ]
    },
    {
     "name": "stderr",
     "output_type": "stream",
     "text": [
      "\r",
      " 30%|██████████████████████████████████████████▎                                                                                                  | 15/50 [02:23<05:16,  9.06s/it]"
     ]
    },
    {
     "name": "stdout",
     "output_type": "stream",
     "text": [
      "Epoch: 14\tInterval Time: 8.9 sec(s)\tTraining Loss: 1.184501\t\tTraining Accuracy: 0.647575\n",
      "\t\t\t\t\t\tValidation Loss:1.289496\tValidation Accuracy: 0.588900\n"
     ]
    },
    {
     "name": "stderr",
     "output_type": "stream",
     "text": [
      "\r",
      " 32%|█████████████████████████████████████████████                                                                                                | 16/50 [02:32<05:04,  8.94s/it]"
     ]
    },
    {
     "name": "stdout",
     "output_type": "stream",
     "text": [
      "Epoch: 15\tInterval Time: 8.7 sec(s)\tTraining Loss: 1.176994\t\tTraining Accuracy: 0.652850\n",
      "\t\t\t\t\t\tValidation Loss:1.288594\tValidation Accuracy: 0.586900\n"
     ]
    },
    {
     "name": "stderr",
     "output_type": "stream",
     "text": [
      "\r",
      " 34%|███████████████████████████████████████████████▉                                                                                             | 17/50 [02:41<04:55,  8.95s/it]"
     ]
    },
    {
     "name": "stdout",
     "output_type": "stream",
     "text": [
      "Epoch: 16\tInterval Time: 9.0 sec(s)\tTraining Loss: 1.177092\t\tTraining Accuracy: 0.654825\n",
      "\t\t\t\t\t\tValidation Loss:1.293384\tValidation Accuracy: 0.587800\n"
     ]
    },
    {
     "name": "stderr",
     "output_type": "stream",
     "text": [
      "\r",
      " 36%|██████████████████████████████████████████████████▊                                                                                          | 18/50 [02:50<04:45,  8.93s/it]"
     ]
    },
    {
     "name": "stdout",
     "output_type": "stream",
     "text": [
      "Epoch: 17\tInterval Time: 8.9 sec(s)\tTraining Loss: 1.171295\t\tTraining Accuracy: 0.656850\n",
      "\t\t\t\t\t\tValidation Loss:1.292963\tValidation Accuracy: 0.586200\n"
     ]
    },
    {
     "name": "stderr",
     "output_type": "stream",
     "text": [
      "\r",
      " 38%|█████████████████████████████████████████████████████▌                                                                                       | 19/50 [02:58<04:34,  8.86s/it]"
     ]
    },
    {
     "name": "stdout",
     "output_type": "stream",
     "text": [
      "Epoch: 18\tInterval Time: 8.7 sec(s)\tTraining Loss: 1.163647\t\tTraining Accuracy: 0.661000\n",
      "\t\t\t\t\t\tValidation Loss:1.290663\tValidation Accuracy: 0.589100\n"
     ]
    },
    {
     "name": "stderr",
     "output_type": "stream",
     "text": [
      "\r",
      " 40%|████████████████████████████████████████████████████████▍                                                                                    | 20/50 [03:07<04:25,  8.84s/it]"
     ]
    },
    {
     "name": "stdout",
     "output_type": "stream",
     "text": [
      "Epoch: 19\tInterval Time: 8.8 sec(s)\tTraining Loss: 1.157254\t\tTraining Accuracy: 0.661900\n",
      "\t\t\t\t\t\tValidation Loss:1.289855\tValidation Accuracy: 0.589200\n"
     ]
    },
    {
     "name": "stderr",
     "output_type": "stream",
     "text": [
      "\r",
      " 42%|███████████████████████████████████████████████████████████▏                                                                                 | 21/50 [03:16<04:13,  8.75s/it]"
     ]
    },
    {
     "name": "stdout",
     "output_type": "stream",
     "text": [
      "Epoch: 20\tInterval Time: 8.6 sec(s)\tTraining Loss: 1.157312\t\tTraining Accuracy: 0.661575\n",
      "\t\t\t\t\t\tValidation Loss:1.292515\tValidation Accuracy: 0.586900\n"
     ]
    },
    {
     "name": "stderr",
     "output_type": "stream",
     "text": [
      "\r",
      " 44%|██████████████████████████████████████████████████████████████                                                                               | 22/50 [03:24<04:02,  8.67s/it]"
     ]
    },
    {
     "name": "stdout",
     "output_type": "stream",
     "text": [
      "Epoch: 21\tInterval Time: 8.5 sec(s)\tTraining Loss: 1.153227\t\tTraining Accuracy: 0.664950\n",
      "\t\t\t\t\t\tValidation Loss:1.289211\tValidation Accuracy: 0.588900\n"
     ]
    },
    {
     "name": "stderr",
     "output_type": "stream",
     "text": [
      "\r",
      " 46%|████████████████████████████████████████████████████████████████▊                                                                            | 23/50 [03:33<03:53,  8.64s/it]"
     ]
    },
    {
     "name": "stdout",
     "output_type": "stream",
     "text": [
      "Epoch: 22\tInterval Time: 8.6 sec(s)\tTraining Loss: 1.150218\t\tTraining Accuracy: 0.667350\n",
      "\t\t\t\t\t\tValidation Loss:1.291828\tValidation Accuracy: 0.589400\n"
     ]
    },
    {
     "name": "stderr",
     "output_type": "stream",
     "text": [
      "\r",
      " 48%|███████████████████████████████████████████████████████████████████▋                                                                         | 24/50 [03:42<03:46,  8.70s/it]"
     ]
    },
    {
     "name": "stdout",
     "output_type": "stream",
     "text": [
      "Epoch: 23\tInterval Time: 8.8 sec(s)\tTraining Loss: 1.148434\t\tTraining Accuracy: 0.667450\n",
      "\t\t\t\t\t\tValidation Loss:1.288030\tValidation Accuracy: 0.591500\n"
     ]
    },
    {
     "name": "stderr",
     "output_type": "stream",
     "text": [
      "\r",
      " 50%|██████████████████████████████████████████████████████████████████████▌                                                                      | 25/50 [03:51<03:38,  8.76s/it]"
     ]
    },
    {
     "name": "stdout",
     "output_type": "stream",
     "text": [
      "Epoch: 24\tInterval Time: 8.9 sec(s)\tTraining Loss: 1.145559\t\tTraining Accuracy: 0.667800\n",
      "\t\t\t\t\t\tValidation Loss:1.284711\tValidation Accuracy: 0.590800\n"
     ]
    },
    {
     "name": "stderr",
     "output_type": "stream",
     "text": [
      "\r",
      " 52%|█████████████████████████████████████████████████████████████████████████▎                                                                   | 26/50 [03:59<03:30,  8.75s/it]"
     ]
    },
    {
     "name": "stdout",
     "output_type": "stream",
     "text": [
      "Epoch: 25\tInterval Time: 8.8 sec(s)\tTraining Loss: 1.139929\t\tTraining Accuracy: 0.670175\n",
      "\t\t\t\t\t\tValidation Loss:1.295622\tValidation Accuracy: 0.582500\n"
     ]
    },
    {
     "name": "stderr",
     "output_type": "stream",
     "text": [
      "\r",
      " 54%|████████████████████████████████████████████████████████████████████████████▏                                                                | 27/50 [04:08<03:21,  8.75s/it]"
     ]
    },
    {
     "name": "stdout",
     "output_type": "stream",
     "text": [
      "Epoch: 26\tInterval Time: 8.7 sec(s)\tTraining Loss: 1.137738\t\tTraining Accuracy: 0.674275\n",
      "\t\t\t\t\t\tValidation Loss:1.289808\tValidation Accuracy: 0.587200\n"
     ]
    },
    {
     "name": "stderr",
     "output_type": "stream",
     "text": [
      "\r",
      " 56%|██████████████████████████████████████████████████████████████████████████████▉                                                              | 28/50 [04:17<03:11,  8.69s/it]"
     ]
    },
    {
     "name": "stdout",
     "output_type": "stream",
     "text": [
      "Epoch: 27\tInterval Time: 8.5 sec(s)\tTraining Loss: 1.133378\t\tTraining Accuracy: 0.675900\n",
      "\t\t\t\t\t\tValidation Loss:1.285950\tValidation Accuracy: 0.591900\n"
     ]
    },
    {
     "name": "stderr",
     "output_type": "stream",
     "text": [
      "\r",
      " 58%|█████████████████████████████████████████████████████████████████████████████████▊                                                           | 29/50 [04:25<03:02,  8.67s/it]"
     ]
    },
    {
     "name": "stdout",
     "output_type": "stream",
     "text": [
      "Epoch: 28\tInterval Time: 8.6 sec(s)\tTraining Loss: 1.127058\t\tTraining Accuracy: 0.677950\n",
      "\t\t\t\t\t\tValidation Loss:1.285358\tValidation Accuracy: 0.590700\n"
     ]
    },
    {
     "name": "stderr",
     "output_type": "stream",
     "text": [
      "\r",
      " 60%|████████████████████████████████████████████████████████████████████████████████████▌                                                        | 30/50 [04:34<02:53,  8.67s/it]"
     ]
    },
    {
     "name": "stdout",
     "output_type": "stream",
     "text": [
      "Epoch: 29\tInterval Time: 8.7 sec(s)\tTraining Loss: 1.126269\t\tTraining Accuracy: 0.680400\n",
      "\t\t\t\t\t\tValidation Loss:1.281558\tValidation Accuracy: 0.592700\n"
     ]
    },
    {
     "name": "stderr",
     "output_type": "stream",
     "text": [
      "\r",
      " 62%|███████████████████████████████████████████████████████████████████████████████████████▍                                                     | 31/50 [04:42<02:43,  8.62s/it]"
     ]
    },
    {
     "name": "stdout",
     "output_type": "stream",
     "text": [
      "Epoch: 30\tInterval Time: 8.5 sec(s)\tTraining Loss: 1.125873\t\tTraining Accuracy: 0.678925\n",
      "\t\t\t\t\t\tValidation Loss:1.283917\tValidation Accuracy: 0.593000\n"
     ]
    },
    {
     "name": "stderr",
     "output_type": "stream",
     "text": [
      "\r",
      " 64%|██████████████████████████████████████████████████████████████████████████████████████████▏                                                  | 32/50 [04:51<02:36,  8.70s/it]"
     ]
    },
    {
     "name": "stdout",
     "output_type": "stream",
     "text": [
      "Epoch: 31\tInterval Time: 8.9 sec(s)\tTraining Loss: 1.118195\t\tTraining Accuracy: 0.681950\n",
      "\t\t\t\t\t\tValidation Loss:1.288693\tValidation Accuracy: 0.587600\n"
     ]
    },
    {
     "name": "stderr",
     "output_type": "stream",
     "text": [
      "\r",
      " 66%|█████████████████████████████████████████████████████████████████████████████████████████████                                                | 33/50 [05:01<02:33,  9.06s/it]"
     ]
    },
    {
     "name": "stdout",
     "output_type": "stream",
     "text": [
      "Epoch: 32\tInterval Time: 9.9 sec(s)\tTraining Loss: 1.122568\t\tTraining Accuracy: 0.681000\n",
      "\t\t\t\t\t\tValidation Loss:1.282435\tValidation Accuracy: 0.595100\n"
     ]
    },
    {
     "name": "stderr",
     "output_type": "stream",
     "text": [
      "\r",
      " 68%|███████████████████████████████████████████████████████████████████████████████████████████████▉                                             | 34/50 [05:11<02:28,  9.26s/it]"
     ]
    },
    {
     "name": "stdout",
     "output_type": "stream",
     "text": [
      "Epoch: 33\tInterval Time: 9.7 sec(s)\tTraining Loss: 1.114490\t\tTraining Accuracy: 0.685075\n",
      "\t\t\t\t\t\tValidation Loss:1.284866\tValidation Accuracy: 0.592100\n"
     ]
    },
    {
     "name": "stderr",
     "output_type": "stream",
     "text": [
      "\r",
      " 70%|██████████████████████████████████████████████████████████████████████████████████████████████████▋                                          | 35/50 [05:20<02:17,  9.16s/it]"
     ]
    },
    {
     "name": "stdout",
     "output_type": "stream",
     "text": [
      "Epoch: 34\tInterval Time: 8.9 sec(s)\tTraining Loss: 1.115102\t\tTraining Accuracy: 0.684725\n",
      "\t\t\t\t\t\tValidation Loss:1.284443\tValidation Accuracy: 0.590900\n"
     ]
    },
    {
     "name": "stderr",
     "output_type": "stream",
     "text": [
      "\r",
      " 72%|█████████████████████████████████████████████████████████████████████████████████████████████████████▌                                       | 36/50 [05:29<02:10,  9.29s/it]"
     ]
    },
    {
     "name": "stdout",
     "output_type": "stream",
     "text": [
      "Epoch: 35\tInterval Time: 9.6 sec(s)\tTraining Loss: 1.106066\t\tTraining Accuracy: 0.688575\n",
      "\t\t\t\t\t\tValidation Loss:1.280914\tValidation Accuracy: 0.597100\n"
     ]
    },
    {
     "name": "stderr",
     "output_type": "stream",
     "text": [
      "\r",
      " 74%|████████████████████████████████████████████████████████████████████████████████████████████████████████▎                                    | 37/50 [05:38<01:59,  9.20s/it]"
     ]
    },
    {
     "name": "stdout",
     "output_type": "stream",
     "text": [
      "Epoch: 36\tInterval Time: 9.0 sec(s)\tTraining Loss: 1.105424\t\tTraining Accuracy: 0.689425\n",
      "\t\t\t\t\t\tValidation Loss:1.279166\tValidation Accuracy: 0.592800\n"
     ]
    },
    {
     "name": "stderr",
     "output_type": "stream",
     "text": [
      "\r",
      " 76%|███████████████████████████████████████████████████████████████████████████████████████████████████████████▏                                 | 38/50 [05:47<01:49,  9.11s/it]"
     ]
    },
    {
     "name": "stdout",
     "output_type": "stream",
     "text": [
      "Epoch: 37\tInterval Time: 8.9 sec(s)\tTraining Loss: 1.105766\t\tTraining Accuracy: 0.689900\n",
      "\t\t\t\t\t\tValidation Loss:1.279855\tValidation Accuracy: 0.596300\n"
     ]
    },
    {
     "name": "stderr",
     "output_type": "stream",
     "text": [
      "\r",
      " 78%|█████████████████████████████████████████████████████████████████████████████████████████████████████████████▉                               | 39/50 [05:56<01:39,  9.04s/it]"
     ]
    },
    {
     "name": "stdout",
     "output_type": "stream",
     "text": [
      "Epoch: 38\tInterval Time: 8.9 sec(s)\tTraining Loss: 1.097456\t\tTraining Accuracy: 0.691300\n",
      "\t\t\t\t\t\tValidation Loss:1.281825\tValidation Accuracy: 0.591900\n"
     ]
    },
    {
     "name": "stderr",
     "output_type": "stream",
     "text": [
      "\r",
      " 80%|████████████████████████████████████████████████████████████████████████████████████████████████████████████████▊                            | 40/50 [06:05<01:30,  9.03s/it]"
     ]
    },
    {
     "name": "stdout",
     "output_type": "stream",
     "text": [
      "Epoch: 39\tInterval Time: 9.0 sec(s)\tTraining Loss: 1.096815\t\tTraining Accuracy: 0.693000\n",
      "\t\t\t\t\t\tValidation Loss:1.285797\tValidation Accuracy: 0.593800\n"
     ]
    },
    {
     "name": "stderr",
     "output_type": "stream",
     "text": [
      "\r",
      " 82%|███████████████████████████████████████████████████████████████████████████████████████████████████████████████████▌                         | 41/50 [06:14<01:21,  9.05s/it]"
     ]
    },
    {
     "name": "stdout",
     "output_type": "stream",
     "text": [
      "Epoch: 40\tInterval Time: 9.1 sec(s)\tTraining Loss: 1.097539\t\tTraining Accuracy: 0.692200\n",
      "\t\t\t\t\t\tValidation Loss:1.284971\tValidation Accuracy: 0.594100\n"
     ]
    },
    {
     "name": "stderr",
     "output_type": "stream",
     "text": [
      "\r",
      " 84%|██████████████████████████████████████████████████████████████████████████████████████████████████████████████████████▍                      | 42/50 [06:23<01:11,  8.98s/it]"
     ]
    },
    {
     "name": "stdout",
     "output_type": "stream",
     "text": [
      "Epoch: 41\tInterval Time: 8.8 sec(s)\tTraining Loss: 1.087812\t\tTraining Accuracy: 0.696950\n",
      "\t\t\t\t\t\tValidation Loss:1.281330\tValidation Accuracy: 0.592100\n"
     ]
    },
    {
     "name": "stderr",
     "output_type": "stream",
     "text": [
      "\r",
      " 86%|█████████████████████████████████████████████████████████████████████████████████████████████████████████████████████████▎                   | 43/50 [06:32<01:02,  8.95s/it]"
     ]
    },
    {
     "name": "stdout",
     "output_type": "stream",
     "text": [
      "Epoch: 42\tInterval Time: 8.9 sec(s)\tTraining Loss: 1.092149\t\tTraining Accuracy: 0.694625\n",
      "\t\t\t\t\t\tValidation Loss:1.281908\tValidation Accuracy: 0.593300\n"
     ]
    },
    {
     "name": "stderr",
     "output_type": "stream",
     "text": [
      "\r",
      " 88%|████████████████████████████████████████████████████████████████████████████████████████████████████████████████████████████                 | 44/50 [06:41<00:53,  8.87s/it]"
     ]
    },
    {
     "name": "stdout",
     "output_type": "stream",
     "text": [
      "Epoch: 43\tInterval Time: 8.7 sec(s)\tTraining Loss: 1.090702\t\tTraining Accuracy: 0.694925\n",
      "\t\t\t\t\t\tValidation Loss:1.281505\tValidation Accuracy: 0.594300\n"
     ]
    },
    {
     "name": "stderr",
     "output_type": "stream",
     "text": [
      "\r",
      " 90%|██████████████████████████████████████████████████████████████████████████████████████████████████████████████████████████████▉              | 45/50 [06:49<00:44,  8.84s/it]"
     ]
    },
    {
     "name": "stdout",
     "output_type": "stream",
     "text": [
      "Epoch: 44\tInterval Time: 8.8 sec(s)\tTraining Loss: 1.087701\t\tTraining Accuracy: 0.698650\n",
      "\t\t\t\t\t\tValidation Loss:1.281285\tValidation Accuracy: 0.591300\n"
     ]
    },
    {
     "name": "stderr",
     "output_type": "stream",
     "text": [
      "\r",
      " 92%|█████████████████████████████████████████████████████████████████████████████████████████████████████████████████████████████████▋           | 46/50 [06:58<00:35,  8.85s/it]"
     ]
    },
    {
     "name": "stdout",
     "output_type": "stream",
     "text": [
      "Epoch: 45\tInterval Time: 8.9 sec(s)\tTraining Loss: 1.084717\t\tTraining Accuracy: 0.698375\n",
      "\t\t\t\t\t\tValidation Loss:1.281483\tValidation Accuracy: 0.590400\n"
     ]
    },
    {
     "name": "stderr",
     "output_type": "stream",
     "text": [
      "\r",
      " 94%|████████████████████████████████████████████████████████████████████████████████████████████████████████████████████████████████████▌        | 47/50 [07:07<00:26,  8.85s/it]"
     ]
    },
    {
     "name": "stdout",
     "output_type": "stream",
     "text": [
      "Epoch: 46\tInterval Time: 8.8 sec(s)\tTraining Loss: 1.084609\t\tTraining Accuracy: 0.699950\n",
      "\t\t\t\t\t\tValidation Loss:1.282795\tValidation Accuracy: 0.596000\n"
     ]
    },
    {
     "name": "stderr",
     "output_type": "stream",
     "text": [
      "\r",
      " 96%|███████████████████████████████████████████████████████████████████████████████████████████████████████████████████████████████████████▎     | 48/50 [07:16<00:17,  8.89s/it]"
     ]
    },
    {
     "name": "stdout",
     "output_type": "stream",
     "text": [
      "Epoch: 47\tInterval Time: 9.0 sec(s)\tTraining Loss: 1.084409\t\tTraining Accuracy: 0.700025\n",
      "\t\t\t\t\t\tValidation Loss:1.284779\tValidation Accuracy: 0.592500\n"
     ]
    },
    {
     "name": "stderr",
     "output_type": "stream",
     "text": [
      "\r",
      " 98%|██████████████████████████████████████████████████████████████████████████████████████████████████████████████████████████████████████████▏  | 49/50 [07:25<00:08,  8.85s/it]"
     ]
    },
    {
     "name": "stdout",
     "output_type": "stream",
     "text": [
      "Epoch: 48\tInterval Time: 8.8 sec(s)\tTraining Loss: 1.077948\t\tTraining Accuracy: 0.700950\n",
      "\t\t\t\t\t\tValidation Loss:1.279253\tValidation Accuracy: 0.598000\n"
     ]
    },
    {
     "name": "stderr",
     "output_type": "stream",
     "text": [
      "100%|█████████████████████████████████████████████████████████████████████████████████████████████████████████████████████████████████████████████| 50/50 [07:34<00:00,  9.08s/it]"
     ]
    },
    {
     "name": "stdout",
     "output_type": "stream",
     "text": [
      "Epoch: 49\tInterval Time: 8.7 sec(s)\tTraining Loss: 1.074663\t\tTraining Accuracy: 0.704050\n",
      "\t\t\t\t\t\tValidation Loss:1.280169\tValidation Accuracy: 0.595800\n",
      "\n",
      "\n",
      "Model has finished training after 49 epoch(s).\n",
      "\n",
      "\n",
      "Total training time: 7 min 34.1 s\n",
      "\n",
      "                Best model found @ Epoch 36\n",
      "                --------------------------------------------\n",
      "                Training Loss: 1.105424\n",
      "                Validation Loss: 1.279166\n",
      "                --------------------------------------------\n",
      "                Training Accuracy: 0.689425\n",
      "                Validation Accuracy: 0.592800\n",
      "\n",
      "\n",
      "Best model 'Adam_network_alt' saved in 'model/' directory.\n"
     ]
    },
    {
     "name": "stderr",
     "output_type": "stream",
     "text": [
      "\n"
     ]
    },
    {
     "data": {
      "text/plain": [
       "{'tags': ['hide-output']}"
      ]
     },
     "execution_count": 26,
     "metadata": {},
     "output_type": "execute_result"
    }
   ],
   "source": [
    "best_model.set_name(\"Adam_network_alt\")\n",
    "\n",
    "stats = best_model.train_network(\n",
    "    train_set = train_set,\n",
    "    valid_set = valid_set,\n",
    "    batch_size = 250,        # reduced batch size to vary any possible patterns learned\n",
    "    epochs = 50,\n",
    "    report_interval = 1\n",
    ")\n",
    "\n",
    "{\"tags\": [\"hide-output\"]}"
   ]
  },
  {
   "cell_type": "markdown",
   "id": "6ae57740",
   "metadata": {},
   "source": [
    "### Is there potential for improvement?"
   ]
  },
  {
   "cell_type": "code",
   "execution_count": 27,
   "id": "323d7add",
   "metadata": {},
   "outputs": [
    {
     "data": {
      "text/plain": [
       "<Figure size 720x504 with 0 Axes>"
      ]
     },
     "metadata": {},
     "output_type": "display_data"
    },
    {
     "data": {
      "image/png": "[encoded data removed]",
      "text/plain": [
       "<Figure size 432x288 with 4 Axes>"
      ]
     },
     "metadata": {
      "needs_background": "light"
     },
     "output_type": "display_data"
    }
   ],
   "source": [
    "plot_results(stats)"
   ]
  },
  {
   "cell_type": "markdown",
   "id": "b6904226",
   "metadata": {},
   "source": [
    "Continuing training for 10 more epochs"
   ]
  },
  {
   "cell_type": "code",
   "execution_count": 28,
   "id": "8e2c6fe0",
   "metadata": {},
   "outputs": [
    {
     "name": "stdout",
     "output_type": "stream",
     "text": [
      "-------------------------------------------\n",
      "Accuracy on train data: 88.06%\n",
      "Total Count:  40000\n",
      "Total Match:  35225\n",
      "-------------------------------------------\n",
      "Test Accuracy of\t0: 95.41% (3807/3990)\n",
      "Test Accuracy of\t1: 83.97% (3358/3999)\n",
      "Test Accuracy of\t2: 82.27% (3299/4010)\n",
      "Test Accuracy of\t3: 88.95% (3608/4056)\n",
      "Test Accuracy of\t4: 68.88% (2751/3994)\n",
      "Test Accuracy of\t5: 91.86% (3689/4016)\n",
      "Test Accuracy of\t6: 91.22% (3594/3940)\n",
      "Test Accuracy of\t7: 95.25% (3770/3958)\n",
      "Test Accuracy of\t8: 92.30% (3714/4024)\n",
      "Test Accuracy of\t9: 90.58% (3635/4013)\n",
      "-------------------------------------------\n",
      "Accuracy on valid data: 59.58%\n",
      "Total Count:  10000\n",
      "Total Match:  5958\n",
      "-------------------------------------------\n",
      "Test Accuracy of\t0: 72.77% (735/1010)\n",
      "Test Accuracy of\t1: 44.26% (443/1001)\n",
      "Test Accuracy of\t2: 47.98% (475/990)\n",
      "Test Accuracy of\t3: 52.65% (497/944)\n",
      "Test Accuracy of\t4: 37.77% (380/1006)\n",
      "Test Accuracy of\t5: 69.41% (683/984)\n",
      "Test Accuracy of\t6: 68.40% (725/1060)\n",
      "Test Accuracy of\t7: 72.17% (752/1042)\n",
      "Test Accuracy of\t8: 65.78% (642/976)\n",
      "Test Accuracy of\t9: 63.42% (626/987)\n",
      "-------------------------------------------\n",
      "Accuracy on test data: 58.77%\n",
      "Total Count:  10000\n",
      "Total Match:  5877\n",
      "-------------------------------------------\n",
      "Test Accuracy of\t0: 71.90% (719/1000)\n",
      "Test Accuracy of\t1: 42.00% (420/1000)\n",
      "Test Accuracy of\t2: 46.30% (463/1000)\n",
      "Test Accuracy of\t3: 51.50% (515/1000)\n",
      "Test Accuracy of\t4: 37.40% (374/1000)\n",
      "Test Accuracy of\t5: 69.50% (695/1000)\n",
      "Test Accuracy of\t6: 67.40% (674/1000)\n",
      "Test Accuracy of\t7: 73.20% (732/1000)\n",
      "Test Accuracy of\t8: 62.80% (628/1000)\n",
      "Test Accuracy of\t9: 65.70% (657/1000)\n"
     ]
    }
   ],
   "source": [
    "# Loading \"new best model found\":\n",
    "\n",
    "new_model = Net.load_model(\"model/Adam_network_alt\")\n",
    "new_model.test_network(train_set, \"train data\")\n",
    "new_model.test_network(valid_set, \"valid data\")\n",
    "new_model.test_network(test_set, \"test data\")\n"
   ]
  },
  {
   "cell_type": "markdown",
   "id": "5bde283e",
   "metadata": {},
   "source": [
    "### Confusion Matrix"
   ]
  },
  {
   "cell_type": "code",
   "execution_count": 29,
   "id": "2f6c94d3",
   "metadata": {},
   "outputs": [
    {
     "data": {
      "image/png": "[encoded data removed]",
      "text/plain": [
       "<Figure size 720x504 with 2 Axes>"
      ]
     },
     "metadata": {
      "needs_background": "light"
     },
     "output_type": "display_data"
    }
   ],
   "source": [
    "\n",
    "# Plot the confusion matrix of training data\n",
    "pred = new_model.predict(train_set[0], train_set[1].shape[1])\n",
    "pred_train_labels = np.argmax(pred, axis=1)\n",
    "\n",
    "matrix = confusion_matrix(pred_train_labels, np.argmax(train_set[1], axis=1))\n",
    "matrix_df = pd.DataFrame(matrix, index = np.arange(10), columns = np.arange(10))\n",
    "\n",
    "pl.figure(figsize = (10,7))\n",
    "sns.heatmap(matrix, annot=True)\n",
    "pl.show()"
   ]
  },
  {
   "cell_type": "code",
   "execution_count": 30,
   "id": "5f1a5b43",
   "metadata": {},
   "outputs": [
    {
     "data": {
      "image/png": "[encoded data removed]",
      "text/plain": [
       "<Figure size 720x504 with 2 Axes>"
      ]
     },
     "metadata": {
      "needs_background": "light"
     },
     "output_type": "display_data"
    }
   ],
   "source": [
    "# Plot the confusion matrix on test data\n",
    "pred = new_model.predict(test_set[0], test_set[1].shape[1])\n",
    "pred_test_labels = np.argmax(pred, axis=1)\n",
    "\n",
    "matrix = confusion_matrix(pred_test_labels, np.argmax(test_set[1], axis=1))\n",
    "matrix_df = pd.DataFrame(matrix, index = np.arange(10), columns = np.arange(10))\n",
    "\n",
    "pl.figure(figsize = (10,7))\n",
    "sns.heatmap(matrix, annot=True)\n",
    "pl.show()"
   ]
  },
  {
   "cell_type": "markdown",
   "id": "a4c84034",
   "metadata": {},
   "source": [
    "##### Continuing training for 10 more epochs"
   ]
  },
  {
   "cell_type": "code",
   "execution_count": 31,
   "id": "b5da618b",
   "metadata": {},
   "outputs": [
    {
     "name": "stderr",
     "output_type": "stream",
     "text": [
      " 10%|██████████████▏                                                                                                                               | 1/10 [00:08<01:19,  8.80s/it]"
     ]
    },
    {
     "name": "stdout",
     "output_type": "stream",
     "text": [
      "Epoch: 0\tInterval Time: 8.8 sec(s)\tTraining Loss: 1.047471\t\tTraining Accuracy: 0.717550\n",
      "\t\t\t\t\t\tValidation Loss:1.279256\tValidation Accuracy: 0.595200\n"
     ]
    },
    {
     "name": "stderr",
     "output_type": "stream",
     "text": [
      "\r",
      " 20%|████████████████████████████▍                                                                                                                 | 2/10 [00:17<01:10,  8.84s/it]"
     ]
    },
    {
     "name": "stdout",
     "output_type": "stream",
     "text": [
      "Epoch: 1\tInterval Time: 8.9 sec(s)\tTraining Loss: 1.044048\t\tTraining Accuracy: 0.720425\n",
      "\t\t\t\t\t\tValidation Loss:1.273750\tValidation Accuracy: 0.600200\n"
     ]
    },
    {
     "name": "stderr",
     "output_type": "stream",
     "text": [
      "\r",
      " 30%|██████████████████████████████████████████▌                                                                                                   | 3/10 [00:26<01:01,  8.74s/it]"
     ]
    },
    {
     "name": "stdout",
     "output_type": "stream",
     "text": [
      "Epoch: 2\tInterval Time: 8.6 sec(s)\tTraining Loss: 1.053584\t\tTraining Accuracy: 0.715725\n",
      "\t\t\t\t\t\tValidation Loss:1.277080\tValidation Accuracy: 0.599500\n"
     ]
    },
    {
     "name": "stderr",
     "output_type": "stream",
     "text": [
      "\r",
      " 40%|████████████████████████████████████████████████████████▊                                                                                     | 4/10 [00:35<00:53,  8.87s/it]"
     ]
    },
    {
     "name": "stdout",
     "output_type": "stream",
     "text": [
      "Epoch: 3\tInterval Time: 9.1 sec(s)\tTraining Loss: 1.043717\t\tTraining Accuracy: 0.718200\n",
      "\t\t\t\t\t\tValidation Loss:1.282449\tValidation Accuracy: 0.597500\n"
     ]
    },
    {
     "name": "stderr",
     "output_type": "stream",
     "text": [
      "\r",
      " 50%|███████████████████████████████████████████████████████████████████████                                                                       | 5/10 [00:44<00:44,  8.87s/it]"
     ]
    },
    {
     "name": "stdout",
     "output_type": "stream",
     "text": [
      "Epoch: 4\tInterval Time: 8.9 sec(s)\tTraining Loss: 1.049959\t\tTraining Accuracy: 0.715600\n",
      "\t\t\t\t\t\tValidation Loss:1.280404\tValidation Accuracy: 0.597900\n"
     ]
    },
    {
     "name": "stderr",
     "output_type": "stream",
     "text": [
      "\r",
      " 60%|█████████████████████████████████████████████████████████████████████████████████████▏                                                        | 6/10 [00:53<00:35,  8.86s/it]"
     ]
    },
    {
     "name": "stdout",
     "output_type": "stream",
     "text": [
      "Epoch: 5\tInterval Time: 8.8 sec(s)\tTraining Loss: 1.048750\t\tTraining Accuracy: 0.716425\n",
      "\t\t\t\t\t\tValidation Loss:1.279253\tValidation Accuracy: 0.596800\n"
     ]
    },
    {
     "name": "stderr",
     "output_type": "stream",
     "text": [
      "\r",
      " 70%|███████████████████████████████████████████████████████████████████████████████████████████████████▍                                          | 7/10 [01:02<00:26,  8.89s/it]"
     ]
    },
    {
     "name": "stdout",
     "output_type": "stream",
     "text": [
      "Epoch: 6\tInterval Time: 9.0 sec(s)\tTraining Loss: 1.047417\t\tTraining Accuracy: 0.718075\n",
      "\t\t\t\t\t\tValidation Loss:1.279778\tValidation Accuracy: 0.602100\n"
     ]
    },
    {
     "name": "stderr",
     "output_type": "stream",
     "text": [
      "\r",
      " 80%|█████████████████████████████████████████████████████████████████████████████████████████████████████████████████▌                            | 8/10 [01:11<00:17,  8.96s/it]"
     ]
    },
    {
     "name": "stdout",
     "output_type": "stream",
     "text": [
      "Epoch: 7\tInterval Time: 9.1 sec(s)\tTraining Loss: 1.049741\t\tTraining Accuracy: 0.717675\n",
      "\t\t\t\t\t\tValidation Loss:1.282548\tValidation Accuracy: 0.597900\n"
     ]
    },
    {
     "name": "stderr",
     "output_type": "stream",
     "text": [
      "\r",
      " 90%|███████████████████████████████████████████████████████████████████████████████████████████████████████████████████████████████▊              | 9/10 [01:19<00:08,  8.84s/it]"
     ]
    },
    {
     "name": "stdout",
     "output_type": "stream",
     "text": [
      "Epoch: 8\tInterval Time: 8.6 sec(s)\tTraining Loss: 1.047406\t\tTraining Accuracy: 0.715425\n",
      "\t\t\t\t\t\tValidation Loss:1.276890\tValidation Accuracy: 0.600000\n"
     ]
    },
    {
     "name": "stderr",
     "output_type": "stream",
     "text": [
      "100%|█████████████████████████████████████████████████████████████████████████████████████████████████████████████████████████████████████████████| 10/10 [01:28<00:00,  8.87s/it]"
     ]
    },
    {
     "name": "stdout",
     "output_type": "stream",
     "text": [
      "Epoch: 9\tInterval Time: 8.9 sec(s)\tTraining Loss: 1.050022\t\tTraining Accuracy: 0.715350\n",
      "\t\t\t\t\t\tValidation Loss:1.272348\tValidation Accuracy: 0.601300\n",
      "\n",
      "\n",
      "Model has finished training after 9 epoch(s).\n",
      "\n",
      "\n",
      "Total training time: 1 min 28.7 s\n",
      "\n",
      "                Best model found @ Epoch 9\n",
      "                --------------------------------------------\n",
      "                Training Loss: 1.050022\n",
      "                Validation Loss: 1.272348\n",
      "                --------------------------------------------\n",
      "                Training Accuracy: 0.715350\n",
      "                Validation Accuracy: 0.601300\n",
      "\n",
      "\n",
      "Best model 'Adam_network_alt' saved in 'model/' directory.\n"
     ]
    },
    {
     "name": "stderr",
     "output_type": "stream",
     "text": [
      "\n"
     ]
    },
    {
     "data": {
      "text/plain": [
       "{'tags': ['hide-output']}"
      ]
     },
     "execution_count": 31,
     "metadata": {},
     "output_type": "execute_result"
    }
   ],
   "source": [
    "best_model.set_name(\"Adam_network_alt\")\n",
    "\n",
    "stats = best_model.train_network(\n",
    "    train_set = train_set,\n",
    "    valid_set = valid_set,\n",
    "    batch_size = 250,        # reduced batch size to vary any possible patterns learned\n",
    "    epochs = 10,\n",
    "    report_interval = 1\n",
    ")\n",
    "\n",
    "{\"tags\": [\"hide-output\"]}"
   ]
  },
  {
   "cell_type": "code",
   "execution_count": 32,
   "id": "39da83f9",
   "metadata": {},
   "outputs": [
    {
     "data": {
      "text/plain": [
       "<Figure size 720x504 with 0 Axes>"
      ]
     },
     "metadata": {},
     "output_type": "display_data"
    },
    {
     "data": {
      "image/png": "[encoded data removed]",
      "text/plain": [
       "<Figure size 432x288 with 4 Axes>"
      ]
     },
     "metadata": {
      "needs_background": "light"
     },
     "output_type": "display_data"
    },
    {
     "name": "stdout",
     "output_type": "stream",
     "text": [
      "-------------------------------------------\n",
      "Accuracy on train data: 89.72%\n",
      "Total Count:  40000\n",
      "Total Match:  35887\n",
      "-------------------------------------------\n",
      "Test Accuracy of\t0: 95.66% (3817/3990)\n",
      "Test Accuracy of\t1: 87.30% (3491/3999)\n",
      "Test Accuracy of\t2: 83.47% (3347/4010)\n",
      "Test Accuracy of\t3: 90.88% (3686/4056)\n",
      "Test Accuracy of\t4: 76.41% (3052/3994)\n",
      "Test Accuracy of\t5: 92.11% (3699/4016)\n",
      "Test Accuracy of\t6: 91.85% (3619/3940)\n",
      "Test Accuracy of\t7: 95.15% (3766/3958)\n",
      "Test Accuracy of\t8: 93.32% (3755/4024)\n",
      "Test Accuracy of\t9: 91.08% (3655/4013)\n",
      "-------------------------------------------\n",
      "Accuracy on valid data: 60.13%\n",
      "Total Count:  10000\n",
      "Total Match:  6013\n",
      "-------------------------------------------\n",
      "Test Accuracy of\t0: 72.57% (733/1010)\n",
      "Test Accuracy of\t1: 47.85% (479/1001)\n",
      "Test Accuracy of\t2: 47.98% (475/990)\n",
      "Test Accuracy of\t3: 53.71% (507/944)\n",
      "Test Accuracy of\t4: 43.24% (435/1006)\n",
      "Test Accuracy of\t5: 69.00% (679/984)\n",
      "Test Accuracy of\t6: 66.23% (702/1060)\n",
      "Test Accuracy of\t7: 70.44% (734/1042)\n",
      "Test Accuracy of\t8: 66.70% (651/976)\n",
      "Test Accuracy of\t9: 62.61% (618/987)\n",
      "-------------------------------------------\n",
      "Accuracy on test data: 58.93%\n",
      "Total Count:  10000\n",
      "Total Match:  5893\n",
      "-------------------------------------------\n",
      "Test Accuracy of\t0: 70.80% (708/1000)\n",
      "Test Accuracy of\t1: 45.10% (451/1000)\n",
      "Test Accuracy of\t2: 45.10% (451/1000)\n",
      "Test Accuracy of\t3: 52.50% (525/1000)\n",
      "Test Accuracy of\t4: 43.00% (430/1000)\n",
      "Test Accuracy of\t5: 68.10% (681/1000)\n",
      "Test Accuracy of\t6: 65.90% (659/1000)\n",
      "Test Accuracy of\t7: 71.10% (711/1000)\n",
      "Test Accuracy of\t8: 63.70% (637/1000)\n",
      "Test Accuracy of\t9: 64.00% (640/1000)\n"
     ]
    }
   ],
   "source": [
    "plot_results(stats)\n",
    "\n",
    "new_model = Net.load_model(\"model/Adam_network_alt\")\n",
    "new_model.test_network(train_set, \"train data\")\n",
    "new_model.test_network(valid_set, \"valid data\")\n",
    "new_model.test_network(test_set, \"test data\")"
   ]
  }
 ],
 "metadata": {
  "kernelspec": {
   "display_name": "Python 3 (ipykernel)",
   "language": "python",
   "name": "python3"
  },
  "language_info": {
   "codemirror_mode": {
    "name": "ipython",
    "version": 3
   },
   "file_extension": ".py",
   "mimetype": "text/x-python",
   "name": "python",
   "nbconvert_exporter": "python",
   "pygments_lexer": "ipython3",
   "version": "3.10.2"
  }
 },
 "nbformat": 4,
 "nbformat_minor": 5
}
