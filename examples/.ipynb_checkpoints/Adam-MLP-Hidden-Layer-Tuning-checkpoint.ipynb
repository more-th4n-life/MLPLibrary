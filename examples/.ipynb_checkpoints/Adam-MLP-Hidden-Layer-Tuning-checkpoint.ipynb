{
 "cells": [
  {
   "cell_type": "markdown",
   "id": "3ba18ebe",
   "metadata": {},
   "source": [
    "# Hyper-Parameter Tuning # Hidden Layers"
   ]
  },
  {
   "cell_type": "code",
   "execution_count": 1,
   "id": "39086bcc",
   "metadata": {},
   "outputs": [],
   "source": [
    "# Importing all the modules and functions related to constructing MLP network models\n",
    "\n",
    "from network.net import Net                   # Net class, base class for constructing MLP networks\n",
    "from network.layer import Linear              # Linear class, child class of parent class Layer \n",
    "from network.loss import CrossEntropyLoss     # CrossEntropyLoss class, child class of parent class Loss\n",
    "from network.activ import ReLU, LeakyReLU     # ReLU, LeakyReLU classes, child classes of parent class Activation\n",
    "from network.optim import SGD, Adam           # SGD, Adam classes, child classes of parent class Optimizer"
   ]
  },
  {
   "cell_type": "code",
   "execution_count": 2,
   "id": "c9cd70c8",
   "metadata": {},
   "outputs": [],
   "source": [
    "# Importing all the modules and functions related to data processing including loaders for the assignment data\n",
    "\n",
    "# Process module contains functions relating to data processing:\n",
    "from network.loader.process import (\n",
    "    train_test_split,        # Function to split data with chosen ratio, data can be shuffled\n",
    "    normalize,               # Normalizes data to have mean of zero and unit variance\n",
    "    standardize,             # Normalizes data to be between range 0-1, i.e. standardizes data\n",
    "    one_hot,                 # One hot encoding: 100% prob of 2 is [0, 0, 1] with 3 classes\n",
    "    pca                      # Reduces data to chosen K principal components\n",
    ") \n",
    "\n",
    "# Data module for loading the assignment data\n",
    "from network.dataset.source import (\n",
    "    get_data_from_file,   # Loads assignment data from file (must be within main directory)\n",
    "    get_data_from_url     # Loads assignment data from public GitHub repo that stores data\n",
    ")\n",
    "\n",
    "# Data loader module for automating processing of and loading of assignment data based on parameter selections\n",
    "from network.loader.data_loader import load_train_val_test  # Parameter selections decide method of processing\n",
    "\n",
    "import numpy as np\n",
    "import matplotlib.pyplot as pl\n",
    "import pandas as pd \n",
    "import seaborn as sns\n",
    "\n",
    "# setting random seed\n",
    "np.random.seed(123)"
   ]
  },
  {
   "cell_type": "code",
   "execution_count": 3,
   "id": "dc662da3",
   "metadata": {},
   "outputs": [],
   "source": [
    "def plot_results(stats):\n",
    "    ep, tl, ta, vl, va = stats\n",
    "    pl.figure(figsize = (10, 7))\n",
    "\n",
    "    fig, ((ax1, ax2), (ax3, ax4)) = pl.subplots(2, 2)\n",
    "    fig.suptitle(f'Training Results, best model found @ Epoch {ep}')\n",
    "\n",
    "    ax1.plot(tl)\n",
    "    ax1.set_title('Training Loss')\n",
    "\n",
    "    ax2.plot(vl, 'tab:orange')\n",
    "    ax2.set_title('Validation Loss')\n",
    "\n",
    "    ax3.plot(ta, 'tab:green')\n",
    "    ax3.set_title('Training Accuracy')\n",
    "\n",
    "    ax4.plot(va, 'tab:red')\n",
    "    ax4.set_title('Validation Accuracy')\n",
    "    \n",
    "    for ax in fig.get_axes():\n",
    "        ax.label_outer()\n",
    "\n",
    "    pl.show()\n",
    "\n",
    "# Note as we are loading data from URL it will take longer than from file.\n",
    "train_set, valid_set, test_set = load_train_val_test(\n",
    "    source = \"url\", method = \"standardize\", pca_N = 0, n_categories = 10, ratio = 0.2, shuffle = True\n",
    ")         "
   ]
  },
  {
   "cell_type": "markdown",
   "id": "0a53ccf3",
   "metadata": {},
   "source": [
    "## Current Best Model"
   ]
  },
  {
   "cell_type": "code",
   "execution_count": 4,
   "id": "959360fe",
   "metadata": {},
   "outputs": [
    {
     "name": "stdout",
     "output_type": "stream",
     "text": [
      "Adam_network is initialized and ready to be trained.\n"
     ]
    }
   ],
   "source": [
    "mlp = Net(\n",
    "    optimizer = Adam(),\n",
    "    criterion = CrossEntropyLoss(),\n",
    "    batch_norm = True,\n",
    "    L2_reg_term = 0.001\n",
    ")\n",
    "\n",
    "mlp.add(Linear(128, 1024, dropout=0.4))\n",
    "mlp.add(ReLU())\n",
    "mlp.add(Linear(1024, 512, dropout=0.2))\n",
    "mlp.add(ReLU())\n",
    "mlp.add(Linear(512, 64, dropout=0.2))\n",
    "mlp.add(ReLU())\n",
    "mlp.add(Linear(64, 16, dropout=0.2))\n",
    "mlp.add(ReLU())\n",
    "mlp.add(Linear(16, 10))  \n",
    "\n",
    "\n",
    "mlp.set_name(\"Adam_network\")\n",
    "print(f\"{mlp.model_name} is initialized and ready to be trained.\")"
   ]
  },
  {
   "cell_type": "markdown",
   "id": "9cf38bbe",
   "metadata": {},
   "source": [
    "## 0: Train and Evaluate Current Best Model"
   ]
  },
  {
   "cell_type": "code",
   "execution_count": null,
   "id": "9e7b0d2e",
   "metadata": {},
   "outputs": [
    {
     "name": "stderr",
     "output_type": "stream",
     "text": [
      "  1%|█▍                                                                                                                                           | 1/100 [00:08<13:40,  8.29s/it]"
     ]
    },
    {
     "name": "stdout",
     "output_type": "stream",
     "text": [
      "Epoch: 0\tInterval Time: 8.3 sec(s)\tTraining Loss: 2.213828\t\tTraining Accuracy: 0.226825\n",
      "\t\t\t\t\t\tValidation Loss:1.867397\tValidation Accuracy: 0.350100\n"
     ]
    },
    {
     "name": "stderr",
     "output_type": "stream",
     "text": [
      "  4%|█████▋                                                                                                                                       | 4/100 [00:33<13:38,  8.52s/it]"
     ]
    }
   ],
   "source": [
    "best = mlp.train_convergence(\n",
    "    train_set = train_set,\n",
    "    valid_set = valid_set,\n",
    "    batch_size = 500,\n",
    "    planned_epochs = 100,\n",
    "    last_check = 10,\n",
    "    threshold = 1e-25,\n",
    "    report_interval = 5\n",
    ")\n",
    "\n",
    "{\"tags\": [\"hide-output\"]}"
   ]
  },
  {
   "cell_type": "code",
   "execution_count": null,
   "id": "cae55fb2",
   "metadata": {},
   "outputs": [],
   "source": [
    "plot_results(best)"
   ]
  },
  {
   "cell_type": "code",
   "execution_count": null,
   "id": "ecf4c73c",
   "metadata": {},
   "outputs": [],
   "source": [
    "# Loading best model found:\n",
    "\n",
    "best_model = Net.load_model(\"model/\" + mlp.model_name)\n",
    "best_model.test_network(train_set, \"train data\")\n",
    "best_model.test_network(valid_set, \"valid data\")\n",
    "best_model.test_network(test_set, \"test data\")"
   ]
  },
  {
   "cell_type": "markdown",
   "id": "067fe9d5",
   "metadata": {},
   "source": [
    "# 1: Removing a layer"
   ]
  },
  {
   "cell_type": "markdown",
   "id": "e4ca7c98",
   "metadata": {},
   "source": [
    "Note: need to ensure output dims match input dims of next layer:\n",
    "\n",
    "### Scenario A"
   ]
  },
  {
   "cell_type": "code",
   "execution_count": null,
   "id": "a6cd039c",
   "metadata": {},
   "outputs": [],
   "source": [
    "remA = Net(\n",
    "    optimizer = Adam(),\n",
    "    criterion = CrossEntropyLoss(),\n",
    "    batch_norm = True,\n",
    "    L2_reg_term = 0.001\n",
    ")\n",
    "\n",
    "remA.add(Linear(128, 1024, dropout=0.4))\n",
    "remA.add(ReLU())\n",
    "remA.add(Linear(1024, 512, dropout=0.2))\n",
    "remA.add(ReLU())\n",
    "remA.add(Linear(512, 16, dropout=0.2))\n",
    "remA.add(ReLU())\n",
    "#mlp.add(Linear(64, 16, dropout=0.2))   # removing this layer\n",
    "#mlp.add(ReLU())\n",
    "remA.add(Linear(16, 10))  "
   ]
  },
  {
   "cell_type": "markdown",
   "id": "7cd11afb",
   "metadata": {},
   "source": [
    "### Train and Evaluate Scenario A"
   ]
  },
  {
   "cell_type": "code",
   "execution_count": null,
   "id": "6899bd4d",
   "metadata": {},
   "outputs": [],
   "source": [
    "\n",
    "remA.set_name(\"remA\")\n",
    "print(f\"{mlp.model_name} is initialized and ready to be trained.\")\n",
    "\n",
    "remAT = remA.train_convergence(\n",
    "    train_set = train_set,\n",
    "    valid_set = valid_set,\n",
    "    batch_size = 500,\n",
    "    planned_epochs = 100,\n",
    "    last_check = 10,\n",
    "    threshold = 1e-25,\n",
    "    report_interval = 5\n",
    ")\n",
    "\n",
    "{\"tags\": [\"hide-output\"]}"
   ]
  },
  {
   "cell_type": "code",
   "execution_count": null,
   "id": "546fa314",
   "metadata": {},
   "outputs": [],
   "source": [
    "plot_results(remAT)"
   ]
  },
  {
   "cell_type": "code",
   "execution_count": null,
   "id": "abe36e28",
   "metadata": {},
   "outputs": [],
   "source": [
    "# Loading best model found:\n",
    "\n",
    "best_model = Net.load_model(\"model/\" + remA.model_name)\n",
    "best_model.test_network(train_set, \"train data\")\n",
    "best_model.test_network(valid_set, \"valid data\")\n",
    "best_model.test_network(test_set, \"test data\")"
   ]
  },
  {
   "cell_type": "markdown",
   "id": "daf4da0b",
   "metadata": {},
   "source": [
    "### Scenario B"
   ]
  },
  {
   "cell_type": "code",
   "execution_count": null,
   "id": "5c07a95e",
   "metadata": {},
   "outputs": [],
   "source": [
    "remB = Net(\n",
    "    optimizer = Adam(),\n",
    "    criterion = CrossEntropyLoss(),\n",
    "    batch_norm = True,\n",
    "    L2_reg_term = 0.001\n",
    ")\n",
    "\n",
    "remB.add(Linear(128, 1024, dropout=0.4))\n",
    "remB.add(ReLU())\n",
    "remB.add(Linear(1024, 64, dropout=0.2))\n",
    "remB.add(ReLU())\n",
    "#remB.add(Linear(512, 16, dropout=0.2))  # removing this layer\n",
    "#remB.add(ReLU())\n",
    "remB.add(Linear(64, 16, dropout=0.2))   \n",
    "remB.add(ReLU())\n",
    "remB.add(Linear(16, 10))"
   ]
  },
  {
   "cell_type": "markdown",
   "id": "96e79a04",
   "metadata": {},
   "source": [
    "### Train and Evaluate Scenario B"
   ]
  },
  {
   "cell_type": "code",
   "execution_count": null,
   "id": "e7b9e986",
   "metadata": {},
   "outputs": [],
   "source": [
    "remB.set_name(\"remB\")\n",
    "print(f\"{mlp.model_name} is initialized and ready to be trained.\")\n",
    "\n",
    "remB_stat = remB.train_convergence(\n",
    "    train_set = train_set,\n",
    "    valid_set = valid_set,\n",
    "    batch_size = 500,\n",
    "    planned_epochs = 100,\n",
    "    last_check = 10,\n",
    "    threshold = 1e-25,\n",
    "    report_interval = 5\n",
    ")\n",
    "\n",
    "{\"tags\": [\"hide-output\"]}"
   ]
  },
  {
   "cell_type": "code",
   "execution_count": null,
   "id": "2cff270a",
   "metadata": {},
   "outputs": [],
   "source": [
    "plot_results(remB_stat)"
   ]
  },
  {
   "cell_type": "code",
   "execution_count": null,
   "id": "7dc8f913",
   "metadata": {},
   "outputs": [],
   "source": [
    "# Loading best model found:\n",
    "\n",
    "best_model = Net.load_model(\"model/\" + remB.model_name)\n",
    "best_model.test_network(train_set, \"train data\")\n",
    "best_model.test_network(valid_set, \"valid data\")\n",
    "best_model.test_network(test_set, \"test data\")"
   ]
  },
  {
   "cell_type": "markdown",
   "id": "e4826b53",
   "metadata": {},
   "source": [
    "### Scenario C"
   ]
  },
  {
   "cell_type": "code",
   "execution_count": null,
   "id": "d82a95f6",
   "metadata": {},
   "outputs": [],
   "source": [
    "remC = Net(\n",
    "    optimizer = Adam(),\n",
    "    criterion = CrossEntropyLoss(),\n",
    "    batch_norm = True,\n",
    "    L2_reg_term = 0.001\n",
    ")\n",
    "\n",
    "remC.add(Linear(128, 1024, dropout=0.4))\n",
    "remC.add(ReLU())\n",
    "#remC.add(Linear(1024, 64, dropout=0.2))   # removing this layer\n",
    "#remC.add(ReLU())\n",
    "remC.add(Linear(1024, 64, dropout=0.2))  \n",
    "remC.add(ReLU())\n",
    "remC.add(Linear(64, 16, dropout=0.2))   \n",
    "remC.add(ReLU())\n",
    "remC.add(Linear(16, 10))"
   ]
  },
  {
   "cell_type": "markdown",
   "id": "f81c6dc4",
   "metadata": {},
   "source": [
    "### Train and Evaluate Scenario C"
   ]
  },
  {
   "cell_type": "code",
   "execution_count": null,
   "id": "a1d5e161",
   "metadata": {},
   "outputs": [],
   "source": [
    "\n",
    "remC.set_name(\"remC\")\n",
    "print(f\"{remC.model_name} is initialized and ready to be trained.\")\n",
    "\n",
    "remC_stat = remC.train_convergence(\n",
    "    train_set = train_set,\n",
    "    valid_set = valid_set,\n",
    "    batch_size = 500,\n",
    "    planned_epochs = 100,\n",
    "    last_check = 10,\n",
    "    threshold = 1e-25,\n",
    "    report_interval = 5\n",
    ")\n",
    "\n",
    "{\"tags\": [\"hide-output\"]}"
   ]
  },
  {
   "cell_type": "code",
   "execution_count": null,
   "id": "ea20f8c2",
   "metadata": {},
   "outputs": [],
   "source": [
    "plot_results(remC_stat)"
   ]
  },
  {
   "cell_type": "code",
   "execution_count": null,
   "id": "d43d281a",
   "metadata": {},
   "outputs": [],
   "source": [
    "# Loading best model found:\n",
    "\n",
    "best_model = Net.load_model(\"model/\" + remC.model_name)\n",
    "best_model.test_network(train_set, \"train data\")\n",
    "best_model.test_network(valid_set, \"valid data\")\n",
    "best_model.test_network(test_set, \"test data\")"
   ]
  },
  {
   "cell_type": "markdown",
   "id": "e21fee4e",
   "metadata": {},
   "source": [
    "# 2: Adding a Layer"
   ]
  },
  {
   "cell_type": "markdown",
   "id": "b7eebd73",
   "metadata": {},
   "source": [
    "For consistency, let's choose an output dimension for an added hidden layer to be half the size of the output dims in the previous layer."
   ]
  },
  {
   "cell_type": "markdown",
   "id": "9a0be827",
   "metadata": {},
   "source": [
    "### Scenario A"
   ]
  },
  {
   "cell_type": "code",
   "execution_count": null,
   "id": "a5cae34c",
   "metadata": {},
   "outputs": [],
   "source": [
    "mlp = Net(\n",
    "    optimizer = Adam(),\n",
    "    criterion = CrossEntropyLoss(),\n",
    "    batch_norm = True,\n",
    "    L2_reg_term = 0.001\n",
    ")\n",
    "\n",
    "mlp.add(Linear(128, 1024, dropout=0.4))\n",
    "mlp.add(ReLU())\n",
    "mlp.add(Linear(1024, 512, dropout=0.2))\n",
    "mlp.add(ReLU())\n",
    "mlp.add(Linear(512, 64, dropout=0.2))\n",
    "mlp.add(ReLU())\n",
    "# Adding layer\n",
    "mlp.add(Linear(64, 32, dropout=0.2))  # half above output\n",
    "mlp.add(ReLU())\n",
    "mlp.add(Linear(32, 16, dropout=0.2))  # reduce 64 to match 32\n",
    "mlp.add(ReLU())\n",
    "mlp.add(Linear(16, 10))  \n",
    "\n",
    "\n",
    "mlp.set_name(\"Adam_network\")\n",
    "print(f\"{mlp.model_name} is initialized and ready to be trained.\")"
   ]
  },
  {
   "cell_type": "markdown",
   "id": "fa7ac7a7",
   "metadata": {},
   "source": [
    "### Train and Evaluate Scenario A"
   ]
  },
  {
   "cell_type": "code",
   "execution_count": null,
   "id": "9bfee5fe",
   "metadata": {},
   "outputs": [],
   "source": [
    "\n",
    "mlp.set_name(\"add\")\n",
    "print(f\"{mlp.model_name} is initialized and ready to be trained.\")\n",
    "\n",
    "addA = mlp.train_convergence(\n",
    "    train_set = train_set,\n",
    "    valid_set = valid_set,\n",
    "    batch_size = 500,\n",
    "    planned_epochs = 100,\n",
    "    last_check = 10,\n",
    "    threshold = 1e-25,\n",
    "    report_interval = 5\n",
    ")\n",
    "\n",
    "{\"tags\": [\"hide-output\"]}"
   ]
  },
  {
   "cell_type": "code",
   "execution_count": null,
   "id": "f71fdc0d",
   "metadata": {},
   "outputs": [],
   "source": [
    "plot_results(add_stat)"
   ]
  },
  {
   "cell_type": "code",
   "execution_count": null,
   "id": "021cdab0",
   "metadata": {},
   "outputs": [],
   "source": [
    "# Loading best model found:\n",
    "\n",
    "best_model = Net.load_model(\"model/\" + mlp.model_name)\n",
    "best_model.test_network(train_set, \"train data\")\n",
    "best_model.test_network(valid_set, \"valid data\")\n",
    "best_model.test_network(test_set, \"test data\")"
   ]
  },
  {
   "cell_type": "markdown",
   "id": "f1d02f2d",
   "metadata": {},
   "source": [
    "### Scenario B"
   ]
  },
  {
   "cell_type": "code",
   "execution_count": null,
   "id": "99f6c688",
   "metadata": {},
   "outputs": [],
   "source": [
    "mlp = Net(\n",
    "    optimizer = Adam(),\n",
    "    criterion = CrossEntropyLoss(),\n",
    "    batch_norm = True,\n",
    "    L2_reg_term = 0.001\n",
    ")\n",
    "\n",
    "mlp.add(Linear(128, 1024, dropout=0.4))\n",
    "mlp.add(ReLU())\n",
    "mlp.add(Linear(1024, 512, dropout=0.2))\n",
    "mlp.add(ReLU())\n",
    "# adding layer\n",
    "mlp.add(Linear(512, 64, dropout=0.2))\n",
    "mlp.add(ReLU())\n",
    "mlp.add(Linear(64, 32, dropout=0.2))\n",
    "mlp.add(ReLU())\n",
    "mlp.add(Linear(32, 16, dropout=0.2))  \n",
    "mlp.add(ReLU())\n",
    "mlp.add(Linear(16, 10))  \n",
    "\n",
    "\n",
    "mlp.set_name(\"Adam_network\")\n",
    "print(f\"{mlp.model_name} is initialized and ready to be trained.\")"
   ]
  },
  {
   "cell_type": "markdown",
   "id": "71a74faa",
   "metadata": {},
   "source": [
    "### Train and Evaluate Scenario B"
   ]
  },
  {
   "cell_type": "code",
   "execution_count": null,
   "id": "9a634ee8",
   "metadata": {},
   "outputs": [],
   "source": [
    "\n",
    "mlp.set_name(\"add2\")\n",
    "print(f\"{mlp.model_name} is initialized and ready to be trained.\")\n",
    "\n",
    "addB = mlp.train_convergence(\n",
    "    train_set = train_set,\n",
    "    valid_set = valid_set,\n",
    "    batch_size = 500,\n",
    "    planned_epochs = 100,\n",
    "    last_check = 10,\n",
    "    threshold = 1e-25,\n",
    "    report_interval = 5\n",
    ")\n",
    "\n",
    "{\"tags\": [\"hide-output\"]}"
   ]
  },
  {
   "cell_type": "code",
   "execution_count": null,
   "id": "e8ff5ec8",
   "metadata": {},
   "outputs": [],
   "source": [
    "plot_results(add_stat)"
   ]
  },
  {
   "cell_type": "code",
   "execution_count": null,
   "id": "275c1b3e",
   "metadata": {},
   "outputs": [],
   "source": [
    "# Loading best model found:\n",
    "\n",
    "best_model = Net.load_model(\"model/\" + mlp.model_name)\n",
    "best_model.test_network(train_set, \"train data\")\n",
    "best_model.test_network(valid_set, \"valid data\")\n",
    "best_model.test_network(test_set, \"test data\")"
   ]
  },
  {
   "cell_type": "markdown",
   "id": "2c4e2024",
   "metadata": {},
   "source": [
    "## Scenario C"
   ]
  },
  {
   "cell_type": "code",
   "execution_count": null,
   "id": "74a5894c",
   "metadata": {},
   "outputs": [],
   "source": [
    "mlp = Net(\n",
    "    optimizer = Adam(),\n",
    "    criterion = CrossEntropyLoss(),\n",
    "    batch_norm = True,\n",
    "    L2_reg_term = 0.001\n",
    ")\n",
    "\n",
    "mlp.add(Linear(128, 1024, dropout=0.4))\n",
    "mlp.add(ReLU())\n",
    "# adding layer\n",
    "mlp.add(Linear(1024, 512, dropout=0.4))\n",
    "mlp.add(ReLU())\n",
    "mlp.add(Linear(512, 128, dropout=0.2))\n",
    "mlp.add(ReLU())\n",
    "mlp.add(Linear(128, 32, dropout=0.2))\n",
    "mlp.add(ReLU())\n",
    "mlp.add(Linear(32, 16, dropout=0.2))  \n",
    "mlp.add(ReLU())\n",
    "mlp.add(Linear(16, 10))  \n",
    "\n",
    "\n",
    "mlp.set_name(\"Adam_network\")\n",
    "print(f\"{mlp.model_name} is initialized and ready to be trained.\")"
   ]
  },
  {
   "cell_type": "markdown",
   "id": "6ec23a47",
   "metadata": {},
   "source": [
    "## Train and Evaluate Scenario C"
   ]
  },
  {
   "cell_type": "code",
   "execution_count": null,
   "id": "d943e55e",
   "metadata": {},
   "outputs": [],
   "source": [
    "\n",
    "mlp.set_name(\"add3\")\n",
    "print(f\"{mlp.model_name} is initialized and ready to be trained.\")\n",
    "\n",
    "addC = mlp.train_convergence(\n",
    "    train_set = train_set,\n",
    "    valid_set = valid_set,\n",
    "    batch_size = 500,\n",
    "    planned_epochs = 100,\n",
    "    last_check = 10,\n",
    "    threshold = 1e-25,\n",
    "    report_interval = 5\n",
    ")\n",
    "\n",
    "{\"tags\": [\"hide-output\"]}"
   ]
  },
  {
   "cell_type": "code",
   "execution_count": null,
   "id": "03330ccc",
   "metadata": {},
   "outputs": [],
   "source": [
    "plot_results(add_stat)"
   ]
  },
  {
   "cell_type": "code",
   "execution_count": null,
   "id": "6c882b4c",
   "metadata": {},
   "outputs": [],
   "source": [
    "# Loading best model found:\n",
    "\n",
    "best_model = Net.load_model(\"model/\" + mlp.model_name)\n",
    "best_model.test_network(train_set, \"train data\")\n",
    "best_model.test_network(valid_set, \"valid data\")\n",
    "best_model.test_network(test_set, \"test data\")"
   ]
  }
 ],
 "metadata": {
  "kernelspec": {
   "display_name": "Python 3 (ipykernel)",
   "language": "python",
   "name": "python3"
  },
  "language_info": {
   "codemirror_mode": {
    "name": "ipython",
    "version": 3
   },
   "file_extension": ".py",
   "mimetype": "text/x-python",
   "name": "python",
   "nbconvert_exporter": "python",
   "pygments_lexer": "ipython3",
   "version": "3.10.2"
  }
 },
 "nbformat": 4,
 "nbformat_minor": 5
}
