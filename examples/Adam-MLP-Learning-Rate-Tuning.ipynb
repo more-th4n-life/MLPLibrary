{
 "cells": [
  {
   "cell_type": "markdown",
   "id": "7b8d1f1a",
   "metadata": {},
   "source": [
    "## Learning-Rate Tuning"
   ]
  },
  {
   "cell_type": "code",
   "execution_count": 1,
   "id": "2345991a",
   "metadata": {},
   "outputs": [],
   "source": [
    "import os\n",
    "import sys\n",
    "\n",
    "# CHANGE LEVELS:\n",
    "chdir = os.path.dirname(os.getcwd())\n",
    "sys.path.insert(0, chdir)\n",
    "\n",
    "# Importing all the modules and functions related to constructing MLP network models\n",
    "\n",
    "from network.net import Net                   # Net class, base class for constructing MLP networks\n",
    "from network.layer import Linear              # Linear class, child class of parent class Layer \n",
    "from network.loss import CrossEntropyLoss     # CrossEntropyLoss class, child class of parent class Loss\n",
    "from network.activ import ReLU, LeakyReLU     # ReLU, LeakyReLU classes, child classes of parent class Activation\n",
    "from network.optim import SGD, Adam           # SGD, Adam classes, child classes of parent class Optimizer"
   ]
  },
  {
   "cell_type": "code",
   "execution_count": 2,
   "id": "f5bc9454",
   "metadata": {},
   "outputs": [],
   "source": [
    "# Importing all the modules and functions related to data processing including loaders for the assignment data\n",
    "\n",
    "# Process module contains functions relating to data processing:\n",
    "from network.loader.process import (\n",
    "    train_test_split,        # Function to split data with chosen ratio, data can be shuffled\n",
    "    normalize,               # Normalizes data to have mean of zero and unit variance\n",
    "    standardize,             # Normalizes data to be between range 0-1, i.e. standardizes data\n",
    "    one_hot,                 # One hot encoding: 100% prob of 2 is [0, 0, 1] with 3 classes\n",
    "    pca                      # Reduces data to chosen K principal components\n",
    ") \n",
    "\n",
    "# Data module for loading the assignment data\n",
    "from network.dataset.source import (\n",
    "    get_data_from_file,   # Loads assignment data from file (must be within main directory)\n",
    "    get_data_from_url     # Loads assignment data from public GitHub repo that stores data\n",
    ")\n",
    "\n",
    "# Data loader module for automating processing of and loading of assignment data based on parameter selections\n",
    "from network.loader.data_loader import load_train_val_test  # Parameter selections decide method of processing\n",
    "\n",
    "import numpy as np\n",
    "import matplotlib.pyplot as pl\n",
    "import pandas as pd \n",
    "import seaborn as sns\n",
    "\n",
    "# setting random seed\n",
    "np.random.seed(123)"
   ]
  },
  {
   "cell_type": "code",
   "execution_count": 4,
   "id": "7591e4ec",
   "metadata": {},
   "outputs": [],
   "source": [
    "def plot_results(stats):\n",
    "    ep, tl, ta, vl, va = stats\n",
    "    pl.figure(figsize = (10, 7))\n",
    "\n",
    "    fig, ((ax1, ax2), (ax3, ax4)) = pl.subplots(2, 2)\n",
    "    fig.suptitle(f'Training Results, best model found @ Epoch {ep}')\n",
    "\n",
    "    ax1.plot(tl)\n",
    "    ax1.set_title('Training Loss')\n",
    "\n",
    "    ax2.plot(vl, 'tab:orange')\n",
    "    ax2.set_title('Validation Loss')\n",
    "\n",
    "    ax3.plot(ta, 'tab:green')\n",
    "    ax3.set_title('Training Accuracy')\n",
    "\n",
    "    ax4.plot(va, 'tab:red')\n",
    "    ax4.set_title('Validation Accuracy')\n",
    "    \n",
    "    for ax in fig.get_axes():\n",
    "        ax.label_outer()\n",
    "\n",
    "    pl.show()\n",
    "\n",
    "# Note as we are loading data from URL it will take longer than from file.\n",
    "train_set, valid_set, test_set = load_train_val_test(\n",
    "    source = \"url\", method = \"standardize\", pca_N = 0, n_categories = 10, ratio = 0.2, shuffle = True\n",
    ")"
   ]
  },
  {
   "cell_type": "markdown",
   "id": "0fd2c93e",
   "metadata": {},
   "source": [
    "## Base Model - Default Adam Learning Rate "
   ]
  },
  {
   "cell_type": "code",
   "execution_count": 5,
   "id": "f7bc7fdf",
   "metadata": {},
   "outputs": [
    {
     "name": "stdout",
     "output_type": "stream",
     "text": [
      "Adam_network is initialized and ready to be trained.\n"
     ]
    }
   ],
   "source": [
    "mlp = Net(\n",
    "    optimizer = Adam(\n",
    "        learning_rate = 0.001  # Default value\n",
    "    ),\n",
    "    criterion = CrossEntropyLoss(),\n",
    "    batch_norm = True,\n",
    "    L2_reg_term = 0.001\n",
    ")\n",
    "\n",
    "mlp.add(Linear(128, 1024, dropout=0.4))\n",
    "mlp.add(ReLU())\n",
    "mlp.add(Linear(1024, 512, dropout=0.2))\n",
    "mlp.add(ReLU())\n",
    "mlp.add(Linear(512, 64, dropout=0.2))\n",
    "mlp.add(ReLU())\n",
    "mlp.add(Linear(64, 16, dropout=0.2))\n",
    "mlp.add(ReLU())\n",
    "mlp.add(Linear(16, 10))  \n",
    "\n",
    "\n",
    "mlp.set_name(\"Adam_network\")\n",
    "print(f\"{mlp.model_name} is initialized and ready to be trained.\")"
   ]
  },
  {
   "cell_type": "markdown",
   "id": "ec279721",
   "metadata": {},
   "source": [
    "## Scenario A: lr x 10 ** 1"
   ]
  },
  {
   "cell_type": "code",
   "execution_count": 6,
   "id": "6152f287",
   "metadata": {},
   "outputs": [
    {
     "name": "stdout",
     "output_type": "stream",
     "text": [
      "Adam_network_10 is initialized and ready to be trained.\n"
     ]
    }
   ],
   "source": [
    "s10 = Net(\n",
    "    optimizer = Adam(\n",
    "        learning_rate = 0.01  # \n",
    "    ),\n",
    "    criterion = CrossEntropyLoss(),\n",
    "    batch_norm = True,\n",
    "    L2_reg_term = 0.001\n",
    ")\n",
    "\n",
    "s10.add(Linear(128, 1024, dropout=0.4))\n",
    "s10.add(ReLU())\n",
    "s10.add(Linear(1024, 512, dropout=0.2))\n",
    "s10.add(ReLU())\n",
    "s10.add(Linear(512, 64, dropout=0.2))\n",
    "s10.add(ReLU())\n",
    "s10.add(Linear(64, 16, dropout=0.2))\n",
    "s10.add(ReLU())\n",
    "s10.add(Linear(16, 10))  \n",
    "\n",
    "\n",
    "s10.set_name(\"Adam_network_10\")\n",
    "print(f\"{s10.model_name} is initialized and ready to be trained.\")"
   ]
  },
  {
   "cell_type": "markdown",
   "id": "9adfc693",
   "metadata": {},
   "source": [
    "### Train and Evaluate Scenario A"
   ]
  },
  {
   "cell_type": "code",
   "execution_count": 7,
   "id": "43585032",
   "metadata": {},
   "outputs": [
    {
     "name": "stderr",
     "output_type": "stream",
     "text": [
      "  1%|█▍                                                                                                                                           | 1/100 [00:07<11:38,  7.05s/it]"
     ]
    },
    {
     "name": "stdout",
     "output_type": "stream",
     "text": [
      "Epoch: 0\tInterval Time: 7.0 sec(s)\tTraining Loss: 1.903595\t\tTraining Accuracy: 0.318100\n",
      "\t\t\t\t\t\tValidation Loss:1.641534\tValidation Accuracy: 0.424800\n"
     ]
    },
    {
     "name": "stderr",
     "output_type": "stream",
     "text": [
      "  6%|████████▍                                                                                                                                    | 6/100 [00:41<10:48,  6.90s/it]"
     ]
    },
    {
     "name": "stdout",
     "output_type": "stream",
     "text": [
      "Epoch: 5\tInterval Time: 34.4 sec(s)\tTraining Loss: 1.429581\t\tTraining Accuracy: 0.524325\n",
      "\t\t\t\t\t\tValidation Loss:1.391677\tValidation Accuracy: 0.535100\n"
     ]
    },
    {
     "name": "stderr",
     "output_type": "stream",
     "text": [
      " 11%|███████████████▍                                                                                                                            | 11/100 [01:15<10:10,  6.86s/it]"
     ]
    },
    {
     "name": "stdout",
     "output_type": "stream",
     "text": [
      "Epoch: 10\tInterval Time: 34.3 sec(s)\tTraining Loss: 1.311897\t\tTraining Accuracy: 0.579750\n",
      "\t\t\t\t\t\tValidation Loss:1.337018\tValidation Accuracy: 0.559700\n"
     ]
    },
    {
     "name": "stderr",
     "output_type": "stream",
     "text": [
      " 16%|██████████████████████▍                                                                                                                     | 16/100 [01:50<09:38,  6.89s/it]"
     ]
    },
    {
     "name": "stdout",
     "output_type": "stream",
     "text": [
      "Epoch: 15\tInterval Time: 34.5 sec(s)\tTraining Loss: 1.250449\t\tTraining Accuracy: 0.609925\n",
      "\t\t\t\t\t\tValidation Loss:1.312225\tValidation Accuracy: 0.574700\n"
     ]
    },
    {
     "name": "stderr",
     "output_type": "stream",
     "text": [
      " 21%|█████████████████████████████▍                                                                                                              | 21/100 [02:24<09:07,  6.93s/it]"
     ]
    },
    {
     "name": "stdout",
     "output_type": "stream",
     "text": [
      "Epoch: 20\tInterval Time: 34.6 sec(s)\tTraining Loss: 1.205551\t\tTraining Accuracy: 0.635350\n",
      "\t\t\t\t\t\tValidation Loss:1.304418\tValidation Accuracy: 0.576000\n"
     ]
    },
    {
     "name": "stderr",
     "output_type": "stream",
     "text": [
      " 26%|████████████████████████████████████▍                                                                                                       | 26/100 [03:00<08:39,  7.02s/it]"
     ]
    },
    {
     "name": "stdout",
     "output_type": "stream",
     "text": [
      "Epoch: 25\tInterval Time: 35.3 sec(s)\tTraining Loss: 1.171086\t\tTraining Accuracy: 0.654625\n",
      "\t\t\t\t\t\tValidation Loss:1.289529\tValidation Accuracy: 0.588600\n"
     ]
    },
    {
     "name": "stderr",
     "output_type": "stream",
     "text": [
      " 31%|███████████████████████████████████████████▍                                                                                                | 31/100 [03:35<08:09,  7.10s/it]"
     ]
    },
    {
     "name": "stdout",
     "output_type": "stream",
     "text": [
      "Epoch: 30\tInterval Time: 35.2 sec(s)\tTraining Loss: 1.142679\t\tTraining Accuracy: 0.666775\n",
      "\t\t\t\t\t\tValidation Loss:1.296388\tValidation Accuracy: 0.589800\n"
     ]
    },
    {
     "name": "stderr",
     "output_type": "stream",
     "text": [
      " 34%|███████████████████████████████████████████████▌                                                                                            | 34/100 [04:03<07:53,  7.17s/it]"
     ]
    },
    {
     "name": "stdout",
     "output_type": "stream",
     "text": [
      "\n",
      "\n",
      "Minimum percent change (1e-25%) in training loss not exceeded.\n",
      "\n",
      "Convergence criteria achieved.\n",
      "Training completed @ Epoch 34.\n",
      "Total training time: 4 min 3.9 s\n",
      "\n",
      "                Best model found @ Epoch 34\n",
      "                --------------------------------------------\n",
      "                Training Loss: 1.127680\n",
      "                Validation Loss: 1.283842\n",
      "                --------------------------------------------\n",
      "                Training Accuracy: 0.674900\n",
      "                Validation Accuracy: 0.593700\n",
      "\n",
      "\n",
      "Best model 'Adam_network_10' saved in 'model/' directory.\n"
     ]
    },
    {
     "name": "stderr",
     "output_type": "stream",
     "text": [
      "\n"
     ]
    },
    {
     "data": {
      "text/plain": [
       "{'tags': ['hide-output']}"
      ]
     },
     "execution_count": 7,
     "metadata": {},
     "output_type": "execute_result"
    }
   ],
   "source": [
    "s10s = s10.train_convergence(\n",
    "    train_set = train_set,\n",
    "    valid_set = valid_set,\n",
    "    batch_size = 500,\n",
    "    planned_epochs = 100,\n",
    "    last_check = 10,\n",
    "    threshold = 1e-25,\n",
    "    report_interval = 5\n",
    ")\n",
    "\n",
    "{\"tags\": [\"hide-output\"]}"
   ]
  },
  {
   "cell_type": "code",
   "execution_count": 8,
   "id": "7b5b772e",
   "metadata": {},
   "outputs": [
    {
     "data": {
      "text/plain": [
       "<Figure size 720x504 with 0 Axes>"
      ]
     },
     "metadata": {},
     "output_type": "display_data"
    },
    {
     "data": {
      "image/png": "[encoded data removed]",
      "text/plain": [
       "<Figure size 432x288 with 4 Axes>"
      ]
     },
     "metadata": {
      "needs_background": "light"
     },
     "output_type": "display_data"
    }
   ],
   "source": [
    "plot_results(s10s)"
   ]
  },
  {
   "cell_type": "code",
   "execution_count": 9,
   "id": "aa303836",
   "metadata": {},
   "outputs": [
    {
     "name": "stdout",
     "output_type": "stream",
     "text": [
      "-------------------------------------------\n",
      "Accuracy on train data: 85.07%\n",
      "Total Count:  40000\n",
      "Total Match:  34027\n",
      "-------------------------------------------\n",
      "Test Accuracy of\t0: 90.25% (3664/4060)\n",
      "Test Accuracy of\t1: 79.40% (3183/4009)\n",
      "Test Accuracy of\t2: 73.89% (2946/3987)\n",
      "Test Accuracy of\t3: 85.64% (3410/3982)\n",
      "Test Accuracy of\t4: 74.88% (3002/4009)\n",
      "Test Accuracy of\t5: 90.40% (3627/4012)\n",
      "Test Accuracy of\t6: 88.14% (3493/3963)\n",
      "Test Accuracy of\t7: 92.20% (3712/4026)\n",
      "Test Accuracy of\t8: 89.80% (3549/3952)\n",
      "Test Accuracy of\t9: 86.02% (3441/4000)\n",
      "-------------------------------------------\n",
      "Accuracy on valid data: 59.37%\n",
      "Total Count:  10000\n",
      "Total Match:  5937\n",
      "-------------------------------------------\n",
      "Test Accuracy of\t0: 70.32% (661/940)\n",
      "Test Accuracy of\t1: 47.53% (471/991)\n",
      "Test Accuracy of\t2: 39.98% (405/1013)\n",
      "Test Accuracy of\t3: 51.47% (524/1018)\n",
      "Test Accuracy of\t4: 48.54% (481/991)\n",
      "Test Accuracy of\t5: 65.28% (645/988)\n",
      "Test Accuracy of\t6: 64.61% (670/1037)\n",
      "Test Accuracy of\t7: 78.23% (762/974)\n",
      "Test Accuracy of\t8: 66.70% (699/1048)\n",
      "Test Accuracy of\t9: 61.90% (619/1000)\n",
      "-------------------------------------------\n",
      "Accuracy on test data: 58.81%\n",
      "Total Count:  10000\n",
      "Total Match:  5881\n",
      "-------------------------------------------\n",
      "Test Accuracy of\t0: 68.20% (682/1000)\n",
      "Test Accuracy of\t1: 43.70% (437/1000)\n",
      "Test Accuracy of\t2: 37.70% (377/1000)\n",
      "Test Accuracy of\t3: 51.70% (517/1000)\n",
      "Test Accuracy of\t4: 47.20% (472/1000)\n",
      "Test Accuracy of\t5: 67.70% (677/1000)\n",
      "Test Accuracy of\t6: 67.20% (672/1000)\n",
      "Test Accuracy of\t7: 73.60% (736/1000)\n",
      "Test Accuracy of\t8: 65.30% (653/1000)\n",
      "Test Accuracy of\t9: 65.80% (658/1000)\n"
     ]
    }
   ],
   "source": [
    "# Loading best model found:\n",
    "\n",
    "best_model = Net.load_model(\"model/\" + s10.model_name)\n",
    "best_model.test_network(train_set, \"train data\")\n",
    "best_model.test_network(valid_set, \"valid data\")\n",
    "best_model.test_network(test_set, \"test data\")"
   ]
  },
  {
   "cell_type": "markdown",
   "id": "05c9877f",
   "metadata": {},
   "source": [
    "# *This is higher than the current model's accuracy on test set (58.65).*"
   ]
  },
  {
   "cell_type": "markdown",
   "id": "2e442dd8",
   "metadata": {},
   "source": [
    "### Scenario B: lr x 10 ** 2"
   ]
  },
  {
   "cell_type": "code",
   "execution_count": 10,
   "id": "ca17a4d7",
   "metadata": {},
   "outputs": [
    {
     "name": "stdout",
     "output_type": "stream",
     "text": [
      "Adam_network_100 is initialized and ready to be trained.\n"
     ]
    }
   ],
   "source": [
    "s100 = Net(\n",
    "    optimizer = Adam(\n",
    "        learning_rate = 0.1  \n",
    "    ),\n",
    "    criterion = CrossEntropyLoss(),\n",
    "    batch_norm = True,\n",
    "    L2_reg_term = 0.001\n",
    ")\n",
    "\n",
    "s100.add(Linear(128, 1024, dropout=0.4))\n",
    "s100.add(ReLU())\n",
    "s100.add(Linear(1024, 512, dropout=0.2))\n",
    "s100.add(ReLU())\n",
    "s100.add(Linear(512, 64, dropout=0.2))\n",
    "s100.add(ReLU())\n",
    "s100.add(Linear(64, 16, dropout=0.2))\n",
    "s100.add(ReLU())\n",
    "s100.add(Linear(16, 10))  \n",
    "\n",
    "\n",
    "s100.set_name(\"Adam_network_100\")\n",
    "print(f\"{s100.model_name} is initialized and ready to be trained.\")"
   ]
  },
  {
   "cell_type": "markdown",
   "id": "7708348d",
   "metadata": {},
   "source": [
    "### Train and Evaluate Scenario B"
   ]
  },
  {
   "cell_type": "code",
   "execution_count": 11,
   "id": "f6eb5769",
   "metadata": {},
   "outputs": [
    {
     "name": "stderr",
     "output_type": "stream",
     "text": [
      "  1%|█▍                                                                                                                                           | 1/100 [00:08<14:50,  9.00s/it]"
     ]
    },
    {
     "name": "stdout",
     "output_type": "stream",
     "text": [
      "Epoch: 0\tInterval Time: 9.0 sec(s)\tTraining Loss: 1.963124\t\tTraining Accuracy: 0.274325\n",
      "\t\t\t\t\t\tValidation Loss:1.701381\tValidation Accuracy: 0.385200\n"
     ]
    },
    {
     "name": "stderr",
     "output_type": "stream",
     "text": [
      "  6%|████████▍                                                                                                                                    | 6/100 [00:45<11:23,  7.27s/it]"
     ]
    },
    {
     "name": "stdout",
     "output_type": "stream",
     "text": [
      "Epoch: 5\tInterval Time: 36.4 sec(s)\tTraining Loss: 1.484898\t\tTraining Accuracy: 0.494050\n",
      "\t\t\t\t\t\tValidation Loss:1.403132\tValidation Accuracy: 0.518000\n"
     ]
    },
    {
     "name": "stderr",
     "output_type": "stream",
     "text": [
      " 10%|██████████████                                                                                                                              | 10/100 [01:20<12:00,  8.00s/it]"
     ]
    },
    {
     "name": "stdout",
     "output_type": "stream",
     "text": [
      "Epoch: 10\tInterval Time: 34.6 sec(s)\tTraining Loss: 1.431971\t\tTraining Accuracy: 0.520475\n",
      "\t\t\t\t\t\tValidation Loss:1.371635\tValidation Accuracy: 0.537600\n",
      "\n",
      "\n",
      "Minimum percent change (1e-25%) in training loss not exceeded.\n",
      "\n",
      "Convergence criteria achieved.\n",
      "Training completed @ Epoch 10.\n",
      "Total training time: 1 min 20.0 s\n",
      "\n",
      "                Best model found @ Epoch 10\n",
      "                --------------------------------------------\n",
      "                Training Loss: 1.431971\n",
      "                Validation Loss: 1.371635\n",
      "                --------------------------------------------\n",
      "                Training Accuracy: 0.520475\n",
      "                Validation Accuracy: 0.537600\n",
      "\n",
      "\n",
      "Best model 'Adam_network_100' saved in 'model/' directory.\n"
     ]
    },
    {
     "name": "stderr",
     "output_type": "stream",
     "text": [
      "\n"
     ]
    },
    {
     "data": {
      "text/plain": [
       "{'tags': ['hide-output']}"
      ]
     },
     "execution_count": 11,
     "metadata": {},
     "output_type": "execute_result"
    }
   ],
   "source": [
    "s100s = s100.train_convergence(\n",
    "    train_set = train_set,\n",
    "    valid_set = valid_set,\n",
    "    batch_size = 500,\n",
    "    planned_epochs = 100,\n",
    "    last_check = 10,\n",
    "    threshold = 1e-25,\n",
    "    report_interval = 5\n",
    ")\n",
    "\n",
    "{\"tags\": [\"hide-output\"]}"
   ]
  },
  {
   "cell_type": "code",
   "execution_count": 12,
   "id": "39c33488",
   "metadata": {},
   "outputs": [
    {
     "data": {
      "text/plain": [
       "<Figure size 720x504 with 0 Axes>"
      ]
     },
     "metadata": {},
     "output_type": "display_data"
    },
    {
     "data": {
      "image/png": "[encoded data removed]",
      "text/plain": [
       "<Figure size 432x288 with 4 Axes>"
      ]
     },
     "metadata": {
      "needs_background": "light"
     },
     "output_type": "display_data"
    }
   ],
   "source": [
    "plot_results(s100s)"
   ]
  },
  {
   "cell_type": "code",
   "execution_count": 13,
   "id": "d34377ac",
   "metadata": {},
   "outputs": [
    {
     "name": "stdout",
     "output_type": "stream",
     "text": [
      "-------------------------------------------\n",
      "Accuracy on train data: 64.33%\n",
      "Total Count:  40000\n",
      "Total Match:  25732\n",
      "-------------------------------------------\n",
      "Test Accuracy of\t0: 69.31% (2814/4060)\n",
      "Test Accuracy of\t1: 47.94% (1922/4009)\n",
      "Test Accuracy of\t2: 50.74% (2023/3987)\n",
      "Test Accuracy of\t3: 54.09% (2154/3982)\n",
      "Test Accuracy of\t4: 42.98% (1723/4009)\n",
      "Test Accuracy of\t5: 79.04% (3171/4012)\n",
      "Test Accuracy of\t6: 75.25% (2982/3963)\n",
      "Test Accuracy of\t7: 78.22% (3149/4026)\n",
      "Test Accuracy of\t8: 77.86% (3077/3952)\n",
      "Test Accuracy of\t9: 67.92% (2717/4000)\n",
      "-------------------------------------------\n",
      "Accuracy on valid data: 53.76%\n",
      "Total Count:  10000\n",
      "Total Match:  5376\n",
      "-------------------------------------------\n",
      "Test Accuracy of\t0: 58.19% (547/940)\n",
      "Test Accuracy of\t1: 37.44% (371/991)\n",
      "Test Accuracy of\t2: 40.57% (411/1013)\n",
      "Test Accuracy of\t3: 44.60% (454/1018)\n",
      "Test Accuracy of\t4: 34.11% (338/991)\n",
      "Test Accuracy of\t5: 66.80% (660/988)\n",
      "Test Accuracy of\t6: 64.13% (665/1037)\n",
      "Test Accuracy of\t7: 69.51% (677/974)\n",
      "Test Accuracy of\t8: 66.41% (696/1048)\n",
      "Test Accuracy of\t9: 55.70% (557/1000)\n",
      "-------------------------------------------\n",
      "Accuracy on test data: 53.44%\n",
      "Total Count:  10000\n",
      "Total Match:  5344\n",
      "-------------------------------------------\n",
      "Test Accuracy of\t0: 57.80% (578/1000)\n",
      "Test Accuracy of\t1: 36.00% (360/1000)\n",
      "Test Accuracy of\t2: 38.20% (382/1000)\n",
      "Test Accuracy of\t3: 43.90% (439/1000)\n",
      "Test Accuracy of\t4: 33.40% (334/1000)\n",
      "Test Accuracy of\t5: 69.20% (692/1000)\n",
      "Test Accuracy of\t6: 65.80% (658/1000)\n",
      "Test Accuracy of\t7: 67.20% (672/1000)\n",
      "Test Accuracy of\t8: 64.30% (643/1000)\n",
      "Test Accuracy of\t9: 58.60% (586/1000)\n"
     ]
    }
   ],
   "source": [
    "# Loading best model found:\n",
    "\n",
    "best_model = Net.load_model(\"model/\" + s100.model_name)\n",
    "best_model.test_network(train_set, \"train data\")\n",
    "best_model.test_network(valid_set, \"valid data\")\n",
    "best_model.test_network(test_set, \"test data\")"
   ]
  },
  {
   "cell_type": "markdown",
   "id": "769fa8df",
   "metadata": {},
   "source": [
    "### Scenario B: lr x 10 ** -1"
   ]
  },
  {
   "cell_type": "code",
   "execution_count": 14,
   "id": "c0c893b4",
   "metadata": {},
   "outputs": [
    {
     "name": "stdout",
     "output_type": "stream",
     "text": [
      "Adam_network_01 is initialized and ready to be trained.\n"
     ]
    }
   ],
   "source": [
    "s01 = Net(\n",
    "    optimizer = Adam(\n",
    "        learning_rate = 0.0001  \n",
    "    ),\n",
    "    criterion = CrossEntropyLoss(),\n",
    "    batch_norm = True,\n",
    "    L2_reg_term = 0.001\n",
    ")\n",
    "\n",
    "s01.add(Linear(128, 1024, dropout=0.4))\n",
    "s01.add(ReLU())\n",
    "s01.add(Linear(1024, 512, dropout=0.2))\n",
    "s01.add(ReLU())\n",
    "s01.add(Linear(512, 64, dropout=0.2))\n",
    "s01.add(ReLU())\n",
    "s01.add(Linear(64, 16, dropout=0.2))\n",
    "s01.add(ReLU())\n",
    "s01.add(Linear(16, 10))  \n",
    "\n",
    "\n",
    "s01.set_name(\"Adam_network_01\")\n",
    "print(f\"{s01.model_name} is initialized and ready to be trained.\")"
   ]
  },
  {
   "cell_type": "markdown",
   "id": "54edcd88",
   "metadata": {},
   "source": [
    "## Train and Evaluate Scenario C"
   ]
  },
  {
   "cell_type": "code",
   "execution_count": 15,
   "id": "e7e579f8",
   "metadata": {},
   "outputs": [
    {
     "name": "stderr",
     "output_type": "stream",
     "text": [
      "  1%|█▍                                                                                                                                           | 1/100 [00:08<13:36,  8.24s/it]"
     ]
    },
    {
     "name": "stdout",
     "output_type": "stream",
     "text": [
      "Epoch: 0\tInterval Time: 8.2 sec(s)\tTraining Loss: 2.629321\t\tTraining Accuracy: 0.118525\n",
      "\t\t\t\t\t\tValidation Loss:2.223344\tValidation Accuracy: 0.190500\n"
     ]
    },
    {
     "name": "stderr",
     "output_type": "stream",
     "text": [
      "  6%|████████▍                                                                                                                                    | 6/100 [00:51<13:31,  8.64s/it]"
     ]
    },
    {
     "name": "stdout",
     "output_type": "stream",
     "text": [
      "Epoch: 5\tInterval Time: 43.0 sec(s)\tTraining Loss: 2.075981\t\tTraining Accuracy: 0.273200\n",
      "\t\t\t\t\t\tValidation Loss:1.891878\tValidation Accuracy: 0.371000\n"
     ]
    },
    {
     "name": "stderr",
     "output_type": "stream",
     "text": [
      " 11%|███████████████▍                                                                                                                            | 11/100 [01:32<11:57,  8.06s/it]"
     ]
    },
    {
     "name": "stdout",
     "output_type": "stream",
     "text": [
      "Epoch: 10\tInterval Time: 41.4 sec(s)\tTraining Loss: 1.923446\t\tTraining Accuracy: 0.327050\n",
      "\t\t\t\t\t\tValidation Loss:1.771536\tValidation Accuracy: 0.414600\n"
     ]
    },
    {
     "name": "stderr",
     "output_type": "stream",
     "text": [
      " 16%|██████████████████████▍                                                                                                                     | 16/100 [02:06<09:51,  7.04s/it]"
     ]
    },
    {
     "name": "stdout",
     "output_type": "stream",
     "text": [
      "Epoch: 15\tInterval Time: 34.2 sec(s)\tTraining Loss: 1.826462\t\tTraining Accuracy: 0.362075\n",
      "\t\t\t\t\t\tValidation Loss:1.697569\tValidation Accuracy: 0.435200\n"
     ]
    },
    {
     "name": "stderr",
     "output_type": "stream",
     "text": [
      " 21%|█████████████████████████████▍                                                                                                              | 21/100 [02:41<09:08,  6.94s/it]"
     ]
    },
    {
     "name": "stdout",
     "output_type": "stream",
     "text": [
      "Epoch: 20\tInterval Time: 34.6 sec(s)\tTraining Loss: 1.757923\t\tTraining Accuracy: 0.391750\n",
      "\t\t\t\t\t\tValidation Loss:1.648862\tValidation Accuracy: 0.453500\n"
     ]
    },
    {
     "name": "stderr",
     "output_type": "stream",
     "text": [
      " 26%|████████████████████████████████████▍                                                                                                       | 26/100 [03:15<08:29,  6.88s/it]"
     ]
    },
    {
     "name": "stdout",
     "output_type": "stream",
     "text": [
      "Epoch: 25\tInterval Time: 34.3 sec(s)\tTraining Loss: 1.710663\t\tTraining Accuracy: 0.408800\n",
      "\t\t\t\t\t\tValidation Loss:1.603429\tValidation Accuracy: 0.465600\n"
     ]
    },
    {
     "name": "stderr",
     "output_type": "stream",
     "text": [
      " 31%|███████████████████████████████████████████▍                                                                                                | 31/100 [03:49<07:52,  6.85s/it]"
     ]
    },
    {
     "name": "stdout",
     "output_type": "stream",
     "text": [
      "Epoch: 30\tInterval Time: 34.3 sec(s)\tTraining Loss: 1.661240\t\tTraining Accuracy: 0.427650\n",
      "\t\t\t\t\t\tValidation Loss:1.559893\tValidation Accuracy: 0.480800\n"
     ]
    },
    {
     "name": "stderr",
     "output_type": "stream",
     "text": [
      " 36%|██████████████████████████████████████████████████▍                                                                                         | 36/100 [04:32<08:52,  8.32s/it]"
     ]
    },
    {
     "name": "stdout",
     "output_type": "stream",
     "text": [
      "Epoch: 35\tInterval Time: 43.0 sec(s)\tTraining Loss: 1.614928\t\tTraining Accuracy: 0.449100\n",
      "\t\t\t\t\t\tValidation Loss:1.527219\tValidation Accuracy: 0.496100\n"
     ]
    },
    {
     "name": "stderr",
     "output_type": "stream",
     "text": [
      " 41%|█████████████████████████████████████████████████████████▍                                                                                  | 41/100 [05:11<07:26,  7.56s/it]"
     ]
    },
    {
     "name": "stdout",
     "output_type": "stream",
     "text": [
      "Epoch: 40\tInterval Time: 38.7 sec(s)\tTraining Loss: 1.577745\t\tTraining Accuracy: 0.466975\n",
      "\t\t\t\t\t\tValidation Loss:1.498428\tValidation Accuracy: 0.507400\n"
     ]
    },
    {
     "name": "stderr",
     "output_type": "stream",
     "text": [
      " 46%|████████████████████████████████████████████████████████████████▍                                                                           | 46/100 [05:45<06:16,  6.97s/it]"
     ]
    },
    {
     "name": "stdout",
     "output_type": "stream",
     "text": [
      "Epoch: 45\tInterval Time: 34.3 sec(s)\tTraining Loss: 1.550696\t\tTraining Accuracy: 0.475700\n",
      "\t\t\t\t\t\tValidation Loss:1.468736\tValidation Accuracy: 0.515100\n"
     ]
    },
    {
     "name": "stderr",
     "output_type": "stream",
     "text": [
      " 51%|███████████████████████████████████████████████████████████████████████▍                                                                    | 51/100 [06:20<05:36,  6.88s/it]"
     ]
    },
    {
     "name": "stdout",
     "output_type": "stream",
     "text": [
      "Epoch: 50\tInterval Time: 34.3 sec(s)\tTraining Loss: 1.513837\t\tTraining Accuracy: 0.492675\n",
      "\t\t\t\t\t\tValidation Loss:1.446682\tValidation Accuracy: 0.523300\n"
     ]
    },
    {
     "name": "stderr",
     "output_type": "stream",
     "text": [
      " 55%|█████████████████████████████████████████████████████████████████████████████                                                               | 55/100 [06:54<05:39,  7.54s/it]"
     ]
    },
    {
     "name": "stdout",
     "output_type": "stream",
     "text": [
      "Epoch: 55\tInterval Time: 34.3 sec(s)\tTraining Loss: 1.488860\t\tTraining Accuracy: 0.505650\n",
      "\t\t\t\t\t\tValidation Loss:1.424319\tValidation Accuracy: 0.533100\n",
      "\n",
      "\n",
      "Minimum percent change (1e-25%) in training loss not exceeded.\n",
      "\n",
      "Convergence criteria achieved.\n",
      "Training completed @ Epoch 55.\n",
      "Total training time: 6 min 54.4 s\n",
      "\n",
      "                Best model found @ Epoch 55\n",
      "                --------------------------------------------\n",
      "                Training Loss: 1.488860\n",
      "                Validation Loss: 1.424319\n",
      "                --------------------------------------------\n",
      "                Training Accuracy: 0.505650\n",
      "                Validation Accuracy: 0.533100\n",
      "\n",
      "\n",
      "Best model 'Adam_network_01' saved in 'model/' directory.\n"
     ]
    },
    {
     "name": "stderr",
     "output_type": "stream",
     "text": [
      "\n"
     ]
    },
    {
     "data": {
      "text/plain": [
       "{'tags': ['hide-output']}"
      ]
     },
     "execution_count": 15,
     "metadata": {},
     "output_type": "execute_result"
    }
   ],
   "source": [
    "s01s = s01.train_convergence(\n",
    "    train_set = train_set,\n",
    "    valid_set = valid_set,\n",
    "    batch_size = 500,\n",
    "    planned_epochs = 100,\n",
    "    last_check = 10,\n",
    "    threshold = 1e-25,\n",
    "    report_interval = 5\n",
    ")\n",
    "\n",
    "{\"tags\": [\"hide-output\"]}"
   ]
  },
  {
   "cell_type": "code",
   "execution_count": 16,
   "id": "cbb7c3be",
   "metadata": {},
   "outputs": [
    {
     "data": {
      "text/plain": [
       "<Figure size 720x504 with 0 Axes>"
      ]
     },
     "metadata": {},
     "output_type": "display_data"
    },
    {
     "data": {
      "image/png": "[encoded data removed]",
      "text/plain": [
       "<Figure size 432x288 with 4 Axes>"
      ]
     },
     "metadata": {
      "needs_background": "light"
     },
     "output_type": "display_data"
    }
   ],
   "source": [
    "plot_results(s01s)"
   ]
  },
  {
   "cell_type": "code",
   "execution_count": 17,
   "id": "3a182ca1",
   "metadata": {},
   "outputs": [
    {
     "name": "stdout",
     "output_type": "stream",
     "text": [
      "-------------------------------------------\n",
      "Accuracy on train data: 64.30%\n",
      "Total Count:  40000\n",
      "Total Match:  25718\n",
      "-------------------------------------------\n",
      "Test Accuracy of\t0: 73.45% (2982/4060)\n",
      "Test Accuracy of\t1: 50.71% (2033/4009)\n",
      "Test Accuracy of\t2: 44.02% (1755/3987)\n",
      "Test Accuracy of\t3: 57.36% (2284/3982)\n",
      "Test Accuracy of\t4: 50.84% (2038/4009)\n",
      "Test Accuracy of\t5: 81.33% (3263/4012)\n",
      "Test Accuracy of\t6: 69.19% (2742/3963)\n",
      "Test Accuracy of\t7: 79.16% (3187/4026)\n",
      "Test Accuracy of\t8: 72.72% (2874/3952)\n",
      "Test Accuracy of\t9: 64.00% (2560/4000)\n",
      "-------------------------------------------\n",
      "Accuracy on valid data: 53.31%\n",
      "Total Count:  10000\n",
      "Total Match:  5331\n",
      "-------------------------------------------\n",
      "Test Accuracy of\t0: 64.57% (607/940)\n",
      "Test Accuracy of\t1: 41.37% (410/991)\n",
      "Test Accuracy of\t2: 30.31% (307/1013)\n",
      "Test Accuracy of\t3: 45.78% (466/1018)\n",
      "Test Accuracy of\t4: 39.15% (388/991)\n",
      "Test Accuracy of\t5: 66.60% (658/988)\n",
      "Test Accuracy of\t6: 59.98% (622/1037)\n",
      "Test Accuracy of\t7: 72.69% (708/974)\n",
      "Test Accuracy of\t8: 61.64% (646/1048)\n",
      "Test Accuracy of\t9: 51.90% (519/1000)\n",
      "-------------------------------------------\n",
      "Accuracy on test data: 53.25%\n",
      "Total Count:  10000\n",
      "Total Match:  5325\n",
      "-------------------------------------------\n",
      "Test Accuracy of\t0: 63.30% (633/1000)\n",
      "Test Accuracy of\t1: 38.30% (383/1000)\n",
      "Test Accuracy of\t2: 28.90% (289/1000)\n",
      "Test Accuracy of\t3: 45.00% (450/1000)\n",
      "Test Accuracy of\t4: 37.70% (377/1000)\n",
      "Test Accuracy of\t5: 70.10% (701/1000)\n",
      "Test Accuracy of\t6: 61.30% (613/1000)\n",
      "Test Accuracy of\t7: 70.50% (705/1000)\n",
      "Test Accuracy of\t8: 60.60% (606/1000)\n",
      "Test Accuracy of\t9: 56.80% (568/1000)\n"
     ]
    }
   ],
   "source": [
    "# Loading best model found:\n",
    "\n",
    "best_model = Net.load_model(\"model/\" + s01.model_name)\n",
    "best_model.test_network(train_set, \"train data\")\n",
    "best_model.test_network(valid_set, \"valid data\")\n",
    "best_model.test_network(test_set, \"test data\")"
   ]
  }
 ],
 "metadata": {
  "kernelspec": {
   "display_name": "Python 3 (ipykernel)",
   "language": "python",
   "name": "python3"
  },
  "language_info": {
   "codemirror_mode": {
    "name": "ipython",
    "version": 3
   },
   "file_extension": ".py",
   "mimetype": "text/x-python",
   "name": "python",
   "nbconvert_exporter": "python",
   "pygments_lexer": "ipython3",
   "version": "3.10.2"
  }
 },
 "nbformat": 4,
 "nbformat_minor": 5
}
