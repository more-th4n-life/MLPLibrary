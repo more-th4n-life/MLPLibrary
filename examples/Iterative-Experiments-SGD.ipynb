{
 "cells": [
  {
   "cell_type": "markdown",
   "id": "8ad2405b",
   "metadata": {},
   "source": [
    "# Demo of MLP Library Usage"
   ]
  },
  {
   "cell_type": "markdown",
   "id": "b8e8080a",
   "metadata": {},
   "source": [
    "## INSTRUCTIONS"
   ]
  },
  {
   "cell_type": "markdown",
   "id": "38c31d24",
   "metadata": {},
   "source": [
    "For more detailed instructions of using MLPLibrary consult the documentation. This demo will give practical demonstration of MLPLibrary functions and usage for constructing MLP models, setting hyperparameters and evaluating training and testing performance, using the provided data for COMP5329 Assignment 1. "
   ]
  },
  {
   "cell_type": "markdown",
   "id": "332c0e07",
   "metadata": {},
   "source": [
    "### Installing MLPLibrary"
   ]
  },
  {
   "cell_type": "markdown",
   "id": "a5885a23",
   "metadata": {},
   "source": [
    "As provided in the README.md in the main folder, MLPlibrary may be installed locally as a portable library (similar to NumPy or PyTorch) simply by navigating into the network directory (i.e. ```'MLPLibrary/network/'```) and executing the following statement:\n",
    "```\n",
    "pip install ..\n",
    "```\n",
    "This will install all the required dependencies stated in the ```setup.py``` file and allow usage of our library functions anywhere on your device locally."
   ]
  },
  {
   "cell_type": "markdown",
   "id": "43f97264",
   "metadata": {},
   "source": [
    "After this step, you may perform the following imports. If you decide not to install MLPLibrary, make sure you are within the main folder of MLPLibrary."
   ]
  },
  {
   "cell_type": "markdown",
   "id": "88e4fa07",
   "metadata": {},
   "source": [
    "## IMPORTING MLPLibrary"
   ]
  },
  {
   "cell_type": "code",
   "execution_count": 1,
   "id": "5c44217b",
   "metadata": {},
   "outputs": [],
   "source": [
    "# Importing all the modules and functions related to constructing MLP network models\n",
    "\n",
    "from network.net import Net                   # Net class, base class for constructing MLP networks\n",
    "from network.layer import Linear              # Linear class, child class of parent class Layer \n",
    "from network.loss import CrossEntropyLoss     # CrossEntropyLoss class, child class of parent class Loss\n",
    "from network.activ import ReLU, LeakyReLU     # ReLU, LeakyReLU classes, child classes of parent class Activation\n",
    "from network.optim import SGD, Adam           # SGD, Adam classes, child classes of parent class Optimizer"
   ]
  },
  {
   "cell_type": "code",
   "execution_count": 2,
   "id": "b8ca7658",
   "metadata": {},
   "outputs": [],
   "source": [
    "# Importing all the modules and functions related to data processing including loaders for the assignment data\n",
    "\n",
    "# Process module contains functions relating to data processing:\n",
    "from network.loader.process import (\n",
    "    train_test_split,        # Function to split data with chosen ratio, data can be shuffled\n",
    "    normalize,               # Normalizes data to have mean of zero and unit variance\n",
    "    standardize,             # Normalizes data to be between range 0-1, i.e. standardizes data\n",
    "    one_hot,                 # One hot encoding: 100% prob of 2 is [0, 0, 1] with 3 classes\n",
    "    pca                      # Reduces data to chosen K principal components\n",
    ") \n",
    "\n",
    "# Data module for loading the assignment data\n",
    "from network.dataset.source import (\n",
    "    get_data_from_file,   # Loads assignment data from file (must be within main directory)\n",
    "    get_data_from_url     # Loads assignment data from public GitHub repo that stores data\n",
    ")\n",
    "\n",
    "# Data loader module for automating processing of and loading of assignment data based on parameter selections\n",
    "from network.loader.data_loader import load_train_val_test  # Parameter selections decide method of processing                            "
   ]
  },
  {
   "cell_type": "markdown",
   "id": "e03c176d",
   "metadata": {},
   "source": [
    "### Importing Standard Libraries"
   ]
  },
  {
   "cell_type": "code",
   "execution_count": 3,
   "id": "51d13889",
   "metadata": {},
   "outputs": [],
   "source": [
    "import numpy as np\n",
    "import matplotlib.pyplot as pl\n",
    "import pandas as pd \n",
    "import seaborn as sns\n",
    "\n",
    "# setting random seed\n",
    "np.random.seed(123)"
   ]
  },
  {
   "cell_type": "markdown",
   "id": "a5b3ab47",
   "metadata": {},
   "source": [
    "## Device and System Specifications"
   ]
  },
  {
   "cell_type": "markdown",
   "id": "dbc866a7",
   "metadata": {},
   "source": [
    "* Processor: AMD Ryzen 9 5900HX with Radeon Graphics \n",
    "* Installed RAM: 32.0 GB (31.4 GB usable)\n",
    "* GPU: NVIDIA GeForce RTX 3080 (*flex*)\n",
    "* OS: Windows 11 Home\n",
    "\n",
    "Wall time:"
   ]
  },
  {
   "cell_type": "markdown",
   "id": "db6951b7",
   "metadata": {},
   "source": [
    "### Data Loading and Preprocessing\n",
    "\n",
    "#### Parameter Selections\n",
    "\n",
    "The load_train_val_test function imported from the network.loader.data_loader module provides us the ability to decide the processing method we apply to the assignment training and testing data, if we apply PCA to transform this data, where we source this data (from file or internet), among others described below.\n",
    "\n",
    "The following parameter selections are made for loading the train, validation and test data; and will be used for training and testing our constructed models."
   ]
  },
  {
   "cell_type": "code",
   "execution_count": 4,
   "id": "5f20709b",
   "metadata": {},
   "outputs": [],
   "source": [
    "SOURCE_DATA = \"url\"          # May choose from \"url\" or \"file\" to source assignment data (must be in main for \"file\")\n",
    "NORM_METHOD = \"standardize\"  # May choose from \"standardize\", \"normalize\" or \"none\" (none is no normalization on data)\n",
    "PCA_N_COMPONENTS = 0         # If PCA_N_COMPONENTS > 0;\n",
    "                                # Normalization is skipped as done implicitly by mean centering prior to applying PCA\n",
    "                                # Strictly, the choice of PCA_N_COMPONENTS <= N_DIMENSIONS of the input dataset \n",
    "N_CATEGORIES = 10            # If N_CATEGORIES > 0 chosen, then categorical one-hot encoding is applied to label data\n",
    "SPLIT_RATIO = 0.2             # Ratio data is to be split upon when obtaining a train test split (default is set to 0.2)\n",
    "SHUFFLE_DATA = True          # IF SHUFFLE is True, then the data is shuffled prior to splitting by taking random indices"
   ]
  },
  {
   "cell_type": "markdown",
   "id": "754fd715",
   "metadata": {},
   "source": [
    "#### Obtaining loaded and processed data based on the chosen parameter selections:"
   ]
  },
  {
   "cell_type": "code",
   "execution_count": 5,
   "id": "2317d107",
   "metadata": {},
   "outputs": [],
   "source": [
    "# Note as we are loading data from URL it will take longer than from file.\n",
    "train_set, valid_set, test_set = load_train_val_test(\n",
    "    source = SOURCE_DATA,\n",
    "    method = NORM_METHOD,      \n",
    "    pca_N = PCA_N_COMPONENTS,\n",
    "    n_categories = N_CATEGORIES,\n",
    "    ratio = SPLIT_RATIO,\n",
    "    shuffle = SHUFFLE_DATA\n",
    ")"
   ]
  },
  {
   "cell_type": "markdown",
   "id": "198bb38c",
   "metadata": {},
   "source": [
    "With a ratio of 0.2 and shuffle selected, the validation set is split from the training set by shuffling the data and taking random indices in proportion of the ratio."
   ]
  },
  {
   "cell_type": "code",
   "execution_count": 6,
   "id": "1c8d375c",
   "metadata": {},
   "outputs": [
    {
     "name": "stdout",
     "output_type": "stream",
     "text": [
      "------------------------------------------------\n",
      "Shape of Training Data: (40000, 128)\n",
      "Shape of Training Labels: (40000, 10)\n",
      "------------------------------------------------\n",
      "Shape of Validation Data: (10000, 128)\n",
      "Shape of Validation Labels: (10000, 10)\n",
      "------------------------------------------------\n",
      "Shape of Test Data: (10000, 128)\n",
      "Shape of Test Labels: (10000, 10)\n",
      "------------------------------------------------\n",
      "\n",
      "First 10 one-hot encoded labels of test data:\n",
      "\n",
      "[[0. 0. 0. 1. 0. 0. 0. 0. 0. 0.]\n",
      " [0. 0. 0. 0. 0. 0. 0. 0. 1. 0.]\n",
      " [0. 0. 0. 0. 0. 0. 0. 0. 1. 0.]\n",
      " [1. 0. 0. 0. 0. 0. 0. 0. 0. 0.]\n",
      " [0. 0. 0. 0. 0. 0. 1. 0. 0. 0.]\n",
      " [0. 0. 0. 0. 0. 0. 1. 0. 0. 0.]\n",
      " [0. 1. 0. 0. 0. 0. 0. 0. 0. 0.]\n",
      " [0. 0. 0. 0. 0. 0. 1. 0. 0. 0.]\n",
      " [0. 0. 0. 1. 0. 0. 0. 0. 0. 0.]\n",
      " [0. 1. 0. 0. 0. 0. 0. 0. 0. 0.]]\n",
      "\n",
      "Equivalent to: [3, 8, 8, 0, 6, 6, 1, 6, 3, 1]\n"
     ]
    }
   ],
   "source": [
    "line_sep = \"------------------------------------------------\"\n",
    "print(line_sep)\n",
    "print(f\"Shape of Training Data: {train_set[0].shape}\")\n",
    "print(f\"Shape of Training Labels: {train_set[1].shape}\")\n",
    "print(line_sep)\n",
    "print(f\"Shape of Validation Data: {valid_set[0].shape}\")\n",
    "print(f\"Shape of Validation Labels: {valid_set[1].shape}\")\n",
    "print(line_sep)\n",
    "print(f\"Shape of Test Data: {test_set[0].shape}\")\n",
    "print(f\"Shape of Test Labels: {test_set[1].shape}\")\n",
    "print(line_sep + '\\n')\n",
    "print(f\"First 10 one-hot encoded labels of test data:\\n\\n{test_set[1][:10]}\")\n",
    "print(f\"\\nEquivalent to: {[np.argmax(label) for label in test_set[1][:10]]}\")"
   ]
  },
  {
   "cell_type": "markdown",
   "id": "c6c5ac72",
   "metadata": {},
   "source": [
    "### Helper Plotting Function for Training and Validation Loss & Accuracy Results"
   ]
  },
  {
   "cell_type": "code",
   "execution_count": 7,
   "id": "451c1df6",
   "metadata": {},
   "outputs": [],
   "source": [
    "def plot_results(stats):\n",
    "    ep, tl, ta, vl, va = stats\n",
    "    pl.figure(figsize = (10, 7))\n",
    "\n",
    "    fig, ((ax1, ax2), (ax3, ax4)) = pl.subplots(2, 2)\n",
    "    fig.suptitle(f'Training Results, best model found @ Epoch {ep}')\n",
    "\n",
    "    ax1.plot(tl)\n",
    "    ax1.set_title('Training Loss')\n",
    "\n",
    "    ax2.plot(vl, 'tab:orange')\n",
    "    ax2.set_title('Validation Loss')\n",
    "\n",
    "    ax3.plot(ta, 'tab:green')\n",
    "    ax3.set_title('Training Accuracy')\n",
    "\n",
    "    ax4.plot(va, 'tab:red')\n",
    "    ax4.set_title('Validation Accuracy')\n",
    "    \n",
    "    for ax in fig.get_axes():\n",
    "        ax.label_outer()\n",
    "\n",
    "    pl.show()"
   ]
  },
  {
   "cell_type": "markdown",
   "id": "9eef36c8",
   "metadata": {},
   "source": [
    "# Building MLP Models"
   ]
  },
  {
   "cell_type": "markdown",
   "id": "181f2821",
   "metadata": {},
   "source": [
    "The approach we will take in order to find and justify our final MLP model, is to start with a base model with at least one hidden layer using vanilla Stochastic Gradient Descent and mini-batch training. An iterative process will then ensue to find a well-performing MLP model by trialling different hyper-parameter selections and justifying it's addition by evaluating loss and accuracy results for each model, as well as concerns for training time and resources."
   ]
  },
  {
   "cell_type": "markdown",
   "id": "0fd96b08",
   "metadata": {},
   "source": [
    "Evidently, to determine the optimal number of layers and hidden neurons within each layer is a very important research field to itself (Neural Architecture Search), however, due to concerns for resources - we will evaluate 3 model variations that use SGD, with mostly default values for each layer and decide our architecture based upon the validation accuracy and loss of the best model that is found by our train to convergence method. This training method, uses two objectives to approximate (indicate) convergence and to stop training our model: (1) if the training loss of a subsequent model does not achieve a reduction in loss that meets the required N percentage threshold; or (2) if a model is not found within M epochs of a model with minimum validation loss (the *best model*); then if either these conditions are true, we have achieved convergence according to our criteria and may terminate training. The *best model* which achieved the lowest validation loss is then saved to file within the 'model' directory (which is created within your current working directory if does not exist) for reload and reuse, i.e. prediction."
   ]
  },
  {
   "cell_type": "markdown",
   "id": "35ae7cdd",
   "metadata": {},
   "source": [
    "# ITERATION 1: Selecting a Base Model"
   ]
  },
  {
   "cell_type": "markdown",
   "id": "bb5c3e2b",
   "metadata": {},
   "source": [
    "## Model Variation 1"
   ]
  },
  {
   "cell_type": "code",
   "execution_count": 8,
   "id": "dc399f56",
   "metadata": {},
   "outputs": [],
   "source": [
    "# Initializing model hyper-parameters\n",
    "base_model = Net(\n",
    "    optimizer = SGD(\n",
    "        learning_rate= 0.07,   \n",
    "        weight_decay = 0,\n",
    "        momentum = 0,\n",
    "        lr_decay = \"default\"\n",
    "    ),\n",
    "    criterion = CrossEntropyLoss(),\n",
    "    batch_norm = False,\n",
    "    L2_reg_term = 0\n",
    ")\n",
    "\n",
    "# Adding Layers (and setting Layer hyper-parameters)\n",
    "base_model.add(Linear(128, 1024, weights=\"xavier\", bias=\"zero\"))  # weights & bias init default methods selections \n",
    "base_model.add(ReLU())\n",
    "base_model.add(Linear(1024, 64))                                  # same weights & bias init as above since default \n",
    "base_model.add(ReLU())\n",
    "base_model.add(Linear(64, 10))\n",
    "\n",
    "base_model.set_name(\"base_model\")  # creates name for model for loading saved model from training (with min val loss)"
   ]
  },
  {
   "cell_type": "markdown",
   "id": "739b1f72",
   "metadata": {},
   "source": [
    "## Model Variation 2"
   ]
  },
  {
   "cell_type": "code",
   "execution_count": 9,
   "id": "4073ab9c",
   "metadata": {},
   "outputs": [],
   "source": [
    "# Initializing model hyper-parameters\n",
    "base_model2 = Net(\n",
    "    optimizer = SGD(\n",
    "        learning_rate= 0.07,  \n",
    "        weight_decay = 0,\n",
    "        momentum = 0,\n",
    "        lr_decay = \"default\"\n",
    "    ),\n",
    "    criterion = CrossEntropyLoss(),\n",
    "    batch_norm = False,\n",
    "    L2_reg_term = 0\n",
    ")\n",
    "\n",
    "# Adding Layers (and setting Layer hyper-parameters)\n",
    "base_model2.add(Linear(128, 1024))  \n",
    "base_model2.add(ReLU())\n",
    "base_model2.add(Linear(1024, 512))                                  \n",
    "base_model2.add(ReLU())\n",
    "base_model2.add(Linear(512, 64)) \n",
    "base_model2.add(ReLU())\n",
    "base_model2.add(Linear(64, 10))\n",
    "\n",
    "base_model2.set_name(\"base_model2\")  # creates name for model for loading saved model from training (with min val loss)"
   ]
  },
  {
   "cell_type": "markdown",
   "id": "8b7a1c54",
   "metadata": {},
   "source": [
    "## Model Variation 3"
   ]
  },
  {
   "cell_type": "code",
   "execution_count": 10,
   "id": "20ac50ed",
   "metadata": {},
   "outputs": [],
   "source": [
    "# Initializing model hyper-parameters\n",
    "base_model3 = Net(\n",
    "    optimizer = SGD(\n",
    "        learning_rate= 0.07,  \n",
    "        weight_decay = 0,\n",
    "        momentum = 0,\n",
    "        lr_decay = \"default\"\n",
    "    ),\n",
    "    criterion = CrossEntropyLoss(),\n",
    "    batch_norm = False,\n",
    "    L2_reg_term = 0\n",
    ")\n",
    "\n",
    "# Adding Layers (and setting Layer hyper-parameters)\n",
    "base_model3.add(Linear(128, 1024))  \n",
    "base_model3.add(ReLU())\n",
    "base_model3.add(Linear(1024, 512))   \n",
    "base_model3.add(ReLU())\n",
    "base_model3.add(Linear(512, 64))  \n",
    "base_model3.add(ReLU())\n",
    "base_model3.add(Linear(64, 16)) \n",
    "base_model3.add(ReLU())\n",
    "base_model3.add(Linear(16, 10))  \n",
    "\n",
    "base_model3.set_name(\"base_model3\") "
   ]
  },
  {
   "cell_type": "markdown",
   "id": "4f062e98",
   "metadata": {},
   "source": [
    "# ITERATION 1: TRAINING"
   ]
  },
  {
   "cell_type": "markdown",
   "id": "c1178f03",
   "metadata": {},
   "source": [
    "## Model Variation 1"
   ]
  },
  {
   "cell_type": "code",
   "execution_count": 11,
   "id": "a959a936",
   "metadata": {},
   "outputs": [
    {
     "name": "stderr",
     "output_type": "stream",
     "text": [
      "  1%|█▍                                                                                                                                           | 1/100 [00:01<02:30,  1.52s/it]"
     ]
    },
    {
     "name": "stdout",
     "output_type": "stream",
     "text": [
      "Epoch: 0\tInterval Time: 1.5 sec(s)\tTraining Loss: 2.176981\t\tTraining Accuracy: 0.211725\n",
      "\t\t\t\t\t\tValidation Loss:2.008817\tValidation Accuracy: 0.300100\n"
     ]
    },
    {
     "name": "stderr",
     "output_type": "stream",
     "text": [
      " 11%|███████████████▍                                                                                                                            | 11/100 [00:16<02:19,  1.56s/it]"
     ]
    },
    {
     "name": "stdout",
     "output_type": "stream",
     "text": [
      "Epoch: 10\tInterval Time: 15.5 sec(s)\tTraining Loss: 1.404971\t\tTraining Accuracy: 0.519950\n",
      "\t\t\t\t\t\tValidation Loss:1.611401\tValidation Accuracy: 0.433400\n"
     ]
    },
    {
     "name": "stderr",
     "output_type": "stream",
     "text": [
      " 21%|█████████████████████████████▍                                                                                                              | 21/100 [00:31<01:53,  1.44s/it]"
     ]
    },
    {
     "name": "stdout",
     "output_type": "stream",
     "text": [
      "Epoch: 20\tInterval Time: 14.6 sec(s)\tTraining Loss: 1.120971\t\tTraining Accuracy: 0.631225\n",
      "\t\t\t\t\t\tValidation Loss:1.630124\tValidation Accuracy: 0.463800\n"
     ]
    },
    {
     "name": "stderr",
     "output_type": "stream",
     "text": [
      " 23%|████████████████████████████████▏                                                                                                           | 23/100 [00:35<01:59,  1.56s/it]"
     ]
    },
    {
     "name": "stdout",
     "output_type": "stream",
     "text": [
      "\n",
      "\n",
      "No decrease in validation loss during last 10 epoch(s).\n",
      "\n",
      "Convergence criteria achieved.\n",
      "Training completed @ Epoch 23.\n",
      "Total training time: 35.9 sec(s)\n",
      "\n",
      "                Best model found @ Epoch 12\n",
      "                --------------------------------------------\n",
      "                Training Loss: 1.347266\n",
      "                Validation Loss: 1.602238\n",
      "                --------------------------------------------\n",
      "                Training Accuracy: 0.542425\n",
      "                Validation Accuracy: 0.442200\n",
      "\n",
      "\n",
      "Best model 'base_model' saved in 'model/' directory.\n"
     ]
    },
    {
     "name": "stderr",
     "output_type": "stream",
     "text": [
      "\n"
     ]
    },
    {
     "data": {
      "text/plain": [
       "{'tags': ['hide-output']}"
      ]
     },
     "execution_count": 11,
     "metadata": {},
     "output_type": "execute_result"
    }
   ],
   "source": [
    "# train model till convergence\n",
    "train_bm1 = base_model.train_convergence(\n",
    "    train_set = train_set,  \n",
    "    valid_set = valid_set,\n",
    "    batch_size = 500,        # set batch size for each iteration of training in each epoch\n",
    "    planned_epochs = 100,    # set max number of training epochs if convergence not achieved\n",
    "    last_check = 10,         # set number max number of models to allow validation loss to be higher than 'best model'\n",
    "    threshold = 1e-25,       # set minimum % threshold subsequent model needs to reduce training loss to keep training\n",
    "    report_interval = 10     # set the reporting interval for training log (loss & accuracy), set for every 10 epochs\n",
    ")\n",
    "\n",
    "{\"tags\": [\"hide-output\"]}"
   ]
  },
  {
   "cell_type": "markdown",
   "id": "d73a7935",
   "metadata": {},
   "source": [
    "### Plotting  Epoch-wise Loss & Accuracy Curves"
   ]
  },
  {
   "cell_type": "code",
   "execution_count": 12,
   "id": "e2e8f54d",
   "metadata": {},
   "outputs": [
    {
     "data": {
      "text/plain": [
       "<Figure size 720x504 with 0 Axes>"
      ]
     },
     "metadata": {},
     "output_type": "display_data"
    },
    {
     "data": {
      "image/png": "[encoded data removed]",
      "text/plain": [
       "<Figure size 432x288 with 4 Axes>"
      ]
     },
     "metadata": {
      "needs_background": "light"
     },
     "output_type": "display_data"
    }
   ],
   "source": [
    "plot_results(train_bm1)"
   ]
  },
  {
   "cell_type": "markdown",
   "id": "a1c818a4",
   "metadata": {},
   "source": [
    "### Checking Accuracy of Best Model"
   ]
  },
  {
   "cell_type": "code",
   "execution_count": 13,
   "id": "d9bcdca5",
   "metadata": {},
   "outputs": [
    {
     "name": "stdout",
     "output_type": "stream",
     "text": [
      "-------------------------------------------\n",
      "Accuracy on train data: 56.18%\n",
      "Total Count:  40000\n",
      "Total Match:  22473\n",
      "-------------------------------------------\n",
      "Test Accuracy of\t0: 68.21% (2748/4029)\n",
      "Test Accuracy of\t1: 30.04% (1208/4021)\n",
      "Test Accuracy of\t2: 48.23% (1921/3983)\n",
      "Test Accuracy of\t3: 21.83% (863/3954)\n",
      "Test Accuracy of\t4: 59.27% (2375/4007)\n",
      "Test Accuracy of\t5: 63.13% (2544/4030)\n",
      "Test Accuracy of\t6: 71.23% (2885/4050)\n",
      "Test Accuracy of\t7: 71.67% (2851/3978)\n",
      "Test Accuracy of\t8: 65.34% (2603/3984)\n",
      "Test Accuracy of\t9: 62.44% (2475/3964)\n",
      "-------------------------------------------\n",
      "Accuracy on valid data: 44.22%\n",
      "Total Count:  10000\n",
      "Total Match:  4422\n",
      "-------------------------------------------\n",
      "Test Accuracy of\t0: 52.94% (514/971)\n",
      "Test Accuracy of\t1: 20.74% (203/979)\n",
      "Test Accuracy of\t2: 32.45% (330/1017)\n",
      "Test Accuracy of\t3: 16.83% (176/1046)\n",
      "Test Accuracy of\t4: 45.42% (451/993)\n",
      "Test Accuracy of\t5: 52.68% (511/970)\n",
      "Test Accuracy of\t6: 55.79% (530/950)\n",
      "Test Accuracy of\t7: 60.67% (620/1022)\n",
      "Test Accuracy of\t8: 52.46% (533/1016)\n",
      "Test Accuracy of\t9: 53.47% (554/1036)\n",
      "-------------------------------------------\n",
      "Accuracy on test data: 45.80%\n",
      "Total Count:  10000\n",
      "Total Match:  4580\n",
      "-------------------------------------------\n",
      "Test Accuracy of\t0: 56.20% (562/1000)\n",
      "Test Accuracy of\t1: 23.90% (239/1000)\n",
      "Test Accuracy of\t2: 33.00% (330/1000)\n",
      "Test Accuracy of\t3: 16.00% (160/1000)\n",
      "Test Accuracy of\t4: 44.50% (445/1000)\n",
      "Test Accuracy of\t5: 54.80% (548/1000)\n",
      "Test Accuracy of\t6: 61.00% (610/1000)\n",
      "Test Accuracy of\t7: 60.60% (606/1000)\n",
      "Test Accuracy of\t8: 51.70% (517/1000)\n",
      "Test Accuracy of\t9: 56.30% (563/1000)\n"
     ]
    }
   ],
   "source": [
    "# Loading new best model found:\n",
    "base_model = Net.load_model(\"model/base_model\")\n",
    "base_model.test_network(train_set, \"train data\")\n",
    "base_model.test_network(valid_set, \"valid data\")\n",
    "base_model.test_network(test_set, \"test data\")"
   ]
  },
  {
   "cell_type": "markdown",
   "id": "5a3a6be1",
   "metadata": {},
   "source": [
    "## Model Variation 2"
   ]
  },
  {
   "cell_type": "code",
   "execution_count": 14,
   "id": "2bcdaaf0",
   "metadata": {},
   "outputs": [
    {
     "name": "stderr",
     "output_type": "stream",
     "text": [
      "  1%|█▍                                                                                                                                           | 1/100 [00:02<04:52,  2.95s/it]"
     ]
    },
    {
     "name": "stdout",
     "output_type": "stream",
     "text": [
      "Epoch: 0\tInterval Time: 2.9 sec(s)\tTraining Loss: 2.221257\t\tTraining Accuracy: 0.184950\n",
      "\t\t\t\t\t\tValidation Loss:2.084858\tValidation Accuracy: 0.284800\n"
     ]
    },
    {
     "name": "stderr",
     "output_type": "stream",
     "text": [
      " 11%|███████████████▍                                                                                                                            | 11/100 [00:31<04:19,  2.91s/it]"
     ]
    },
    {
     "name": "stdout",
     "output_type": "stream",
     "text": [
      "Epoch: 10\tInterval Time: 28.3 sec(s)\tTraining Loss: 1.346661\t\tTraining Accuracy: 0.537025\n",
      "\t\t\t\t\t\tValidation Loss:1.703570\tValidation Accuracy: 0.418800\n"
     ]
    },
    {
     "name": "stderr",
     "output_type": "stream",
     "text": [
      " 21%|█████████████████████████████▍                                                                                                              | 21/100 [01:00<03:48,  2.89s/it]"
     ]
    },
    {
     "name": "stdout",
     "output_type": "stream",
     "text": [
      "Epoch: 20\tInterval Time: 29.1 sec(s)\tTraining Loss: 0.970844\t\tTraining Accuracy: 0.666900\n",
      "\t\t\t\t\t\tValidation Loss:1.723570\tValidation Accuracy: 0.475000\n"
     ]
    },
    {
     "name": "stderr",
     "output_type": "stream",
     "text": [
      " 24%|█████████████████████████████████▌                                                                                                          | 24/100 [01:12<03:49,  3.02s/it]"
     ]
    },
    {
     "name": "stdout",
     "output_type": "stream",
     "text": [
      "\n",
      "\n",
      "No decrease in validation loss during last 10 epoch(s).\n",
      "\n",
      "Convergence criteria achieved.\n",
      "Training completed @ Epoch 24.\n",
      "Total training time: 1 min 12.5 s\n",
      "\n",
      "                Best model found @ Epoch 13\n",
      "                --------------------------------------------\n",
      "                Training Loss: 1.246344\n",
      "                Validation Loss: 1.639616\n",
      "                --------------------------------------------\n",
      "                Training Accuracy: 0.571225\n",
      "                Validation Accuracy: 0.452800\n",
      "\n",
      "\n",
      "Best model 'base_model2' saved in 'model/' directory.\n"
     ]
    },
    {
     "name": "stderr",
     "output_type": "stream",
     "text": [
      "\n"
     ]
    },
    {
     "data": {
      "text/plain": [
       "{'tags': ['hide-output']}"
      ]
     },
     "execution_count": 14,
     "metadata": {},
     "output_type": "execute_result"
    }
   ],
   "source": [
    "# train model till convergence\n",
    "train_bm2 = base_model2.train_convergence(\n",
    "    train_set = train_set,\n",
    "    valid_set = valid_set,\n",
    "    batch_size = 500,\n",
    "    planned_epochs = 100,\n",
    "    last_check = 10,\n",
    "    threshold = 1e-25,\n",
    "    report_interval = 10\n",
    ")\n",
    "\n",
    "{\"tags\": [\"hide-output\"]}"
   ]
  },
  {
   "cell_type": "markdown",
   "id": "c6073d69",
   "metadata": {},
   "source": [
    "### Plotting Epoch-wise Loss & Accuracy Curves"
   ]
  },
  {
   "cell_type": "code",
   "execution_count": 15,
   "id": "b3388502",
   "metadata": {},
   "outputs": [
    {
     "data": {
      "text/plain": [
       "<Figure size 720x504 with 0 Axes>"
      ]
     },
     "metadata": {},
     "output_type": "display_data"
    },
    {
     "data": {
      "image/png": "[encoded data removed]",
      "text/plain": [
       "<Figure size 432x288 with 4 Axes>"
      ]
     },
     "metadata": {
      "needs_background": "light"
     },
     "output_type": "display_data"
    }
   ],
   "source": [
    "plot_results(train_bm2)"
   ]
  },
  {
   "cell_type": "markdown",
   "id": "5e06eedd",
   "metadata": {},
   "source": [
    "### Checking Accuracy of Best Model"
   ]
  },
  {
   "cell_type": "code",
   "execution_count": 16,
   "id": "870f193c",
   "metadata": {},
   "outputs": [
    {
     "name": "stdout",
     "output_type": "stream",
     "text": [
      "-------------------------------------------\n",
      "Accuracy on train data: 61.72%\n",
      "Total Count:  40000\n",
      "Total Match:  24689\n",
      "-------------------------------------------\n",
      "Test Accuracy of\t0: 73.64% (2967/4029)\n",
      "Test Accuracy of\t1: 30.42% (1223/4021)\n",
      "Test Accuracy of\t2: 53.63% (2136/3983)\n",
      "Test Accuracy of\t3: 35.91% (1420/3954)\n",
      "Test Accuracy of\t4: 46.62% (1868/4007)\n",
      "Test Accuracy of\t5: 67.84% (2734/4030)\n",
      "Test Accuracy of\t6: 81.11% (3285/4050)\n",
      "Test Accuracy of\t7: 72.05% (2866/3978)\n",
      "Test Accuracy of\t8: 77.36% (3082/3984)\n",
      "Test Accuracy of\t9: 78.41% (3108/3964)\n",
      "-------------------------------------------\n",
      "Accuracy on valid data: 45.28%\n",
      "Total Count:  10000\n",
      "Total Match:  4528\n",
      "-------------------------------------------\n",
      "Test Accuracy of\t0: 52.21% (507/971)\n",
      "Test Accuracy of\t1: 18.49% (181/979)\n",
      "Test Accuracy of\t2: 33.53% (341/1017)\n",
      "Test Accuracy of\t3: 27.44% (287/1046)\n",
      "Test Accuracy of\t4: 29.71% (295/993)\n",
      "Test Accuracy of\t5: 51.65% (501/970)\n",
      "Test Accuracy of\t6: 63.68% (605/950)\n",
      "Test Accuracy of\t7: 58.61% (599/1022)\n",
      "Test Accuracy of\t8: 53.74% (546/1016)\n",
      "Test Accuracy of\t9: 64.29% (666/1036)\n",
      "-------------------------------------------\n",
      "Accuracy on test data: 45.82%\n",
      "Total Count:  10000\n",
      "Total Match:  4582\n",
      "-------------------------------------------\n",
      "Test Accuracy of\t0: 53.30% (533/1000)\n",
      "Test Accuracy of\t1: 19.50% (195/1000)\n",
      "Test Accuracy of\t2: 32.30% (323/1000)\n",
      "Test Accuracy of\t3: 26.00% (260/1000)\n",
      "Test Accuracy of\t4: 30.70% (307/1000)\n",
      "Test Accuracy of\t5: 54.00% (540/1000)\n",
      "Test Accuracy of\t6: 64.40% (644/1000)\n",
      "Test Accuracy of\t7: 55.90% (559/1000)\n",
      "Test Accuracy of\t8: 54.90% (549/1000)\n",
      "Test Accuracy of\t9: 67.20% (672/1000)\n"
     ]
    }
   ],
   "source": [
    "# Loading new best model found:\n",
    "base_model2 = Net.load_model(\"model/base_model2\")\n",
    "base_model2.test_network(train_set, \"train data\")\n",
    "base_model2.test_network(valid_set, \"valid data\")\n",
    "base_model2.test_network(test_set, \"test data\")"
   ]
  },
  {
   "cell_type": "markdown",
   "id": "56506a91",
   "metadata": {},
   "source": [
    "## Model Variation 3"
   ]
  },
  {
   "cell_type": "code",
   "execution_count": 17,
   "id": "2699787d",
   "metadata": {},
   "outputs": [
    {
     "name": "stderr",
     "output_type": "stream",
     "text": [
      "  1%|█▍                                                                                                                                           | 1/100 [00:03<04:59,  3.03s/it]"
     ]
    },
    {
     "name": "stdout",
     "output_type": "stream",
     "text": [
      "Epoch: 0\tInterval Time: 3.0 sec(s)\tTraining Loss: 2.294370\t\tTraining Accuracy: 0.101300\n",
      "\t\t\t\t\t\tValidation Loss:2.276566\tValidation Accuracy: 0.096500\n"
     ]
    },
    {
     "name": "stderr",
     "output_type": "stream",
     "text": [
      " 11%|███████████████▍                                                                                                                            | 11/100 [00:32<04:22,  2.95s/it]"
     ]
    },
    {
     "name": "stdout",
     "output_type": "stream",
     "text": [
      "Epoch: 10\tInterval Time: 29.6 sec(s)\tTraining Loss: 1.575543\t\tTraining Accuracy: 0.448475\n",
      "\t\t\t\t\t\tValidation Loss:1.723122\tValidation Accuracy: 0.404600\n"
     ]
    },
    {
     "name": "stderr",
     "output_type": "stream",
     "text": [
      " 21%|█████████████████████████████▍                                                                                                              | 21/100 [01:02<03:53,  2.96s/it]"
     ]
    },
    {
     "name": "stdout",
     "output_type": "stream",
     "text": [
      "Epoch: 20\tInterval Time: 30.1 sec(s)\tTraining Loss: 1.257484\t\tTraining Accuracy: 0.574975\n",
      "\t\t\t\t\t\tValidation Loss:1.744218\tValidation Accuracy: 0.447100\n"
     ]
    },
    {
     "name": "stderr",
     "output_type": "stream",
     "text": [
      " 25%|███████████████████████████████████                                                                                                         | 25/100 [01:18<03:55,  3.14s/it]"
     ]
    },
    {
     "name": "stdout",
     "output_type": "stream",
     "text": [
      "\n",
      "\n",
      "Minimum percent change (1e-25%) in training loss not exceeded.\n",
      "\n",
      "Convergence criteria achieved.\n",
      "Training completed @ Epoch 25.\n",
      "Total training time: 1 min 18.4 s\n",
      "\n",
      "                Best model found @ Epoch 16\n",
      "                --------------------------------------------\n",
      "                Training Loss: 1.374423\n",
      "                Validation Loss: 1.714888\n",
      "                --------------------------------------------\n",
      "                Training Accuracy: 0.530150\n",
      "                Validation Accuracy: 0.430400\n",
      "\n",
      "\n",
      "Best model 'base_model3' saved in 'model/' directory.\n"
     ]
    },
    {
     "name": "stderr",
     "output_type": "stream",
     "text": [
      "\n"
     ]
    },
    {
     "data": {
      "text/plain": [
       "{'tags': ['hide-output']}"
      ]
     },
     "execution_count": 17,
     "metadata": {},
     "output_type": "execute_result"
    }
   ],
   "source": [
    "# train model till convergence\n",
    "train_bm3 = base_model3.train_convergence(\n",
    "    train_set = train_set,\n",
    "    valid_set = valid_set,\n",
    "    batch_size = 500,\n",
    "    planned_epochs = 100,\n",
    "    last_check = 10,\n",
    "    threshold = 1e-25,\n",
    "    report_interval = 10\n",
    ")\n",
    "\n",
    "{\"tags\": [\"hide-output\"]}"
   ]
  },
  {
   "cell_type": "markdown",
   "id": "82fafc94",
   "metadata": {},
   "source": [
    "### Plotting Epoch-wise Loss & Accuracy Curves"
   ]
  },
  {
   "cell_type": "code",
   "execution_count": 18,
   "id": "c1a75e29",
   "metadata": {},
   "outputs": [
    {
     "data": {
      "text/plain": [
       "<Figure size 720x504 with 0 Axes>"
      ]
     },
     "metadata": {},
     "output_type": "display_data"
    },
    {
     "data": {
      "image/png": "[encoded data removed]",
      "text/plain": [
       "<Figure size 432x288 with 4 Axes>"
      ]
     },
     "metadata": {
      "needs_background": "light"
     },
     "output_type": "display_data"
    }
   ],
   "source": [
    "plot_results(train_bm3)"
   ]
  },
  {
   "cell_type": "markdown",
   "id": "37d466b3",
   "metadata": {},
   "source": [
    "### Checking Accuracy of Best Model"
   ]
  },
  {
   "cell_type": "code",
   "execution_count": 19,
   "id": "9ab4e90f",
   "metadata": {},
   "outputs": [
    {
     "name": "stdout",
     "output_type": "stream",
     "text": [
      "-------------------------------------------\n",
      "Accuracy on train data: 58.13%\n",
      "Total Count:  40000\n",
      "Total Match:  23253\n",
      "-------------------------------------------\n",
      "Test Accuracy of\t0: 60.61% (2442/4029)\n",
      "Test Accuracy of\t1: 23.20% (933/4021)\n",
      "Test Accuracy of\t2: 49.21% (1960/3983)\n",
      "Test Accuracy of\t3: 48.89% (1933/3954)\n",
      "Test Accuracy of\t4: 52.93% (2121/4007)\n",
      "Test Accuracy of\t5: 42.78% (1724/4030)\n",
      "Test Accuracy of\t6: 73.73% (2986/4050)\n",
      "Test Accuracy of\t7: 82.05% (3264/3978)\n",
      "Test Accuracy of\t8: 70.08% (2792/3984)\n",
      "Test Accuracy of\t9: 78.15% (3098/3964)\n",
      "-------------------------------------------\n",
      "Accuracy on valid data: 43.04%\n",
      "Total Count:  10000\n",
      "Total Match:  4304\n",
      "-------------------------------------------\n",
      "Test Accuracy of\t0: 44.90% (436/971)\n",
      "Test Accuracy of\t1: 14.91% (146/979)\n",
      "Test Accuracy of\t2: 32.55% (331/1017)\n",
      "Test Accuracy of\t3: 36.14% (378/1046)\n",
      "Test Accuracy of\t4: 37.97% (377/993)\n",
      "Test Accuracy of\t5: 28.97% (281/970)\n",
      "Test Accuracy of\t6: 53.37% (507/950)\n",
      "Test Accuracy of\t7: 69.08% (706/1022)\n",
      "Test Accuracy of\t8: 50.30% (511/1016)\n",
      "Test Accuracy of\t9: 60.91% (631/1036)\n",
      "-------------------------------------------\n",
      "Accuracy on test data: 43.52%\n",
      "Total Count:  10000\n",
      "Total Match:  4352\n",
      "-------------------------------------------\n",
      "Test Accuracy of\t0: 44.90% (449/1000)\n",
      "Test Accuracy of\t1: 15.90% (159/1000)\n",
      "Test Accuracy of\t2: 33.60% (336/1000)\n",
      "Test Accuracy of\t3: 35.30% (353/1000)\n",
      "Test Accuracy of\t4: 36.80% (368/1000)\n",
      "Test Accuracy of\t5: 31.70% (317/1000)\n",
      "Test Accuracy of\t6: 54.60% (546/1000)\n",
      "Test Accuracy of\t7: 66.50% (665/1000)\n",
      "Test Accuracy of\t8: 51.60% (516/1000)\n",
      "Test Accuracy of\t9: 64.30% (643/1000)\n"
     ]
    }
   ],
   "source": [
    "# Loading new best model found:\n",
    "base_model3 = Net.load_model(\"model/base_model3\")\n",
    "base_model3.test_network(train_set, \"train data\")\n",
    "base_model3.test_network(valid_set, \"valid data\")\n",
    "base_model3.test_network(test_set, \"test data\")"
   ]
  },
  {
   "cell_type": "markdown",
   "id": "0b791ba6",
   "metadata": {},
   "source": [
    "# ITERATION 1: DECISION\n",
    "## Selecting Model Variation 2 based on Accuracy Result on Test Set."
   ]
  },
  {
   "cell_type": "markdown",
   "id": "01c45ed3",
   "metadata": {},
   "source": [
    "# ITERATION 2: Adjusting Learning Rate"
   ]
  },
  {
   "cell_type": "markdown",
   "id": "31df8412",
   "metadata": {},
   "source": [
    "## Model Variation 1: learning_rate = 0.01"
   ]
  },
  {
   "cell_type": "code",
   "execution_count": 20,
   "id": "b3811925",
   "metadata": {},
   "outputs": [],
   "source": [
    "# Initializing model hyper-parameters\n",
    "lr01 = Net(\n",
    "    optimizer = SGD(\n",
    "        learning_rate= 0.01,  \n",
    "        weight_decay = 0,\n",
    "        momentum = 0,\n",
    "        lr_decay = \"default\"\n",
    "    ),\n",
    "    criterion = CrossEntropyLoss(),\n",
    "    batch_norm = False,\n",
    "    L2_reg_term = 0\n",
    ")\n",
    "\n",
    "# Adding Layers (and setting Layer hyper-parameters)\n",
    "lr01.add(Linear(128, 1024))  \n",
    "lr01.add(ReLU())\n",
    "lr01.add(Linear(1024, 512))                                  \n",
    "lr01.add(ReLU())\n",
    "lr01.add(Linear(512, 64)) \n",
    "lr01.add(ReLU())\n",
    "lr01.add(Linear(64, 10))\n",
    "\n",
    "lr01.set_name(\"lr01\")  # creates name for model for loading saved model from training (with min val loss)"
   ]
  },
  {
   "cell_type": "markdown",
   "id": "c97b5f0f",
   "metadata": {},
   "source": [
    "## Model Variation 2: learning_rate = 0.05"
   ]
  },
  {
   "cell_type": "code",
   "execution_count": 21,
   "id": "6246ff63",
   "metadata": {},
   "outputs": [],
   "source": [
    "# Initializing model hyper-parameters\n",
    "lr05 = Net(\n",
    "    optimizer = SGD(\n",
    "        learning_rate= 0.05,  \n",
    "        weight_decay = 0,\n",
    "        momentum = 0,\n",
    "        lr_decay = \"default\"\n",
    "    ),\n",
    "    criterion = CrossEntropyLoss(),\n",
    "    batch_norm = False,\n",
    "    L2_reg_term = 0\n",
    ")\n",
    "\n",
    "# Adding Layers (and setting Layer hyper-parameters)\n",
    "lr05.add(Linear(128, 1024))  \n",
    "lr05.add(ReLU())\n",
    "lr05.add(Linear(1024, 512))                                  \n",
    "lr05.add(ReLU())\n",
    "lr05.add(Linear(512, 64)) \n",
    "lr05.add(ReLU())\n",
    "lr05.add(Linear(64, 10))\n",
    "\n",
    "lr05.set_name(\"lr05\")  # creates name for model for loading saved model from training (with min val loss)"
   ]
  },
  {
   "cell_type": "markdown",
   "id": "52ca1434",
   "metadata": {},
   "source": [
    "## Model Variation 3: learning_rate = 0.1"
   ]
  },
  {
   "cell_type": "code",
   "execution_count": 22,
   "id": "7b18f91b",
   "metadata": {},
   "outputs": [],
   "source": [
    "# Initializing model hyper-parameters\n",
    "lr1 = Net(\n",
    "    optimizer = SGD(\n",
    "        learning_rate= 0.1,  \n",
    "        weight_decay = 0,\n",
    "        momentum = 0,\n",
    "        lr_decay = \"default\"\n",
    "    ),\n",
    "    criterion = CrossEntropyLoss(),\n",
    "    batch_norm = False,\n",
    "    L2_reg_term = 0\n",
    ")\n",
    "\n",
    "# Adding Layers (and setting Layer hyper-parameters)\n",
    "lr1.add(Linear(128, 1024))  \n",
    "lr1.add(ReLU())\n",
    "lr1.add(Linear(1024, 512))                                  \n",
    "lr1.add(ReLU())\n",
    "lr1.add(Linear(512, 64)) \n",
    "lr1.add(ReLU())\n",
    "lr1.add(Linear(64, 10))\n",
    "\n",
    "lr1.set_name(\"lr1\")  # creates name for model for loading saved model from training (with min val loss)"
   ]
  },
  {
   "cell_type": "markdown",
   "id": "d95a4eef",
   "metadata": {},
   "source": [
    "# ITERATION 2: TRAINING \n",
    "## Model Variation 1: learning_rate = 0.01"
   ]
  },
  {
   "cell_type": "code",
   "execution_count": 23,
   "id": "b0befea8",
   "metadata": {},
   "outputs": [
    {
     "name": "stderr",
     "output_type": "stream",
     "text": [
      "  1%|█▍                                                                                                                                           | 1/100 [00:02<04:49,  2.93s/it]"
     ]
    },
    {
     "name": "stdout",
     "output_type": "stream",
     "text": [
      "Epoch: 0\tInterval Time: 2.9 sec(s)\tTraining Loss: 2.325052\t\tTraining Accuracy: 0.115700\n",
      "\t\t\t\t\t\tValidation Loss:2.292209\tValidation Accuracy: 0.130500\n"
     ]
    },
    {
     "name": "stderr",
     "output_type": "stream",
     "text": [
      " 11%|███████████████▍                                                                                                                            | 11/100 [00:33<04:33,  3.07s/it]"
     ]
    },
    {
     "name": "stdout",
     "output_type": "stream",
     "text": [
      "Epoch: 10\tInterval Time: 30.1 sec(s)\tTraining Loss: 1.842304\t\tTraining Accuracy: 0.372875\n",
      "\t\t\t\t\t\tValidation Loss:1.852519\tValidation Accuracy: 0.361200\n"
     ]
    },
    {
     "name": "stderr",
     "output_type": "stream",
     "text": [
      " 21%|█████████████████████████████▍                                                                                                              | 21/100 [01:01<03:44,  2.84s/it]"
     ]
    },
    {
     "name": "stdout",
     "output_type": "stream",
     "text": [
      "Epoch: 20\tInterval Time: 28.8 sec(s)\tTraining Loss: 1.652858\t\tTraining Accuracy: 0.424500\n",
      "\t\t\t\t\t\tValidation Loss:1.724136\tValidation Accuracy: 0.392900\n"
     ]
    },
    {
     "name": "stderr",
     "output_type": "stream",
     "text": [
      " 31%|███████████████████████████████████████████▍                                                                                                | 31/100 [01:30<03:22,  2.93s/it]"
     ]
    },
    {
     "name": "stdout",
     "output_type": "stream",
     "text": [
      "Epoch: 30\tInterval Time: 28.4 sec(s)\tTraining Loss: 1.572019\t\tTraining Accuracy: 0.456250\n",
      "\t\t\t\t\t\tValidation Loss:1.686197\tValidation Accuracy: 0.404900\n"
     ]
    },
    {
     "name": "stderr",
     "output_type": "stream",
     "text": [
      " 41%|█████████████████████████████████████████████████████████▍                                                                                  | 41/100 [02:00<02:49,  2.88s/it]"
     ]
    },
    {
     "name": "stdout",
     "output_type": "stream",
     "text": [
      "Epoch: 40\tInterval Time: 30.6 sec(s)\tTraining Loss: 1.492739\t\tTraining Accuracy: 0.485650\n",
      "\t\t\t\t\t\tValidation Loss:1.653451\tValidation Accuracy: 0.421500\n"
     ]
    },
    {
     "name": "stderr",
     "output_type": "stream",
     "text": [
      " 51%|███████████████████████████████████████████████████████████████████████▍                                                                    | 51/100 [02:29<02:24,  2.95s/it]"
     ]
    },
    {
     "name": "stdout",
     "output_type": "stream",
     "text": [
      "Epoch: 50\tInterval Time: 29.1 sec(s)\tTraining Loss: 1.416478\t\tTraining Accuracy: 0.515125\n",
      "\t\t\t\t\t\tValidation Loss:1.632144\tValidation Accuracy: 0.433700\n"
     ]
    },
    {
     "name": "stderr",
     "output_type": "stream",
     "text": [
      " 61%|█████████████████████████████████████████████████████████████████████████████████████▍                                                      | 61/100 [02:58<01:48,  2.78s/it]"
     ]
    },
    {
     "name": "stdout",
     "output_type": "stream",
     "text": [
      "Epoch: 60\tInterval Time: 28.8 sec(s)\tTraining Loss: 1.345332\t\tTraining Accuracy: 0.543125\n",
      "\t\t\t\t\t\tValidation Loss:1.623964\tValidation Accuracy: 0.441100\n"
     ]
    },
    {
     "name": "stderr",
     "output_type": "stream",
     "text": [
      " 71%|███████████████████████████████████████████████████████████████████████████████████████████████████▍                                        | 71/100 [03:26<01:19,  2.76s/it]"
     ]
    },
    {
     "name": "stdout",
     "output_type": "stream",
     "text": [
      "Epoch: 70\tInterval Time: 27.6 sec(s)\tTraining Loss: 1.271373\t\tTraining Accuracy: 0.570400\n",
      "\t\t\t\t\t\tValidation Loss:1.621131\tValidation Accuracy: 0.450300\n"
     ]
    },
    {
     "name": "stderr",
     "output_type": "stream",
     "text": [
      " 81%|█████████████████████████████████████████████████████████████████████████████████████████████████████████████████▍                          | 81/100 [03:54<00:52,  2.76s/it]"
     ]
    },
    {
     "name": "stdout",
     "output_type": "stream",
     "text": [
      "Epoch: 80\tInterval Time: 27.7 sec(s)\tTraining Loss: 1.189869\t\tTraining Accuracy: 0.600450\n",
      "\t\t\t\t\t\tValidation Loss:1.621034\tValidation Accuracy: 0.457300\n"
     ]
    },
    {
     "name": "stderr",
     "output_type": "stream",
     "text": [
      " 88%|███████████████████████████████████████████████████████████████████████████████████████████████████████████████████████████▏                | 88/100 [04:17<00:35,  2.93s/it]"
     ]
    },
    {
     "name": "stdout",
     "output_type": "stream",
     "text": [
      "\n",
      "\n",
      "No decrease in validation loss during last 10 epoch(s).\n",
      "\n",
      "Convergence criteria achieved.\n",
      "Training completed @ Epoch 88.\n",
      "Total training time: 4 min 17.6 s\n",
      "\n",
      "                Best model found @ Epoch 77\n",
      "                --------------------------------------------\n",
      "                Training Loss: 1.215051\n",
      "                Validation Loss: 1.620170\n",
      "                --------------------------------------------\n",
      "                Training Accuracy: 0.592250\n",
      "                Validation Accuracy: 0.454900\n",
      "\n",
      "\n",
      "Best model 'lr01' saved in 'model/' directory.\n"
     ]
    },
    {
     "name": "stderr",
     "output_type": "stream",
     "text": [
      "\n"
     ]
    },
    {
     "data": {
      "text/plain": [
       "{'tags': ['hide-output']}"
      ]
     },
     "execution_count": 23,
     "metadata": {},
     "output_type": "execute_result"
    }
   ],
   "source": [
    "# train model till convergence\n",
    "lr01s = lr01.train_convergence(\n",
    "    train_set = train_set,\n",
    "    valid_set = valid_set,\n",
    "    batch_size = 500,\n",
    "    planned_epochs = 100,\n",
    "    last_check = 10,\n",
    "    threshold = 1e-25,\n",
    "    report_interval = 10\n",
    ")\n",
    "\n",
    "{\"tags\": [\"hide-output\"]}"
   ]
  },
  {
   "cell_type": "markdown",
   "id": "fe36baac",
   "metadata": {},
   "source": [
    "### Plotting Epoch-wise Loss & Accuracy Curves"
   ]
  },
  {
   "cell_type": "code",
   "execution_count": 24,
   "id": "4ca8761b",
   "metadata": {},
   "outputs": [
    {
     "data": {
      "text/plain": [
       "<Figure size 720x504 with 0 Axes>"
      ]
     },
     "metadata": {},
     "output_type": "display_data"
    },
    {
     "data": {
      "image/png": "[encoded data removed]",
      "text/plain": [
       "<Figure size 432x288 with 4 Axes>"
      ]
     },
     "metadata": {
      "needs_background": "light"
     },
     "output_type": "display_data"
    }
   ],
   "source": [
    "plot_results(lr01s)"
   ]
  },
  {
   "cell_type": "markdown",
   "id": "98ad48b6",
   "metadata": {},
   "source": [
    "### Checking Accuracy Results of Best Model"
   ]
  },
  {
   "cell_type": "code",
   "execution_count": 25,
   "id": "47ec7796",
   "metadata": {},
   "outputs": [
    {
     "name": "stdout",
     "output_type": "stream",
     "text": [
      "-------------------------------------------\n",
      "Accuracy on train data: 59.59%\n",
      "Total Count:  40000\n",
      "Total Match:  23836\n",
      "-------------------------------------------\n",
      "Test Accuracy of\t0: 68.53% (2761/4029)\n",
      "Test Accuracy of\t1: 34.54% (1389/4021)\n",
      "Test Accuracy of\t2: 45.69% (1820/3983)\n",
      "Test Accuracy of\t3: 30.15% (1192/3954)\n",
      "Test Accuracy of\t4: 57.62% (2309/4007)\n",
      "Test Accuracy of\t5: 67.05% (2702/4030)\n",
      "Test Accuracy of\t6: 72.99% (2956/4050)\n",
      "Test Accuracy of\t7: 78.86% (3137/3978)\n",
      "Test Accuracy of\t8: 74.67% (2975/3984)\n",
      "Test Accuracy of\t9: 65.46% (2595/3964)\n",
      "-------------------------------------------\n",
      "Accuracy on valid data: 45.49%\n",
      "Total Count:  10000\n",
      "Total Match:  4549\n",
      "-------------------------------------------\n",
      "Test Accuracy of\t0: 53.04% (515/971)\n",
      "Test Accuracy of\t1: 21.45% (210/979)\n",
      "Test Accuracy of\t2: 29.99% (305/1017)\n",
      "Test Accuracy of\t3: 23.14% (242/1046)\n",
      "Test Accuracy of\t4: 39.88% (396/993)\n",
      "Test Accuracy of\t5: 53.51% (519/970)\n",
      "Test Accuracy of\t6: 57.26% (544/950)\n",
      "Test Accuracy of\t7: 68.88% (704/1022)\n",
      "Test Accuracy of\t8: 54.92% (558/1016)\n",
      "Test Accuracy of\t9: 53.67% (556/1036)\n",
      "-------------------------------------------\n",
      "Accuracy on test data: 45.18%\n",
      "Total Count:  10000\n",
      "Total Match:  4518\n",
      "-------------------------------------------\n",
      "Test Accuracy of\t0: 53.40% (534/1000)\n",
      "Test Accuracy of\t1: 23.00% (230/1000)\n",
      "Test Accuracy of\t2: 27.80% (278/1000)\n",
      "Test Accuracy of\t3: 22.70% (227/1000)\n",
      "Test Accuracy of\t4: 41.10% (411/1000)\n",
      "Test Accuracy of\t5: 52.80% (528/1000)\n",
      "Test Accuracy of\t6: 57.40% (574/1000)\n",
      "Test Accuracy of\t7: 64.90% (649/1000)\n",
      "Test Accuracy of\t8: 52.30% (523/1000)\n",
      "Test Accuracy of\t9: 56.40% (564/1000)\n"
     ]
    }
   ],
   "source": [
    "# Loading new best model found:\n",
    "lr01 = Net.load_model(\"model/lr01\")\n",
    "lr01.test_network(train_set, \"train data\")\n",
    "lr01.test_network(valid_set, \"valid data\")\n",
    "lr01.test_network(test_set, \"test data\")"
   ]
  },
  {
   "cell_type": "markdown",
   "id": "55fa2512",
   "metadata": {},
   "source": [
    "## Model Variation 2: learning_rate = 0.05"
   ]
  },
  {
   "cell_type": "code",
   "execution_count": 26,
   "id": "5853c6b8",
   "metadata": {},
   "outputs": [
    {
     "name": "stderr",
     "output_type": "stream",
     "text": [
      "  1%|█▍                                                                                                                                           | 1/100 [00:02<04:44,  2.87s/it]"
     ]
    },
    {
     "name": "stdout",
     "output_type": "stream",
     "text": [
      "Epoch: 0\tInterval Time: 2.9 sec(s)\tTraining Loss: 2.251441\t\tTraining Accuracy: 0.158025\n",
      "\t\t\t\t\t\tValidation Loss:2.172469\tValidation Accuracy: 0.230700\n"
     ]
    },
    {
     "name": "stderr",
     "output_type": "stream",
     "text": [
      " 11%|███████████████▍                                                                                                                            | 11/100 [00:32<04:18,  2.91s/it]"
     ]
    },
    {
     "name": "stdout",
     "output_type": "stream",
     "text": [
      "Epoch: 10\tInterval Time: 29.2 sec(s)\tTraining Loss: 1.447038\t\tTraining Accuracy: 0.499875\n",
      "\t\t\t\t\t\tValidation Loss:1.631243\tValidation Accuracy: 0.435300\n"
     ]
    },
    {
     "name": "stderr",
     "output_type": "stream",
     "text": [
      " 21%|█████████████████████████████▍                                                                                                              | 21/100 [01:01<04:00,  3.05s/it]"
     ]
    },
    {
     "name": "stdout",
     "output_type": "stream",
     "text": [
      "Epoch: 20\tInterval Time: 29.5 sec(s)\tTraining Loss: 1.140745\t\tTraining Accuracy: 0.612600\n",
      "\t\t\t\t\t\tValidation Loss:1.639149\tValidation Accuracy: 0.462600\n"
     ]
    },
    {
     "name": "stderr",
     "output_type": "stream",
     "text": [
      " 26%|████████████████████████████████████▍                                                                                                       | 26/100 [01:22<03:54,  3.17s/it]"
     ]
    },
    {
     "name": "stdout",
     "output_type": "stream",
     "text": [
      "\n",
      "\n",
      "No decrease in validation loss during last 10 epoch(s).\n",
      "\n",
      "Convergence criteria achieved.\n",
      "Training completed @ Epoch 26.\n",
      "Total training time: 1 min 22.5 s\n",
      "\n",
      "                Best model found @ Epoch 15\n",
      "                --------------------------------------------\n",
      "                Training Loss: 1.281205\n",
      "                Validation Loss: 1.601635\n",
      "                --------------------------------------------\n",
      "                Training Accuracy: 0.561350\n",
      "                Validation Accuracy: 0.449900\n",
      "\n",
      "\n",
      "Best model 'lr05' saved in 'model/' directory.\n"
     ]
    },
    {
     "name": "stderr",
     "output_type": "stream",
     "text": [
      "\n"
     ]
    },
    {
     "data": {
      "text/plain": [
       "{'tags': ['hide-output']}"
      ]
     },
     "execution_count": 26,
     "metadata": {},
     "output_type": "execute_result"
    }
   ],
   "source": [
    "# train model till convergence\n",
    "lr05s = lr05.train_convergence(\n",
    "    train_set = train_set,\n",
    "    valid_set = valid_set,\n",
    "    batch_size = 500,\n",
    "    planned_epochs = 100,\n",
    "    last_check = 10,\n",
    "    threshold = 1e-25,\n",
    "    report_interval = 10\n",
    ")\n",
    "\n",
    "{\"tags\": [\"hide-output\"]}"
   ]
  },
  {
   "cell_type": "markdown",
   "id": "5c57a18a",
   "metadata": {},
   "source": [
    "### Plotting Epoch-wise Loss & Accuracy Curves "
   ]
  },
  {
   "cell_type": "code",
   "execution_count": 27,
   "id": "eeb77a78",
   "metadata": {},
   "outputs": [
    {
     "data": {
      "text/plain": [
       "<Figure size 720x504 with 0 Axes>"
      ]
     },
     "metadata": {},
     "output_type": "display_data"
    },
    {
     "data": {
      "image/png": "[encoded data removed]",
      "text/plain": [
       "<Figure size 432x288 with 4 Axes>"
      ]
     },
     "metadata": {
      "needs_background": "light"
     },
     "output_type": "display_data"
    }
   ],
   "source": [
    "plot_results(lr05s)"
   ]
  },
  {
   "cell_type": "markdown",
   "id": "24b97d8f",
   "metadata": {},
   "source": [
    "### Checking Accuracy Results of Best Model"
   ]
  },
  {
   "cell_type": "code",
   "execution_count": 28,
   "id": "fbc36451",
   "metadata": {},
   "outputs": [
    {
     "name": "stdout",
     "output_type": "stream",
     "text": [
      "-------------------------------------------\n",
      "Accuracy on train data: 58.53%\n",
      "Total Count:  40000\n",
      "Total Match:  23410\n",
      "-------------------------------------------\n",
      "Test Accuracy of\t0: 70.12% (2825/4029)\n",
      "Test Accuracy of\t1: 37.23% (1497/4021)\n",
      "Test Accuracy of\t2: 39.17% (1560/3983)\n",
      "Test Accuracy of\t3: 32.65% (1291/3954)\n",
      "Test Accuracy of\t4: 55.38% (2219/4007)\n",
      "Test Accuracy of\t5: 61.07% (2461/4030)\n",
      "Test Accuracy of\t6: 77.48% (3138/4050)\n",
      "Test Accuracy of\t7: 81.25% (3232/3978)\n",
      "Test Accuracy of\t8: 72.24% (2878/3984)\n",
      "Test Accuracy of\t9: 58.25% (2309/3964)\n",
      "-------------------------------------------\n",
      "Accuracy on valid data: 44.99%\n",
      "Total Count:  10000\n",
      "Total Match:  4499\n",
      "-------------------------------------------\n",
      "Test Accuracy of\t0: 52.42% (509/971)\n",
      "Test Accuracy of\t1: 26.25% (257/979)\n",
      "Test Accuracy of\t2: 24.19% (246/1017)\n",
      "Test Accuracy of\t3: 24.19% (253/1046)\n",
      "Test Accuracy of\t4: 43.50% (432/993)\n",
      "Test Accuracy of\t5: 48.04% (466/970)\n",
      "Test Accuracy of\t6: 60.21% (572/950)\n",
      "Test Accuracy of\t7: 70.06% (716/1022)\n",
      "Test Accuracy of\t8: 55.12% (560/1016)\n",
      "Test Accuracy of\t9: 47.10% (488/1036)\n",
      "-------------------------------------------\n",
      "Accuracy on test data: 45.91%\n",
      "Total Count:  10000\n",
      "Total Match:  4591\n",
      "-------------------------------------------\n",
      "Test Accuracy of\t0: 54.40% (544/1000)\n",
      "Test Accuracy of\t1: 28.10% (281/1000)\n",
      "Test Accuracy of\t2: 24.10% (241/1000)\n",
      "Test Accuracy of\t3: 23.30% (233/1000)\n",
      "Test Accuracy of\t4: 40.50% (405/1000)\n",
      "Test Accuracy of\t5: 50.90% (509/1000)\n",
      "Test Accuracy of\t6: 63.60% (636/1000)\n",
      "Test Accuracy of\t7: 67.80% (678/1000)\n",
      "Test Accuracy of\t8: 56.20% (562/1000)\n",
      "Test Accuracy of\t9: 50.20% (502/1000)\n"
     ]
    }
   ],
   "source": [
    "# Loading new best model found:\n",
    "lr05 = Net.load_model(\"model/lr05\")\n",
    "lr05.test_network(train_set, \"train data\")\n",
    "lr05.test_network(valid_set, \"valid data\")\n",
    "lr05.test_network(test_set, \"test data\")"
   ]
  },
  {
   "cell_type": "markdown",
   "id": "9ece0385",
   "metadata": {},
   "source": [
    "## Model Variation 3: learning_rate = 0.1"
   ]
  },
  {
   "cell_type": "code",
   "execution_count": 29,
   "id": "3c93b39e",
   "metadata": {},
   "outputs": [
    {
     "name": "stderr",
     "output_type": "stream",
     "text": [
      "  1%|█▍                                                                                                                                           | 1/100 [00:02<04:50,  2.93s/it]"
     ]
    },
    {
     "name": "stdout",
     "output_type": "stream",
     "text": [
      "Epoch: 0\tInterval Time: 2.9 sec(s)\tTraining Loss: 2.144999\t\tTraining Accuracy: 0.223525\n",
      "\t\t\t\t\t\tValidation Loss:1.931097\tValidation Accuracy: 0.324800\n"
     ]
    },
    {
     "name": "stderr",
     "output_type": "stream",
     "text": [
      " 11%|███████████████▍                                                                                                                            | 11/100 [00:31<04:17,  2.89s/it]"
     ]
    },
    {
     "name": "stdout",
     "output_type": "stream",
     "text": [
      "Epoch: 10\tInterval Time: 29.0 sec(s)\tTraining Loss: 1.260909\t\tTraining Accuracy: 0.569325\n",
      "\t\t\t\t\t\tValidation Loss:1.695751\tValidation Accuracy: 0.439600\n"
     ]
    },
    {
     "name": "stderr",
     "output_type": "stream",
     "text": [
      " 20%|████████████████████████████                                                                                                                | 20/100 [01:00<04:03,  3.05s/it]"
     ]
    },
    {
     "name": "stdout",
     "output_type": "stream",
     "text": [
      "Epoch: 20\tInterval Time: 29.0 sec(s)\tTraining Loss: 0.986651\t\tTraining Accuracy: 0.674000\n",
      "\t\t\t\t\t\tValidation Loss:2.134790\tValidation Accuracy: 0.442200\n",
      "\n",
      "\n",
      "No decrease in validation loss during last 10 epoch(s).\n",
      "\n",
      "Convergence criteria achieved.\n",
      "Training completed @ Epoch 20.\n",
      "Total training time: 1 min 0.9 s\n",
      "\n",
      "                Best model found @ Epoch 9\n",
      "                --------------------------------------------\n",
      "                Training Loss: 1.289398\n",
      "                Validation Loss: 1.641991\n",
      "                --------------------------------------------\n",
      "                Training Accuracy: 0.560275\n",
      "                Validation Accuracy: 0.442800\n",
      "\n",
      "\n",
      "Best model 'lr1' saved in 'model/' directory.\n"
     ]
    },
    {
     "name": "stderr",
     "output_type": "stream",
     "text": [
      "\n"
     ]
    },
    {
     "data": {
      "text/plain": [
       "{'tags': ['hide-output']}"
      ]
     },
     "execution_count": 29,
     "metadata": {},
     "output_type": "execute_result"
    }
   ],
   "source": [
    "# train model till convergence\n",
    "lr1s = lr1.train_convergence(\n",
    "    train_set = train_set,\n",
    "    valid_set = valid_set,\n",
    "    batch_size = 500,\n",
    "    planned_epochs = 100,\n",
    "    last_check = 10,\n",
    "    threshold = 1e-25,\n",
    "    report_interval = 10\n",
    ")\n",
    "\n",
    "{\"tags\": [\"hide-output\"]}"
   ]
  },
  {
   "cell_type": "markdown",
   "id": "a162e2a7",
   "metadata": {},
   "source": [
    "### Plotting Epoch-wise Loss & Accuracy Curves "
   ]
  },
  {
   "cell_type": "code",
   "execution_count": 30,
   "id": "6b37208b",
   "metadata": {},
   "outputs": [
    {
     "data": {
      "text/plain": [
       "<Figure size 720x504 with 0 Axes>"
      ]
     },
     "metadata": {},
     "output_type": "display_data"
    },
    {
     "data": {
      "image/png": "[encoded data removed]",
      "text/plain": [
       "<Figure size 432x288 with 4 Axes>"
      ]
     },
     "metadata": {
      "needs_background": "light"
     },
     "output_type": "display_data"
    }
   ],
   "source": [
    "plot_results(lr1s)"
   ]
  },
  {
   "cell_type": "markdown",
   "id": "1af598b3",
   "metadata": {},
   "source": [
    "### Checking Accuracy Results of Best Model"
   ]
  },
  {
   "cell_type": "code",
   "execution_count": 31,
   "id": "8f4882e5",
   "metadata": {},
   "outputs": [
    {
     "name": "stdout",
     "output_type": "stream",
     "text": [
      "-------------------------------------------\n",
      "Accuracy on train data: 59.82%\n",
      "Total Count:  40000\n",
      "Total Match:  23927\n",
      "-------------------------------------------\n",
      "Test Accuracy of\t0: 70.61% (2845/4029)\n",
      "Test Accuracy of\t1: 50.48% (2030/4021)\n",
      "Test Accuracy of\t2: 49.13% (1957/3983)\n",
      "Test Accuracy of\t3: 29.21% (1155/3954)\n",
      "Test Accuracy of\t4: 54.40% (2180/4007)\n",
      "Test Accuracy of\t5: 58.88% (2373/4030)\n",
      "Test Accuracy of\t6: 57.19% (2316/4050)\n",
      "Test Accuracy of\t7: 79.26% (3153/3978)\n",
      "Test Accuracy of\t8: 75.45% (3006/3984)\n",
      "Test Accuracy of\t9: 73.46% (2912/3964)\n",
      "-------------------------------------------\n",
      "Accuracy on valid data: 44.28%\n",
      "Total Count:  10000\n",
      "Total Match:  4428\n",
      "-------------------------------------------\n",
      "Test Accuracy of\t0: 52.63% (511/971)\n",
      "Test Accuracy of\t1: 34.53% (338/979)\n",
      "Test Accuracy of\t2: 28.61% (291/1017)\n",
      "Test Accuracy of\t3: 20.27% (212/1046)\n",
      "Test Accuracy of\t4: 38.57% (383/993)\n",
      "Test Accuracy of\t5: 44.02% (427/970)\n",
      "Test Accuracy of\t6: 40.53% (385/950)\n",
      "Test Accuracy of\t7: 66.44% (679/1022)\n",
      "Test Accuracy of\t8: 57.09% (580/1016)\n",
      "Test Accuracy of\t9: 60.04% (622/1036)\n",
      "-------------------------------------------\n",
      "Accuracy on test data: 44.97%\n",
      "Total Count:  10000\n",
      "Total Match:  4497\n",
      "-------------------------------------------\n",
      "Test Accuracy of\t0: 53.20% (532/1000)\n",
      "Test Accuracy of\t1: 37.60% (376/1000)\n",
      "Test Accuracy of\t2: 30.40% (304/1000)\n",
      "Test Accuracy of\t3: 21.10% (211/1000)\n",
      "Test Accuracy of\t4: 39.30% (393/1000)\n",
      "Test Accuracy of\t5: 45.20% (452/1000)\n",
      "Test Accuracy of\t6: 41.70% (417/1000)\n",
      "Test Accuracy of\t7: 63.00% (630/1000)\n",
      "Test Accuracy of\t8: 57.10% (571/1000)\n",
      "Test Accuracy of\t9: 61.10% (611/1000)\n"
     ]
    }
   ],
   "source": [
    "# Loading new best model found:\n",
    "lr1 = Net.load_model(\"model/lr1\")\n",
    "lr1.test_network(train_set, \"train data\")\n",
    "lr1.test_network(valid_set, \"valid data\")\n",
    "lr1.test_network(test_set, \"test data\")"
   ]
  },
  {
   "cell_type": "markdown",
   "id": "d8b9b7e7",
   "metadata": {},
   "source": [
    "# ITERATION 2: DECISION\n",
    "## Selecting learning_rate = 0.05 based on Accuracy Result on Test Set."
   ]
  },
  {
   "cell_type": "markdown",
   "id": "376749d2",
   "metadata": {},
   "source": [
    "# ITERATION 3: Adding Momentum"
   ]
  },
  {
   "cell_type": "markdown",
   "id": "bb62b616",
   "metadata": {},
   "source": [
    "## Model Variation 1: momentum = 0.9"
   ]
  },
  {
   "cell_type": "code",
   "execution_count": 32,
   "id": "3101f5c9",
   "metadata": {},
   "outputs": [],
   "source": [
    "# Initializing model hyper-parameters\n",
    "m9 = Net(\n",
    "    optimizer = SGD(\n",
    "        learning_rate= 0.05,  \n",
    "        weight_decay = 0,\n",
    "        momentum = 0.9,\n",
    "        lr_decay = \"default\"\n",
    "    ),\n",
    "    criterion = CrossEntropyLoss(),\n",
    "    batch_norm = False,\n",
    "    L2_reg_term = 0\n",
    ")\n",
    "\n",
    "# Adding Layers (and setting Layer hyper-parameters)\n",
    "m9.add(Linear(128, 1024))  \n",
    "m9.add(ReLU())\n",
    "m9.add(Linear(1024, 512))                                  \n",
    "m9.add(ReLU())\n",
    "m9.add(Linear(512, 64)) \n",
    "m9.add(ReLU())\n",
    "m9.add(Linear(64, 10))\n",
    "\n",
    "m9.set_name(\"m9\")  # creates name for model for loading saved model from training (with min val loss)"
   ]
  },
  {
   "cell_type": "markdown",
   "id": "f1a60575",
   "metadata": {},
   "source": [
    "## Model Variation 2: momentum = 0.95"
   ]
  },
  {
   "cell_type": "code",
   "execution_count": 33,
   "id": "2b716883",
   "metadata": {},
   "outputs": [],
   "source": [
    "# Initializing model hyper-parameters\n",
    "m95 = Net(\n",
    "    optimizer = SGD(\n",
    "        learning_rate= 0.05,  \n",
    "        weight_decay = 0,\n",
    "        momentum = 0.95,\n",
    "        lr_decay = \"default\"\n",
    "    ),\n",
    "    criterion = CrossEntropyLoss(),\n",
    "    batch_norm = False,\n",
    "    L2_reg_term = 0\n",
    ")\n",
    "\n",
    "# Adding Layers (and setting Layer hyper-parameters)\n",
    "m95.add(Linear(128, 1024))  \n",
    "m95.add(ReLU())\n",
    "m95.add(Linear(1024, 512))                                  \n",
    "m95.add(ReLU())\n",
    "m95.add(Linear(512, 64)) \n",
    "m95.add(ReLU())\n",
    "m95.add(Linear(64, 10))\n",
    "\n",
    "m95.set_name(\"m95\")  # creates name for model for loading saved model from training (with min val loss)"
   ]
  },
  {
   "cell_type": "markdown",
   "id": "e7db9beb",
   "metadata": {},
   "source": [
    "## Model Variation 3: momentum = 0.999"
   ]
  },
  {
   "cell_type": "code",
   "execution_count": 34,
   "id": "48848a43",
   "metadata": {},
   "outputs": [],
   "source": [
    "# Initializing model hyper-parameters\n",
    "m99 = Net(\n",
    "    optimizer = SGD(\n",
    "        learning_rate= 0.05,  \n",
    "        weight_decay = 0,\n",
    "        momentum = 0.999,\n",
    "        lr_decay = \"default\"\n",
    "    ),\n",
    "    criterion = CrossEntropyLoss(),\n",
    "    batch_norm = False,\n",
    "    L2_reg_term = 0\n",
    ")\n",
    "\n",
    "# Adding Layers (and setting Layer hyper-parameters)\n",
    "m99.add(Linear(128, 1024))  \n",
    "m99.add(ReLU())\n",
    "m99.add(Linear(1024, 512))                                  \n",
    "m99.add(ReLU())\n",
    "m99.add(Linear(512, 64)) \n",
    "m99.add(ReLU())\n",
    "m99.add(Linear(64, 10))\n",
    "\n",
    "m99.set_name(\"m99\")  # creates name for model for loading saved model from training (with min val loss)"
   ]
  },
  {
   "cell_type": "markdown",
   "id": "42301735",
   "metadata": {},
   "source": [
    "# ITERATION 3: TRAINING\n",
    "## Model Variation 1: momentum = 0.9"
   ]
  },
  {
   "cell_type": "code",
   "execution_count": 35,
   "id": "37b76814",
   "metadata": {},
   "outputs": [
    {
     "name": "stderr",
     "output_type": "stream",
     "text": [
      "  1%|█▍                                                                                                                                           | 1/100 [00:02<04:51,  2.94s/it]"
     ]
    },
    {
     "name": "stdout",
     "output_type": "stream",
     "text": [
      "Epoch: 0\tInterval Time: 2.9 sec(s)\tTraining Loss: 2.245411\t\tTraining Accuracy: 0.168225\n",
      "\t\t\t\t\t\tValidation Loss:2.147472\tValidation Accuracy: 0.242700\n"
     ]
    },
    {
     "name": "stderr",
     "output_type": "stream",
     "text": [
      " 11%|███████████████▍                                                                                                                            | 11/100 [00:31<04:18,  2.90s/it]"
     ]
    },
    {
     "name": "stdout",
     "output_type": "stream",
     "text": [
      "Epoch: 10\tInterval Time: 29.1 sec(s)\tTraining Loss: 1.438358\t\tTraining Accuracy: 0.503800\n",
      "\t\t\t\t\t\tValidation Loss:1.639871\tValidation Accuracy: 0.428600\n"
     ]
    },
    {
     "name": "stderr",
     "output_type": "stream",
     "text": [
      " 21%|█████████████████████████████▍                                                                                                              | 21/100 [01:00<03:45,  2.85s/it]"
     ]
    },
    {
     "name": "stdout",
     "output_type": "stream",
     "text": [
      "Epoch: 20\tInterval Time: 28.8 sec(s)\tTraining Loss: 1.112076\t\tTraining Accuracy: 0.622600\n",
      "\t\t\t\t\t\tValidation Loss:1.672496\tValidation Accuracy: 0.458200\n"
     ]
    },
    {
     "name": "stderr",
     "output_type": "stream",
     "text": [
      " 26%|████████████████████████████████████▍                                                                                                       | 26/100 [01:17<03:41,  2.99s/it]"
     ]
    },
    {
     "name": "stdout",
     "output_type": "stream",
     "text": [
      "\n",
      "\n",
      "No decrease in validation loss during last 10 epoch(s).\n",
      "\n",
      "Convergence criteria achieved.\n",
      "Training completed @ Epoch 26.\n",
      "Total training time: 1 min 17.8 s\n",
      "\n",
      "                Best model found @ Epoch 15\n",
      "                --------------------------------------------\n",
      "                Training Loss: 1.274029\n",
      "                Validation Loss: 1.622253\n",
      "                --------------------------------------------\n",
      "                Training Accuracy: 0.569150\n",
      "                Validation Accuracy: 0.446200\n",
      "\n",
      "\n",
      "Best model 'm9' saved in 'model/' directory.\n"
     ]
    },
    {
     "name": "stderr",
     "output_type": "stream",
     "text": [
      "\n"
     ]
    },
    {
     "data": {
      "text/plain": [
       "{'tags': ['hide-output']}"
      ]
     },
     "execution_count": 35,
     "metadata": {},
     "output_type": "execute_result"
    }
   ],
   "source": [
    "# train model till convergence\n",
    "m9s = m9.train_convergence(\n",
    "    train_set = train_set,\n",
    "    valid_set = valid_set,\n",
    "    batch_size = 500,\n",
    "    planned_epochs = 100,\n",
    "    last_check = 10,\n",
    "    threshold = 1e-25,\n",
    "    report_interval = 10\n",
    ")\n",
    "\n",
    "{\"tags\": [\"hide-output\"]}"
   ]
  },
  {
   "cell_type": "markdown",
   "id": "77037d94",
   "metadata": {},
   "source": [
    "### Plotting Epoch-wise Loss & Accuracy Curves"
   ]
  },
  {
   "cell_type": "code",
   "execution_count": 36,
   "id": "66b33c24",
   "metadata": {},
   "outputs": [
    {
     "data": {
      "text/plain": [
       "<Figure size 720x504 with 0 Axes>"
      ]
     },
     "metadata": {},
     "output_type": "display_data"
    },
    {
     "data": {
      "image/png": "[encoded data removed]",
      "text/plain": [
       "<Figure size 432x288 with 4 Axes>"
      ]
     },
     "metadata": {
      "needs_background": "light"
     },
     "output_type": "display_data"
    }
   ],
   "source": [
    "plot_results(m9s)"
   ]
  },
  {
   "cell_type": "markdown",
   "id": "33138d3e",
   "metadata": {},
   "source": [
    "### Checking Accuracy of Best Model"
   ]
  },
  {
   "cell_type": "code",
   "execution_count": 37,
   "id": "a0a33f6b",
   "metadata": {},
   "outputs": [
    {
     "name": "stdout",
     "output_type": "stream",
     "text": [
      "-------------------------------------------\n",
      "Accuracy on train data: 59.13%\n",
      "Total Count:  40000\n",
      "Total Match:  23650\n",
      "-------------------------------------------\n",
      "Test Accuracy of\t0: 75.50% (3042/4029)\n",
      "Test Accuracy of\t1: 42.38% (1704/4021)\n",
      "Test Accuracy of\t2: 42.36% (1687/3983)\n",
      "Test Accuracy of\t3: 30.96% (1224/3954)\n",
      "Test Accuracy of\t4: 57.50% (2304/4007)\n",
      "Test Accuracy of\t5: 63.35% (2553/4030)\n",
      "Test Accuracy of\t6: 71.09% (2879/4050)\n",
      "Test Accuracy of\t7: 77.25% (3073/3978)\n",
      "Test Accuracy of\t8: 61.82% (2463/3984)\n",
      "Test Accuracy of\t9: 68.64% (2721/3964)\n",
      "-------------------------------------------\n",
      "Accuracy on valid data: 44.62%\n",
      "Total Count:  10000\n",
      "Total Match:  4462\n",
      "-------------------------------------------\n",
      "Test Accuracy of\t0: 61.28% (595/971)\n",
      "Test Accuracy of\t1: 26.66% (261/979)\n",
      "Test Accuracy of\t2: 27.14% (276/1017)\n",
      "Test Accuracy of\t3: 22.75% (238/1046)\n",
      "Test Accuracy of\t4: 40.79% (405/993)\n",
      "Test Accuracy of\t5: 50.31% (488/970)\n",
      "Test Accuracy of\t6: 53.58% (509/950)\n",
      "Test Accuracy of\t7: 66.05% (675/1022)\n",
      "Test Accuracy of\t8: 44.98% (457/1016)\n",
      "Test Accuracy of\t9: 53.86% (558/1036)\n",
      "-------------------------------------------\n",
      "Accuracy on test data: 45.77%\n",
      "Total Count:  10000\n",
      "Total Match:  4577\n",
      "-------------------------------------------\n",
      "Test Accuracy of\t0: 62.20% (622/1000)\n",
      "Test Accuracy of\t1: 30.10% (301/1000)\n",
      "Test Accuracy of\t2: 24.30% (243/1000)\n",
      "Test Accuracy of\t3: 23.80% (238/1000)\n",
      "Test Accuracy of\t4: 41.30% (413/1000)\n",
      "Test Accuracy of\t5: 53.00% (530/1000)\n",
      "Test Accuracy of\t6: 56.30% (563/1000)\n",
      "Test Accuracy of\t7: 63.20% (632/1000)\n",
      "Test Accuracy of\t8: 45.10% (451/1000)\n",
      "Test Accuracy of\t9: 58.40% (584/1000)\n"
     ]
    }
   ],
   "source": [
    "# Loading new best model found:\n",
    "m9 = Net.load_model(\"model/m9\")\n",
    "m9.test_network(train_set, \"train data\")\n",
    "m9.test_network(valid_set, \"valid data\")\n",
    "m9.test_network(test_set, \"test data\")"
   ]
  },
  {
   "cell_type": "markdown",
   "id": "fd474e67",
   "metadata": {},
   "source": [
    "## Model Variation 2: momentum = 0.95"
   ]
  },
  {
   "cell_type": "code",
   "execution_count": 38,
   "id": "2fd7bda4",
   "metadata": {},
   "outputs": [
    {
     "name": "stderr",
     "output_type": "stream",
     "text": [
      "  1%|█▍                                                                                                                                           | 1/100 [00:02<04:49,  2.93s/it]"
     ]
    },
    {
     "name": "stdout",
     "output_type": "stream",
     "text": [
      "Epoch: 0\tInterval Time: 2.9 sec(s)\tTraining Loss: 2.248136\t\tTraining Accuracy: 0.166775\n",
      "\t\t\t\t\t\tValidation Loss:2.165693\tValidation Accuracy: 0.240400\n"
     ]
    },
    {
     "name": "stderr",
     "output_type": "stream",
     "text": [
      " 11%|███████████████▍                                                                                                                            | 11/100 [00:31<04:16,  2.88s/it]"
     ]
    },
    {
     "name": "stdout",
     "output_type": "stream",
     "text": [
      "Epoch: 10\tInterval Time: 28.8 sec(s)\tTraining Loss: 1.457530\t\tTraining Accuracy: 0.496025\n",
      "\t\t\t\t\t\tValidation Loss:1.642815\tValidation Accuracy: 0.427400\n"
     ]
    },
    {
     "name": "stderr",
     "output_type": "stream",
     "text": [
      " 21%|█████████████████████████████▍                                                                                                              | 21/100 [01:00<03:47,  2.88s/it]"
     ]
    },
    {
     "name": "stdout",
     "output_type": "stream",
     "text": [
      "Epoch: 20\tInterval Time: 28.8 sec(s)\tTraining Loss: 1.143395\t\tTraining Accuracy: 0.610975\n",
      "\t\t\t\t\t\tValidation Loss:1.666837\tValidation Accuracy: 0.456800\n"
     ]
    },
    {
     "name": "stderr",
     "output_type": "stream",
     "text": [
      " 27%|█████████████████████████████████████▊                                                                                                      | 27/100 [01:20<03:37,  2.98s/it]"
     ]
    },
    {
     "name": "stdout",
     "output_type": "stream",
     "text": [
      "\n",
      "\n",
      "No decrease in validation loss during last 10 epoch(s).\n",
      "\n",
      "Convergence criteria achieved.\n",
      "Training completed @ Epoch 27.\n",
      "Total training time: 1 min 20.6 s\n",
      "\n",
      "                Best model found @ Epoch 16\n",
      "                --------------------------------------------\n",
      "                Training Loss: 1.270377\n",
      "                Validation Loss: 1.625719\n",
      "                --------------------------------------------\n",
      "                Training Accuracy: 0.566700\n",
      "                Validation Accuracy: 0.452300\n",
      "\n",
      "\n",
      "Best model 'm95' saved in 'model/' directory.\n"
     ]
    },
    {
     "name": "stderr",
     "output_type": "stream",
     "text": [
      "\n"
     ]
    },
    {
     "data": {
      "text/plain": [
       "{'tags': ['hide-output']}"
      ]
     },
     "execution_count": 38,
     "metadata": {},
     "output_type": "execute_result"
    }
   ],
   "source": [
    "# train model till convergence\n",
    "m95s = m95.train_convergence(\n",
    "    train_set = train_set,\n",
    "    valid_set = valid_set,\n",
    "    batch_size = 500,\n",
    "    planned_epochs = 100,\n",
    "    last_check = 10,\n",
    "    threshold = 1e-25,\n",
    "    report_interval = 10\n",
    ")\n",
    "\n",
    "{\"tags\": [\"hide-output\"]}"
   ]
  },
  {
   "cell_type": "markdown",
   "id": "c2099e34",
   "metadata": {},
   "source": [
    "### Plotting Epoch-wise Loss & Accuracy Curves"
   ]
  },
  {
   "cell_type": "code",
   "execution_count": 39,
   "id": "72187001",
   "metadata": {},
   "outputs": [
    {
     "data": {
      "text/plain": [
       "<Figure size 720x504 with 0 Axes>"
      ]
     },
     "metadata": {},
     "output_type": "display_data"
    },
    {
     "data": {
      "image/png": "[encoded data removed]",
      "text/plain": [
       "<Figure size 432x288 with 4 Axes>"
      ]
     },
     "metadata": {
      "needs_background": "light"
     },
     "output_type": "display_data"
    }
   ],
   "source": [
    "plot_results(m95s)"
   ]
  },
  {
   "cell_type": "markdown",
   "id": "57d93b62",
   "metadata": {},
   "source": [
    "### Checking Accuracy of Best Model"
   ]
  },
  {
   "cell_type": "code",
   "execution_count": 40,
   "id": "0c68851a",
   "metadata": {},
   "outputs": [
    {
     "name": "stdout",
     "output_type": "stream",
     "text": [
      "-------------------------------------------\n",
      "Accuracy on train data: 60.04%\n",
      "Total Count:  40000\n",
      "Total Match:  24014\n",
      "-------------------------------------------\n",
      "Test Accuracy of\t0: 73.52% (2962/4029)\n",
      "Test Accuracy of\t1: 38.37% (1543/4021)\n",
      "Test Accuracy of\t2: 53.98% (2150/3983)\n",
      "Test Accuracy of\t3: 34.40% (1360/3954)\n",
      "Test Accuracy of\t4: 60.52% (2425/4007)\n",
      "Test Accuracy of\t5: 62.33% (2512/4030)\n",
      "Test Accuracy of\t6: 70.69% (2863/4050)\n",
      "Test Accuracy of\t7: 77.50% (3083/3978)\n",
      "Test Accuracy of\t8: 66.92% (2666/3984)\n",
      "Test Accuracy of\t9: 61.81% (2450/3964)\n",
      "-------------------------------------------\n",
      "Accuracy on valid data: 45.23%\n",
      "Total Count:  10000\n",
      "Total Match:  4523\n",
      "-------------------------------------------\n",
      "Test Accuracy of\t0: 58.19% (565/971)\n",
      "Test Accuracy of\t1: 24.11% (236/979)\n",
      "Test Accuracy of\t2: 34.02% (346/1017)\n",
      "Test Accuracy of\t3: 23.61% (247/1046)\n",
      "Test Accuracy of\t4: 44.71% (444/993)\n",
      "Test Accuracy of\t5: 48.45% (470/970)\n",
      "Test Accuracy of\t6: 54.32% (516/950)\n",
      "Test Accuracy of\t7: 65.07% (665/1022)\n",
      "Test Accuracy of\t8: 50.59% (514/1016)\n",
      "Test Accuracy of\t9: 50.19% (520/1036)\n",
      "-------------------------------------------\n",
      "Accuracy on test data: 45.57%\n",
      "Total Count:  10000\n",
      "Total Match:  4557\n",
      "-------------------------------------------\n",
      "Test Accuracy of\t0: 56.70% (567/1000)\n",
      "Test Accuracy of\t1: 26.00% (260/1000)\n",
      "Test Accuracy of\t2: 31.40% (314/1000)\n",
      "Test Accuracy of\t3: 22.70% (227/1000)\n",
      "Test Accuracy of\t4: 45.10% (451/1000)\n",
      "Test Accuracy of\t5: 49.00% (490/1000)\n",
      "Test Accuracy of\t6: 56.60% (566/1000)\n",
      "Test Accuracy of\t7: 64.20% (642/1000)\n",
      "Test Accuracy of\t8: 50.70% (507/1000)\n",
      "Test Accuracy of\t9: 53.30% (533/1000)\n"
     ]
    }
   ],
   "source": [
    "# Loading new best model found:\n",
    "m95 = Net.load_model(\"model/m95\")\n",
    "m95.test_network(train_set, \"train data\")\n",
    "m95.test_network(valid_set, \"valid data\")\n",
    "m95.test_network(test_set, \"test data\")"
   ]
  },
  {
   "cell_type": "markdown",
   "id": "1c9cdec6",
   "metadata": {},
   "source": [
    "## Model Variation 3: momentum = 0.999"
   ]
  },
  {
   "cell_type": "code",
   "execution_count": 41,
   "id": "5fe20053",
   "metadata": {},
   "outputs": [
    {
     "name": "stderr",
     "output_type": "stream",
     "text": [
      "  1%|█▍                                                                                                                                           | 1/100 [00:02<04:53,  2.97s/it]"
     ]
    },
    {
     "name": "stdout",
     "output_type": "stream",
     "text": [
      "Epoch: 0\tInterval Time: 3.0 sec(s)\tTraining Loss: 2.242613\t\tTraining Accuracy: 0.168700\n",
      "\t\t\t\t\t\tValidation Loss:2.149202\tValidation Accuracy: 0.238000\n"
     ]
    },
    {
     "name": "stderr",
     "output_type": "stream",
     "text": [
      " 11%|███████████████▍                                                                                                                            | 11/100 [00:32<04:21,  2.94s/it]"
     ]
    },
    {
     "name": "stdout",
     "output_type": "stream",
     "text": [
      "Epoch: 10\tInterval Time: 29.5 sec(s)\tTraining Loss: 1.457911\t\tTraining Accuracy: 0.498050\n",
      "\t\t\t\t\t\tValidation Loss:1.658141\tValidation Accuracy: 0.421900\n"
     ]
    },
    {
     "name": "stderr",
     "output_type": "stream",
     "text": [
      " 21%|█████████████████████████████▍                                                                                                              | 21/100 [01:01<03:44,  2.84s/it]"
     ]
    },
    {
     "name": "stdout",
     "output_type": "stream",
     "text": [
      "Epoch: 20\tInterval Time: 28.8 sec(s)\tTraining Loss: 1.116891\t\tTraining Accuracy: 0.622725\n",
      "\t\t\t\t\t\tValidation Loss:1.659858\tValidation Accuracy: 0.466900\n"
     ]
    },
    {
     "name": "stderr",
     "output_type": "stream",
     "text": [
      " 27%|█████████████████████████████████████▊                                                                                                      | 27/100 [01:21<03:40,  3.02s/it]"
     ]
    },
    {
     "name": "stdout",
     "output_type": "stream",
     "text": [
      "\n",
      "\n",
      "No decrease in validation loss during last 10 epoch(s).\n",
      "\n",
      "Convergence criteria achieved.\n",
      "Training completed @ Epoch 27.\n",
      "Total training time: 1 min 21.6 s\n",
      "\n",
      "                Best model found @ Epoch 16\n",
      "                --------------------------------------------\n",
      "                Training Loss: 1.243127\n",
      "                Validation Loss: 1.618077\n",
      "                --------------------------------------------\n",
      "                Training Accuracy: 0.578100\n",
      "                Validation Accuracy: 0.459200\n",
      "\n",
      "\n",
      "Best model 'm99' saved in 'model/' directory.\n"
     ]
    },
    {
     "name": "stderr",
     "output_type": "stream",
     "text": [
      "\n"
     ]
    },
    {
     "data": {
      "text/plain": [
       "{'tags': ['hide-output']}"
      ]
     },
     "execution_count": 41,
     "metadata": {},
     "output_type": "execute_result"
    }
   ],
   "source": [
    "# train model till convergence\n",
    "m99s = m99.train_convergence(\n",
    "    train_set = train_set,\n",
    "    valid_set = valid_set,\n",
    "    batch_size = 500,\n",
    "    planned_epochs = 100,\n",
    "    last_check = 10,\n",
    "    threshold = 1e-25,\n",
    "    report_interval = 10\n",
    ")\n",
    "\n",
    "{\"tags\": [\"hide-output\"]}"
   ]
  },
  {
   "cell_type": "markdown",
   "id": "dfa271c0",
   "metadata": {},
   "source": [
    "### Plotting Epoch-wise Loss & Accuracy Curves"
   ]
  },
  {
   "cell_type": "code",
   "execution_count": 42,
   "id": "85a2ebca",
   "metadata": {},
   "outputs": [
    {
     "data": {
      "text/plain": [
       "<Figure size 720x504 with 0 Axes>"
      ]
     },
     "metadata": {},
     "output_type": "display_data"
    },
    {
     "data": {
      "image/png": "[encoded data removed]",
      "text/plain": [
       "<Figure size 432x288 with 4 Axes>"
      ]
     },
     "metadata": {
      "needs_background": "light"
     },
     "output_type": "display_data"
    }
   ],
   "source": [
    "plot_results(m99s)"
   ]
  },
  {
   "cell_type": "markdown",
   "id": "c562153f",
   "metadata": {},
   "source": [
    "### Checking Accuracy of Best Model"
   ]
  },
  {
   "cell_type": "code",
   "execution_count": 43,
   "id": "c50a4bb5",
   "metadata": {},
   "outputs": [
    {
     "name": "stdout",
     "output_type": "stream",
     "text": [
      "-------------------------------------------\n",
      "Accuracy on train data: 60.74%\n",
      "Total Count:  40000\n",
      "Total Match:  24296\n",
      "-------------------------------------------\n",
      "Test Accuracy of\t0: 78.48% (3162/4029)\n",
      "Test Accuracy of\t1: 34.62% (1392/4021)\n",
      "Test Accuracy of\t2: 49.54% (1973/3983)\n",
      "Test Accuracy of\t3: 33.51% (1325/3954)\n",
      "Test Accuracy of\t4: 49.51% (1984/4007)\n",
      "Test Accuracy of\t5: 68.64% (2766/4030)\n",
      "Test Accuracy of\t6: 74.44% (3015/4050)\n",
      "Test Accuracy of\t7: 78.33% (3116/3978)\n",
      "Test Accuracy of\t8: 69.03% (2750/3984)\n",
      "Test Accuracy of\t9: 70.96% (2813/3964)\n",
      "-------------------------------------------\n",
      "Accuracy on valid data: 45.92%\n",
      "Total Count:  10000\n",
      "Total Match:  4592\n",
      "-------------------------------------------\n",
      "Test Accuracy of\t0: 58.60% (569/971)\n",
      "Test Accuracy of\t1: 22.17% (217/979)\n",
      "Test Accuracy of\t2: 30.97% (315/1017)\n",
      "Test Accuracy of\t3: 26.00% (272/1046)\n",
      "Test Accuracy of\t4: 34.24% (340/993)\n",
      "Test Accuracy of\t5: 55.05% (534/970)\n",
      "Test Accuracy of\t6: 57.16% (543/950)\n",
      "Test Accuracy of\t7: 66.63% (681/1022)\n",
      "Test Accuracy of\t8: 51.48% (523/1016)\n",
      "Test Accuracy of\t9: 57.72% (598/1036)\n",
      "-------------------------------------------\n",
      "Accuracy on test data: 46.03%\n",
      "Total Count:  10000\n",
      "Total Match:  4603\n",
      "-------------------------------------------\n",
      "Test Accuracy of\t0: 59.30% (593/1000)\n",
      "Test Accuracy of\t1: 22.90% (229/1000)\n",
      "Test Accuracy of\t2: 28.70% (287/1000)\n",
      "Test Accuracy of\t3: 23.30% (233/1000)\n",
      "Test Accuracy of\t4: 34.80% (348/1000)\n",
      "Test Accuracy of\t5: 57.00% (570/1000)\n",
      "Test Accuracy of\t6: 58.10% (581/1000)\n",
      "Test Accuracy of\t7: 66.40% (664/1000)\n",
      "Test Accuracy of\t8: 50.00% (500/1000)\n",
      "Test Accuracy of\t9: 59.80% (598/1000)\n"
     ]
    }
   ],
   "source": [
    "# Loading new best model found:\n",
    "m99 = Net.load_model(\"model/m99\")\n",
    "m99.test_network(train_set, \"train data\")\n",
    "m99.test_network(valid_set, \"valid data\")\n",
    "m99.test_network(test_set, \"test data\")"
   ]
  },
  {
   "cell_type": "markdown",
   "id": "dd166ab3",
   "metadata": {},
   "source": [
    "# ITERATION 3: DECISION\n",
    "## Applying momentum = 0.999 based on Accuracy Result on Test Set."
   ]
  },
  {
   "cell_type": "markdown",
   "id": "2ae61a7e",
   "metadata": {},
   "source": [
    "# ITERATION 4: Weight Decay"
   ]
  },
  {
   "cell_type": "markdown",
   "id": "fbec753c",
   "metadata": {},
   "source": [
    "## Model Variation 1: weight_decay = 0.001"
   ]
  },
  {
   "cell_type": "code",
   "execution_count": 44,
   "id": "e249cf3c",
   "metadata": {},
   "outputs": [],
   "source": [
    "# Initializing model hyper-parameters\n",
    "wd001 = Net(\n",
    "    optimizer = SGD(\n",
    "        learning_rate= 0.05,  \n",
    "        weight_decay = 0.001,  # i.e. layer.W += lr * (-layer.dW - self.weight_decay * layer.W)\n",
    "        momentum = 0.999,\n",
    "        lr_decay = \"default\"\n",
    "    ),\n",
    "    criterion = CrossEntropyLoss(),\n",
    "    batch_norm = False,\n",
    "    L2_reg_term = 0\n",
    ")\n",
    "\n",
    "# Adding Layers (and setting Layer hyper-parameters)\n",
    "wd001.add(Linear(128, 1024))  \n",
    "wd001.add(ReLU())\n",
    "wd001.add(Linear(1024, 512))                                  \n",
    "wd001.add(ReLU())\n",
    "wd001.add(Linear(512, 64)) \n",
    "wd001.add(ReLU())\n",
    "wd001.add(Linear(64, 10))\n",
    "\n",
    "wd001.set_name(\"wd001\")  # creates name for model for loading saved model from training (with min val loss)"
   ]
  },
  {
   "cell_type": "markdown",
   "id": "e1972f40",
   "metadata": {},
   "source": [
    "## Model Variation 2: weight_decay = 0.005"
   ]
  },
  {
   "cell_type": "code",
   "execution_count": 45,
   "id": "03aa96d5",
   "metadata": {},
   "outputs": [],
   "source": [
    "# Initializing model hyper-parameters\n",
    "wd005 = Net(\n",
    "    optimizer = SGD(\n",
    "        learning_rate= 0.05,  \n",
    "        weight_decay = 0.005,  # i.e. layer.W += lr * (-layer.dW - self.weight_decay * layer.W)\n",
    "        momentum = 0.999,\n",
    "        lr_decay = \"default\"\n",
    "    ),\n",
    "    criterion = CrossEntropyLoss(),\n",
    "    batch_norm = False,\n",
    "    L2_reg_term = 0\n",
    ")\n",
    "\n",
    "# Adding Layers (and setting Layer hyper-parameters)\n",
    "wd005.add(Linear(128, 1024))  \n",
    "wd005.add(ReLU())\n",
    "wd005.add(Linear(1024, 512))                                  \n",
    "wd005.add(ReLU())\n",
    "wd005.add(Linear(512, 64)) \n",
    "wd005.add(ReLU())\n",
    "wd005.add(Linear(64, 10))\n",
    "\n",
    "wd005.set_name(\"wd005\")  # creates name for model for loading saved model from training (with min val loss)"
   ]
  },
  {
   "cell_type": "markdown",
   "id": "40f95f8b",
   "metadata": {},
   "source": [
    "## Model Variation 3: weight_decay = 0.003"
   ]
  },
  {
   "cell_type": "code",
   "execution_count": 46,
   "id": "372652b0",
   "metadata": {},
   "outputs": [],
   "source": [
    "# Initializing model hyper-parameters\n",
    "wd003 = Net(\n",
    "    optimizer = SGD(\n",
    "        learning_rate= 0.05,  \n",
    "        weight_decay = 0.003,  # i.e. layer.W += lr * (-layer.dW - self.weight_decay * layer.W)\n",
    "        momentum = 0.999,\n",
    "        lr_decay = \"default\"\n",
    "    ),\n",
    "    criterion = CrossEntropyLoss(),\n",
    "    batch_norm = False,\n",
    "    L2_reg_term = 0\n",
    ")\n",
    "\n",
    "# Adding Layers (and setting Layer hyper-parameters)\n",
    "wd003.add(Linear(128, 1024))  \n",
    "wd003.add(ReLU())\n",
    "wd003.add(Linear(1024, 512))                                  \n",
    "wd003.add(ReLU())\n",
    "wd003.add(Linear(512, 64)) \n",
    "wd003.add(ReLU())\n",
    "wd003.add(Linear(64, 10))\n",
    "\n",
    "wd003.set_name(\"wd003\")  # creates name for model for loading saved model from training (with min val loss)"
   ]
  },
  {
   "cell_type": "markdown",
   "id": "b7672f6c",
   "metadata": {},
   "source": [
    "# ITERATION 4: TRAINING\n",
    "## Model Variation 1: weight_decay = 0.001"
   ]
  },
  {
   "cell_type": "code",
   "execution_count": 47,
   "id": "6a554232",
   "metadata": {},
   "outputs": [
    {
     "name": "stderr",
     "output_type": "stream",
     "text": [
      "  1%|█▍                                                                                                                                           | 1/100 [00:02<04:39,  2.83s/it]"
     ]
    },
    {
     "name": "stdout",
     "output_type": "stream",
     "text": [
      "Epoch: 0\tInterval Time: 2.8 sec(s)\tTraining Loss: 2.265037\t\tTraining Accuracy: 0.158750\n",
      "\t\t\t\t\t\tValidation Loss:2.204942\tValidation Accuracy: 0.213800\n"
     ]
    },
    {
     "name": "stderr",
     "output_type": "stream",
     "text": [
      " 11%|███████████████▍                                                                                                                            | 11/100 [00:32<04:22,  2.95s/it]"
     ]
    },
    {
     "name": "stdout",
     "output_type": "stream",
     "text": [
      "Epoch: 10\tInterval Time: 29.3 sec(s)\tTraining Loss: 1.475020\t\tTraining Accuracy: 0.495400\n",
      "\t\t\t\t\t\tValidation Loss:1.649382\tValidation Accuracy: 0.427800\n"
     ]
    },
    {
     "name": "stderr",
     "output_type": "stream",
     "text": [
      " 21%|█████████████████████████████▍                                                                                                              | 21/100 [01:01<03:48,  2.89s/it]"
     ]
    },
    {
     "name": "stdout",
     "output_type": "stream",
     "text": [
      "Epoch: 20\tInterval Time: 29.2 sec(s)\tTraining Loss: 1.163645\t\tTraining Accuracy: 0.610250\n",
      "\t\t\t\t\t\tValidation Loss:1.663633\tValidation Accuracy: 0.451300\n"
     ]
    },
    {
     "name": "stderr",
     "output_type": "stream",
     "text": [
      " 25%|███████████████████████████████████                                                                                                         | 25/100 [01:15<03:47,  3.04s/it]"
     ]
    },
    {
     "name": "stdout",
     "output_type": "stream",
     "text": [
      "\n",
      "\n",
      "No decrease in validation loss during last 10 epoch(s).\n",
      "\n",
      "Convergence criteria achieved.\n",
      "Training completed @ Epoch 25.\n",
      "Total training time: 1 min 15.9 s\n",
      "\n",
      "                Best model found @ Epoch 14\n",
      "                --------------------------------------------\n",
      "                Training Loss: 1.350683\n",
      "                Validation Loss: 1.626828\n",
      "                --------------------------------------------\n",
      "                Training Accuracy: 0.541450\n",
      "                Validation Accuracy: 0.442600\n",
      "\n",
      "\n",
      "Best model 'wd001' saved in 'model/' directory.\n"
     ]
    },
    {
     "name": "stderr",
     "output_type": "stream",
     "text": [
      "\n"
     ]
    },
    {
     "data": {
      "text/plain": [
       "{'tags': ['hide-output']}"
      ]
     },
     "execution_count": 47,
     "metadata": {},
     "output_type": "execute_result"
    }
   ],
   "source": [
    "# train model till convergence\n",
    "wd001s = wd001.train_convergence(\n",
    "    train_set = train_set,\n",
    "    valid_set = valid_set,\n",
    "    batch_size = 500,\n",
    "    planned_epochs = 100,\n",
    "    last_check = 10,\n",
    "    threshold = 1e-25,\n",
    "    report_interval = 10\n",
    ")\n",
    "\n",
    "{\"tags\": [\"hide-output\"]}"
   ]
  },
  {
   "cell_type": "markdown",
   "id": "5568ca97",
   "metadata": {},
   "source": [
    "### Plotting Epoch-wise Loss & Accuracy Curves"
   ]
  },
  {
   "cell_type": "code",
   "execution_count": 48,
   "id": "7944b5e6",
   "metadata": {},
   "outputs": [
    {
     "data": {
      "text/plain": [
       "<Figure size 720x504 with 0 Axes>"
      ]
     },
     "metadata": {},
     "output_type": "display_data"
    },
    {
     "data": {
      "image/png": "[encoded data removed]",
      "text/plain": [
       "<Figure size 432x288 with 4 Axes>"
      ]
     },
     "metadata": {
      "needs_background": "light"
     },
     "output_type": "display_data"
    }
   ],
   "source": [
    "plot_results(wd001s)"
   ]
  },
  {
   "cell_type": "markdown",
   "id": "5daa169d",
   "metadata": {},
   "source": [
    "### Checking Accuracy of Best Model"
   ]
  },
  {
   "cell_type": "code",
   "execution_count": 49,
   "id": "a328494e",
   "metadata": {},
   "outputs": [
    {
     "name": "stdout",
     "output_type": "stream",
     "text": [
      "-------------------------------------------\n",
      "Accuracy on train data: 56.50%\n",
      "Total Count:  40000\n",
      "Total Match:  22599\n",
      "-------------------------------------------\n",
      "Test Accuracy of\t0: 67.06% (2702/4029)\n",
      "Test Accuracy of\t1: 32.13% (1292/4021)\n",
      "Test Accuracy of\t2: 48.33% (1925/3983)\n",
      "Test Accuracy of\t3: 19.60% (775/3954)\n",
      "Test Accuracy of\t4: 57.37% (2299/4007)\n",
      "Test Accuracy of\t5: 62.23% (2508/4030)\n",
      "Test Accuracy of\t6: 68.10% (2758/4050)\n",
      "Test Accuracy of\t7: 75.97% (3022/3978)\n",
      "Test Accuracy of\t8: 66.77% (2660/3984)\n",
      "Test Accuracy of\t9: 67.05% (2658/3964)\n",
      "-------------------------------------------\n",
      "Accuracy on valid data: 44.26%\n",
      "Total Count:  10000\n",
      "Total Match:  4426\n",
      "-------------------------------------------\n",
      "Test Accuracy of\t0: 50.88% (494/971)\n",
      "Test Accuracy of\t1: 22.27% (218/979)\n",
      "Test Accuracy of\t2: 30.58% (311/1017)\n",
      "Test Accuracy of\t3: 14.82% (155/1046)\n",
      "Test Accuracy of\t4: 44.91% (446/993)\n",
      "Test Accuracy of\t5: 51.44% (499/970)\n",
      "Test Accuracy of\t6: 55.26% (525/950)\n",
      "Test Accuracy of\t7: 64.77% (662/1022)\n",
      "Test Accuracy of\t8: 51.57% (524/1016)\n",
      "Test Accuracy of\t9: 57.14% (592/1036)\n",
      "-------------------------------------------\n",
      "Accuracy on test data: 44.79%\n",
      "Total Count:  10000\n",
      "Total Match:  4479\n",
      "-------------------------------------------\n",
      "Test Accuracy of\t0: 52.40% (524/1000)\n",
      "Test Accuracy of\t1: 24.50% (245/1000)\n",
      "Test Accuracy of\t2: 30.90% (309/1000)\n",
      "Test Accuracy of\t3: 14.70% (147/1000)\n",
      "Test Accuracy of\t4: 44.20% (442/1000)\n",
      "Test Accuracy of\t5: 52.30% (523/1000)\n",
      "Test Accuracy of\t6: 54.30% (543/1000)\n",
      "Test Accuracy of\t7: 63.40% (634/1000)\n",
      "Test Accuracy of\t8: 51.80% (518/1000)\n",
      "Test Accuracy of\t9: 59.40% (594/1000)\n"
     ]
    }
   ],
   "source": [
    "# Loading new best model found:\n",
    "wd001 = Net.load_model(\"model/wd001\")\n",
    "wd001.test_network(train_set, \"train data\")\n",
    "wd001.test_network(valid_set, \"valid data\")\n",
    "wd001.test_network(test_set, \"test data\")"
   ]
  },
  {
   "cell_type": "markdown",
   "id": "83c5b52c",
   "metadata": {},
   "source": [
    "## Model Variation 2: weight_decay = 0.005"
   ]
  },
  {
   "cell_type": "code",
   "execution_count": 50,
   "id": "785325df",
   "metadata": {},
   "outputs": [
    {
     "name": "stderr",
     "output_type": "stream",
     "text": [
      "  1%|█▍                                                                                                                                           | 1/100 [00:02<04:51,  2.94s/it]"
     ]
    },
    {
     "name": "stdout",
     "output_type": "stream",
     "text": [
      "Epoch: 0\tInterval Time: 2.9 sec(s)\tTraining Loss: 2.252131\t\tTraining Accuracy: 0.154825\n",
      "\t\t\t\t\t\tValidation Loss:2.172299\tValidation Accuracy: 0.215900\n"
     ]
    },
    {
     "name": "stderr",
     "output_type": "stream",
     "text": [
      " 11%|███████████████▍                                                                                                                            | 11/100 [00:35<04:39,  3.15s/it]"
     ]
    },
    {
     "name": "stdout",
     "output_type": "stream",
     "text": [
      "Epoch: 10\tInterval Time: 32.8 sec(s)\tTraining Loss: 1.562373\t\tTraining Accuracy: 0.460450\n",
      "\t\t\t\t\t\tValidation Loss:1.687489\tValidation Accuracy: 0.408200\n"
     ]
    },
    {
     "name": "stderr",
     "output_type": "stream",
     "text": [
      " 21%|█████████████████████████████▍                                                                                                              | 21/100 [01:05<03:52,  2.94s/it]"
     ]
    },
    {
     "name": "stdout",
     "output_type": "stream",
     "text": [
      "Epoch: 20\tInterval Time: 29.9 sec(s)\tTraining Loss: 1.361610\t\tTraining Accuracy: 0.537350\n",
      "\t\t\t\t\t\tValidation Loss:1.652447\tValidation Accuracy: 0.431000\n"
     ]
    },
    {
     "name": "stderr",
     "output_type": "stream",
     "text": [
      " 31%|███████████████████████████████████████████▍                                                                                                | 31/100 [01:35<03:23,  2.95s/it]"
     ]
    },
    {
     "name": "stdout",
     "output_type": "stream",
     "text": [
      "Epoch: 30\tInterval Time: 29.5 sec(s)\tTraining Loss: 1.088056\t\tTraining Accuracy: 0.636600\n",
      "\t\t\t\t\t\tValidation Loss:1.629404\tValidation Accuracy: 0.469400\n"
     ]
    },
    {
     "name": "stderr",
     "output_type": "stream",
     "text": [
      "\r",
      " 31%|███████████████████████████████████████████▍                                                                                                | 31/100 [01:37<03:38,  3.16s/it]"
     ]
    },
    {
     "name": "stdout",
     "output_type": "stream",
     "text": [
      "\n",
      "\n",
      "Minimum percent change (1e-25%) in training loss not exceeded.\n",
      "\n",
      "Convergence criteria achieved.\n",
      "Training completed @ Epoch 31.\n",
      "Total training time: 1 min 38.0 s\n",
      "\n",
      "                Best model found @ Epoch 27\n",
      "                --------------------------------------------\n",
      "                Training Loss: 1.145424\n",
      "                Validation Loss: 1.585988\n",
      "                --------------------------------------------\n",
      "                Training Accuracy: 0.615800\n",
      "                Validation Accuracy: 0.470300\n",
      "\n",
      "\n",
      "Best model 'wd005' saved in 'model/' directory.\n"
     ]
    },
    {
     "name": "stderr",
     "output_type": "stream",
     "text": [
      "\n"
     ]
    },
    {
     "data": {
      "text/plain": [
       "{'tags': ['hide-output']}"
      ]
     },
     "execution_count": 50,
     "metadata": {},
     "output_type": "execute_result"
    }
   ],
   "source": [
    "# train model till convergence\n",
    "wd005s = wd005.train_convergence(\n",
    "    train_set = train_set,\n",
    "    valid_set = valid_set,\n",
    "    batch_size = 500,\n",
    "    planned_epochs = 100,\n",
    "    last_check = 10,\n",
    "    threshold = 1e-25,\n",
    "    report_interval = 10\n",
    ")\n",
    "\n",
    "{\"tags\": [\"hide-output\"]}"
   ]
  },
  {
   "cell_type": "markdown",
   "id": "0d0a1098",
   "metadata": {},
   "source": [
    "### Plotting Epoch-wise Loss & Accuracy Curves"
   ]
  },
  {
   "cell_type": "code",
   "execution_count": 51,
   "id": "80e2b25c",
   "metadata": {},
   "outputs": [
    {
     "data": {
      "text/plain": [
       "<Figure size 720x504 with 0 Axes>"
      ]
     },
     "metadata": {},
     "output_type": "display_data"
    },
    {
     "data": {
      "image/png": "[encoded data removed]",
      "text/plain": [
       "<Figure size 432x288 with 4 Axes>"
      ]
     },
     "metadata": {
      "needs_background": "light"
     },
     "output_type": "display_data"
    }
   ],
   "source": [
    "plot_results(wd005s)"
   ]
  },
  {
   "cell_type": "markdown",
   "id": "96e83ff6",
   "metadata": {},
   "source": [
    "### Checking Accuracy of Best Model"
   ]
  },
  {
   "cell_type": "code",
   "execution_count": 52,
   "id": "d14675b1",
   "metadata": {},
   "outputs": [
    {
     "name": "stdout",
     "output_type": "stream",
     "text": [
      "-------------------------------------------\n",
      "Accuracy on train data: 64.30%\n",
      "Total Count:  40000\n",
      "Total Match:  25719\n",
      "-------------------------------------------\n",
      "Test Accuracy of\t0: 71.01% (2861/4029)\n",
      "Test Accuracy of\t1: 47.65% (1916/4021)\n",
      "Test Accuracy of\t2: 36.88% (1469/3983)\n",
      "Test Accuracy of\t3: 46.41% (1835/3954)\n",
      "Test Accuracy of\t4: 55.88% (2239/4007)\n",
      "Test Accuracy of\t5: 79.31% (3196/4030)\n",
      "Test Accuracy of\t6: 73.48% (2976/4050)\n",
      "Test Accuracy of\t7: 82.03% (3263/3978)\n",
      "Test Accuracy of\t8: 80.82% (3220/3984)\n",
      "Test Accuracy of\t9: 69.22% (2744/3964)\n",
      "-------------------------------------------\n",
      "Accuracy on valid data: 47.03%\n",
      "Total Count:  10000\n",
      "Total Match:  4703\n",
      "-------------------------------------------\n",
      "Test Accuracy of\t0: 51.39% (499/971)\n",
      "Test Accuracy of\t1: 29.32% (287/979)\n",
      "Test Accuracy of\t2: 23.01% (234/1017)\n",
      "Test Accuracy of\t3: 33.08% (346/1046)\n",
      "Test Accuracy of\t4: 40.38% (401/993)\n",
      "Test Accuracy of\t5: 59.48% (577/970)\n",
      "Test Accuracy of\t6: 52.84% (502/950)\n",
      "Test Accuracy of\t7: 69.96% (715/1022)\n",
      "Test Accuracy of\t8: 58.96% (599/1016)\n",
      "Test Accuracy of\t9: 52.41% (543/1036)\n",
      "-------------------------------------------\n",
      "Accuracy on test data: 47.59%\n",
      "Total Count:  10000\n",
      "Total Match:  4759\n",
      "-------------------------------------------\n",
      "Test Accuracy of\t0: 53.20% (532/1000)\n",
      "Test Accuracy of\t1: 30.80% (308/1000)\n",
      "Test Accuracy of\t2: 22.10% (221/1000)\n",
      "Test Accuracy of\t3: 30.90% (309/1000)\n",
      "Test Accuracy of\t4: 43.70% (437/1000)\n",
      "Test Accuracy of\t5: 61.00% (610/1000)\n",
      "Test Accuracy of\t6: 53.70% (537/1000)\n",
      "Test Accuracy of\t7: 67.30% (673/1000)\n",
      "Test Accuracy of\t8: 57.90% (579/1000)\n",
      "Test Accuracy of\t9: 55.30% (553/1000)\n"
     ]
    }
   ],
   "source": [
    "# Loading new best model found:\n",
    "wd005 = Net.load_model(\"model/wd005\")\n",
    "wd005.test_network(train_set, \"train data\")\n",
    "wd005.test_network(valid_set, \"valid data\")\n",
    "wd005.test_network(test_set, \"test data\")"
   ]
  },
  {
   "cell_type": "markdown",
   "id": "21da3c68",
   "metadata": {},
   "source": [
    "## Model Variation 3: weight_decay = 0.003"
   ]
  },
  {
   "cell_type": "code",
   "execution_count": 53,
   "id": "6954040f",
   "metadata": {},
   "outputs": [
    {
     "name": "stderr",
     "output_type": "stream",
     "text": [
      "  1%|█▍                                                                                                                                           | 1/100 [00:02<04:56,  2.99s/it]"
     ]
    },
    {
     "name": "stdout",
     "output_type": "stream",
     "text": [
      "Epoch: 0\tInterval Time: 3.0 sec(s)\tTraining Loss: 2.236707\t\tTraining Accuracy: 0.178000\n",
      "\t\t\t\t\t\tValidation Loss:2.143339\tValidation Accuracy: 0.254200\n"
     ]
    },
    {
     "name": "stderr",
     "output_type": "stream",
     "text": [
      " 11%|███████████████▍                                                                                                                            | 11/100 [00:34<04:54,  3.31s/it]"
     ]
    },
    {
     "name": "stdout",
     "output_type": "stream",
     "text": [
      "Epoch: 10\tInterval Time: 31.4 sec(s)\tTraining Loss: 1.496019\t\tTraining Accuracy: 0.487150\n",
      "\t\t\t\t\t\tValidation Loss:1.658251\tValidation Accuracy: 0.424800\n"
     ]
    },
    {
     "name": "stderr",
     "output_type": "stream",
     "text": [
      " 21%|█████████████████████████████▍                                                                                                              | 21/100 [01:03<03:53,  2.95s/it]"
     ]
    },
    {
     "name": "stdout",
     "output_type": "stream",
     "text": [
      "Epoch: 20\tInterval Time: 29.5 sec(s)\tTraining Loss: 1.237468\t\tTraining Accuracy: 0.582625\n",
      "\t\t\t\t\t\tValidation Loss:1.624173\tValidation Accuracy: 0.459800\n"
     ]
    },
    {
     "name": "stderr",
     "output_type": "stream",
     "text": [
      " 31%|███████████████████████████████████████████▍                                                                                                | 31/100 [01:34<03:27,  3.01s/it]"
     ]
    },
    {
     "name": "stdout",
     "output_type": "stream",
     "text": [
      "Epoch: 30\tInterval Time: 30.4 sec(s)\tTraining Loss: 0.941664\t\tTraining Accuracy: 0.685025\n",
      "\t\t\t\t\t\tValidation Loss:1.784946\tValidation Accuracy: 0.460600\n"
     ]
    },
    {
     "name": "stderr",
     "output_type": "stream",
     "text": [
      " 37%|███████████████████████████████████████████████████▊                                                                                        | 37/100 [01:54<03:15,  3.10s/it]"
     ]
    },
    {
     "name": "stdout",
     "output_type": "stream",
     "text": [
      "\n",
      "\n",
      "No decrease in validation loss during last 10 epoch(s).\n",
      "\n",
      "Convergence criteria achieved.\n",
      "Training completed @ Epoch 37.\n",
      "Total training time: 1 min 54.7 s\n",
      "\n",
      "                Best model found @ Epoch 26\n",
      "                --------------------------------------------\n",
      "                Training Loss: 1.043466\n",
      "                Validation Loss: 1.612123\n",
      "                --------------------------------------------\n",
      "                Training Accuracy: 0.649675\n",
      "                Validation Accuracy: 0.480700\n",
      "\n",
      "\n",
      "Best model 'wd003' saved in 'model/' directory.\n"
     ]
    },
    {
     "name": "stderr",
     "output_type": "stream",
     "text": [
      "\n"
     ]
    },
    {
     "data": {
      "text/plain": [
       "{'tags': ['hide-output']}"
      ]
     },
     "execution_count": 53,
     "metadata": {},
     "output_type": "execute_result"
    }
   ],
   "source": [
    "# train model till convergence\n",
    "wd003s = wd003.train_convergence(\n",
    "    train_set = train_set,\n",
    "    valid_set = valid_set,\n",
    "    batch_size = 500,\n",
    "    planned_epochs = 100,\n",
    "    last_check = 10,\n",
    "    threshold = 1e-25,\n",
    "    report_interval = 10\n",
    ")\n",
    "\n",
    "{\"tags\": [\"hide-output\"]}"
   ]
  },
  {
   "cell_type": "markdown",
   "id": "e374f1c1",
   "metadata": {},
   "source": [
    "### Plotting Epoch-wise Loss & Accuracy Curves"
   ]
  },
  {
   "cell_type": "code",
   "execution_count": 54,
   "id": "58df8e65",
   "metadata": {},
   "outputs": [
    {
     "data": {
      "text/plain": [
       "<Figure size 720x504 with 0 Axes>"
      ]
     },
     "metadata": {},
     "output_type": "display_data"
    },
    {
     "data": {
      "image/png": "[encoded data removed]",
      "text/plain": [
       "<Figure size 432x288 with 4 Axes>"
      ]
     },
     "metadata": {
      "needs_background": "light"
     },
     "output_type": "display_data"
    }
   ],
   "source": [
    "plot_results(wd003s)"
   ]
  },
  {
   "cell_type": "markdown",
   "id": "0c723219",
   "metadata": {},
   "source": [
    "### Checking Accuracy of Best Model"
   ]
  },
  {
   "cell_type": "code",
   "execution_count": 55,
   "id": "9f2b195e",
   "metadata": {},
   "outputs": [
    {
     "name": "stdout",
     "output_type": "stream",
     "text": [
      "-------------------------------------------\n",
      "Accuracy on train data: 68.57%\n",
      "Total Count:  40000\n",
      "Total Match:  27428\n",
      "-------------------------------------------\n",
      "Test Accuracy of\t0: 79.85% (3217/4029)\n",
      "Test Accuracy of\t1: 56.68% (2279/4021)\n",
      "Test Accuracy of\t2: 47.15% (1878/3983)\n",
      "Test Accuracy of\t3: 50.10% (1981/3954)\n",
      "Test Accuracy of\t4: 58.57% (2347/4007)\n",
      "Test Accuracy of\t5: 71.51% (2882/4030)\n",
      "Test Accuracy of\t6: 79.01% (3200/4050)\n",
      "Test Accuracy of\t7: 81.55% (3244/3978)\n",
      "Test Accuracy of\t8: 81.33% (3240/3984)\n",
      "Test Accuracy of\t9: 79.72% (3160/3964)\n",
      "-------------------------------------------\n",
      "Accuracy on valid data: 48.07%\n",
      "Total Count:  10000\n",
      "Total Match:  4807\n",
      "-------------------------------------------\n",
      "Test Accuracy of\t0: 54.89% (533/971)\n",
      "Test Accuracy of\t1: 32.69% (320/979)\n",
      "Test Accuracy of\t2: 28.52% (290/1017)\n",
      "Test Accuracy of\t3: 34.99% (366/1046)\n",
      "Test Accuracy of\t4: 40.99% (407/993)\n",
      "Test Accuracy of\t5: 50.82% (493/970)\n",
      "Test Accuracy of\t6: 55.16% (524/950)\n",
      "Test Accuracy of\t7: 67.51% (690/1022)\n",
      "Test Accuracy of\t8: 58.37% (593/1016)\n",
      "Test Accuracy of\t9: 57.05% (591/1036)\n",
      "-------------------------------------------\n",
      "Accuracy on test data: 47.74%\n",
      "Total Count:  10000\n",
      "Total Match:  4774\n",
      "-------------------------------------------\n",
      "Test Accuracy of\t0: 53.80% (538/1000)\n",
      "Test Accuracy of\t1: 34.70% (347/1000)\n",
      "Test Accuracy of\t2: 26.90% (269/1000)\n",
      "Test Accuracy of\t3: 33.80% (338/1000)\n",
      "Test Accuracy of\t4: 42.10% (421/1000)\n",
      "Test Accuracy of\t5: 52.00% (520/1000)\n",
      "Test Accuracy of\t6: 56.90% (569/1000)\n",
      "Test Accuracy of\t7: 60.90% (609/1000)\n",
      "Test Accuracy of\t8: 56.90% (569/1000)\n",
      "Test Accuracy of\t9: 59.40% (594/1000)\n"
     ]
    }
   ],
   "source": [
    "# Loading new best model found:\n",
    "wd003 = Net.load_model(\"model/wd003\")\n",
    "wd003.test_network(train_set, \"train data\")\n",
    "wd003.test_network(valid_set, \"valid data\")\n",
    "wd003.test_network(test_set, \"test data\")"
   ]
  },
  {
   "cell_type": "markdown",
   "id": "3975ab2b",
   "metadata": {},
   "source": [
    "# ITERATION 4: DECISION\n",
    "## Applying weight_decay = 0.003 based on Accuracy Result on Test Set."
   ]
  },
  {
   "cell_type": "markdown",
   "id": "f84a5015",
   "metadata": {},
   "source": [
    "# ITERATION 5: Learning Rate Scheduler"
   ]
  },
  {
   "cell_type": "markdown",
   "id": "ad98d476",
   "metadata": {},
   "source": [
    "## Model Variation 1: Time Decay of LR"
   ]
  },
  {
   "cell_type": "code",
   "execution_count": 56,
   "id": "8a8d4cb5",
   "metadata": {},
   "outputs": [],
   "source": [
    "# Initializing model hyper-parameters\n",
    "time = Net(\n",
    "    optimizer = SGD(\n",
    "        learning_rate= 0.05,  \n",
    "        weight_decay = 0.003,\n",
    "        momentum = 0.999,\n",
    "        lr_decay = \"time\"\n",
    "    ),\n",
    "    criterion = CrossEntropyLoss(),\n",
    "    batch_norm = False,\n",
    "    L2_reg_term = 0\n",
    ")\n",
    "\n",
    "# Adding Layers (and setting Layer hyper-parameters)\n",
    "time.add(Linear(128, 1024))  \n",
    "time.add(ReLU())\n",
    "time.add(Linear(1024, 512))                                  \n",
    "time.add(ReLU())\n",
    "time.add(Linear(512, 64)) \n",
    "time.add(ReLU())\n",
    "time.add(Linear(64, 10))\n",
    "\n",
    "time.set_name(\"time\")  # creates name for model for loading saved model from training (with min val loss)"
   ]
  },
  {
   "cell_type": "markdown",
   "id": "90e812c2",
   "metadata": {},
   "source": [
    "## Model Variation 2: Exponential Decay of LR"
   ]
  },
  {
   "cell_type": "code",
   "execution_count": 57,
   "id": "f701407d",
   "metadata": {},
   "outputs": [],
   "source": [
    "# Initializing model hyper-parameters\n",
    "exp = Net(\n",
    "    optimizer = SGD(\n",
    "        learning_rate= 0.05,  \n",
    "        weight_decay = 0.003,\n",
    "        momentum = 0.999,\n",
    "        lr_decay = \"exp\"\n",
    "    ),\n",
    "    criterion = CrossEntropyLoss(),\n",
    "    batch_norm = False,\n",
    "    L2_reg_term = 0\n",
    ")\n",
    "\n",
    "# Adding Layers (and setting Layer hyper-parameters)\n",
    "exp.add(Linear(128, 1024))  \n",
    "exp.add(ReLU())\n",
    "exp.add(Linear(1024, 512))                                  \n",
    "exp.add(ReLU())\n",
    "exp.add(Linear(512, 64)) \n",
    "exp.add(ReLU())\n",
    "exp.add(Linear(64, 10))\n",
    "\n",
    "exp.set_name(\"exp\")  # creates name for model for loading saved model from training (with min val loss)"
   ]
  },
  {
   "cell_type": "markdown",
   "id": "cc32c980",
   "metadata": {},
   "source": [
    "## Model Variation 3: Step Decay of LR"
   ]
  },
  {
   "cell_type": "code",
   "execution_count": 58,
   "id": "b80ebc1a",
   "metadata": {},
   "outputs": [],
   "source": [
    "# Initializing model hyper-parameters\n",
    "step = Net(\n",
    "    optimizer = SGD(\n",
    "        learning_rate= 0.05,  \n",
    "        weight_decay = 0.003,\n",
    "        momentum = 0.999, \n",
    "        lr_decay = \"step\"   # default step terms (10, .5) i.e. drop by half every step of 10 epochs\n",
    "    ),\n",
    "    criterion = CrossEntropyLoss(),\n",
    "    batch_norm = False,\n",
    "    L2_reg_term = 0\n",
    ")\n",
    "\n",
    "# Adding Layers (and setting Layer hyper-parameters)\n",
    "step.add(Linear(128, 1024))  \n",
    "step.add(ReLU())\n",
    "step.add(Linear(1024, 512))                                  \n",
    "step.add(ReLU())\n",
    "step.add(Linear(512, 64)) \n",
    "step.add(ReLU())\n",
    "step.add(Linear(64, 10))\n",
    "\n",
    "step.set_name(\"step\")  # creates name for model for loading saved model from training (with min val loss)"
   ]
  },
  {
   "cell_type": "markdown",
   "id": "1e985c08",
   "metadata": {},
   "source": [
    "# ITERATION 5: TRAINING"
   ]
  },
  {
   "cell_type": "markdown",
   "id": "91a50e45",
   "metadata": {},
   "source": [
    "## Model Variation 1: Time Decay of LR"
   ]
  },
  {
   "cell_type": "code",
   "execution_count": 59,
   "id": "6401318d",
   "metadata": {},
   "outputs": [
    {
     "name": "stderr",
     "output_type": "stream",
     "text": [
      "  1%|█▍                                                                                                                                           | 1/100 [00:03<05:35,  3.39s/it]"
     ]
    },
    {
     "name": "stdout",
     "output_type": "stream",
     "text": [
      "Epoch: 0\tInterval Time: 3.4 sec(s)\tTraining Loss: 2.240910\t\tTraining Accuracy: 0.177400\n",
      "\t\t\t\t\t\tValidation Loss:2.154898\tValidation Accuracy: 0.242500\n"
     ]
    },
    {
     "name": "stderr",
     "output_type": "stream",
     "text": [
      " 11%|███████████████▍                                                                                                                            | 11/100 [00:33<04:23,  2.96s/it]"
     ]
    },
    {
     "name": "stdout",
     "output_type": "stream",
     "text": [
      "Epoch: 10\tInterval Time: 29.7 sec(s)\tTraining Loss: 1.547964\t\tTraining Accuracy: 0.469175\n",
      "\t\t\t\t\t\tValidation Loss:1.678447\tValidation Accuracy: 0.413100\n"
     ]
    },
    {
     "name": "stderr",
     "output_type": "stream",
     "text": [
      " 21%|█████████████████████████████▍                                                                                                              | 21/100 [01:02<03:53,  2.96s/it]"
     ]
    },
    {
     "name": "stdout",
     "output_type": "stream",
     "text": [
      "Epoch: 20\tInterval Time: 29.4 sec(s)\tTraining Loss: 1.380404\t\tTraining Accuracy: 0.532075\n",
      "\t\t\t\t\t\tValidation Loss:1.639636\tValidation Accuracy: 0.436400\n"
     ]
    },
    {
     "name": "stderr",
     "output_type": "stream",
     "text": [
      " 31%|███████████████████████████████████████████▍                                                                                                | 31/100 [01:31<03:19,  2.88s/it]"
     ]
    },
    {
     "name": "stdout",
     "output_type": "stream",
     "text": [
      "Epoch: 30\tInterval Time: 29.3 sec(s)\tTraining Loss: 1.202150\t\tTraining Accuracy: 0.597875\n",
      "\t\t\t\t\t\tValidation Loss:1.609521\tValidation Accuracy: 0.455900\n"
     ]
    },
    {
     "name": "stderr",
     "output_type": "stream",
     "text": [
      " 41%|█████████████████████████████████████████████████████████▍                                                                                  | 41/100 [02:02<02:57,  3.01s/it]"
     ]
    },
    {
     "name": "stdout",
     "output_type": "stream",
     "text": [
      "Epoch: 40\tInterval Time: 30.3 sec(s)\tTraining Loss: 1.023100\t\tTraining Accuracy: 0.666175\n",
      "\t\t\t\t\t\tValidation Loss:1.596176\tValidation Accuracy: 0.476500\n"
     ]
    },
    {
     "name": "stderr",
     "output_type": "stream",
     "text": [
      " 48%|███████████████████████████████████████████████████████████████████▏                                                                        | 48/100 [02:25<02:37,  3.04s/it]"
     ]
    },
    {
     "name": "stdout",
     "output_type": "stream",
     "text": [
      "\n",
      "\n",
      "No decrease in validation loss during last 10 epoch(s).\n",
      "\n",
      "Convergence criteria achieved.\n",
      "Training completed @ Epoch 48.\n",
      "Total training time: 2 min 25.7 s\n",
      "\n",
      "                Best model found @ Epoch 37\n",
      "                --------------------------------------------\n",
      "                Training Loss: 1.074545\n",
      "                Validation Loss: 1.593321\n",
      "                --------------------------------------------\n",
      "                Training Accuracy: 0.645450\n",
      "                Validation Accuracy: 0.471100\n",
      "\n",
      "\n",
      "Best model 'time' saved in 'model/' directory.\n"
     ]
    },
    {
     "name": "stderr",
     "output_type": "stream",
     "text": [
      "\n"
     ]
    },
    {
     "data": {
      "text/plain": [
       "{'tags': ['hide-output']}"
      ]
     },
     "execution_count": 59,
     "metadata": {},
     "output_type": "execute_result"
    }
   ],
   "source": [
    "# train model till convergence\n",
    "tds = time.train_convergence(\n",
    "    train_set = train_set,\n",
    "    valid_set = valid_set,\n",
    "    batch_size = 500,\n",
    "    planned_epochs = 100,\n",
    "    last_check = 10,\n",
    "    threshold = 1e-25,\n",
    "    report_interval = 10\n",
    ")\n",
    "\n",
    "{\"tags\": [\"hide-output\"]}"
   ]
  },
  {
   "cell_type": "markdown",
   "id": "61c08464",
   "metadata": {},
   "source": [
    "### Plotting Epoch-wise Loss & Accuracy Curves"
   ]
  },
  {
   "cell_type": "code",
   "execution_count": 60,
   "id": "2c6ca025",
   "metadata": {},
   "outputs": [
    {
     "data": {
      "text/plain": [
       "<Figure size 720x504 with 0 Axes>"
      ]
     },
     "metadata": {},
     "output_type": "display_data"
    },
    {
     "data": {
      "image/png": "[encoded data removed]",
      "text/plain": [
       "<Figure size 432x288 with 4 Axes>"
      ]
     },
     "metadata": {
      "needs_background": "light"
     },
     "output_type": "display_data"
    }
   ],
   "source": [
    "plot_results(tds)"
   ]
  },
  {
   "cell_type": "markdown",
   "id": "c4fbb9ed",
   "metadata": {},
   "source": [
    "### Checking Accuracy of Best Model"
   ]
  },
  {
   "cell_type": "code",
   "execution_count": 61,
   "id": "64751ebe",
   "metadata": {},
   "outputs": [
    {
     "name": "stdout",
     "output_type": "stream",
     "text": [
      "-------------------------------------------\n",
      "Accuracy on train data: 65.92%\n",
      "Total Count:  40000\n",
      "Total Match:  26368\n",
      "-------------------------------------------\n",
      "Test Accuracy of\t0: 70.74% (2850/4029)\n",
      "Test Accuracy of\t1: 50.88% (2046/4021)\n",
      "Test Accuracy of\t2: 47.75% (1902/3983)\n",
      "Test Accuracy of\t3: 43.85% (1734/3954)\n",
      "Test Accuracy of\t4: 57.95% (2322/4007)\n",
      "Test Accuracy of\t5: 71.14% (2867/4030)\n",
      "Test Accuracy of\t6: 77.70% (3147/4050)\n",
      "Test Accuracy of\t7: 83.11% (3306/3978)\n",
      "Test Accuracy of\t8: 79.59% (3171/3984)\n",
      "Test Accuracy of\t9: 76.26% (3023/3964)\n",
      "-------------------------------------------\n",
      "Accuracy on valid data: 47.11%\n",
      "Total Count:  10000\n",
      "Total Match:  4711\n",
      "-------------------------------------------\n",
      "Test Accuracy of\t0: 50.36% (489/971)\n",
      "Test Accuracy of\t1: 31.87% (312/979)\n",
      "Test Accuracy of\t2: 27.14% (276/1017)\n",
      "Test Accuracy of\t3: 30.50% (319/1046)\n",
      "Test Accuracy of\t4: 40.18% (399/993)\n",
      "Test Accuracy of\t5: 52.99% (514/970)\n",
      "Test Accuracy of\t6: 56.11% (533/950)\n",
      "Test Accuracy of\t7: 69.77% (713/1022)\n",
      "Test Accuracy of\t8: 56.10% (570/1016)\n",
      "Test Accuracy of\t9: 56.56% (586/1036)\n",
      "-------------------------------------------\n",
      "Accuracy on test data: 47.09%\n",
      "Total Count:  10000\n",
      "Total Match:  4709\n",
      "-------------------------------------------\n",
      "Test Accuracy of\t0: 49.90% (499/1000)\n",
      "Test Accuracy of\t1: 32.10% (321/1000)\n",
      "Test Accuracy of\t2: 25.50% (255/1000)\n",
      "Test Accuracy of\t3: 29.70% (297/1000)\n",
      "Test Accuracy of\t4: 42.00% (420/1000)\n",
      "Test Accuracy of\t5: 53.30% (533/1000)\n",
      "Test Accuracy of\t6: 57.60% (576/1000)\n",
      "Test Accuracy of\t7: 66.60% (666/1000)\n",
      "Test Accuracy of\t8: 55.60% (556/1000)\n",
      "Test Accuracy of\t9: 58.60% (586/1000)\n"
     ]
    }
   ],
   "source": [
    "# Loading new best model found:\n",
    "td = Net.load_model(\"model/time\")\n",
    "td.test_network(train_set, \"train data\")\n",
    "td.test_network(valid_set, \"valid data\")\n",
    "td.test_network(test_set, \"test data\")"
   ]
  },
  {
   "cell_type": "markdown",
   "id": "5ab26e9b",
   "metadata": {},
   "source": [
    "## Model Variation 2: Exponential Decay of LR"
   ]
  },
  {
   "cell_type": "code",
   "execution_count": 62,
   "id": "6ea855ef",
   "metadata": {},
   "outputs": [
    {
     "name": "stderr",
     "output_type": "stream",
     "text": [
      "  1%|█▍                                                                                                                                           | 1/100 [00:03<05:02,  3.06s/it]"
     ]
    },
    {
     "name": "stdout",
     "output_type": "stream",
     "text": [
      "Epoch: 0\tInterval Time: 3.0 sec(s)\tTraining Loss: 2.240953\t\tTraining Accuracy: 0.172150\n",
      "\t\t\t\t\t\tValidation Loss:2.153708\tValidation Accuracy: 0.244300\n"
     ]
    },
    {
     "name": "stderr",
     "output_type": "stream",
     "text": [
      " 11%|███████████████▍                                                                                                                            | 11/100 [00:32<04:22,  2.95s/it]"
     ]
    },
    {
     "name": "stdout",
     "output_type": "stream",
     "text": [
      "Epoch: 10\tInterval Time: 29.9 sec(s)\tTraining Loss: 1.489970\t\tTraining Accuracy: 0.485725\n",
      "\t\t\t\t\t\tValidation Loss:1.641890\tValidation Accuracy: 0.425000\n"
     ]
    },
    {
     "name": "stderr",
     "output_type": "stream",
     "text": [
      " 21%|█████████████████████████████▍                                                                                                              | 21/100 [01:02<03:50,  2.92s/it]"
     ]
    },
    {
     "name": "stdout",
     "output_type": "stream",
     "text": [
      "Epoch: 20\tInterval Time: 29.4 sec(s)\tTraining Loss: 1.285888\t\tTraining Accuracy: 0.563325\n",
      "\t\t\t\t\t\tValidation Loss:1.611803\tValidation Accuracy: 0.452500\n"
     ]
    },
    {
     "name": "stderr",
     "output_type": "stream",
     "text": [
      " 31%|███████████████████████████████████████████▍                                                                                                | 31/100 [01:32<03:29,  3.04s/it]"
     ]
    },
    {
     "name": "stdout",
     "output_type": "stream",
     "text": [
      "Epoch: 30\tInterval Time: 30.1 sec(s)\tTraining Loss: 1.015076\t\tTraining Accuracy: 0.662600\n",
      "\t\t\t\t\t\tValidation Loss:1.606003\tValidation Accuracy: 0.476000\n"
     ]
    },
    {
     "name": "stderr",
     "output_type": "stream",
     "text": [
      " 39%|██████████████████████████████████████████████████████▌                                                                                     | 39/100 [01:58<03:05,  3.04s/it]"
     ]
    },
    {
     "name": "stdout",
     "output_type": "stream",
     "text": [
      "\n",
      "\n",
      "No decrease in validation loss during last 10 epoch(s).\n",
      "\n",
      "Convergence criteria achieved.\n",
      "Training completed @ Epoch 39.\n",
      "Total training time: 1 min 58.7 s\n",
      "\n",
      "                Best model found @ Epoch 28\n",
      "                --------------------------------------------\n",
      "                Training Loss: 1.069294\n",
      "                Validation Loss: 1.588846\n",
      "                --------------------------------------------\n",
      "                Training Accuracy: 0.641200\n",
      "                Validation Accuracy: 0.477200\n",
      "\n",
      "\n",
      "Best model 'exp' saved in 'model/' directory.\n"
     ]
    },
    {
     "name": "stderr",
     "output_type": "stream",
     "text": [
      "\n"
     ]
    },
    {
     "data": {
      "text/plain": [
       "{'tags': ['hide-output']}"
      ]
     },
     "execution_count": 62,
     "metadata": {},
     "output_type": "execute_result"
    }
   ],
   "source": [
    "# train model till convergence\n",
    "eds = exp.train_convergence(\n",
    "    train_set = train_set,\n",
    "    valid_set = valid_set,\n",
    "    batch_size = 500,\n",
    "    planned_epochs = 100,\n",
    "    last_check = 10,\n",
    "    threshold = 1e-25,\n",
    "    report_interval = 10\n",
    ")\n",
    "\n",
    "{\"tags\": [\"hide-output\"]}"
   ]
  },
  {
   "cell_type": "markdown",
   "id": "509aa655",
   "metadata": {},
   "source": [
    "### Plotting Epoch-wise Loss & Accuracy Curves"
   ]
  },
  {
   "cell_type": "code",
   "execution_count": 63,
   "id": "6c56796a",
   "metadata": {},
   "outputs": [
    {
     "data": {
      "text/plain": [
       "<Figure size 720x504 with 0 Axes>"
      ]
     },
     "metadata": {},
     "output_type": "display_data"
    },
    {
     "data": {
      "image/png": "[encoded data removed]",
      "text/plain": [
       "<Figure size 432x288 with 4 Axes>"
      ]
     },
     "metadata": {
      "needs_background": "light"
     },
     "output_type": "display_data"
    }
   ],
   "source": [
    "plot_results(eds)"
   ]
  },
  {
   "cell_type": "markdown",
   "id": "07c2ea46",
   "metadata": {},
   "source": [
    "### Checking Accuracy of Best Model"
   ]
  },
  {
   "cell_type": "code",
   "execution_count": 64,
   "id": "14388f6e",
   "metadata": {},
   "outputs": [
    {
     "name": "stdout",
     "output_type": "stream",
     "text": [
      "-------------------------------------------\n",
      "Accuracy on train data: 66.86%\n",
      "Total Count:  40000\n",
      "Total Match:  26746\n",
      "-------------------------------------------\n",
      "Test Accuracy of\t0: 74.06% (2984/4029)\n",
      "Test Accuracy of\t1: 45.83% (1843/4021)\n",
      "Test Accuracy of\t2: 50.77% (2022/3983)\n",
      "Test Accuracy of\t3: 41.45% (1639/3954)\n",
      "Test Accuracy of\t4: 56.80% (2276/4007)\n",
      "Test Accuracy of\t5: 82.26% (3315/4030)\n",
      "Test Accuracy of\t6: 80.57% (3263/4050)\n",
      "Test Accuracy of\t7: 86.27% (3432/3978)\n",
      "Test Accuracy of\t8: 75.58% (3011/3984)\n",
      "Test Accuracy of\t9: 74.70% (2961/3964)\n",
      "-------------------------------------------\n",
      "Accuracy on valid data: 47.72%\n",
      "Total Count:  10000\n",
      "Total Match:  4772\n",
      "-------------------------------------------\n",
      "Test Accuracy of\t0: 53.76% (522/971)\n",
      "Test Accuracy of\t1: 24.62% (241/979)\n",
      "Test Accuracy of\t2: 32.65% (332/1017)\n",
      "Test Accuracy of\t3: 28.68% (300/1046)\n",
      "Test Accuracy of\t4: 37.56% (373/993)\n",
      "Test Accuracy of\t5: 62.89% (610/970)\n",
      "Test Accuracy of\t6: 56.53% (537/950)\n",
      "Test Accuracy of\t7: 71.82% (734/1022)\n",
      "Test Accuracy of\t8: 52.85% (537/1016)\n",
      "Test Accuracy of\t9: 56.56% (586/1036)\n",
      "-------------------------------------------\n",
      "Accuracy on test data: 47.81%\n",
      "Total Count:  10000\n",
      "Total Match:  4781\n",
      "-------------------------------------------\n",
      "Test Accuracy of\t0: 51.70% (517/1000)\n",
      "Test Accuracy of\t1: 26.90% (269/1000)\n",
      "Test Accuracy of\t2: 29.20% (292/1000)\n",
      "Test Accuracy of\t3: 29.10% (291/1000)\n",
      "Test Accuracy of\t4: 38.70% (387/1000)\n",
      "Test Accuracy of\t5: 63.90% (639/1000)\n",
      "Test Accuracy of\t6: 61.40% (614/1000)\n",
      "Test Accuracy of\t7: 67.80% (678/1000)\n",
      "Test Accuracy of\t8: 53.60% (536/1000)\n",
      "Test Accuracy of\t9: 55.80% (558/1000)\n"
     ]
    }
   ],
   "source": [
    "# Loading new best model found:\n",
    "ed = Net.load_model(\"model/exp\")\n",
    "ed.test_network(train_set, \"train data\")\n",
    "ed.test_network(valid_set, \"valid data\")\n",
    "ed.test_network(test_set, \"test data\")"
   ]
  },
  {
   "cell_type": "markdown",
   "id": "c46d3fd9",
   "metadata": {},
   "source": [
    "## Model Variation 3: Step Decay of LR (Default)\n",
    "##### Drop = 0.5, Step = 10"
   ]
  },
  {
   "cell_type": "code",
   "execution_count": 65,
   "id": "a5cbd0dd",
   "metadata": {},
   "outputs": [
    {
     "name": "stderr",
     "output_type": "stream",
     "text": [
      "  1%|█▍                                                                                                                                           | 1/100 [00:03<05:36,  3.40s/it]"
     ]
    },
    {
     "name": "stdout",
     "output_type": "stream",
     "text": [
      "Epoch: 0\tInterval Time: 3.4 sec(s)\tTraining Loss: 2.240226\t\tTraining Accuracy: 0.163700\n",
      "\t\t\t\t\t\tValidation Loss:2.145110\tValidation Accuracy: 0.249100\n"
     ]
    },
    {
     "name": "stderr",
     "output_type": "stream",
     "text": [
      " 11%|███████████████▍                                                                                                                            | 11/100 [00:34<04:30,  3.04s/it]"
     ]
    },
    {
     "name": "stdout",
     "output_type": "stream",
     "text": [
      "Epoch: 10\tInterval Time: 31.6 sec(s)\tTraining Loss: 1.517721\t\tTraining Accuracy: 0.477750\n",
      "\t\t\t\t\t\tValidation Loss:1.671138\tValidation Accuracy: 0.417400\n"
     ]
    },
    {
     "name": "stderr",
     "output_type": "stream",
     "text": [
      " 21%|█████████████████████████████▍                                                                                                              | 21/100 [01:07<04:04,  3.10s/it]"
     ]
    },
    {
     "name": "stdout",
     "output_type": "stream",
     "text": [
      "Epoch: 20\tInterval Time: 32.6 sec(s)\tTraining Loss: 1.406509\t\tTraining Accuracy: 0.523525\n",
      "\t\t\t\t\t\tValidation Loss:1.654155\tValidation Accuracy: 0.430200\n"
     ]
    },
    {
     "name": "stderr",
     "output_type": "stream",
     "text": [
      " 31%|███████████████████████████████████████████▍                                                                                                | 31/100 [01:37<03:23,  2.95s/it]"
     ]
    },
    {
     "name": "stdout",
     "output_type": "stream",
     "text": [
      "Epoch: 30\tInterval Time: 29.6 sec(s)\tTraining Loss: 1.339832\t\tTraining Accuracy: 0.549800\n",
      "\t\t\t\t\t\tValidation Loss:1.647625\tValidation Accuracy: 0.436700\n"
     ]
    },
    {
     "name": "stderr",
     "output_type": "stream",
     "text": [
      " 41%|█████████████████████████████████████████████████████████▍                                                                                  | 41/100 [02:06<02:54,  2.96s/it]"
     ]
    },
    {
     "name": "stdout",
     "output_type": "stream",
     "text": [
      "Epoch: 40\tInterval Time: 29.8 sec(s)\tTraining Loss: 1.301365\t\tTraining Accuracy: 0.562900\n",
      "\t\t\t\t\t\tValidation Loss:1.644041\tValidation Accuracy: 0.440400\n"
     ]
    },
    {
     "name": "stderr",
     "output_type": "stream",
     "text": [
      " 51%|███████████████████████████████████████████████████████████████████████▍                                                                    | 51/100 [02:36<02:30,  3.06s/it]"
     ]
    },
    {
     "name": "stdout",
     "output_type": "stream",
     "text": [
      "Epoch: 50\tInterval Time: 29.9 sec(s)\tTraining Loss: 1.280567\t\tTraining Accuracy: 0.570350\n",
      "\t\t\t\t\t\tValidation Loss:1.641481\tValidation Accuracy: 0.443700\n"
     ]
    },
    {
     "name": "stderr",
     "output_type": "stream",
     "text": [
      " 61%|█████████████████████████████████████████████████████████████████████████████████████▍                                                      | 61/100 [03:05<01:52,  2.90s/it]"
     ]
    },
    {
     "name": "stdout",
     "output_type": "stream",
     "text": [
      "Epoch: 60\tInterval Time: 29.0 sec(s)\tTraining Loss: 1.269749\t\tTraining Accuracy: 0.574400\n",
      "\t\t\t\t\t\tValidation Loss:1.640655\tValidation Accuracy: 0.444800\n"
     ]
    },
    {
     "name": "stderr",
     "output_type": "stream",
     "text": [
      " 71%|███████████████████████████████████████████████████████████████████████████████████████████████████▍                                        | 71/100 [03:34<01:21,  2.81s/it]"
     ]
    },
    {
     "name": "stdout",
     "output_type": "stream",
     "text": [
      "Epoch: 70\tInterval Time: 28.4 sec(s)\tTraining Loss: 1.264260\t\tTraining Accuracy: 0.576700\n",
      "\t\t\t\t\t\tValidation Loss:1.640054\tValidation Accuracy: 0.445900\n"
     ]
    },
    {
     "name": "stderr",
     "output_type": "stream",
     "text": [
      " 81%|█████████████████████████████████████████████████████████████████████████████████████████████████████████████████▍                          | 81/100 [04:02<00:53,  2.79s/it]"
     ]
    },
    {
     "name": "stdout",
     "output_type": "stream",
     "text": [
      "Epoch: 80\tInterval Time: 28.1 sec(s)\tTraining Loss: 1.261471\t\tTraining Accuracy: 0.578050\n",
      "\t\t\t\t\t\tValidation Loss:1.639796\tValidation Accuracy: 0.447400\n"
     ]
    },
    {
     "name": "stderr",
     "output_type": "stream",
     "text": [
      " 91%|███████████████████████████████████████████████████████████████████████████████████████████████████████████████████████████████▍            | 91/100 [04:30<00:25,  2.84s/it]"
     ]
    },
    {
     "name": "stdout",
     "output_type": "stream",
     "text": [
      "Epoch: 90\tInterval Time: 28.3 sec(s)\tTraining Loss: 1.260069\t\tTraining Accuracy: 0.578200\n",
      "\t\t\t\t\t\tValidation Loss:1.639647\tValidation Accuracy: 0.447900\n"
     ]
    },
    {
     "name": "stderr",
     "output_type": "stream",
     "text": [
      "100%|███████████████████████████████████████████████████████████████████████████████████████████████████████████████████████████████████████████| 100/100 [04:57<00:00,  2.97s/it]"
     ]
    },
    {
     "name": "stdout",
     "output_type": "stream",
     "text": [
      "\n",
      "\n",
      "Maximum planned number of epoch(s) exhausted.\n",
      "\n",
      "Training is complete @ Epoch 99.\n",
      "Total training time: 4 min 57.4 s\n",
      "\n",
      "                Best model found @ Epoch 99\n",
      "                --------------------------------------------\n",
      "                Training Loss: 1.259404\n",
      "                Validation Loss: 1.639591\n",
      "                --------------------------------------------\n",
      "                Training Accuracy: 0.578500\n",
      "                Validation Accuracy: 0.448100\n",
      "\n",
      "\n",
      "Best model 'step' saved in 'model/' directory.\n"
     ]
    },
    {
     "name": "stderr",
     "output_type": "stream",
     "text": [
      "\n"
     ]
    },
    {
     "data": {
      "text/plain": [
       "{'tags': ['hide-output']}"
      ]
     },
     "execution_count": 65,
     "metadata": {},
     "output_type": "execute_result"
    }
   ],
   "source": [
    "# train model till convergence\n",
    "sds = step.train_convergence(\n",
    "    train_set = train_set,\n",
    "    valid_set = valid_set,\n",
    "    batch_size = 500,\n",
    "    planned_epochs = 100,\n",
    "    last_check = 10,\n",
    "    threshold = 1e-25,\n",
    "    report_interval = 10\n",
    ")\n",
    "\n",
    "{\"tags\": [\"hide-output\"]}"
   ]
  },
  {
   "cell_type": "markdown",
   "id": "f4793c05",
   "metadata": {},
   "source": [
    "### Plotting Epoch-wise Loss & Accuracy Curves"
   ]
  },
  {
   "cell_type": "code",
   "execution_count": 66,
   "id": "a9dc918e",
   "metadata": {},
   "outputs": [
    {
     "data": {
      "text/plain": [
       "<Figure size 720x504 with 0 Axes>"
      ]
     },
     "metadata": {},
     "output_type": "display_data"
    },
    {
     "data": {
      "image/png": "[encoded data removed]",
      "text/plain": [
       "<Figure size 432x288 with 4 Axes>"
      ]
     },
     "metadata": {
      "needs_background": "light"
     },
     "output_type": "display_data"
    }
   ],
   "source": [
    "plot_results(sds)"
   ]
  },
  {
   "cell_type": "markdown",
   "id": "c9eeb6b0",
   "metadata": {},
   "source": [
    "### Checking Accuracy of Best Model"
   ]
  },
  {
   "cell_type": "code",
   "execution_count": 67,
   "id": "1fd94ca0",
   "metadata": {},
   "outputs": [
    {
     "name": "stdout",
     "output_type": "stream",
     "text": [
      "-------------------------------------------\n",
      "Accuracy on train data: 57.86%\n",
      "Total Count:  40000\n",
      "Total Match:  23143\n",
      "-------------------------------------------\n",
      "Test Accuracy of\t0: 68.11% (2744/4029)\n",
      "Test Accuracy of\t1: 31.63% (1272/4021)\n",
      "Test Accuracy of\t2: 44.41% (1769/3983)\n",
      "Test Accuracy of\t3: 29.49% (1166/3954)\n",
      "Test Accuracy of\t4: 50.66% (2030/4007)\n",
      "Test Accuracy of\t5: 63.80% (2571/4030)\n",
      "Test Accuracy of\t6: 74.99% (3037/4050)\n",
      "Test Accuracy of\t7: 79.49% (3162/3978)\n",
      "Test Accuracy of\t8: 70.18% (2796/3984)\n",
      "Test Accuracy of\t9: 65.49% (2596/3964)\n",
      "-------------------------------------------\n",
      "Accuracy on valid data: 44.81%\n",
      "Total Count:  10000\n",
      "Total Match:  4481\n",
      "-------------------------------------------\n",
      "Test Accuracy of\t0: 50.98% (495/971)\n",
      "Test Accuracy of\t1: 21.04% (206/979)\n",
      "Test Accuracy of\t2: 29.20% (297/1017)\n",
      "Test Accuracy of\t3: 22.66% (237/1046)\n",
      "Test Accuracy of\t4: 37.76% (375/993)\n",
      "Test Accuracy of\t5: 51.65% (501/970)\n",
      "Test Accuracy of\t6: 56.00% (532/950)\n",
      "Test Accuracy of\t7: 70.74% (723/1022)\n",
      "Test Accuracy of\t8: 54.63% (555/1016)\n",
      "Test Accuracy of\t9: 54.05% (560/1036)\n",
      "-------------------------------------------\n",
      "Accuracy on test data: 45.36%\n",
      "Total Count:  10000\n",
      "Total Match:  4536\n",
      "-------------------------------------------\n",
      "Test Accuracy of\t0: 52.80% (528/1000)\n",
      "Test Accuracy of\t1: 24.10% (241/1000)\n",
      "Test Accuracy of\t2: 29.60% (296/1000)\n",
      "Test Accuracy of\t3: 22.60% (226/1000)\n",
      "Test Accuracy of\t4: 37.40% (374/1000)\n",
      "Test Accuracy of\t5: 52.70% (527/1000)\n",
      "Test Accuracy of\t6: 58.80% (588/1000)\n",
      "Test Accuracy of\t7: 67.00% (670/1000)\n",
      "Test Accuracy of\t8: 52.80% (528/1000)\n",
      "Test Accuracy of\t9: 55.80% (558/1000)\n"
     ]
    }
   ],
   "source": [
    "# Loading new best model found:\n",
    "sd = Net.load_model(\"model/step\")\n",
    "sd.test_network(train_set, \"train data\")\n",
    "sd.test_network(valid_set, \"valid data\")\n",
    "sd.test_network(test_set, \"test data\")"
   ]
  },
  {
   "cell_type": "markdown",
   "id": "7219c4df",
   "metadata": {},
   "source": [
    "## Model Variation 3A: Step Decay of LR (Non-Default)\n",
    "##### Drop = 0.90, Step = 25 (Drop by 10% every step of 25 epochs)"
   ]
  },
  {
   "cell_type": "code",
   "execution_count": 68,
   "id": "5707fd7f",
   "metadata": {},
   "outputs": [],
   "source": [
    "# Initializing model hyper-parameters\n",
    "step1 = Net(\n",
    "    optimizer = SGD(\n",
    "        learning_rate= 0.05,  \n",
    "        weight_decay = 0.003,\n",
    "        momentum = 0.999, \n",
    "        lr_decay = \"step\",  \n",
    "        step_terms = (25, 0.9) # every step of 25 epochs, drop LR by 10%\n",
    "    ),\n",
    "    criterion = CrossEntropyLoss(),\n",
    "    batch_norm = False,\n",
    "    L2_reg_term = 0\n",
    ")\n",
    "\n",
    "# Adding Layers (and setting Layer hyper-parameters)\n",
    "step1.add(Linear(128, 1024))  \n",
    "step1.add(ReLU())\n",
    "step1.add(Linear(1024, 512))                                  \n",
    "step1.add(ReLU())\n",
    "step1.add(Linear(512, 64)) \n",
    "step1.add(ReLU())\n",
    "step1.add(Linear(64, 10))\n",
    "\n",
    "step1.set_name(\"step1\")  # creates name for model for loading saved model from training (with min val loss)"
   ]
  },
  {
   "cell_type": "markdown",
   "id": "17655a79",
   "metadata": {},
   "source": [
    "## Model Variation 3B: Step Decay of LR (Non-Default)\n",
    "##### Drop = 0.95, Step = 25 (Drop by 5% every step of 25 epochs)"
   ]
  },
  {
   "cell_type": "code",
   "execution_count": 69,
   "id": "db9c7bab",
   "metadata": {},
   "outputs": [],
   "source": [
    "# Initializing model hyper-parameters\n",
    "step2 = Net(\n",
    "    optimizer = SGD(\n",
    "        learning_rate= 0.05,  \n",
    "        weight_decay = 0.003,\n",
    "        momentum = 0.999, \n",
    "        lr_decay = \"step\",  \n",
    "        step_terms = (25, 0.95) # every step of 25 epochs, drop LR by 5%\n",
    "    ),\n",
    "    criterion = CrossEntropyLoss(),\n",
    "    batch_norm = False,\n",
    "    L2_reg_term = 0\n",
    ")\n",
    "\n",
    "# Adding Layers (and setting Layer hyper-parameters)\n",
    "step2.add(Linear(128, 1024))  \n",
    "step2.add(ReLU())\n",
    "step2.add(Linear(1024, 512))                                  \n",
    "step2.add(ReLU())\n",
    "step2.add(Linear(512, 64)) \n",
    "step2.add(ReLU())\n",
    "step2.add(Linear(64, 10))\n",
    "\n",
    "step2.set_name(\"step2\")  # creates name for model for loading saved model from training (with min val loss)"
   ]
  },
  {
   "cell_type": "markdown",
   "id": "5e4f0665",
   "metadata": {},
   "source": [
    "## ITERATION 5* (Step Decay - non-default): TRAINING\n",
    "## Model Variation 3A: Step Decay of LR (step = 25, drop = 0.9)"
   ]
  },
  {
   "cell_type": "code",
   "execution_count": 70,
   "id": "fe03874f",
   "metadata": {},
   "outputs": [
    {
     "name": "stderr",
     "output_type": "stream",
     "text": [
      "  1%|█▍                                                                                                                                           | 1/100 [00:03<05:37,  3.41s/it]"
     ]
    },
    {
     "name": "stdout",
     "output_type": "stream",
     "text": [
      "Epoch: 0\tInterval Time: 3.4 sec(s)\tTraining Loss: 2.256882\t\tTraining Accuracy: 0.153600\n",
      "\t\t\t\t\t\tValidation Loss:2.183967\tValidation Accuracy: 0.212800\n"
     ]
    },
    {
     "name": "stderr",
     "output_type": "stream",
     "text": [
      " 11%|███████████████▍                                                                                                                            | 11/100 [00:35<04:30,  3.04s/it]"
     ]
    },
    {
     "name": "stdout",
     "output_type": "stream",
     "text": [
      "Epoch: 10\tInterval Time: 32.0 sec(s)\tTraining Loss: 1.506152\t\tTraining Accuracy: 0.479100\n",
      "\t\t\t\t\t\tValidation Loss:1.659068\tValidation Accuracy: 0.421800\n"
     ]
    },
    {
     "name": "stderr",
     "output_type": "stream",
     "text": [
      " 21%|█████████████████████████████▍                                                                                                              | 21/100 [01:05<03:58,  3.02s/it]"
     ]
    },
    {
     "name": "stdout",
     "output_type": "stream",
     "text": [
      "Epoch: 20\tInterval Time: 30.5 sec(s)\tTraining Loss: 1.259122\t\tTraining Accuracy: 0.572550\n",
      "\t\t\t\t\t\tValidation Loss:1.623112\tValidation Accuracy: 0.453100\n"
     ]
    },
    {
     "name": "stderr",
     "output_type": "stream",
     "text": [
      " 31%|███████████████████████████████████████████▍                                                                                                | 31/100 [01:35<03:25,  2.98s/it]"
     ]
    },
    {
     "name": "stdout",
     "output_type": "stream",
     "text": [
      "Epoch: 30\tInterval Time: 29.7 sec(s)\tTraining Loss: 0.972089\t\tTraining Accuracy: 0.674200\n",
      "\t\t\t\t\t\tValidation Loss:1.736136\tValidation Accuracy: 0.460100\n"
     ]
    },
    {
     "name": "stderr",
     "output_type": "stream",
     "text": [
      " 34%|███████████████████████████████████████████████▌                                                                                            | 34/100 [01:47<03:29,  3.17s/it]"
     ]
    },
    {
     "name": "stdout",
     "output_type": "stream",
     "text": [
      "\n",
      "\n",
      "No decrease in validation loss during last 10 epoch(s).\n",
      "\n",
      "Convergence criteria achieved.\n",
      "Training completed @ Epoch 34.\n",
      "Total training time: 1 min 47.8 s\n",
      "\n",
      "                Best model found @ Epoch 23\n",
      "                --------------------------------------------\n",
      "                Training Loss: 1.170312\n",
      "                Validation Loss: 1.602802\n",
      "                --------------------------------------------\n",
      "                Training Accuracy: 0.605700\n",
      "                Validation Accuracy: 0.470500\n",
      "\n",
      "\n",
      "Best model 'step1' saved in 'model/' directory.\n"
     ]
    },
    {
     "name": "stderr",
     "output_type": "stream",
     "text": [
      "\n"
     ]
    },
    {
     "data": {
      "text/plain": [
       "{'tags': ['hide-output']}"
      ]
     },
     "execution_count": 70,
     "metadata": {},
     "output_type": "execute_result"
    }
   ],
   "source": [
    "# train model till convergence\n",
    "s1 = step1.train_convergence(\n",
    "    train_set = train_set,\n",
    "    valid_set = valid_set,\n",
    "    batch_size = 500,\n",
    "    planned_epochs = 100,\n",
    "    last_check = 10,\n",
    "    threshold = 1e-25,\n",
    "    report_interval = 10\n",
    ")\n",
    "\n",
    "{\"tags\": [\"hide-output\"]}"
   ]
  },
  {
   "cell_type": "markdown",
   "id": "d902ff56",
   "metadata": {},
   "source": [
    "### Plotting Epoch-wise Loss & Accuracy Curves"
   ]
  },
  {
   "cell_type": "code",
   "execution_count": 71,
   "id": "9fac333c",
   "metadata": {},
   "outputs": [
    {
     "data": {
      "text/plain": [
       "<Figure size 720x504 with 0 Axes>"
      ]
     },
     "metadata": {},
     "output_type": "display_data"
    },
    {
     "data": {
      "image/png": "[encoded data removed]",
      "text/plain": [
       "<Figure size 432x288 with 4 Axes>"
      ]
     },
     "metadata": {
      "needs_background": "light"
     },
     "output_type": "display_data"
    }
   ],
   "source": [
    "plot_results(s1)"
   ]
  },
  {
   "cell_type": "markdown",
   "id": "a726661f",
   "metadata": {},
   "source": [
    "### Checking Accuracy of Best Model"
   ]
  },
  {
   "cell_type": "code",
   "execution_count": 72,
   "id": "761b753f",
   "metadata": {},
   "outputs": [
    {
     "name": "stdout",
     "output_type": "stream",
     "text": [
      "-------------------------------------------\n",
      "Accuracy on train data: 63.37%\n",
      "Total Count:  40000\n",
      "Total Match:  25346\n",
      "-------------------------------------------\n",
      "Test Accuracy of\t0: 73.57% (2964/4029)\n",
      "Test Accuracy of\t1: 38.42% (1545/4021)\n",
      "Test Accuracy of\t2: 40.20% (1601/3983)\n",
      "Test Accuracy of\t3: 44.94% (1777/3954)\n",
      "Test Accuracy of\t4: 52.33% (2097/4007)\n",
      "Test Accuracy of\t5: 77.72% (3132/4030)\n",
      "Test Accuracy of\t6: 73.46% (2975/4050)\n",
      "Test Accuracy of\t7: 80.77% (3213/3978)\n",
      "Test Accuracy of\t8: 77.81% (3100/3984)\n",
      "Test Accuracy of\t9: 74.22% (2942/3964)\n",
      "-------------------------------------------\n",
      "Accuracy on valid data: 47.05%\n",
      "Total Count:  10000\n",
      "Total Match:  4705\n",
      "-------------------------------------------\n",
      "Test Accuracy of\t0: 55.82% (542/971)\n",
      "Test Accuracy of\t1: 23.60% (231/979)\n",
      "Test Accuracy of\t2: 24.19% (246/1017)\n",
      "Test Accuracy of\t3: 30.50% (319/1046)\n",
      "Test Accuracy of\t4: 37.46% (372/993)\n",
      "Test Accuracy of\t5: 62.37% (605/970)\n",
      "Test Accuracy of\t6: 54.21% (515/950)\n",
      "Test Accuracy of\t7: 68.79% (703/1022)\n",
      "Test Accuracy of\t8: 56.20% (571/1016)\n",
      "Test Accuracy of\t9: 58.01% (601/1036)\n",
      "-------------------------------------------\n",
      "Accuracy on test data: 46.49%\n",
      "Total Count:  10000\n",
      "Total Match:  4649\n",
      "-------------------------------------------\n",
      "Test Accuracy of\t0: 54.20% (542/1000)\n",
      "Test Accuracy of\t1: 24.90% (249/1000)\n",
      "Test Accuracy of\t2: 21.30% (213/1000)\n",
      "Test Accuracy of\t3: 32.10% (321/1000)\n",
      "Test Accuracy of\t4: 37.30% (373/1000)\n",
      "Test Accuracy of\t5: 62.30% (623/1000)\n",
      "Test Accuracy of\t6: 54.00% (540/1000)\n",
      "Test Accuracy of\t7: 64.90% (649/1000)\n",
      "Test Accuracy of\t8: 54.20% (542/1000)\n",
      "Test Accuracy of\t9: 59.70% (597/1000)\n"
     ]
    }
   ],
   "source": [
    "# Loading new best model found:\n",
    "s1 = Net.load_model(\"model/step1\")\n",
    "s1.test_network(train_set, \"train data\")\n",
    "s1.test_network(valid_set, \"valid data\")\n",
    "s1.test_network(test_set, \"test data\")"
   ]
  },
  {
   "cell_type": "markdown",
   "id": "78fec855",
   "metadata": {},
   "source": [
    "## Model Variation 3B: Step Decay of LR (step = 25, drop = 0.95)"
   ]
  },
  {
   "cell_type": "code",
   "execution_count": 73,
   "id": "5b4166a5",
   "metadata": {},
   "outputs": [
    {
     "name": "stderr",
     "output_type": "stream",
     "text": [
      "  1%|█▍                                                                                                                                           | 1/100 [00:02<04:40,  2.83s/it]"
     ]
    },
    {
     "name": "stdout",
     "output_type": "stream",
     "text": [
      "Epoch: 0\tInterval Time: 2.8 sec(s)\tTraining Loss: 2.250235\t\tTraining Accuracy: 0.164775\n",
      "\t\t\t\t\t\tValidation Loss:2.167961\tValidation Accuracy: 0.224300\n"
     ]
    },
    {
     "name": "stderr",
     "output_type": "stream",
     "text": [
      " 11%|███████████████▍                                                                                                                            | 11/100 [00:32<04:31,  3.05s/it]"
     ]
    },
    {
     "name": "stdout",
     "output_type": "stream",
     "text": [
      "Epoch: 10\tInterval Time: 30.2 sec(s)\tTraining Loss: 1.530673\t\tTraining Accuracy: 0.473350\n",
      "\t\t\t\t\t\tValidation Loss:1.675374\tValidation Accuracy: 0.420200\n"
     ]
    },
    {
     "name": "stderr",
     "output_type": "stream",
     "text": [
      " 21%|█████████████████████████████▍                                                                                                              | 21/100 [01:02<03:48,  2.90s/it]"
     ]
    },
    {
     "name": "stdout",
     "output_type": "stream",
     "text": [
      "Epoch: 20\tInterval Time: 29.0 sec(s)\tTraining Loss: 1.257510\t\tTraining Accuracy: 0.575425\n",
      "\t\t\t\t\t\tValidation Loss:1.644136\tValidation Accuracy: 0.448400\n"
     ]
    },
    {
     "name": "stderr",
     "output_type": "stream",
     "text": [
      " 31%|███████████████████████████████████████████▍                                                                                                | 31/100 [01:30<03:14,  2.82s/it]"
     ]
    },
    {
     "name": "stdout",
     "output_type": "stream",
     "text": [
      "Epoch: 30\tInterval Time: 28.5 sec(s)\tTraining Loss: 0.963581\t\tTraining Accuracy: 0.677625\n",
      "\t\t\t\t\t\tValidation Loss:1.776358\tValidation Accuracy: 0.453300\n"
     ]
    },
    {
     "name": "stderr",
     "output_type": "stream",
     "text": [
      "\r",
      " 31%|███████████████████████████████████████████▍                                                                                                | 31/100 [01:33<03:27,  3.01s/it]"
     ]
    },
    {
     "name": "stdout",
     "output_type": "stream",
     "text": [
      "\n",
      "\n",
      "Minimum percent change (1e-25%) in training loss not exceeded.\n",
      "\n",
      "Convergence criteria achieved.\n",
      "Training completed @ Epoch 31.\n",
      "Total training time: 1 min 33.3 s\n",
      "\n",
      "                Best model found @ Epoch 21\n",
      "                --------------------------------------------\n",
      "                Training Loss: 1.230658\n",
      "                Validation Loss: 1.608741\n",
      "                --------------------------------------------\n",
      "                Training Accuracy: 0.583850\n",
      "                Validation Accuracy: 0.458300\n",
      "\n",
      "\n",
      "Best model 'step2' saved in 'model/' directory.\n"
     ]
    },
    {
     "name": "stderr",
     "output_type": "stream",
     "text": [
      "\n"
     ]
    },
    {
     "data": {
      "text/plain": [
       "{'tags': ['hide-output']}"
      ]
     },
     "execution_count": 73,
     "metadata": {},
     "output_type": "execute_result"
    }
   ],
   "source": [
    "# train model till convergence\n",
    "s2 = step2.train_convergence(\n",
    "    train_set = train_set,\n",
    "    valid_set = valid_set,\n",
    "    batch_size = 500,\n",
    "    planned_epochs = 100,\n",
    "    last_check = 10,\n",
    "    threshold = 1e-25,\n",
    "    report_interval = 10\n",
    ")\n",
    "\n",
    "{\"tags\": [\"hide-output\"]}"
   ]
  },
  {
   "cell_type": "markdown",
   "id": "d0e0b850",
   "metadata": {},
   "source": [
    "### Plotting Epoch-wise Loss & Accuracy Curves"
   ]
  },
  {
   "cell_type": "code",
   "execution_count": 74,
   "id": "c28077b8",
   "metadata": {},
   "outputs": [
    {
     "data": {
      "text/plain": [
       "<Figure size 720x504 with 0 Axes>"
      ]
     },
     "metadata": {},
     "output_type": "display_data"
    },
    {
     "data": {
      "image/png": "[encoded data removed]",
      "text/plain": [
       "<Figure size 432x288 with 4 Axes>"
      ]
     },
     "metadata": {
      "needs_background": "light"
     },
     "output_type": "display_data"
    }
   ],
   "source": [
    "plot_results(s2)"
   ]
  },
  {
   "cell_type": "markdown",
   "id": "b92b4d94",
   "metadata": {},
   "source": [
    "### Checking Accuracy of Best Model"
   ]
  },
  {
   "cell_type": "code",
   "execution_count": 75,
   "id": "b14a2754",
   "metadata": {},
   "outputs": [
    {
     "name": "stdout",
     "output_type": "stream",
     "text": [
      "-------------------------------------------\n",
      "Accuracy on train data: 61.44%\n",
      "Total Count:  40000\n",
      "Total Match:  24577\n",
      "-------------------------------------------\n",
      "Test Accuracy of\t0: 70.56% (2843/4029)\n",
      "Test Accuracy of\t1: 36.11% (1452/4021)\n",
      "Test Accuracy of\t2: 52.95% (2109/3983)\n",
      "Test Accuracy of\t3: 35.71% (1412/3954)\n",
      "Test Accuracy of\t4: 41.45% (1661/4007)\n",
      "Test Accuracy of\t5: 76.43% (3080/4030)\n",
      "Test Accuracy of\t6: 73.31% (2969/4050)\n",
      "Test Accuracy of\t7: 79.89% (3178/3978)\n",
      "Test Accuracy of\t8: 75.58% (3011/3984)\n",
      "Test Accuracy of\t9: 72.20% (2862/3964)\n",
      "-------------------------------------------\n",
      "Accuracy on valid data: 45.83%\n",
      "Total Count:  10000\n",
      "Total Match:  4583\n",
      "-------------------------------------------\n",
      "Test Accuracy of\t0: 53.45% (519/971)\n",
      "Test Accuracy of\t1: 22.88% (224/979)\n",
      "Test Accuracy of\t2: 35.40% (360/1017)\n",
      "Test Accuracy of\t3: 26.20% (274/1046)\n",
      "Test Accuracy of\t4: 30.61% (304/993)\n",
      "Test Accuracy of\t5: 57.22% (555/970)\n",
      "Test Accuracy of\t6: 52.32% (497/950)\n",
      "Test Accuracy of\t7: 66.93% (684/1022)\n",
      "Test Accuracy of\t8: 57.58% (585/1016)\n",
      "Test Accuracy of\t9: 56.08% (581/1036)\n",
      "-------------------------------------------\n",
      "Accuracy on test data: 46.06%\n",
      "Total Count:  10000\n",
      "Total Match:  4606\n",
      "-------------------------------------------\n",
      "Test Accuracy of\t0: 53.60% (536/1000)\n",
      "Test Accuracy of\t1: 26.10% (261/1000)\n",
      "Test Accuracy of\t2: 31.20% (312/1000)\n",
      "Test Accuracy of\t3: 26.90% (269/1000)\n",
      "Test Accuracy of\t4: 29.20% (292/1000)\n",
      "Test Accuracy of\t5: 60.00% (600/1000)\n",
      "Test Accuracy of\t6: 55.30% (553/1000)\n",
      "Test Accuracy of\t7: 64.20% (642/1000)\n",
      "Test Accuracy of\t8: 56.00% (560/1000)\n",
      "Test Accuracy of\t9: 58.10% (581/1000)\n"
     ]
    }
   ],
   "source": [
    "# Loading new best model found:\n",
    "s2 = Net.load_model(\"model/step2\")\n",
    "s2.test_network(train_set, \"train data\")\n",
    "s2.test_network(valid_set, \"valid data\")\n",
    "s2.test_network(test_set, \"test data\")"
   ]
  },
  {
   "cell_type": "markdown",
   "id": "20e505bf",
   "metadata": {},
   "source": [
    "# ITERATION 5: DECISION\n",
    "## Reset to no Learning Rate decay, based on Accuracy Result on Test Set."
   ]
  },
  {
   "cell_type": "markdown",
   "id": "eae1bf98",
   "metadata": {},
   "source": [
    "# ITERATION 6: L2 Regularization"
   ]
  },
  {
   "cell_type": "markdown",
   "id": "6e65a995",
   "metadata": {},
   "source": [
    "## Model Variation 1: L2_reg_term = 0.04"
   ]
  },
  {
   "cell_type": "code",
   "execution_count": 96,
   "id": "20cb3e0f",
   "metadata": {},
   "outputs": [],
   "source": [
    "# Initializing model hyper-parameters\n",
    "l24 = Net(\n",
    "    optimizer = SGD(\n",
    "        learning_rate= 0.05,  \n",
    "        weight_decay = 0.005,\n",
    "        momentum = 0.999, \n",
    "        lr_decay = \"default\"  \n",
    "    ),\n",
    "    criterion = CrossEntropyLoss(),\n",
    "    batch_norm = False,  # batch_norm now set to True, uses default alpha scalar of 0.9\n",
    "    L2_reg_term = 0.04\n",
    ")\n",
    "\n",
    "# Adding Layers (and setting Layer hyper-parameters)\n",
    "l24.add(Linear(128, 1024))\n",
    "l24.add(ReLU())\n",
    "l24.add(Linear(1024, 512))                                  \n",
    "l24.add(ReLU())\n",
    "l24.add(Linear(512, 64)) \n",
    "l24.add(ReLU())\n",
    "l24.add(Linear(64, 10))\n",
    "\n",
    "l24.set_name(\"l24\")  # creates name for model for loading saved model from training (with min val loss)"
   ]
  },
  {
   "cell_type": "markdown",
   "id": "460fba44",
   "metadata": {},
   "source": [
    "## Model Variation 2: L2_reg_term = 0.02"
   ]
  },
  {
   "cell_type": "code",
   "execution_count": 97,
   "id": "c99f1a1f",
   "metadata": {},
   "outputs": [],
   "source": [
    "# Initializing model hyper-parameters\n",
    "l22 = Net(\n",
    "    optimizer = SGD(\n",
    "        learning_rate= 0.05,  \n",
    "        weight_decay = 0.005,\n",
    "        momentum = 0.999, \n",
    "        lr_decay = \"default\" \n",
    "    ),\n",
    "    criterion = CrossEntropyLoss(),\n",
    "    batch_norm = False,  # batch_norm now set to True, uses default alpha scalar of 0.9\n",
    "    L2_reg_term = 0.02\n",
    ")\n",
    "\n",
    "# Adding Layers (and setting Layer hyper-parameters)\n",
    "l22.add(Linear(128, 1024))\n",
    "l22.add(ReLU())\n",
    "l22.add(Linear(1024, 512))                                  \n",
    "l22.add(ReLU())\n",
    "l22.add(Linear(512, 64)) \n",
    "l22.add(ReLU())\n",
    "l22.add(Linear(64, 10))\n",
    "\n",
    "l22.set_name(\"l22\")  # creates name for model for loading saved model from training (with min val loss)"
   ]
  },
  {
   "cell_type": "markdown",
   "id": "561825dc",
   "metadata": {},
   "source": [
    "## Model Variation 3: L2_reg_term = 0.01"
   ]
  },
  {
   "cell_type": "code",
   "execution_count": 100,
   "id": "de6f9987",
   "metadata": {},
   "outputs": [],
   "source": [
    "# Initializing model hyper-parameters\n",
    "l21 = Net(\n",
    "    optimizer = SGD(\n",
    "        learning_rate= 0.05,  \n",
    "        weight_decay = 0.005,\n",
    "        momentum = 0.999, \n",
    "        lr_decay = \"default\"  \n",
    "    ),\n",
    "    criterion = CrossEntropyLoss(),\n",
    "    batch_norm = False,  # batch_norm now set to True, uses default alpha scalar of 0.9\n",
    "    L2_reg_term = 0.01\n",
    ")\n",
    "\n",
    "# Adding Layers (and setting Layer hyper-parameters)\n",
    "l21.add(Linear(128, 1024))\n",
    "l21.add(ReLU())\n",
    "l21.add(Linear(1024, 512))                                  \n",
    "l21.add(ReLU())\n",
    "l21.add(Linear(512, 64)) \n",
    "l21.add(ReLU())\n",
    "l21.add(Linear(64, 10))\n",
    "\n",
    "l21.set_name(\"l21\")  # creates name for model for loading saved model from training (with min val loss)"
   ]
  },
  {
   "cell_type": "markdown",
   "id": "6b5668a3",
   "metadata": {},
   "source": [
    "# ITERATION 6: TRAINING"
   ]
  },
  {
   "cell_type": "markdown",
   "id": "fdcc5763",
   "metadata": {},
   "source": [
    "## Model Variation 1: L2_reg_term = 0.04"
   ]
  },
  {
   "cell_type": "code",
   "execution_count": 99,
   "id": "82b62e03",
   "metadata": {},
   "outputs": [
    {
     "name": "stderr",
     "output_type": "stream",
     "text": [
      "  1%|█▍                                                                                                                                           | 1/100 [00:03<05:00,  3.03s/it]"
     ]
    },
    {
     "name": "stdout",
     "output_type": "stream",
     "text": [
      "Epoch: 0\tInterval Time: 3.0 sec(s)\tTraining Loss: 2.254800\t\tTraining Accuracy: 0.154250\n",
      "\t\t\t\t\t\tValidation Loss:2.184024\tValidation Accuracy: 0.214300\n"
     ]
    },
    {
     "name": "stderr",
     "output_type": "stream",
     "text": [
      " 11%|███████████████▍                                                                                                                            | 11/100 [00:34<04:33,  3.07s/it]"
     ]
    },
    {
     "name": "stdout",
     "output_type": "stream",
     "text": [
      "Epoch: 10\tInterval Time: 31.0 sec(s)\tTraining Loss: 1.564125\t\tTraining Accuracy: 0.460925\n",
      "\t\t\t\t\t\tValidation Loss:1.693669\tValidation Accuracy: 0.409200\n"
     ]
    },
    {
     "name": "stderr",
     "output_type": "stream",
     "text": [
      " 21%|█████████████████████████████▍                                                                                                              | 21/100 [01:05<04:07,  3.13s/it]"
     ]
    },
    {
     "name": "stdout",
     "output_type": "stream",
     "text": [
      "Epoch: 20\tInterval Time: 31.3 sec(s)\tTraining Loss: 1.358848\t\tTraining Accuracy: 0.540025\n",
      "\t\t\t\t\t\tValidation Loss:1.645938\tValidation Accuracy: 0.440700\n"
     ]
    },
    {
     "name": "stderr",
     "output_type": "stream",
     "text": [
      " 31%|███████████████████████████████████████████▍                                                                                                | 31/100 [01:37<03:37,  3.15s/it]"
     ]
    },
    {
     "name": "stdout",
     "output_type": "stream",
     "text": [
      "Epoch: 30\tInterval Time: 32.0 sec(s)\tTraining Loss: 1.053820\t\tTraining Accuracy: 0.650875\n",
      "\t\t\t\t\t\tValidation Loss:1.606414\tValidation Accuracy: 0.483100\n"
     ]
    },
    {
     "name": "stderr",
     "output_type": "stream",
     "text": [
      " 32%|████████████████████████████████████████████▊                                                                                               | 32/100 [01:44<03:42,  3.27s/it]"
     ]
    },
    {
     "name": "stdout",
     "output_type": "stream",
     "text": [
      "\n",
      "\n",
      "Minimum percent change (1e-25%) in training loss not exceeded.\n",
      "\n",
      "Convergence criteria achieved.\n",
      "Training completed @ Epoch 32.\n",
      "Total training time: 1 min 44.6 s\n",
      "\n",
      "                Best model found @ Epoch 27\n",
      "                --------------------------------------------\n",
      "                Training Loss: 1.119399\n",
      "                Validation Loss: 1.575748\n",
      "                --------------------------------------------\n",
      "                Training Accuracy: 0.626600\n",
      "                Validation Accuracy: 0.480700\n",
      "\n",
      "\n",
      "Best model 'l24' saved in 'model/' directory.\n"
     ]
    },
    {
     "name": "stderr",
     "output_type": "stream",
     "text": [
      "\n"
     ]
    },
    {
     "data": {
      "text/plain": [
       "{'tags': ['hide-output']}"
      ]
     },
     "execution_count": 99,
     "metadata": {},
     "output_type": "execute_result"
    }
   ],
   "source": [
    "# train model till convergence\n",
    "l24s = l24.train_convergence(\n",
    "    train_set = train_set,\n",
    "    valid_set = valid_set,\n",
    "    batch_size = 500,\n",
    "    planned_epochs = 100,\n",
    "    last_check = 10,\n",
    "    threshold = 1e-25,\n",
    "    report_interval = 10\n",
    ")\n",
    "\n",
    "{\"tags\": [\"hide-output\"]}"
   ]
  },
  {
   "cell_type": "markdown",
   "id": "16839a6e",
   "metadata": {},
   "source": [
    "### Plotting Epoch-wise Loss & Accuracy Curves"
   ]
  },
  {
   "cell_type": "code",
   "execution_count": 101,
   "id": "2eb3caac",
   "metadata": {},
   "outputs": [
    {
     "data": {
      "text/plain": [
       "<Figure size 720x504 with 0 Axes>"
      ]
     },
     "metadata": {},
     "output_type": "display_data"
    },
    {
     "data": {
      "image/png": "[encoded data removed]",
      "text/plain": [
       "<Figure size 432x288 with 4 Axes>"
      ]
     },
     "metadata": {
      "needs_background": "light"
     },
     "output_type": "display_data"
    }
   ],
   "source": [
    "plot_results(l24s)"
   ]
  },
  {
   "cell_type": "markdown",
   "id": "bc862bcf",
   "metadata": {},
   "source": [
    "### Checking Accuracy of Best Model"
   ]
  },
  {
   "cell_type": "code",
   "execution_count": 102,
   "id": "01128b5d",
   "metadata": {},
   "outputs": [
    {
     "name": "stdout",
     "output_type": "stream",
     "text": [
      "-------------------------------------------\n",
      "Accuracy on train data: 65.70%\n",
      "Total Count:  40000\n",
      "Total Match:  26280\n",
      "-------------------------------------------\n",
      "Test Accuracy of\t0: 72.38% (2916/4029)\n",
      "Test Accuracy of\t1: 44.76% (1800/4021)\n",
      "Test Accuracy of\t2: 50.67% (2018/3983)\n",
      "Test Accuracy of\t3: 44.61% (1764/3954)\n",
      "Test Accuracy of\t4: 58.05% (2326/4007)\n",
      "Test Accuracy of\t5: 75.16% (3029/4030)\n",
      "Test Accuracy of\t6: 78.62% (3184/4050)\n",
      "Test Accuracy of\t7: 85.85% (3415/3978)\n",
      "Test Accuracy of\t8: 75.08% (2991/3984)\n",
      "Test Accuracy of\t9: 71.57% (2837/3964)\n",
      "-------------------------------------------\n",
      "Accuracy on valid data: 48.07%\n",
      "Total Count:  10000\n",
      "Total Match:  4807\n",
      "-------------------------------------------\n",
      "Test Accuracy of\t0: 55.30% (537/971)\n",
      "Test Accuracy of\t1: 25.84% (253/979)\n",
      "Test Accuracy of\t2: 32.35% (329/1017)\n",
      "Test Accuracy of\t3: 32.22% (337/1046)\n",
      "Test Accuracy of\t4: 42.40% (421/993)\n",
      "Test Accuracy of\t5: 55.57% (539/970)\n",
      "Test Accuracy of\t6: 57.05% (542/950)\n",
      "Test Accuracy of\t7: 74.07% (757/1022)\n",
      "Test Accuracy of\t8: 52.95% (538/1016)\n",
      "Test Accuracy of\t9: 53.47% (554/1036)\n",
      "-------------------------------------------\n",
      "Accuracy on test data: 48.03%\n",
      "Total Count:  10000\n",
      "Total Match:  4803\n",
      "-------------------------------------------\n",
      "Test Accuracy of\t0: 53.40% (534/1000)\n",
      "Test Accuracy of\t1: 28.10% (281/1000)\n",
      "Test Accuracy of\t2: 29.40% (294/1000)\n",
      "Test Accuracy of\t3: 30.70% (307/1000)\n",
      "Test Accuracy of\t4: 42.70% (427/1000)\n",
      "Test Accuracy of\t5: 58.70% (587/1000)\n",
      "Test Accuracy of\t6: 59.70% (597/1000)\n",
      "Test Accuracy of\t7: 70.40% (704/1000)\n",
      "Test Accuracy of\t8: 50.50% (505/1000)\n",
      "Test Accuracy of\t9: 56.70% (567/1000)\n"
     ]
    }
   ],
   "source": [
    "# Loading new best model found:\n",
    "l24 = Net.load_model(\"model/l24\")\n",
    "l24.test_network(train_set, \"train data\")\n",
    "l24.test_network(valid_set, \"valid data\")\n",
    "l24.test_network(test_set, \"test data\")"
   ]
  },
  {
   "cell_type": "markdown",
   "id": "0d5b2243",
   "metadata": {},
   "source": [
    "## Model Variation 2: L2_reg_term = 0.07"
   ]
  },
  {
   "cell_type": "code",
   "execution_count": 82,
   "id": "283f9ff9",
   "metadata": {},
   "outputs": [
    {
     "name": "stderr",
     "output_type": "stream",
     "text": [
      "  1%|█▍                                                                                                                                           | 1/100 [00:03<05:18,  3.22s/it]"
     ]
    },
    {
     "name": "stdout",
     "output_type": "stream",
     "text": [
      "Epoch: 0\tInterval Time: 3.2 sec(s)\tTraining Loss: 2.256942\t\tTraining Accuracy: 0.157950\n",
      "\t\t\t\t\t\tValidation Loss:2.186213\tValidation Accuracy: 0.211200\n"
     ]
    },
    {
     "name": "stderr",
     "output_type": "stream",
     "text": [
      " 11%|███████████████▍                                                                                                                            | 11/100 [00:35<04:48,  3.25s/it]"
     ]
    },
    {
     "name": "stdout",
     "output_type": "stream",
     "text": [
      "Epoch: 10\tInterval Time: 32.4 sec(s)\tTraining Loss: 1.570067\t\tTraining Accuracy: 0.459475\n",
      "\t\t\t\t\t\tValidation Loss:1.693635\tValidation Accuracy: 0.412100\n"
     ]
    },
    {
     "name": "stderr",
     "output_type": "stream",
     "text": [
      " 21%|█████████████████████████████▍                                                                                                              | 21/100 [01:09<04:22,  3.33s/it]"
     ]
    },
    {
     "name": "stdout",
     "output_type": "stream",
     "text": [
      "Epoch: 20\tInterval Time: 34.1 sec(s)\tTraining Loss: 1.335476\t\tTraining Accuracy: 0.543900\n",
      "\t\t\t\t\t\tValidation Loss:1.637439\tValidation Accuracy: 0.441100\n"
     ]
    },
    {
     "name": "stderr",
     "output_type": "stream",
     "text": [
      " 29%|████████████████████████████████████████▌                                                                                                   | 29/100 [01:38<04:01,  3.40s/it]"
     ]
    },
    {
     "name": "stdout",
     "output_type": "stream",
     "text": [
      "\n",
      "\n",
      "Minimum percent change (1e-25%) in training loss not exceeded.\n",
      "\n",
      "Convergence criteria achieved.\n",
      "Training completed @ Epoch 29.\n",
      "Total training time: 1 min 38.5 s\n",
      "\n",
      "                Best model found @ Epoch 23\n",
      "                --------------------------------------------\n",
      "                Training Loss: 1.243980\n",
      "                Validation Loss: 1.600943\n",
      "                --------------------------------------------\n",
      "                Training Accuracy: 0.577000\n",
      "                Validation Accuracy: 0.458100\n",
      "\n",
      "\n",
      "Best model 'l27' saved in 'model/' directory.\n"
     ]
    },
    {
     "name": "stderr",
     "output_type": "stream",
     "text": [
      "\n"
     ]
    },
    {
     "data": {
      "text/plain": [
       "{'tags': ['hide-output']}"
      ]
     },
     "execution_count": 82,
     "metadata": {},
     "output_type": "execute_result"
    }
   ],
   "source": [
    "# train model till convergence\n",
    "l27s = l27.train_convergence(\n",
    "    train_set = train_set,\n",
    "    valid_set = valid_set,\n",
    "    batch_size = 500,\n",
    "    planned_epochs = 100,\n",
    "    last_check = 10,\n",
    "    threshold = 1e-25,\n",
    "    report_interval = 10\n",
    ")\n",
    "\n",
    "{\"tags\": [\"hide-output\"]}"
   ]
  },
  {
   "cell_type": "markdown",
   "id": "674be84d",
   "metadata": {},
   "source": [
    "### Plotting Epoch-wise Loss & Accuracy Curves"
   ]
  },
  {
   "cell_type": "code",
   "execution_count": 83,
   "id": "b63759c1",
   "metadata": {},
   "outputs": [
    {
     "data": {
      "text/plain": [
       "<Figure size 720x504 with 0 Axes>"
      ]
     },
     "metadata": {},
     "output_type": "display_data"
    },
    {
     "data": {
      "image/png": "[encoded data removed]",
      "text/plain": [
       "<Figure size 432x288 with 4 Axes>"
      ]
     },
     "metadata": {
      "needs_background": "light"
     },
     "output_type": "display_data"
    }
   ],
   "source": [
    "plot_results(l27s)"
   ]
  },
  {
   "cell_type": "markdown",
   "id": "2750440d",
   "metadata": {},
   "source": [
    "### Checking Accuracy of Best Model"
   ]
  },
  {
   "cell_type": "code",
   "execution_count": 84,
   "id": "419c2cda",
   "metadata": {},
   "outputs": [
    {
     "name": "stdout",
     "output_type": "stream",
     "text": [
      "-------------------------------------------\n",
      "Accuracy on train data: 59.70%\n",
      "Total Count:  40000\n",
      "Total Match:  23879\n",
      "-------------------------------------------\n",
      "Test Accuracy of\t0: 63.12% (2543/4029)\n",
      "Test Accuracy of\t1: 41.93% (1686/4021)\n",
      "Test Accuracy of\t2: 38.89% (1549/3983)\n",
      "Test Accuracy of\t3: 27.85% (1101/3954)\n",
      "Test Accuracy of\t4: 52.33% (2097/4007)\n",
      "Test Accuracy of\t5: 75.48% (3042/4030)\n",
      "Test Accuracy of\t6: 74.20% (3005/4050)\n",
      "Test Accuracy of\t7: 84.21% (3350/3978)\n",
      "Test Accuracy of\t8: 78.41% (3124/3984)\n",
      "Test Accuracy of\t9: 60.09% (2382/3964)\n",
      "-------------------------------------------\n",
      "Accuracy on valid data: 45.81%\n",
      "Total Count:  10000\n",
      "Total Match:  4581\n",
      "-------------------------------------------\n",
      "Test Accuracy of\t0: 49.02% (476/971)\n",
      "Test Accuracy of\t1: 25.64% (251/979)\n",
      "Test Accuracy of\t2: 24.88% (253/1017)\n",
      "Test Accuracy of\t3: 21.13% (221/1046)\n",
      "Test Accuracy of\t4: 40.28% (400/993)\n",
      "Test Accuracy of\t5: 60.62% (588/970)\n",
      "Test Accuracy of\t6: 54.95% (522/950)\n",
      "Test Accuracy of\t7: 75.15% (768/1022)\n",
      "Test Accuracy of\t8: 59.84% (608/1016)\n",
      "Test Accuracy of\t9: 47.68% (494/1036)\n",
      "-------------------------------------------\n",
      "Accuracy on test data: 46.45%\n",
      "Total Count:  10000\n",
      "Total Match:  4645\n",
      "-------------------------------------------\n",
      "Test Accuracy of\t0: 48.70% (487/1000)\n",
      "Test Accuracy of\t1: 27.90% (279/1000)\n",
      "Test Accuracy of\t2: 24.80% (248/1000)\n",
      "Test Accuracy of\t3: 21.30% (213/1000)\n",
      "Test Accuracy of\t4: 41.50% (415/1000)\n",
      "Test Accuracy of\t5: 62.60% (626/1000)\n",
      "Test Accuracy of\t6: 57.40% (574/1000)\n",
      "Test Accuracy of\t7: 73.10% (731/1000)\n",
      "Test Accuracy of\t8: 59.30% (593/1000)\n",
      "Test Accuracy of\t9: 47.90% (479/1000)\n"
     ]
    }
   ],
   "source": [
    "# Loading new best model found:\n",
    "l27 = Net.load_model(\"model/l27\")\n",
    "l27.test_network(train_set, \"train data\")\n",
    "l27.test_network(valid_set, \"valid data\")\n",
    "l27.test_network(test_set, \"test data\")"
   ]
  },
  {
   "cell_type": "markdown",
   "id": "d2f3f275",
   "metadata": {},
   "source": [
    "## Model Variation 3: L2_reg_term = 0.1"
   ]
  },
  {
   "cell_type": "code",
   "execution_count": 85,
   "id": "ea79b769",
   "metadata": {},
   "outputs": [
    {
     "name": "stderr",
     "output_type": "stream",
     "text": [
      "  1%|█▍                                                                                                                                           | 1/100 [00:03<05:16,  3.19s/it]"
     ]
    },
    {
     "name": "stdout",
     "output_type": "stream",
     "text": [
      "Epoch: 0\tInterval Time: 3.2 sec(s)\tTraining Loss: 2.261535\t\tTraining Accuracy: 0.153425\n",
      "\t\t\t\t\t\tValidation Loss:2.191124\tValidation Accuracy: 0.217500\n"
     ]
    },
    {
     "name": "stderr",
     "output_type": "stream",
     "text": [
      " 11%|███████████████▍                                                                                                                            | 11/100 [00:36<05:04,  3.43s/it]"
     ]
    },
    {
     "name": "stdout",
     "output_type": "stream",
     "text": [
      "Epoch: 10\tInterval Time: 32.9 sec(s)\tTraining Loss: 1.554399\t\tTraining Accuracy: 0.462775\n",
      "\t\t\t\t\t\tValidation Loss:1.688551\tValidation Accuracy: 0.414900\n"
     ]
    },
    {
     "name": "stderr",
     "output_type": "stream",
     "text": [
      " 21%|█████████████████████████████▍                                                                                                              | 21/100 [01:08<04:15,  3.24s/it]"
     ]
    },
    {
     "name": "stdout",
     "output_type": "stream",
     "text": [
      "Epoch: 20\tInterval Time: 32.3 sec(s)\tTraining Loss: 1.344062\t\tTraining Accuracy: 0.539850\n",
      "\t\t\t\t\t\tValidation Loss:1.646758\tValidation Accuracy: 0.440700\n"
     ]
    },
    {
     "name": "stderr",
     "output_type": "stream",
     "text": [
      " 31%|███████████████████████████████████████████▍                                                                                                | 31/100 [01:42<04:02,  3.52s/it]"
     ]
    },
    {
     "name": "stdout",
     "output_type": "stream",
     "text": [
      "Epoch: 30\tInterval Time: 34.4 sec(s)\tTraining Loss: 1.072460\t\tTraining Accuracy: 0.640050\n",
      "\t\t\t\t\t\tValidation Loss:1.646061\tValidation Accuracy: 0.463600\n"
     ]
    },
    {
     "name": "stderr",
     "output_type": "stream",
     "text": [
      "\r",
      " 31%|███████████████████████████████████████████▍                                                                                                | 31/100 [01:46<03:56,  3.42s/it]"
     ]
    },
    {
     "name": "stdout",
     "output_type": "stream",
     "text": [
      "\n",
      "\n",
      "Minimum percent change (1e-25%) in training loss not exceeded.\n",
      "\n",
      "Convergence criteria achieved.\n",
      "Training completed @ Epoch 31.\n",
      "Total training time: 1 min 46.1 s\n",
      "\n",
      "                Best model found @ Epoch 27\n",
      "                --------------------------------------------\n",
      "                Training Loss: 1.125182\n",
      "                Validation Loss: 1.595427\n",
      "                --------------------------------------------\n",
      "                Training Accuracy: 0.622025\n",
      "                Validation Accuracy: 0.471600\n",
      "\n",
      "\n",
      "Best model 'l21' saved in 'model/' directory.\n"
     ]
    },
    {
     "name": "stderr",
     "output_type": "stream",
     "text": [
      "\n"
     ]
    },
    {
     "data": {
      "text/plain": [
       "{'tags': ['hide-output']}"
      ]
     },
     "execution_count": 85,
     "metadata": {},
     "output_type": "execute_result"
    }
   ],
   "source": [
    "# train model till convergence\n",
    "l21s = l21.train_convergence(\n",
    "    train_set = train_set,\n",
    "    valid_set = valid_set,\n",
    "    batch_size = 500,\n",
    "    planned_epochs = 100,\n",
    "    last_check = 10,\n",
    "    threshold = 1e-25,\n",
    "    report_interval = 10\n",
    ")\n",
    "\n",
    "{\"tags\": [\"hide-output\"]}"
   ]
  },
  {
   "cell_type": "markdown",
   "id": "fc75f245",
   "metadata": {},
   "source": [
    "### Plotting Epoch-wise Loss & Accuracy Curves"
   ]
  },
  {
   "cell_type": "code",
   "execution_count": 86,
   "id": "0ab89006",
   "metadata": {},
   "outputs": [
    {
     "data": {
      "text/plain": [
       "<Figure size 720x504 with 0 Axes>"
      ]
     },
     "metadata": {},
     "output_type": "display_data"
    },
    {
     "data": {
      "image/png": "[encoded data removed]",
      "text/plain": [
       "<Figure size 432x288 with 4 Axes>"
      ]
     },
     "metadata": {
      "needs_background": "light"
     },
     "output_type": "display_data"
    }
   ],
   "source": [
    "plot_results(l21s)"
   ]
  },
  {
   "cell_type": "markdown",
   "id": "916cc7bd",
   "metadata": {},
   "source": [
    "### Checking Accuracy of Best Model"
   ]
  },
  {
   "cell_type": "code",
   "execution_count": 87,
   "id": "72a93c08",
   "metadata": {},
   "outputs": [
    {
     "name": "stdout",
     "output_type": "stream",
     "text": [
      "-------------------------------------------\n",
      "Accuracy on train data: 63.84%\n",
      "Total Count:  40000\n",
      "Total Match:  25538\n",
      "-------------------------------------------\n",
      "Test Accuracy of\t0: 79.87% (3218/4029)\n",
      "Test Accuracy of\t1: 35.24% (1417/4021)\n",
      "Test Accuracy of\t2: 45.67% (1819/3983)\n",
      "Test Accuracy of\t3: 47.37% (1873/3954)\n",
      "Test Accuracy of\t4: 44.92% (1800/4007)\n",
      "Test Accuracy of\t5: 80.89% (3260/4030)\n",
      "Test Accuracy of\t6: 79.09% (3203/4050)\n",
      "Test Accuracy of\t7: 80.69% (3210/3978)\n",
      "Test Accuracy of\t8: 69.48% (2768/3984)\n",
      "Test Accuracy of\t9: 74.92% (2970/3964)\n",
      "-------------------------------------------\n",
      "Accuracy on valid data: 47.16%\n",
      "Total Count:  10000\n",
      "Total Match:  4716\n",
      "-------------------------------------------\n",
      "Test Accuracy of\t0: 64.06% (622/971)\n",
      "Test Accuracy of\t1: 20.63% (202/979)\n",
      "Test Accuracy of\t2: 30.29% (308/1017)\n",
      "Test Accuracy of\t3: 34.89% (365/1046)\n",
      "Test Accuracy of\t4: 30.31% (301/993)\n",
      "Test Accuracy of\t5: 59.79% (580/970)\n",
      "Test Accuracy of\t6: 57.89% (550/950)\n",
      "Test Accuracy of\t7: 67.22% (687/1022)\n",
      "Test Accuracy of\t8: 49.41% (502/1016)\n",
      "Test Accuracy of\t9: 57.82% (599/1036)\n",
      "-------------------------------------------\n",
      "Accuracy on test data: 46.55%\n",
      "Total Count:  10000\n",
      "Total Match:  4655\n",
      "-------------------------------------------\n",
      "Test Accuracy of\t0: 61.60% (616/1000)\n",
      "Test Accuracy of\t1: 20.30% (203/1000)\n",
      "Test Accuracy of\t2: 28.20% (282/1000)\n",
      "Test Accuracy of\t3: 31.00% (310/1000)\n",
      "Test Accuracy of\t4: 32.70% (327/1000)\n",
      "Test Accuracy of\t5: 62.20% (622/1000)\n",
      "Test Accuracy of\t6: 59.00% (590/1000)\n",
      "Test Accuracy of\t7: 64.40% (644/1000)\n",
      "Test Accuracy of\t8: 45.60% (456/1000)\n",
      "Test Accuracy of\t9: 60.50% (605/1000)\n"
     ]
    }
   ],
   "source": [
    "# Loading new best model found:\n",
    "l21 = Net.load_model(\"model/l21\")\n",
    "l21.test_network(train_set, \"train data\")\n",
    "l21.test_network(valid_set, \"valid data\")\n",
    "l21.test_network(test_set, \"test data\")"
   ]
  },
  {
   "cell_type": "markdown",
   "id": "c0362cd6",
   "metadata": {},
   "source": [
    "# ITERATION 6: Exploring possible combinations"
   ]
  },
  {
   "cell_type": "markdown",
   "id": "01e66653",
   "metadata": {},
   "source": [
    "## Model Variation 1: Dropout = 0.2 each layer,  Batch-Norm & Step-Decay (on current model)"
   ]
  },
  {
   "cell_type": "code",
   "execution_count": 112,
   "id": "43a86d17",
   "metadata": {},
   "outputs": [],
   "source": [
    "# Initializing model hyper-parameters\n",
    "do2 = Net(\n",
    "    optimizer = SGD(\n",
    "        learning_rate= 0.05,  # default LR set\n",
    "        weight_decay = 0.003,\n",
    "        momentum = 0.999,\n",
    "        lr_decay = \"step\",\n",
    "        step_terms = (25, 0.95)\n",
    "    ),\n",
    "    criterion = CrossEntropyLoss(),\n",
    "    batch_norm = True,\n",
    "    L2_reg_term = 0.004\n",
    ")\n",
    "\n",
    "# Adding Layers (and setting Layer hyper-parameters)\n",
    "do2.add(Linear(128, 1024, dropout = 0.2))  # Applying dropout = 0.2 all layers besides last\n",
    "do2.add(ReLU())\n",
    "do2.add(Linear(1024, 512, dropout = 0.2))                                  \n",
    "do2.add(ReLU())\n",
    "do2.add(Linear(512, 64, dropout = 0.2)) \n",
    "do2.add(ReLU())\n",
    "do2.add(Linear(64, 10))\n",
    "\n",
    "do2.set_name(\"do2\")  # creates name for model for loading saved model from training (with min val loss)"
   ]
  },
  {
   "cell_type": "markdown",
   "id": "f7272eda",
   "metadata": {},
   "source": [
    "## Model Variation 2: Dropout = 0.4 each layer, no LR decay, Batch-Norm"
   ]
  },
  {
   "cell_type": "code",
   "execution_count": 118,
   "id": "a7708206",
   "metadata": {},
   "outputs": [],
   "source": [
    "# Initializing model hyper-parameters\n",
    "do4 = Net(\n",
    "    optimizer = SGD(\n",
    "        learning_rate= 0.05,  # default LR set\n",
    "        weight_decay = 0.003,\n",
    "        momentum = 0.999,\n",
    "        lr_decay = \"default\"\n",
    "    ),\n",
    "    criterion = CrossEntropyLoss(),\n",
    "    batch_norm = True,\n",
    "    L2_reg_term = 0.04\n",
    ")\n",
    "\n",
    "# Adding Layers (and setting Layer hyper-parameters)\n",
    "do4.add(Linear(128, 1024, dropout = 0.4))  # Applying dropout = 0.4 all layers besides last \n",
    "do4.add(ReLU())\n",
    "do4.add(Linear(1024, 512, dropout = 0.4))                                  \n",
    "do4.add(ReLU())\n",
    "do4.add(Linear(512, 64, dropout = 0.4)) \n",
    "do4.add(ReLU())\n",
    "do4.add(Linear(64, 10))\n",
    "\n",
    "do4.set_name(\"do4\")  # creates name for model for loading saved model from training (with min val loss)"
   ]
  },
  {
   "cell_type": "markdown",
   "id": "9595161c",
   "metadata": {},
   "source": [
    "## Model Variation 3: Dropout = Mix, Step-decay, Batch-Norm"
   ]
  },
  {
   "cell_type": "code",
   "execution_count": 117,
   "id": "5fec013f",
   "metadata": {},
   "outputs": [],
   "source": [
    "# Initializing model hyper-parameters\n",
    "do_mix = Net(\n",
    "    optimizer = SGD(\n",
    "        learning_rate= 0.05,  # default LR set\n",
    "        weight_decay = 0.003,\n",
    "        momentum = 0.999,\n",
    "        lr_decay = \"default\"\n",
    "    ),\n",
    "    criterion = CrossEntropyLoss(),\n",
    "    batch_norm = False,\n",
    "    L2_reg_term = 0.004\n",
    ")\n",
    "\n",
    "# Adding Layers (and setting Layer hyper-parameters)\n",
    "do_mix.add(Linear(128, 1024, dropout = 0.4))  # Applying dropout = 0.4\n",
    "do_mix.add(ReLU())\n",
    "do_mix.add(Linear(1024, 512, dropout = 0.2))     # Applying dropout = 0.2                            \n",
    "do_mix.add(ReLU())\n",
    "do_mix.add(Linear(512, 64))     \n",
    "do_mix.add(ReLU())\n",
    "do_mix.add(Linear(64, 10))\n",
    "\n",
    "do_mix.set_name(\"do_mix\")  # creates name for model for loading saved model from training (with min val loss)"
   ]
  },
  {
   "cell_type": "markdown",
   "id": "3c7ee856",
   "metadata": {},
   "source": [
    "## Model Variation 1: Dropout = 0.2 each layer,  Batch-Norm & Step-Decay (on current model)"
   ]
  },
  {
   "cell_type": "code",
   "execution_count": 113,
   "id": "b1dfe036",
   "metadata": {},
   "outputs": [
    {
     "name": "stderr",
     "output_type": "stream",
     "text": [
      "  1%|█▍                                                                                                                                           | 1/100 [00:06<10:24,  6.31s/it]"
     ]
    },
    {
     "name": "stdout",
     "output_type": "stream",
     "text": [
      "Epoch: 0\tInterval Time: 6.3 sec(s)\tTraining Loss: 2.273453\t\tTraining Accuracy: 0.203925\n",
      "\t\t\t\t\t\tValidation Loss:1.893826\tValidation Accuracy: 0.338300\n"
     ]
    },
    {
     "name": "stderr",
     "output_type": "stream",
     "text": [
      " 11%|███████████████▍                                                                                                                            | 11/100 [01:16<09:49,  6.62s/it]"
     ]
    },
    {
     "name": "stdout",
     "output_type": "stream",
     "text": [
      "Epoch: 10\tInterval Time: 1 min 9.7 s\tTraining Loss: 1.548625\t\tTraining Accuracy: 0.474850\n",
      "\t\t\t\t\t\tValidation Loss:1.548810\tValidation Accuracy: 0.475000\n"
     ]
    },
    {
     "name": "stderr",
     "output_type": "stream",
     "text": [
      " 21%|█████████████████████████████▍                                                                                                              | 21/100 [02:19<08:30,  6.46s/it]"
     ]
    },
    {
     "name": "stdout",
     "output_type": "stream",
     "text": [
      "Epoch: 20\tInterval Time: 1 min 3.5 s\tTraining Loss: 1.387742\t\tTraining Accuracy: 0.547925\n",
      "\t\t\t\t\t\tValidation Loss:1.443872\tValidation Accuracy: 0.517800\n"
     ]
    },
    {
     "name": "stderr",
     "output_type": "stream",
     "text": [
      " 31%|███████████████████████████████████████████▍                                                                                                | 31/100 [03:30<07:32,  6.56s/it]"
     ]
    },
    {
     "name": "stdout",
     "output_type": "stream",
     "text": [
      "Epoch: 30\tInterval Time: 1 min 10.7 s\tTraining Loss: 1.256453\t\tTraining Accuracy: 0.611400\n",
      "\t\t\t\t\t\tValidation Loss:1.377557\tValidation Accuracy: 0.547100\n"
     ]
    },
    {
     "name": "stderr",
     "output_type": "stream",
     "text": [
      " 41%|█████████████████████████████████████████████████████████▍                                                                                  | 41/100 [04:31<05:59,  6.09s/it]"
     ]
    },
    {
     "name": "stdout",
     "output_type": "stream",
     "text": [
      "Epoch: 40\tInterval Time: 1 min 1.4 s\tTraining Loss: 1.152840\t\tTraining Accuracy: 0.660700\n",
      "\t\t\t\t\t\tValidation Loss:1.341370\tValidation Accuracy: 0.561000\n"
     ]
    },
    {
     "name": "stderr",
     "output_type": "stream",
     "text": [
      " 51%|███████████████████████████████████████████████████████████████████████▍                                                                    | 51/100 [05:32<04:56,  6.06s/it]"
     ]
    },
    {
     "name": "stdout",
     "output_type": "stream",
     "text": [
      "Epoch: 50\tInterval Time: 1 min 0.5 s\tTraining Loss: 1.069121\t\tTraining Accuracy: 0.700775\n",
      "\t\t\t\t\t\tValidation Loss:1.326773\tValidation Accuracy: 0.572100\n"
     ]
    },
    {
     "name": "stderr",
     "output_type": "stream",
     "text": [
      " 61%|█████████████████████████████████████████████████████████████████████████████████████▍                                                      | 61/100 [06:35<04:07,  6.35s/it]"
     ]
    },
    {
     "name": "stdout",
     "output_type": "stream",
     "text": [
      "Epoch: 60\tInterval Time: 1 min 2.9 s\tTraining Loss: 1.005420\t\tTraining Accuracy: 0.728200\n",
      "\t\t\t\t\t\tValidation Loss:1.326152\tValidation Accuracy: 0.574600\n"
     ]
    },
    {
     "name": "stderr",
     "output_type": "stream",
     "text": [
      " 70%|██████████████████████████████████████████████████████████████████████████████████████████████████                                          | 70/100 [07:37<03:15,  6.53s/it]"
     ]
    },
    {
     "name": "stdout",
     "output_type": "stream",
     "text": [
      "Epoch: 70\tInterval Time: 1 min 2.3 s\tTraining Loss: 0.950574\t\tTraining Accuracy: 0.757200\n",
      "\t\t\t\t\t\tValidation Loss:1.329035\tValidation Accuracy: 0.574600\n",
      "\n",
      "\n",
      "No decrease in validation loss during last 10 epoch(s).\n",
      "\n",
      "Convergence criteria achieved.\n",
      "Training completed @ Epoch 70.\n",
      "Total training time: 7 min 37.3 s\n",
      "\n",
      "                Best model found @ Epoch 59\n",
      "                --------------------------------------------\n",
      "                Training Loss: 1.012305\n",
      "                Validation Loss: 1.322325\n",
      "                --------------------------------------------\n",
      "                Training Accuracy: 0.727600\n",
      "                Validation Accuracy: 0.574400\n",
      "\n",
      "\n",
      "Best model 'do2' saved in 'model/' directory.\n"
     ]
    },
    {
     "name": "stderr",
     "output_type": "stream",
     "text": [
      "\n"
     ]
    },
    {
     "data": {
      "text/plain": [
       "{'tags': ['hide-output']}"
      ]
     },
     "execution_count": 113,
     "metadata": {},
     "output_type": "execute_result"
    }
   ],
   "source": [
    "# train model till convergence\n",
    "do2_stats = do2.train_convergence(\n",
    "    train_set = train_set,\n",
    "    valid_set = valid_set,\n",
    "    batch_size = 500,\n",
    "    planned_epochs = 100,\n",
    "    last_check = 10,\n",
    "    threshold = 1e-25,\n",
    "    report_interval = 10\n",
    ")\n",
    "\n",
    "{\"tags\": [\"hide-output\"]}"
   ]
  },
  {
   "cell_type": "markdown",
   "id": "61044642",
   "metadata": {},
   "source": [
    "### Plotting Epoch-wise Loss & Accuracy Curves"
   ]
  },
  {
   "cell_type": "code",
   "execution_count": 114,
   "id": "80badffb",
   "metadata": {},
   "outputs": [
    {
     "data": {
      "text/plain": [
       "<Figure size 720x504 with 0 Axes>"
      ]
     },
     "metadata": {},
     "output_type": "display_data"
    },
    {
     "data": {
      "image/png": "[encoded data removed]",
      "text/plain": [
       "<Figure size 432x288 with 4 Axes>"
      ]
     },
     "metadata": {
      "needs_background": "light"
     },
     "output_type": "display_data"
    }
   ],
   "source": [
    "plot_results(do2_stats)"
   ]
  },
  {
   "cell_type": "markdown",
   "id": "287e613b",
   "metadata": {},
   "source": [
    "### Checking Accuracy of Best Model"
   ]
  },
  {
   "cell_type": "code",
   "execution_count": 115,
   "id": "e6e189b2",
   "metadata": {},
   "outputs": [
    {
     "name": "stdout",
     "output_type": "stream",
     "text": [
      "-------------------------------------------\n",
      "Accuracy on train data: 87.91%\n",
      "Total Count:  40000\n",
      "Total Match:  35165\n",
      "-------------------------------------------\n",
      "Test Accuracy of\t0: 91.88% (3702/4029)\n",
      "Test Accuracy of\t1: 85.87% (3453/4021)\n",
      "Test Accuracy of\t2: 80.52% (3207/3983)\n",
      "Test Accuracy of\t3: 87.73% (3469/3954)\n",
      "Test Accuracy of\t4: 83.18% (3333/4007)\n",
      "Test Accuracy of\t5: 89.83% (3620/4030)\n",
      "Test Accuracy of\t6: 89.83% (3638/4050)\n",
      "Test Accuracy of\t7: 92.03% (3661/3978)\n",
      "Test Accuracy of\t8: 91.67% (3652/3984)\n",
      "Test Accuracy of\t9: 86.53% (3430/3964)\n",
      "-------------------------------------------\n",
      "Accuracy on valid data: 57.44%\n",
      "Total Count:  10000\n",
      "Total Match:  5744\n",
      "-------------------------------------------\n",
      "Test Accuracy of\t0: 66.32% (644/971)\n",
      "Test Accuracy of\t1: 44.64% (437/979)\n",
      "Test Accuracy of\t2: 38.64% (393/1017)\n",
      "Test Accuracy of\t3: 54.40% (569/1046)\n",
      "Test Accuracy of\t4: 45.22% (449/993)\n",
      "Test Accuracy of\t5: 64.33% (624/970)\n",
      "Test Accuracy of\t6: 59.26% (563/950)\n",
      "Test Accuracy of\t7: 72.02% (736/1022)\n",
      "Test Accuracy of\t8: 65.55% (666/1016)\n",
      "Test Accuracy of\t9: 64.00% (663/1036)\n",
      "-------------------------------------------\n",
      "Accuracy on test data: 56.96%\n",
      "Total Count:  10000\n",
      "Total Match:  5696\n",
      "-------------------------------------------\n",
      "Test Accuracy of\t0: 66.20% (662/1000)\n",
      "Test Accuracy of\t1: 45.80% (458/1000)\n",
      "Test Accuracy of\t2: 36.90% (369/1000)\n",
      "Test Accuracy of\t3: 51.60% (516/1000)\n",
      "Test Accuracy of\t4: 45.10% (451/1000)\n",
      "Test Accuracy of\t5: 64.40% (644/1000)\n",
      "Test Accuracy of\t6: 64.40% (644/1000)\n",
      "Test Accuracy of\t7: 68.80% (688/1000)\n",
      "Test Accuracy of\t8: 63.30% (633/1000)\n",
      "Test Accuracy of\t9: 63.10% (631/1000)\n"
     ]
    }
   ],
   "source": [
    "# Loading new best model found:\n",
    "do2 = Net.load_model(\"model/do2\")\n",
    "do2.test_network(train_set, \"train data\")\n",
    "do2.test_network(valid_set, \"valid data\")\n",
    "do2.test_network(test_set, \"test data\")"
   ]
  },
  {
   "cell_type": "markdown",
   "id": "8fefe034",
   "metadata": {},
   "source": [
    "## Model Variation 2: Dropout = 0.4 each layer, no LR decay, Batch-Norm"
   ]
  },
  {
   "cell_type": "code",
   "execution_count": 119,
   "id": "806af5dd",
   "metadata": {},
   "outputs": [
    {
     "name": "stderr",
     "output_type": "stream",
     "text": [
      "  1%|█▍                                                                                                                                           | 1/100 [00:06<11:02,  6.69s/it]"
     ]
    },
    {
     "name": "stdout",
     "output_type": "stream",
     "text": [
      "Epoch: 0\tInterval Time: 6.7 sec(s)\tTraining Loss: 2.450108\t\tTraining Accuracy: 0.149600\n",
      "\t\t\t\t\t\tValidation Loss:2.046731\tValidation Accuracy: 0.253600\n"
     ]
    },
    {
     "name": "stderr",
     "output_type": "stream",
     "text": [
      " 11%|███████████████▍                                                                                                                            | 11/100 [01:20<10:51,  7.32s/it]"
     ]
    },
    {
     "name": "stdout",
     "output_type": "stream",
     "text": [
      "Epoch: 10\tInterval Time: 1 min 14.1 s\tTraining Loss: 1.755153\t\tTraining Accuracy: 0.379250\n",
      "\t\t\t\t\t\tValidation Loss:1.681167\tValidation Accuracy: 0.425700\n"
     ]
    },
    {
     "name": "stderr",
     "output_type": "stream",
     "text": [
      " 21%|█████████████████████████████▍                                                                                                              | 21/100 [02:27<08:42,  6.62s/it]"
     ]
    },
    {
     "name": "stdout",
     "output_type": "stream",
     "text": [
      "Epoch: 20\tInterval Time: 1 min 6.8 s\tTraining Loss: 1.642006\t\tTraining Accuracy: 0.430225\n",
      "\t\t\t\t\t\tValidation Loss:1.578640\tValidation Accuracy: 0.461000\n"
     ]
    },
    {
     "name": "stderr",
     "output_type": "stream",
     "text": [
      " 31%|███████████████████████████████████████████▍                                                                                                | 31/100 [03:35<07:43,  6.72s/it]"
     ]
    },
    {
     "name": "stdout",
     "output_type": "stream",
     "text": [
      "Epoch: 30\tInterval Time: 1 min 8.0 s\tTraining Loss: 1.559057\t\tTraining Accuracy: 0.466525\n",
      "\t\t\t\t\t\tValidation Loss:1.500947\tValidation Accuracy: 0.487500\n"
     ]
    },
    {
     "name": "stderr",
     "output_type": "stream",
     "text": [
      " 41%|█████████████████████████████████████████████████████████▍                                                                                  | 41/100 [04:40<06:21,  6.47s/it]"
     ]
    },
    {
     "name": "stdout",
     "output_type": "stream",
     "text": [
      "Epoch: 40\tInterval Time: 1 min 4.8 s\tTraining Loss: 1.474890\t\tTraining Accuracy: 0.505875\n",
      "\t\t\t\t\t\tValidation Loss:1.430113\tValidation Accuracy: 0.513000\n"
     ]
    },
    {
     "name": "stderr",
     "output_type": "stream",
     "text": [
      " 51%|███████████████████████████████████████████████████████████████████████▍                                                                    | 51/100 [05:46<05:24,  6.62s/it]"
     ]
    },
    {
     "name": "stdout",
     "output_type": "stream",
     "text": [
      "Epoch: 50\tInterval Time: 1 min 6.5 s\tTraining Loss: 1.402539\t\tTraining Accuracy: 0.537275\n",
      "\t\t\t\t\t\tValidation Loss:1.375909\tValidation Accuracy: 0.540700\n"
     ]
    },
    {
     "name": "stderr",
     "output_type": "stream",
     "text": [
      " 57%|███████████████████████████████████████████████████████████████████████████████▊                                                            | 57/100 [06:33<04:56,  6.90s/it]"
     ]
    },
    {
     "name": "stdout",
     "output_type": "stream",
     "text": [
      "\n",
      "\n",
      "Minimum percent change (1e-25%) in training loss not exceeded.\n",
      "\n",
      "Convergence criteria achieved.\n",
      "Training completed @ Epoch 57.\n",
      "Total training time: 6 min 33.5 s\n",
      "\n",
      "                Best model found @ Epoch 57\n",
      "                --------------------------------------------\n",
      "                Training Loss: 1.357618\n",
      "                Validation Loss: 1.349753\n",
      "                --------------------------------------------\n",
      "                Training Accuracy: 0.557475\n",
      "                Validation Accuracy: 0.550500\n",
      "\n",
      "\n",
      "Best model 'do4' saved in 'model/' directory.\n"
     ]
    },
    {
     "name": "stderr",
     "output_type": "stream",
     "text": [
      "\n"
     ]
    },
    {
     "data": {
      "text/plain": [
       "{'tags': ['hide-output']}"
      ]
     },
     "execution_count": 119,
     "metadata": {},
     "output_type": "execute_result"
    }
   ],
   "source": [
    "# train model till convergence\n",
    "do4_stats = do4.train_convergence(\n",
    "    train_set = train_set,\n",
    "    valid_set = valid_set,\n",
    "    batch_size = 500,\n",
    "    planned_epochs = 100,\n",
    "    last_check = 10,\n",
    "    threshold = 1e-25,\n",
    "    report_interval = 10\n",
    ")\n",
    "\n",
    "{\"tags\": [\"hide-output\"]}"
   ]
  },
  {
   "cell_type": "markdown",
   "id": "f6c072a6",
   "metadata": {},
   "source": [
    "### Plotting Epoch-wise Loss & Accuracy Curves"
   ]
  },
  {
   "cell_type": "code",
   "execution_count": 120,
   "id": "d8535b05",
   "metadata": {},
   "outputs": [
    {
     "data": {
      "text/plain": [
       "<Figure size 720x504 with 0 Axes>"
      ]
     },
     "metadata": {},
     "output_type": "display_data"
    },
    {
     "data": {
      "image/png": "[encoded data removed]",
      "text/plain": [
       "<Figure size 432x288 with 4 Axes>"
      ]
     },
     "metadata": {
      "needs_background": "light"
     },
     "output_type": "display_data"
    }
   ],
   "source": [
    "plot_results(do4_stats)"
   ]
  },
  {
   "cell_type": "markdown",
   "id": "b3c07960",
   "metadata": {},
   "source": [
    "### Checking Accuracy of Best Model"
   ]
  },
  {
   "cell_type": "code",
   "execution_count": 121,
   "id": "e8c4bcce",
   "metadata": {},
   "outputs": [
    {
     "name": "stdout",
     "output_type": "stream",
     "text": [
      "-------------------------------------------\n",
      "Accuracy on train data: 67.44%\n",
      "Total Count:  40000\n",
      "Total Match:  26977\n",
      "-------------------------------------------\n",
      "Test Accuracy of\t0: 80.02% (3224/4029)\n",
      "Test Accuracy of\t1: 55.66% (2238/4021)\n",
      "Test Accuracy of\t2: 41.63% (1658/3983)\n",
      "Test Accuracy of\t3: 66.29% (2621/3954)\n",
      "Test Accuracy of\t4: 52.33% (2097/4007)\n",
      "Test Accuracy of\t5: 78.73% (3173/4030)\n",
      "Test Accuracy of\t6: 73.04% (2958/4050)\n",
      "Test Accuracy of\t7: 81.98% (3261/3978)\n",
      "Test Accuracy of\t8: 73.37% (2923/3984)\n",
      "Test Accuracy of\t9: 71.24% (2824/3964)\n",
      "-------------------------------------------\n",
      "Accuracy on valid data: 55.05%\n",
      "Total Count:  10000\n",
      "Total Match:  5505\n",
      "-------------------------------------------\n",
      "Test Accuracy of\t0: 67.56% (656/971)\n",
      "Test Accuracy of\t1: 39.63% (388/979)\n",
      "Test Accuracy of\t2: 29.40% (299/1017)\n",
      "Test Accuracy of\t3: 53.25% (557/1046)\n",
      "Test Accuracy of\t4: 41.39% (411/993)\n",
      "Test Accuracy of\t5: 66.39% (644/970)\n",
      "Test Accuracy of\t6: 57.79% (549/950)\n",
      "Test Accuracy of\t7: 73.87% (755/1022)\n",
      "Test Accuracy of\t8: 61.02% (620/1016)\n",
      "Test Accuracy of\t9: 60.42% (626/1036)\n",
      "-------------------------------------------\n",
      "Accuracy on test data: 55.95%\n",
      "Total Count:  10000\n",
      "Total Match:  5595\n",
      "-------------------------------------------\n",
      "Test Accuracy of\t0: 69.40% (694/1000)\n",
      "Test Accuracy of\t1: 40.20% (402/1000)\n",
      "Test Accuracy of\t2: 28.70% (287/1000)\n",
      "Test Accuracy of\t3: 54.30% (543/1000)\n",
      "Test Accuracy of\t4: 43.90% (439/1000)\n",
      "Test Accuracy of\t5: 68.60% (686/1000)\n",
      "Test Accuracy of\t6: 61.40% (614/1000)\n",
      "Test Accuracy of\t7: 71.60% (716/1000)\n",
      "Test Accuracy of\t8: 59.70% (597/1000)\n",
      "Test Accuracy of\t9: 61.70% (617/1000)\n"
     ]
    }
   ],
   "source": [
    "# Loading new best model found:\n",
    "do4 = Net.load_model(\"model/do4\")\n",
    "do4.test_network(train_set, \"train data\")\n",
    "do4.test_network(valid_set, \"valid data\")\n",
    "do4.test_network(test_set, \"test data\")"
   ]
  },
  {
   "cell_type": "markdown",
   "id": "314b9173",
   "metadata": {},
   "source": [
    "## Model Variation 3: Dropout = mix, Step-decay, Batch-Norm"
   ]
  },
  {
   "cell_type": "code",
   "execution_count": 122,
   "id": "6da95dee",
   "metadata": {},
   "outputs": [
    {
     "name": "stderr",
     "output_type": "stream",
     "text": [
      "  1%|█▍                                                                                                                                           | 1/100 [00:04<07:31,  4.56s/it]"
     ]
    },
    {
     "name": "stdout",
     "output_type": "stream",
     "text": [
      "Epoch: 0\tInterval Time: 4.5 sec(s)\tTraining Loss: 2.303536\t\tTraining Accuracy: 0.122025\n",
      "\t\t\t\t\t\tValidation Loss:2.242027\tValidation Accuracy: 0.164300\n"
     ]
    },
    {
     "name": "stderr",
     "output_type": "stream",
     "text": [
      " 11%|███████████████▍                                                                                                                            | 11/100 [00:52<07:28,  5.04s/it]"
     ]
    },
    {
     "name": "stdout",
     "output_type": "stream",
     "text": [
      "Epoch: 10\tInterval Time: 48.2 sec(s)\tTraining Loss: 1.735805\t\tTraining Accuracy: 0.384750\n",
      "\t\t\t\t\t\tValidation Loss:1.721320\tValidation Accuracy: 0.389800\n"
     ]
    },
    {
     "name": "stderr",
     "output_type": "stream",
     "text": [
      " 21%|█████████████████████████████▍                                                                                                              | 21/100 [01:41<06:02,  4.58s/it]"
     ]
    },
    {
     "name": "stdout",
     "output_type": "stream",
     "text": [
      "Epoch: 20\tInterval Time: 48.7 sec(s)\tTraining Loss: 1.682089\t\tTraining Accuracy: 0.419575\n",
      "\t\t\t\t\t\tValidation Loss:1.721060\tValidation Accuracy: 0.403600\n"
     ]
    },
    {
     "name": "stderr",
     "output_type": "stream",
     "text": [
      "\r",
      " 21%|█████████████████████████████▍                                                                                                              | 21/100 [01:45<06:38,  5.04s/it]"
     ]
    },
    {
     "name": "stdout",
     "output_type": "stream",
     "text": [
      "\n",
      "\n",
      "Minimum percent change (1e-25%) in training loss not exceeded.\n",
      "\n",
      "Convergence criteria achieved.\n",
      "Training completed @ Epoch 21.\n",
      "Total training time: 1 min 45.9 s\n",
      "\n",
      "                Best model found @ Epoch 14\n",
      "                --------------------------------------------\n",
      "                Training Loss: 1.704729\n",
      "                Validation Loss: 1.712793\n",
      "                --------------------------------------------\n",
      "                Training Accuracy: 0.400825\n",
      "                Validation Accuracy: 0.397400\n",
      "\n",
      "\n",
      "Best model 'do_mix' saved in 'model/' directory.\n"
     ]
    },
    {
     "name": "stderr",
     "output_type": "stream",
     "text": [
      "\n"
     ]
    },
    {
     "data": {
      "text/plain": [
       "{'tags': ['hide-output']}"
      ]
     },
     "execution_count": 122,
     "metadata": {},
     "output_type": "execute_result"
    }
   ],
   "source": [
    "# train model till convergence\n",
    "do_mix_stats = do_mix.train_convergence(\n",
    "    train_set = train_set,\n",
    "    valid_set = valid_set,\n",
    "    batch_size = 500,\n",
    "    planned_epochs = 100,\n",
    "    last_check = 10,\n",
    "    threshold = 1e-25,\n",
    "    report_interval = 10\n",
    ")\n",
    "\n",
    "{\"tags\": [\"hide-output\"]}"
   ]
  },
  {
   "cell_type": "markdown",
   "id": "3c446d64",
   "metadata": {},
   "source": [
    "# ITERATION 6: DECISION\n",
    "## Explore Model Variation 1"
   ]
  },
  {
   "cell_type": "code",
   "execution_count": 124,
   "id": "9825ccc1",
   "metadata": {},
   "outputs": [],
   "source": [
    "# Initializing model hyper-parameters\n",
    "x = Net(\n",
    "    optimizer = SGD(\n",
    "        learning_rate= 0.05,  # tweaking parameters\n",
    "        weight_decay = 0.001,\n",
    "        momentum = 0.999,\n",
    "        lr_decay = \"step\",\n",
    "        step_terms = (25, 0.85)  \n",
    "    ),\n",
    "    criterion = CrossEntropyLoss(),\n",
    "    batch_norm = True,\n",
    "    L2_reg_term = 0.002\n",
    ")\n",
    "\n",
    "# Adding Layers (and setting Layer hyper-parameters)\n",
    "x.add(Linear(128, 1024, dropout = 0.2))  # Applying dropout = 0.2 all layers besides last\n",
    "x.add(ReLU())\n",
    "x.add(Linear(1024, 512, dropout = 0.2))                                  \n",
    "x.add(ReLU())\n",
    "x.add(Linear(512, 64, dropout = 0.2)) \n",
    "x.add(ReLU())\n",
    "x.add(Linear(64, 10))\n",
    "\n",
    "x.set_name(\"x\")  # creates name for model for loading saved model from training (with min val loss)"
   ]
  },
  {
   "cell_type": "markdown",
   "id": "0debb315",
   "metadata": {},
   "source": [
    "## Train"
   ]
  },
  {
   "cell_type": "code",
   "execution_count": 125,
   "id": "120ec6ca",
   "metadata": {},
   "outputs": [
    {
     "name": "stderr",
     "output_type": "stream",
     "text": [
      "  1%|█▍                                                                                                                                           | 1/100 [00:06<10:12,  6.19s/it]"
     ]
    },
    {
     "name": "stdout",
     "output_type": "stream",
     "text": [
      "Epoch: 0\tInterval Time: 6.2 sec(s)\tTraining Loss: 2.240572\t\tTraining Accuracy: 0.211350\n",
      "\t\t\t\t\t\tValidation Loss:1.879036\tValidation Accuracy: 0.335200\n"
     ]
    },
    {
     "name": "stderr",
     "output_type": "stream",
     "text": [
      " 11%|███████████████▍                                                                                                                            | 11/100 [01:10<09:27,  6.38s/it]"
     ]
    },
    {
     "name": "stdout",
     "output_type": "stream",
     "text": [
      "Epoch: 10\tInterval Time: 1 min 4.3 s\tTraining Loss: 1.572025\t\tTraining Accuracy: 0.468150\n",
      "\t\t\t\t\t\tValidation Loss:1.565194\tValidation Accuracy: 0.467000\n"
     ]
    },
    {
     "name": "stderr",
     "output_type": "stream",
     "text": [
      " 21%|█████████████████████████████▍                                                                                                              | 21/100 [02:15<08:50,  6.71s/it]"
     ]
    },
    {
     "name": "stdout",
     "output_type": "stream",
     "text": [
      "Epoch: 20\tInterval Time: 1 min 5.4 s\tTraining Loss: 1.429988\t\tTraining Accuracy: 0.529875\n",
      "\t\t\t\t\t\tValidation Loss:1.470800\tValidation Accuracy: 0.506800\n"
     ]
    },
    {
     "name": "stderr",
     "output_type": "stream",
     "text": [
      " 31%|███████████████████████████████████████████▍                                                                                                | 31/100 [03:20<07:50,  6.82s/it]"
     ]
    },
    {
     "name": "stdout",
     "output_type": "stream",
     "text": [
      "Epoch: 30\tInterval Time: 1 min 4.8 s\tTraining Loss: 1.331613\t\tTraining Accuracy: 0.576825\n",
      "\t\t\t\t\t\tValidation Loss:1.411433\tValidation Accuracy: 0.534500\n"
     ]
    },
    {
     "name": "stderr",
     "output_type": "stream",
     "text": [
      " 41%|█████████████████████████████████████████████████████████▍                                                                                  | 41/100 [04:27<06:24,  6.51s/it]"
     ]
    },
    {
     "name": "stdout",
     "output_type": "stream",
     "text": [
      "Epoch: 40\tInterval Time: 1 min 6.3 s\tTraining Loss: 1.252074\t\tTraining Accuracy: 0.615650\n",
      "\t\t\t\t\t\tValidation Loss:1.375372\tValidation Accuracy: 0.550800\n"
     ]
    },
    {
     "name": "stderr",
     "output_type": "stream",
     "text": [
      " 51%|███████████████████████████████████████████████████████████████████████▍                                                                    | 51/100 [05:28<04:56,  6.05s/it]"
     ]
    },
    {
     "name": "stdout",
     "output_type": "stream",
     "text": [
      "Epoch: 50\tInterval Time: 1 min 1.0 s\tTraining Loss: 1.188652\t\tTraining Accuracy: 0.642825\n",
      "\t\t\t\t\t\tValidation Loss:1.351850\tValidation Accuracy: 0.566800\n"
     ]
    },
    {
     "name": "stderr",
     "output_type": "stream",
     "text": [
      " 54%|███████████████████████████████████████████████████████████████████████████▌                                                                | 54/100 [05:52<05:00,  6.53s/it]"
     ]
    },
    {
     "name": "stdout",
     "output_type": "stream",
     "text": [
      "\n",
      "\n",
      "Minimum percent change (1e-25%) in training loss not exceeded.\n",
      "\n",
      "Convergence criteria achieved.\n",
      "Training completed @ Epoch 54.\n",
      "Total training time: 5 min 52.5 s\n",
      "\n",
      "                Best model found @ Epoch 54\n",
      "                --------------------------------------------\n",
      "                Training Loss: 1.167696\n",
      "                Validation Loss: 1.346493\n",
      "                --------------------------------------------\n",
      "                Training Accuracy: 0.656075\n",
      "                Validation Accuracy: 0.569600\n",
      "\n",
      "\n",
      "Best model 'x' saved in 'model/' directory.\n"
     ]
    },
    {
     "name": "stderr",
     "output_type": "stream",
     "text": [
      "\n"
     ]
    },
    {
     "data": {
      "text/plain": [
       "{'tags': ['hide-output']}"
      ]
     },
     "execution_count": 125,
     "metadata": {},
     "output_type": "execute_result"
    }
   ],
   "source": [
    "# train model till convergence\n",
    "xs = x.train_convergence(\n",
    "    train_set = train_set,\n",
    "    valid_set = valid_set,\n",
    "    batch_size = 500,\n",
    "    planned_epochs = 100,\n",
    "    last_check = 10,\n",
    "    threshold = 1e-25,\n",
    "    report_interval = 10\n",
    ")\n",
    "\n",
    "{\"tags\": [\"hide-output\"]}"
   ]
  },
  {
   "cell_type": "markdown",
   "id": "a7ef7579",
   "metadata": {},
   "source": [
    "## Results"
   ]
  },
  {
   "cell_type": "code",
   "execution_count": 126,
   "id": "3a026343",
   "metadata": {},
   "outputs": [
    {
     "data": {
      "text/plain": [
       "<Figure size 720x504 with 0 Axes>"
      ]
     },
     "metadata": {},
     "output_type": "display_data"
    },
    {
     "data": {
      "image/png": "[encoded data removed]",
      "text/plain": [
       "<Figure size 432x288 with 4 Axes>"
      ]
     },
     "metadata": {
      "needs_background": "light"
     },
     "output_type": "display_data"
    },
    {
     "name": "stdout",
     "output_type": "stream",
     "text": [
      "-------------------------------------------\n",
      "Accuracy on train data: 78.22%\n",
      "Total Count:  40000\n",
      "Total Match:  31289\n",
      "-------------------------------------------\n",
      "Test Accuracy of\t0: 84.16% (3391/4029)\n",
      "Test Accuracy of\t1: 69.46% (2793/4021)\n",
      "Test Accuracy of\t2: 69.32% (2761/3983)\n",
      "Test Accuracy of\t3: 75.37% (2980/3954)\n",
      "Test Accuracy of\t4: 67.16% (2691/4007)\n",
      "Test Accuracy of\t5: 84.62% (3410/4030)\n",
      "Test Accuracy of\t6: 81.38% (3296/4050)\n",
      "Test Accuracy of\t7: 88.31% (3513/3978)\n",
      "Test Accuracy of\t8: 85.12% (3391/3984)\n",
      "Test Accuracy of\t9: 77.27% (3063/3964)\n",
      "-------------------------------------------\n",
      "Accuracy on valid data: 56.96%\n",
      "Total Count:  10000\n",
      "Total Match:  5696\n",
      "-------------------------------------------\n",
      "Test Accuracy of\t0: 63.95% (621/971)\n",
      "Test Accuracy of\t1: 42.29% (414/979)\n",
      "Test Accuracy of\t2: 40.31% (410/1017)\n",
      "Test Accuracy of\t3: 53.54% (560/1046)\n",
      "Test Accuracy of\t4: 44.41% (441/993)\n",
      "Test Accuracy of\t5: 64.23% (623/970)\n",
      "Test Accuracy of\t6: 60.63% (576/950)\n",
      "Test Accuracy of\t7: 73.19% (748/1022)\n",
      "Test Accuracy of\t8: 67.13% (682/1016)\n",
      "Test Accuracy of\t9: 59.94% (621/1036)\n",
      "-------------------------------------------\n",
      "Accuracy on test data: 56.13%\n",
      "Total Count:  10000\n",
      "Total Match:  5613\n",
      "-------------------------------------------\n",
      "Test Accuracy of\t0: 62.80% (628/1000)\n",
      "Test Accuracy of\t1: 42.50% (425/1000)\n",
      "Test Accuracy of\t2: 38.30% (383/1000)\n",
      "Test Accuracy of\t3: 48.80% (488/1000)\n",
      "Test Accuracy of\t4: 44.20% (442/1000)\n",
      "Test Accuracy of\t5: 65.90% (659/1000)\n",
      "Test Accuracy of\t6: 63.50% (635/1000)\n",
      "Test Accuracy of\t7: 72.40% (724/1000)\n",
      "Test Accuracy of\t8: 63.50% (635/1000)\n",
      "Test Accuracy of\t9: 59.40% (594/1000)\n"
     ]
    }
   ],
   "source": [
    "plot_results(xs)\n",
    "\n",
    "# Loading new best model found:\n",
    "x = Net.load_model(\"model/x\")\n",
    "x.test_network(train_set, \"train data\")\n",
    "x.test_network(valid_set, \"valid data\")\n",
    "x.test_network(test_set, \"test data\")"
   ]
  },
  {
   "cell_type": "markdown",
   "id": "0b9d9039",
   "metadata": {},
   "source": [
    "## Model Variation "
   ]
  },
  {
   "cell_type": "code",
   "execution_count": 128,
   "id": "d705cce0",
   "metadata": {},
   "outputs": [],
   "source": [
    "# Initializing model hyper-parameters\n",
    "x1 = Net(\n",
    "    optimizer = SGD(\n",
    "        learning_rate= 0.04,  # tweaking parameters\n",
    "        weight_decay = 0.004,\n",
    "        momentum = 0.999,\n",
    "        lr_decay = \"step\",\n",
    "        step_terms = (25, 0.95)  \n",
    "    ),\n",
    "    criterion = CrossEntropyLoss(),\n",
    "    batch_norm = True,\n",
    "    L2_reg_term = 0.001\n",
    ")\n",
    "\n",
    "# Adding Layers (and setting Layer hyper-parameters)\n",
    "x1.add(Linear(128, 1024, dropout = 0.2))  # Applying dropout = 0.2 all layers besides last\n",
    "x1.add(ReLU())\n",
    "x1.add(Linear(1024, 512, dropout = 0.2))                                  \n",
    "x1.add(ReLU())\n",
    "x1.add(Linear(512, 64)) \n",
    "x1.add(ReLU())\n",
    "x1.add(Linear(64, 10))\n",
    "\n",
    "x1.set_name(\"x1\")  # creates name for model for loading saved model from training (with min val loss)"
   ]
  },
  {
   "cell_type": "code",
   "execution_count": 129,
   "id": "66539a36",
   "metadata": {},
   "outputs": [
    {
     "name": "stderr",
     "output_type": "stream",
     "text": [
      "  1%|█▍                                                                                                                                           | 1/100 [00:06<10:41,  6.48s/it]"
     ]
    },
    {
     "name": "stdout",
     "output_type": "stream",
     "text": [
      "Epoch: 0\tInterval Time: 6.5 sec(s)\tTraining Loss: 2.227393\t\tTraining Accuracy: 0.218600\n",
      "\t\t\t\t\t\tValidation Loss:1.890901\tValidation Accuracy: 0.322600\n"
     ]
    },
    {
     "name": "stderr",
     "output_type": "stream",
     "text": [
      " 11%|███████████████▍                                                                                                                            | 11/100 [01:13<09:48,  6.61s/it]"
     ]
    },
    {
     "name": "stdout",
     "output_type": "stream",
     "text": [
      "Epoch: 10\tInterval Time: 1 min 6.7 s\tTraining Loss: 1.510318\t\tTraining Accuracy: 0.496125\n",
      "\t\t\t\t\t\tValidation Loss:1.548813\tValidation Accuracy: 0.473200\n"
     ]
    },
    {
     "name": "stderr",
     "output_type": "stream",
     "text": [
      " 21%|█████████████████████████████▍                                                                                                              | 21/100 [02:15<08:10,  6.21s/it]"
     ]
    },
    {
     "name": "stdout",
     "output_type": "stream",
     "text": [
      "Epoch: 20\tInterval Time: 1 min 2.8 s\tTraining Loss: 1.336978\t\tTraining Accuracy: 0.574700\n",
      "\t\t\t\t\t\tValidation Loss:1.439900\tValidation Accuracy: 0.519100\n"
     ]
    },
    {
     "name": "stderr",
     "output_type": "stream",
     "text": [
      " 31%|███████████████████████████████████████████▍                                                                                                | 31/100 [03:26<07:42,  6.71s/it]"
     ]
    },
    {
     "name": "stdout",
     "output_type": "stream",
     "text": [
      "Epoch: 30\tInterval Time: 1 min 10.1 s\tTraining Loss: 1.206842\t\tTraining Accuracy: 0.637950\n",
      "\t\t\t\t\t\tValidation Loss:1.379008\tValidation Accuracy: 0.546800\n"
     ]
    },
    {
     "name": "stderr",
     "output_type": "stream",
     "text": [
      " 41%|█████████████████████████████████████████████████████████▍                                                                                  | 41/100 [04:30<06:01,  6.13s/it]"
     ]
    },
    {
     "name": "stdout",
     "output_type": "stream",
     "text": [
      "Epoch: 40\tInterval Time: 1 min 4.1 s\tTraining Loss: 1.089760\t\tTraining Accuracy: 0.693650\n",
      "\t\t\t\t\t\tValidation Loss:1.349921\tValidation Accuracy: 0.565500\n"
     ]
    },
    {
     "name": "stderr",
     "output_type": "stream",
     "text": [
      " 51%|███████████████████████████████████████████████████████████████████████▍                                                                    | 51/100 [05:30<04:55,  6.02s/it]"
     ]
    },
    {
     "name": "stdout",
     "output_type": "stream",
     "text": [
      "Epoch: 50\tInterval Time: 1 min 0.7 s\tTraining Loss: 1.004860\t\tTraining Accuracy: 0.735700\n",
      "\t\t\t\t\t\tValidation Loss:1.338375\tValidation Accuracy: 0.568600\n"
     ]
    },
    {
     "name": "stderr",
     "output_type": "stream",
     "text": [
      " 61%|█████████████████████████████████████████████████████████████████████████████████████▍                                                      | 61/100 [06:31<03:55,  6.03s/it]"
     ]
    },
    {
     "name": "stdout",
     "output_type": "stream",
     "text": [
      "Epoch: 60\tInterval Time: 1 min 0.9 s\tTraining Loss: 0.938063\t\tTraining Accuracy: 0.766350\n",
      "\t\t\t\t\t\tValidation Loss:1.332251\tValidation Accuracy: 0.569400\n"
     ]
    },
    {
     "name": "stderr",
     "output_type": "stream",
     "text": [
      " 71%|███████████████████████████████████████████████████████████████████████████████████████████████████▍                                        | 71/100 [07:37<03:18,  6.83s/it]"
     ]
    },
    {
     "name": "stdout",
     "output_type": "stream",
     "text": [
      "Epoch: 70\tInterval Time: 1 min 6.0 s\tTraining Loss: 0.887641\t\tTraining Accuracy: 0.790225\n",
      "\t\t\t\t\t\tValidation Loss:1.335197\tValidation Accuracy: 0.568100\n"
     ]
    },
    {
     "name": "stderr",
     "output_type": "stream",
     "text": [
      " 75%|█████████████████████████████████████████████████████████████████████████████████████████████████████████                                   | 75/100 [08:14<02:44,  6.59s/it]"
     ]
    },
    {
     "name": "stdout",
     "output_type": "stream",
     "text": [
      "\n",
      "\n",
      "No decrease in validation loss during last 10 epoch(s).\n",
      "\n",
      "Convergence criteria achieved.\n",
      "Training completed @ Epoch 75.\n",
      "Total training time: 8 min 14.5 s\n",
      "\n",
      "                Best model found @ Epoch 64\n",
      "                --------------------------------------------\n",
      "                Training Loss: 0.916297\n",
      "                Validation Loss: 1.328113\n",
      "                --------------------------------------------\n",
      "                Training Accuracy: 0.776325\n",
      "                Validation Accuracy: 0.574600\n",
      "\n",
      "\n",
      "Best model 'x1' saved in 'model/' directory.\n"
     ]
    },
    {
     "name": "stderr",
     "output_type": "stream",
     "text": [
      "\n"
     ]
    },
    {
     "data": {
      "text/plain": [
       "{'tags': ['hide-output']}"
      ]
     },
     "execution_count": 129,
     "metadata": {},
     "output_type": "execute_result"
    }
   ],
   "source": [
    "# train model till convergence\n",
    "x1s = x1.train_convergence(\n",
    "    train_set = train_set,\n",
    "    valid_set = valid_set,\n",
    "    batch_size = 500,\n",
    "    planned_epochs = 100,\n",
    "    last_check = 10,\n",
    "    threshold = 1e-25,\n",
    "    report_interval = 10\n",
    ")\n",
    "\n",
    "{\"tags\": [\"hide-output\"]}"
   ]
  },
  {
   "cell_type": "code",
   "execution_count": 130,
   "id": "9f1da576",
   "metadata": {},
   "outputs": [
    {
     "data": {
      "text/plain": [
       "<Figure size 720x504 with 0 Axes>"
      ]
     },
     "metadata": {},
     "output_type": "display_data"
    },
    {
     "data": {
      "image/png": "[encoded data removed]",
      "text/plain": [
       "<Figure size 432x288 with 4 Axes>"
      ]
     },
     "metadata": {
      "needs_background": "light"
     },
     "output_type": "display_data"
    },
    {
     "name": "stdout",
     "output_type": "stream",
     "text": [
      "-------------------------------------------\n",
      "Accuracy on train data: 91.05%\n",
      "Total Count:  40000\n",
      "Total Match:  36418\n",
      "-------------------------------------------\n",
      "Test Accuracy of\t0: 94.29% (3799/4029)\n",
      "Test Accuracy of\t1: 86.07% (3461/4021)\n",
      "Test Accuracy of\t2: 86.74% (3455/3983)\n",
      "Test Accuracy of\t3: 92.19% (3645/3954)\n",
      "Test Accuracy of\t4: 88.84% (3560/4007)\n",
      "Test Accuracy of\t5: 94.17% (3795/4030)\n",
      "Test Accuracy of\t6: 90.40% (3661/4050)\n",
      "Test Accuracy of\t7: 92.84% (3693/3978)\n",
      "Test Accuracy of\t8: 92.44% (3683/3984)\n",
      "Test Accuracy of\t9: 92.48% (3666/3964)\n",
      "-------------------------------------------\n",
      "Accuracy on valid data: 57.46%\n",
      "Total Count:  10000\n",
      "Total Match:  5746\n",
      "-------------------------------------------\n",
      "Test Accuracy of\t0: 70.24% (682/971)\n",
      "Test Accuracy of\t1: 40.65% (398/979)\n",
      "Test Accuracy of\t2: 34.22% (348/1017)\n",
      "Test Accuracy of\t3: 55.83% (584/1046)\n",
      "Test Accuracy of\t4: 43.30% (430/993)\n",
      "Test Accuracy of\t5: 67.42% (654/970)\n",
      "Test Accuracy of\t6: 59.58% (566/950)\n",
      "Test Accuracy of\t7: 73.58% (752/1022)\n",
      "Test Accuracy of\t8: 62.60% (636/1016)\n",
      "Test Accuracy of\t9: 67.18% (696/1036)\n",
      "-------------------------------------------\n",
      "Accuracy on test data: 57.23%\n",
      "Total Count:  10000\n",
      "Total Match:  5723\n",
      "-------------------------------------------\n",
      "Test Accuracy of\t0: 68.90% (689/1000)\n",
      "Test Accuracy of\t1: 40.80% (408/1000)\n",
      "Test Accuracy of\t2: 32.50% (325/1000)\n",
      "Test Accuracy of\t3: 52.50% (525/1000)\n",
      "Test Accuracy of\t4: 47.10% (471/1000)\n",
      "Test Accuracy of\t5: 70.90% (709/1000)\n",
      "Test Accuracy of\t6: 63.30% (633/1000)\n",
      "Test Accuracy of\t7: 69.60% (696/1000)\n",
      "Test Accuracy of\t8: 59.80% (598/1000)\n",
      "Test Accuracy of\t9: 66.90% (669/1000)\n"
     ]
    }
   ],
   "source": [
    "plot_results(xs)\n",
    "\n",
    "# Loading new best model found:\n",
    "x1 = Net.load_model(\"model/x1\")\n",
    "x1.test_network(train_set, \"train data\")\n",
    "x1.test_network(valid_set, \"valid data\")\n",
    "x1.test_network(test_set, \"test data\")"
   ]
  },
  {
   "cell_type": "markdown",
   "id": "b5c090bd",
   "metadata": {},
   "source": [
    "# Using Adam Optimizer (default params) on Same Network Architecture"
   ]
  },
  {
   "cell_type": "code",
   "execution_count": 149,
   "id": "659be370",
   "metadata": {},
   "outputs": [],
   "source": [
    "# Initializing model hyper-parameters\n",
    "adam = Net(\n",
    "    optimizer = Adam(),\n",
    "    criterion = CrossEntropyLoss(),\n",
    "    batch_norm = True,\n",
    "    L2_reg_term = 0.001\n",
    ")\n",
    "\n",
    "# Adding Layers (and setting Layer hyper-parameters)\n",
    "adam.add(Linear(128, 1024, dropout = 0.2))  # Applying dropout = 0.2 all layers besides last\n",
    "adam.add(ReLU())\n",
    "adam.add(Linear(1024, 512, dropout = 0.2))                                  \n",
    "adam.add(ReLU())\n",
    "adam.add(Linear(512, 64)) \n",
    "adam.add(ReLU())\n",
    "adam.add(Linear(64, 10))\n",
    "\n",
    "adam.set_name(\"adam\")  # creates name for model for loading saved model from training (with min val loss)\n"
   ]
  },
  {
   "cell_type": "markdown",
   "id": "8e67d69b",
   "metadata": {},
   "source": [
    "## TRAINING"
   ]
  },
  {
   "cell_type": "code",
   "execution_count": 150,
   "id": "21d34fe3",
   "metadata": {},
   "outputs": [
    {
     "name": "stderr",
     "output_type": "stream",
     "text": [
      "  1%|█▍                                                                                                                                           | 1/100 [00:07<11:42,  7.10s/it]"
     ]
    },
    {
     "name": "stdout",
     "output_type": "stream",
     "text": [
      "Epoch: 0\tInterval Time: 7.1 sec(s)\tTraining Loss: 1.853681\t\tTraining Accuracy: 0.352650\n",
      "\t\t\t\t\t\tValidation Loss:1.608106\tValidation Accuracy: 0.445600\n"
     ]
    },
    {
     "name": "stderr",
     "output_type": "stream",
     "text": [
      " 11%|███████████████▍                                                                                                                            | 11/100 [01:28<12:37,  8.51s/it]"
     ]
    },
    {
     "name": "stdout",
     "output_type": "stream",
     "text": [
      "Epoch: 10\tInterval Time: 1 min 21.8 s\tTraining Loss: 1.010350\t\tTraining Accuracy: 0.726450\n",
      "\t\t\t\t\t\tValidation Loss:1.343765\tValidation Accuracy: 0.566000\n"
     ]
    },
    {
     "name": "stderr",
     "output_type": "stream",
     "text": [
      " 21%|█████████████████████████████▍                                                                                                              | 21/100 [02:39<09:11,  6.98s/it]"
     ]
    },
    {
     "name": "stdout",
     "output_type": "stream",
     "text": [
      "Epoch: 20\tInterval Time: 1 min 11.1 s\tTraining Loss: 0.854030\t\tTraining Accuracy: 0.803050\n",
      "\t\t\t\t\t\tValidation Loss:1.331845\tValidation Accuracy: 0.574500\n"
     ]
    },
    {
     "name": "stderr",
     "output_type": "stream",
     "text": [
      " 25%|███████████████████████████████████                                                                                                         | 25/100 [03:15<09:46,  7.81s/it]"
     ]
    },
    {
     "name": "stdout",
     "output_type": "stream",
     "text": [
      "\n",
      "\n",
      "No decrease in validation loss during last 10 epoch(s).\n",
      "\n",
      "Convergence criteria achieved.\n",
      "Training completed @ Epoch 25.\n",
      "Total training time: 3 min 15.4 s\n",
      "\n",
      "                Best model found @ Epoch 14\n",
      "                --------------------------------------------\n",
      "                Training Loss: 0.929028\n",
      "                Validation Loss: 1.329733\n",
      "                --------------------------------------------\n",
      "                Training Accuracy: 0.765575\n",
      "                Validation Accuracy: 0.571800\n",
      "\n",
      "\n",
      "Best model 'adam' saved in 'model/' directory.\n"
     ]
    },
    {
     "name": "stderr",
     "output_type": "stream",
     "text": [
      "\n"
     ]
    },
    {
     "data": {
      "text/plain": [
       "{'tags': ['hide-output']}"
      ]
     },
     "execution_count": 150,
     "metadata": {},
     "output_type": "execute_result"
    }
   ],
   "source": [
    "# train model till convergence\n",
    "adam = adam.train_convergence(\n",
    "    train_set = train_set,\n",
    "    valid_set = valid_set,\n",
    "    batch_size = 500,\n",
    "    planned_epochs = 100,\n",
    "    last_check = 10,\n",
    "    threshold = 1e-25,\n",
    "    report_interval = 10\n",
    ")\n",
    "\n",
    "{\"tags\": [\"hide-output\"]}"
   ]
  },
  {
   "cell_type": "code",
   "execution_count": 153,
   "id": "831f7c58",
   "metadata": {},
   "outputs": [
    {
     "name": "stdout",
     "output_type": "stream",
     "text": [
      "Adam_network is initialized and ready to be trained.\n"
     ]
    }
   ],
   "source": [
    "mlp = Net(\n",
    "    optimizer = Adam(),\n",
    "    criterion = CrossEntropyLoss(),\n",
    "    batch_norm = True,\n",
    "    L2_reg_term = 0.001\n",
    ")\n",
    "\n",
    "mlp.add(Linear(128, 1024, dropout=0.4))\n",
    "mlp.add(ReLU())\n",
    "mlp.add(Linear(1024, 512, dropout=0.2))\n",
    "mlp.add(ReLU())\n",
    "mlp.add(Linear(512, 64, dropout=0.2))\n",
    "mlp.add(ReLU())\n",
    "mlp.add(Linear(64, 16, dropout=0.2))\n",
    "mlp.add(ReLU())\n",
    "mlp.add(Linear(16, 10))  \n",
    "\n",
    "\n",
    "mlp.set_name(\"Adam_network\")\n",
    "print(f\"{mlp.model_name} is initialized and ready to be trained.\")"
   ]
  },
  {
   "cell_type": "markdown",
   "id": "f438bc2c",
   "metadata": {},
   "source": [
    "### TRAINING TILL CONVERGENCE"
   ]
  },
  {
   "cell_type": "code",
   "execution_count": 154,
   "id": "e7c8bdec",
   "metadata": {},
   "outputs": [
    {
     "name": "stderr",
     "output_type": "stream",
     "text": [
      "  1%|█▍                                                                                                                                           | 1/100 [00:07<12:00,  7.27s/it]"
     ]
    },
    {
     "name": "stdout",
     "output_type": "stream",
     "text": [
      "Epoch: 0\tInterval Time: 7.2 sec(s)\tTraining Loss: 2.185345\t\tTraining Accuracy: 0.230175\n",
      "\t\t\t\t\t\tValidation Loss:1.832465\tValidation Accuracy: 0.381100\n"
     ]
    },
    {
     "name": "stderr",
     "output_type": "stream",
     "text": [
      "  6%|████████▍                                                                                                                                    | 6/100 [00:43<11:08,  7.12s/it]"
     ]
    },
    {
     "name": "stdout",
     "output_type": "stream",
     "text": [
      "Epoch: 5\tInterval Time: 35.8 sec(s)\tTraining Loss: 1.571227\t\tTraining Accuracy: 0.463875\n",
      "\t\t\t\t\t\tValidation Loss:1.483312\tValidation Accuracy: 0.504100\n"
     ]
    },
    {
     "name": "stderr",
     "output_type": "stream",
     "text": [
      " 11%|███████████████▍                                                                                                                            | 11/100 [01:18<10:38,  7.17s/it]"
     ]
    },
    {
     "name": "stdout",
     "output_type": "stream",
     "text": [
      "Epoch: 10\tInterval Time: 35.5 sec(s)\tTraining Loss: 1.419250\t\tTraining Accuracy: 0.527225\n",
      "\t\t\t\t\t\tValidation Loss:1.381054\tValidation Accuracy: 0.543000\n"
     ]
    },
    {
     "name": "stderr",
     "output_type": "stream",
     "text": [
      " 16%|██████████████████████▍                                                                                                                     | 16/100 [01:55<10:18,  7.37s/it]"
     ]
    },
    {
     "name": "stdout",
     "output_type": "stream",
     "text": [
      "Epoch: 15\tInterval Time: 37.2 sec(s)\tTraining Loss: 1.333191\t\tTraining Accuracy: 0.571575\n",
      "\t\t\t\t\t\tValidation Loss:1.338185\tValidation Accuracy: 0.562700\n"
     ]
    },
    {
     "name": "stderr",
     "output_type": "stream",
     "text": [
      " 21%|█████████████████████████████▍                                                                                                              | 21/100 [02:30<09:18,  7.07s/it]"
     ]
    },
    {
     "name": "stdout",
     "output_type": "stream",
     "text": [
      "Epoch: 20\tInterval Time: 35.3 sec(s)\tTraining Loss: 1.271834\t\tTraining Accuracy: 0.602100\n",
      "\t\t\t\t\t\tValidation Loss:1.319150\tValidation Accuracy: 0.573300\n"
     ]
    },
    {
     "name": "stderr",
     "output_type": "stream",
     "text": [
      " 26%|████████████████████████████████████▍                                                                                                       | 26/100 [03:07<08:56,  7.25s/it]"
     ]
    },
    {
     "name": "stdout",
     "output_type": "stream",
     "text": [
      "Epoch: 25\tInterval Time: 36.0 sec(s)\tTraining Loss: 1.224297\t\tTraining Accuracy: 0.626950\n",
      "\t\t\t\t\t\tValidation Loss:1.306068\tValidation Accuracy: 0.576300\n"
     ]
    },
    {
     "name": "stderr",
     "output_type": "stream",
     "text": [
      " 31%|███████████████████████████████████████████▍                                                                                                | 31/100 [03:42<08:12,  7.13s/it]"
     ]
    },
    {
     "name": "stdout",
     "output_type": "stream",
     "text": [
      "Epoch: 30\tInterval Time: 35.5 sec(s)\tTraining Loss: 1.189270\t\tTraining Accuracy: 0.644525\n",
      "\t\t\t\t\t\tValidation Loss:1.303303\tValidation Accuracy: 0.583100\n"
     ]
    },
    {
     "name": "stderr",
     "output_type": "stream",
     "text": [
      "\r",
      " 31%|███████████████████████████████████████████▍                                                                                                | 31/100 [03:49<08:30,  7.40s/it]"
     ]
    },
    {
     "name": "stdout",
     "output_type": "stream",
     "text": [
      "\n",
      "\n",
      "Minimum percent change (1e-25%) in training loss not exceeded.\n",
      "\n",
      "Convergence criteria achieved.\n",
      "Training completed @ Epoch 31.\n",
      "Total training time: 3 min 49.5 s\n",
      "\n",
      "                Best model found @ Epoch 31\n",
      "                --------------------------------------------\n",
      "                Training Loss: 1.195847\n",
      "                Validation Loss: 1.298740\n",
      "                --------------------------------------------\n",
      "                Training Accuracy: 0.640950\n",
      "                Validation Accuracy: 0.585200\n",
      "\n",
      "\n",
      "Best model 'Adam_network' saved in 'model/' directory.\n"
     ]
    },
    {
     "name": "stderr",
     "output_type": "stream",
     "text": [
      "\n"
     ]
    },
    {
     "data": {
      "text/plain": [
       "{'tags': ['hide-output']}"
      ]
     },
     "execution_count": 154,
     "metadata": {},
     "output_type": "execute_result"
    }
   ],
   "source": [
    "stats = mlp.train_convergence(\n",
    "    train_set = train_set,\n",
    "    valid_set = valid_set,\n",
    "    batch_size = 500,\n",
    "    planned_epochs = 100,\n",
    "    last_check = 10,\n",
    "    threshold = 1e-25,\n",
    "    report_interval = 5\n",
    ")\n",
    "\n",
    "{\"tags\": [\"hide-output\"]}"
   ]
  },
  {
   "cell_type": "markdown",
   "id": "4cbcd928",
   "metadata": {},
   "source": [
    "### Plotting Epoch-wise Loss and Accuracy Curves"
   ]
  },
  {
   "cell_type": "code",
   "execution_count": 155,
   "id": "bcb54907",
   "metadata": {},
   "outputs": [
    {
     "data": {
      "text/plain": [
       "<Figure size 720x504 with 0 Axes>"
      ]
     },
     "metadata": {},
     "output_type": "display_data"
    },
    {
     "data": {
      "image/png": "[encoded data removed]",
      "text/plain": [
       "<Figure size 432x288 with 4 Axes>"
      ]
     },
     "metadata": {
      "needs_background": "light"
     },
     "output_type": "display_data"
    }
   ],
   "source": [
    "plot_results(stats)"
   ]
  },
  {
   "cell_type": "markdown",
   "id": "188c2fdb",
   "metadata": {},
   "source": [
    "### Checking Accuracy of Best Model Found"
   ]
  },
  {
   "cell_type": "code",
   "execution_count": 156,
   "id": "0d1d9d13",
   "metadata": {},
   "outputs": [
    {
     "name": "stdout",
     "output_type": "stream",
     "text": [
      "-------------------------------------------\n",
      "Accuracy on train data: 81.20%\n",
      "Total Count:  40000\n",
      "Total Match:  32482\n",
      "-------------------------------------------\n",
      "Test Accuracy of\t0: 88.93% (3583/4029)\n",
      "Test Accuracy of\t1: 72.30% (2907/4021)\n",
      "Test Accuracy of\t2: 70.95% (2826/3983)\n",
      "Test Accuracy of\t3: 81.51% (3223/3954)\n",
      "Test Accuracy of\t4: 62.27% (2495/4007)\n",
      "Test Accuracy of\t5: 87.05% (3508/4030)\n",
      "Test Accuracy of\t6: 87.23% (3533/4050)\n",
      "Test Accuracy of\t7: 90.75% (3610/3978)\n",
      "Test Accuracy of\t8: 88.10% (3510/3984)\n",
      "Test Accuracy of\t9: 82.92% (3287/3964)\n",
      "-------------------------------------------\n",
      "Accuracy on valid data: 58.52%\n",
      "Total Count:  10000\n",
      "Total Match:  5852\n",
      "-------------------------------------------\n",
      "Test Accuracy of\t0: 70.75% (687/971)\n",
      "Test Accuracy of\t1: 42.39% (415/979)\n",
      "Test Accuracy of\t2: 41.99% (427/1017)\n",
      "Test Accuracy of\t3: 55.45% (580/1046)\n",
      "Test Accuracy of\t4: 37.97% (377/993)\n",
      "Test Accuracy of\t5: 64.85% (629/970)\n",
      "Test Accuracy of\t6: 64.95% (617/950)\n",
      "Test Accuracy of\t7: 78.28% (800/1022)\n",
      "Test Accuracy of\t8: 65.35% (664/1016)\n",
      "Test Accuracy of\t9: 63.32% (656/1036)\n",
      "-------------------------------------------\n",
      "Accuracy on test data: 57.98%\n",
      "Total Count:  10000\n",
      "Total Match:  5798\n",
      "-------------------------------------------\n",
      "Test Accuracy of\t0: 68.80% (688/1000)\n",
      "Test Accuracy of\t1: 41.90% (419/1000)\n",
      "Test Accuracy of\t2: 41.40% (414/1000)\n",
      "Test Accuracy of\t3: 52.50% (525/1000)\n",
      "Test Accuracy of\t4: 40.60% (406/1000)\n",
      "Test Accuracy of\t5: 66.50% (665/1000)\n",
      "Test Accuracy of\t6: 66.20% (662/1000)\n",
      "Test Accuracy of\t7: 74.80% (748/1000)\n",
      "Test Accuracy of\t8: 64.40% (644/1000)\n",
      "Test Accuracy of\t9: 62.70% (627/1000)\n"
     ]
    }
   ],
   "source": [
    "# Loading best model found:\n",
    "\n",
    "best_model = Net.load_model(\"model/\" + mlp.model_name)\n",
    "best_model.test_network(train_set, \"train data\")\n",
    "best_model.test_network(valid_set, \"valid data\")\n",
    "best_model.test_network(test_set, \"test data\")"
   ]
  }
 ],
 "metadata": {
  "kernelspec": {
   "display_name": "Python 3 (ipykernel)",
   "language": "python",
   "name": "python3"
  },
  "language_info": {
   "codemirror_mode": {
    "name": "ipython",
    "version": 3
   },
   "file_extension": ".py",
   "mimetype": "text/x-python",
   "name": "python",
   "nbconvert_exporter": "python",
   "pygments_lexer": "ipython3",
   "version": "3.10.2"
  }
 },
 "nbformat": 4,
 "nbformat_minor": 5
}
