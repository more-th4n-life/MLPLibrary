{
 "cells": [
  {
   "cell_type": "markdown",
   "id": "4032462b",
   "metadata": {},
   "source": [
    "## Batch-Size Analysis \n",
    "\n",
    "##### Currently using batch_size = 500"
   ]
  },
  {
   "cell_type": "code",
   "execution_count": 1,
   "id": "2345991a",
   "metadata": {},
   "outputs": [],
   "source": [
    "# Importing all the modules and functions related to constructing MLP network models\n",
    "\n",
    "from network.net import Net                   # Net class, base class for constructing MLP networks\n",
    "from network.layer import Linear              # Linear class, child class of parent class Layer \n",
    "from network.loss import CrossEntropyLoss     # CrossEntropyLoss class, child class of parent class Loss\n",
    "from network.activ import ReLU, LeakyReLU     # ReLU, LeakyReLU classes, child classes of parent class Activation\n",
    "from network.optim import SGD, Adam           # SGD, Adam classes, child classes of parent class Optimizer"
   ]
  },
  {
   "cell_type": "code",
   "execution_count": 2,
   "id": "f5bc9454",
   "metadata": {},
   "outputs": [],
   "source": [
    "# Importing all the modules and functions related to data processing including loaders for the assignment data\n",
    "\n",
    "# Process module contains functions relating to data processing:\n",
    "from network.loader.process import (\n",
    "    train_test_split,        # Function to split data with chosen ratio, data can be shuffled\n",
    "    normalize,               # Normalizes data to have mean of zero and unit variance\n",
    "    standardize,             # Normalizes data to be between range 0-1, i.e. standardizes data\n",
    "    one_hot,                 # One hot encoding: 100% prob of 2 is [0, 0, 1] with 3 classes\n",
    "    pca                      # Reduces data to chosen K principal components\n",
    ") \n",
    "\n",
    "# Data module for loading the assignment data\n",
    "from network.dataset.source import (\n",
    "    get_data_from_file,   # Loads assignment data from file (must be within main directory)\n",
    "    get_data_from_url     # Loads assignment data from public GitHub repo that stores data\n",
    ")\n",
    "\n",
    "# Data loader module for automating processing of and loading of assignment data based on parameter selections\n",
    "from network.loader.data_loader import load_train_val_test  # Parameter selections decide method of processing\n",
    "\n",
    "import numpy as np\n",
    "import matplotlib.pyplot as pl\n",
    "import pandas as pd \n",
    "import seaborn as sns\n",
    "\n",
    "# setting random seed\n",
    "np.random.seed(123)"
   ]
  },
  {
   "cell_type": "code",
   "execution_count": 3,
   "id": "7f51955f",
   "metadata": {},
   "outputs": [],
   "source": [
    "def plot_results(stats):\n",
    "    ep, tl, ta, vl, va = stats\n",
    "    pl.figure(figsize = (10, 7))\n",
    "\n",
    "    fig, ((ax1, ax2), (ax3, ax4)) = pl.subplots(2, 2)\n",
    "    fig.suptitle(f'Training Results, best model found @ Epoch {ep}')\n",
    "\n",
    "    ax1.plot(tl)\n",
    "    ax1.set_title('Training Loss')\n",
    "\n",
    "    ax2.plot(vl, 'tab:orange')\n",
    "    ax2.set_title('Validation Loss')\n",
    "\n",
    "    ax3.plot(ta, 'tab:green')\n",
    "    ax3.set_title('Training Accuracy')\n",
    "\n",
    "    ax4.plot(va, 'tab:red')\n",
    "    ax4.set_title('Validation Accuracy')\n",
    "    \n",
    "    for ax in fig.get_axes():\n",
    "        ax.label_outer()\n",
    "\n",
    "    pl.show()\n",
    "\n",
    "# Note as we are loading data from URL it will take longer than from file.\n",
    "train_set, valid_set, test_set = load_train_val_test(\n",
    "    source = \"url\", method = \"standardize\", pca_N = 0, n_categories = 10, ratio = 0.2, shuffle = True\n",
    ")         "
   ]
  },
  {
   "cell_type": "markdown",
   "id": "db0cb446",
   "metadata": {},
   "source": [
    "## Base Model"
   ]
  },
  {
   "cell_type": "code",
   "execution_count": 4,
   "id": "d736ee04",
   "metadata": {},
   "outputs": [
    {
     "name": "stdout",
     "output_type": "stream",
     "text": [
      "\n",
      "Model Save Successful!\n",
      "\n",
      "Model name: Adam_network\n",
      "Saved in: C:/Users/imgap/github/MLPLibrary/examples/model/\n",
      "\n",
      "Full path: C:/Users/imgap/github/MLPLibrary/examples/model/Adam_network\n",
      "Adam_network is initialized and ready to be trained.\n"
     ]
    }
   ],
   "source": [
    "mlp = Net(\n",
    "    optimizer = Adam(\n",
    "        learning_rate = 0.001  # Default value\n",
    "    ),\n",
    "    criterion = CrossEntropyLoss(),\n",
    "    batch_norm = True,\n",
    "    L2_reg_term = 0.001\n",
    ")\n",
    "\n",
    "mlp.add(Linear(128, 1024, dropout=0.4))\n",
    "mlp.add(ReLU())\n",
    "mlp.add(Linear(1024, 512, dropout=0.2))\n",
    "mlp.add(ReLU())\n",
    "mlp.add(Linear(512, 64, dropout=0.2))\n",
    "mlp.add(ReLU())\n",
    "mlp.add(Linear(64, 16, dropout=0.2))\n",
    "mlp.add(ReLU())\n",
    "mlp.add(Linear(16, 10))  \n",
    "\n",
    "\n",
    "mlp.set_name(\"Adam_network\")\n",
    "mlp.save_model()  # for reload\n",
    "print(f\"{mlp.model_name} is initialized and ready to be trained.\")"
   ]
  },
  {
   "cell_type": "markdown",
   "id": "d0424a7e",
   "metadata": {},
   "source": [
    "## Train and Evaluate with Batch size = 100"
   ]
  },
  {
   "cell_type": "code",
   "execution_count": 5,
   "id": "3c8c071e",
   "metadata": {},
   "outputs": [
    {
     "name": "stderr",
     "output_type": "stream",
     "text": [
      "  1%|█▍                                                                                                                                           | 1/100 [00:14<24:15, 14.70s/it]"
     ]
    },
    {
     "name": "stdout",
     "output_type": "stream",
     "text": [
      "Epoch: 0\tInterval Time: 14.7 sec(s)\tTraining Loss: 2.057657\t\tTraining Accuracy: 0.269850\n",
      "\t\t\t\t\t\tValidation Loss:1.713617\tValidation Accuracy: 0.408400\n"
     ]
    },
    {
     "name": "stderr",
     "output_type": "stream",
     "text": [
      "  6%|████████▍                                                                                                                                    | 6/100 [01:28<23:25, 14.95s/it]"
     ]
    },
    {
     "name": "stdout",
     "output_type": "stream",
     "text": [
      "Epoch: 5\tInterval Time: 1 min 14.1 s\tTraining Loss: 1.497351\t\tTraining Accuracy: 0.498800\n",
      "\t\t\t\t\t\tValidation Loss:1.416433\tValidation Accuracy: 0.529100\n"
     ]
    },
    {
     "name": "stderr",
     "output_type": "stream",
     "text": [
      " 11%|███████████████▍                                                                                                                            | 11/100 [02:53<24:58, 16.84s/it]"
     ]
    },
    {
     "name": "stdout",
     "output_type": "stream",
     "text": [
      "Epoch: 10\tInterval Time: 1 min 24.8 s\tTraining Loss: 1.375375\t\tTraining Accuracy: 0.553650\n",
      "\t\t\t\t\t\tValidation Loss:1.344832\tValidation Accuracy: 0.560700\n"
     ]
    },
    {
     "name": "stderr",
     "output_type": "stream",
     "text": [
      " 16%|██████████████████████▍                                                                                                                     | 16/100 [04:20<23:54, 17.08s/it]"
     ]
    },
    {
     "name": "stdout",
     "output_type": "stream",
     "text": [
      "Epoch: 15\tInterval Time: 1 min 26.5 s\tTraining Loss: 1.304507\t\tTraining Accuracy: 0.591550\n",
      "\t\t\t\t\t\tValidation Loss:1.323452\tValidation Accuracy: 0.571100\n"
     ]
    },
    {
     "name": "stderr",
     "output_type": "stream",
     "text": [
      " 21%|█████████████████████████████▍                                                                                                              | 21/100 [05:47<22:45, 17.28s/it]"
     ]
    },
    {
     "name": "stdout",
     "output_type": "stream",
     "text": [
      "Epoch: 20\tInterval Time: 1 min 27.1 s\tTraining Loss: 1.262743\t\tTraining Accuracy: 0.611675\n",
      "\t\t\t\t\t\tValidation Loss:1.301219\tValidation Accuracy: 0.587700\n"
     ]
    },
    {
     "name": "stderr",
     "output_type": "stream",
     "text": [
      " 26%|████████████████████████████████████▍                                                                                                       | 26/100 [07:12<21:09, 17.15s/it]"
     ]
    },
    {
     "name": "stdout",
     "output_type": "stream",
     "text": [
      "Epoch: 25\tInterval Time: 1 min 25.5 s\tTraining Loss: 1.227692\t\tTraining Accuracy: 0.629250\n",
      "\t\t\t\t\t\tValidation Loss:1.293128\tValidation Accuracy: 0.586900\n"
     ]
    },
    {
     "name": "stderr",
     "output_type": "stream",
     "text": [
      " 28%|███████████████████████████████████████▏                                                                                                    | 28/100 [08:00<20:34, 17.15s/it]"
     ]
    },
    {
     "name": "stdout",
     "output_type": "stream",
     "text": [
      "\n",
      "\n",
      "Minimum percent change (1e-25%) in training loss not exceeded.\n",
      "\n",
      "Convergence criteria achieved.\n",
      "Training completed @ Epoch 28.\n",
      "Total training time: 8 min 0.1 s\n",
      "\n",
      "                Best model found @ Epoch 26\n",
      "                --------------------------------------------\n",
      "                Training Loss: 1.224476\n",
      "                Validation Loss: 1.289803\n",
      "                --------------------------------------------\n",
      "                Training Accuracy: 0.630975\n",
      "                Validation Accuracy: 0.588800\n",
      "\n",
      "\n",
      "Best model 'Adam_network_100' saved in 'model/' directory.\n"
     ]
    },
    {
     "name": "stderr",
     "output_type": "stream",
     "text": [
      "\n"
     ]
    },
    {
     "data": {
      "text/plain": [
       "<Figure size 720x504 with 0 Axes>"
      ]
     },
     "metadata": {},
     "output_type": "display_data"
    },
    {
     "data": {
      "image/png": "[encoded data removed]",
      "text/plain": [
       "<Figure size 432x288 with 4 Axes>"
      ]
     },
     "metadata": {
      "needs_background": "light"
     },
     "output_type": "display_data"
    },
    {
     "name": "stdout",
     "output_type": "stream",
     "text": [
      "-------------------------------------------\n",
      "Accuracy on train data: 80.93%\n",
      "Total Count:  40000\n",
      "Total Match:  32372\n",
      "-------------------------------------------\n",
      "Test Accuracy of\t0: 86.47% (3484/4029)\n",
      "Test Accuracy of\t1: 74.68% (3003/4021)\n",
      "Test Accuracy of\t2: 66.51% (2649/3983)\n",
      "Test Accuracy of\t3: 77.74% (3074/3954)\n",
      "Test Accuracy of\t4: 69.13% (2770/4007)\n",
      "Test Accuracy of\t5: 88.41% (3563/4030)\n",
      "Test Accuracy of\t6: 86.25% (3493/4050)\n",
      "Test Accuracy of\t7: 88.59% (3524/3978)\n",
      "Test Accuracy of\t8: 88.20% (3514/3984)\n",
      "Test Accuracy of\t9: 83.20% (3298/3964)\n",
      "-------------------------------------------\n",
      "Accuracy on valid data: 58.88%\n",
      "Total Count:  10000\n",
      "Total Match:  5888\n",
      "-------------------------------------------\n",
      "Test Accuracy of\t0: 66.22% (643/971)\n",
      "Test Accuracy of\t1: 44.94% (440/979)\n",
      "Test Accuracy of\t2: 38.35% (390/1017)\n",
      "Test Accuracy of\t3: 52.96% (554/1046)\n",
      "Test Accuracy of\t4: 46.02% (457/993)\n",
      "Test Accuracy of\t5: 69.38% (673/970)\n",
      "Test Accuracy of\t6: 63.89% (607/950)\n",
      "Test Accuracy of\t7: 73.19% (748/1022)\n",
      "Test Accuracy of\t8: 67.32% (684/1016)\n",
      "Test Accuracy of\t9: 66.80% (692/1036)\n",
      "-------------------------------------------\n",
      "Accuracy on test data: 58.48%\n",
      "Total Count:  10000\n",
      "Total Match:  5848\n",
      "-------------------------------------------\n",
      "Test Accuracy of\t0: 64.70% (647/1000)\n",
      "Test Accuracy of\t1: 46.40% (464/1000)\n",
      "Test Accuracy of\t2: 37.00% (370/1000)\n",
      "Test Accuracy of\t3: 48.60% (486/1000)\n",
      "Test Accuracy of\t4: 46.90% (469/1000)\n",
      "Test Accuracy of\t5: 71.70% (717/1000)\n",
      "Test Accuracy of\t6: 66.70% (667/1000)\n",
      "Test Accuracy of\t7: 69.20% (692/1000)\n",
      "Test Accuracy of\t8: 67.20% (672/1000)\n",
      "Test Accuracy of\t9: 66.40% (664/1000)\n"
     ]
    }
   ],
   "source": [
    "mlp.set_name(\"Adam_network_100\")\n",
    "\n",
    "mlp100 = mlp.train_convergence(\n",
    "    train_set = train_set,\n",
    "    valid_set = valid_set,\n",
    "    batch_size = 100,\n",
    "    planned_epochs = 100,\n",
    "    last_check = 10,\n",
    "    threshold = 1e-25,\n",
    "    report_interval = 5\n",
    ")\n",
    "\n",
    "{\"tags\": [\"hide-output\"]}\n",
    "\n",
    "plot_results(mlp100)  # plot curves\n",
    "\n",
    "# Loading best model found:\n",
    "\n",
    "best_model = Net.load_model(\"model/\" + mlp.model_name)\n",
    "best_model.test_network(train_set, \"train data\")\n",
    "best_model.test_network(valid_set, \"valid data\")\n",
    "best_model.test_network(test_set, \"test data\")\n",
    "\n",
    "mlp = Net.load_model(\"model/\" + \"Adam_network\")  # reload original model"
   ]
  },
  {
   "cell_type": "markdown",
   "id": "595764ee",
   "metadata": {},
   "source": [
    "## Train and Evaluate with Batch size = 200"
   ]
  },
  {
   "cell_type": "code",
   "execution_count": 6,
   "id": "a41b5587",
   "metadata": {},
   "outputs": [
    {
     "name": "stderr",
     "output_type": "stream",
     "text": [
      "  1%|█▍                                                                                                                                           | 1/100 [00:11<19:14, 11.66s/it]"
     ]
    },
    {
     "name": "stdout",
     "output_type": "stream",
     "text": [
      "Epoch: 0\tInterval Time: 11.6 sec(s)\tTraining Loss: 2.118744\t\tTraining Accuracy: 0.249500\n",
      "\t\t\t\t\t\tValidation Loss:1.781968\tValidation Accuracy: 0.385000\n"
     ]
    },
    {
     "name": "stderr",
     "output_type": "stream",
     "text": [
      "  6%|████████▍                                                                                                                                    | 6/100 [01:11<18:34, 11.85s/it]"
     ]
    },
    {
     "name": "stdout",
     "output_type": "stream",
     "text": [
      "Epoch: 5\tInterval Time: 1 min 0.1 s\tTraining Loss: 1.509315\t\tTraining Accuracy: 0.489325\n",
      "\t\t\t\t\t\tValidation Loss:1.428494\tValidation Accuracy: 0.523100\n"
     ]
    },
    {
     "name": "stderr",
     "output_type": "stream",
     "text": [
      " 11%|███████████████▍                                                                                                                            | 11/100 [02:15<19:24, 13.08s/it]"
     ]
    },
    {
     "name": "stdout",
     "output_type": "stream",
     "text": [
      "Epoch: 10\tInterval Time: 1 min 3.9 s\tTraining Loss: 1.375958\t\tTraining Accuracy: 0.552625\n",
      "\t\t\t\t\t\tValidation Loss:1.363393\tValidation Accuracy: 0.551400\n"
     ]
    },
    {
     "name": "stderr",
     "output_type": "stream",
     "text": [
      " 16%|██████████████████████▍                                                                                                                     | 16/100 [03:33<21:05, 15.07s/it]"
     ]
    },
    {
     "name": "stdout",
     "output_type": "stream",
     "text": [
      "Epoch: 15\tInterval Time: 1 min 17.9 s\tTraining Loss: 1.308851\t\tTraining Accuracy: 0.589500\n",
      "\t\t\t\t\t\tValidation Loss:1.328865\tValidation Accuracy: 0.567700\n"
     ]
    },
    {
     "name": "stderr",
     "output_type": "stream",
     "text": [
      " 21%|█████████████████████████████▍                                                                                                              | 21/100 [04:48<19:42, 14.97s/it]"
     ]
    },
    {
     "name": "stdout",
     "output_type": "stream",
     "text": [
      "Epoch: 20\tInterval Time: 1 min 15.3 s\tTraining Loss: 1.253657\t\tTraining Accuracy: 0.616575\n",
      "\t\t\t\t\t\tValidation Loss:1.314194\tValidation Accuracy: 0.577100\n"
     ]
    },
    {
     "name": "stderr",
     "output_type": "stream",
     "text": [
      " 26%|████████████████████████████████████▍                                                                                                       | 26/100 [06:07<19:46, 16.04s/it]"
     ]
    },
    {
     "name": "stdout",
     "output_type": "stream",
     "text": [
      "Epoch: 25\tInterval Time: 1 min 19.0 s\tTraining Loss: 1.213377\t\tTraining Accuracy: 0.636900\n",
      "\t\t\t\t\t\tValidation Loss:1.301423\tValidation Accuracy: 0.584500\n"
     ]
    },
    {
     "name": "stderr",
     "output_type": "stream",
     "text": [
      " 31%|███████████████████████████████████████████▍                                                                                                | 31/100 [07:23<17:20, 15.07s/it]"
     ]
    },
    {
     "name": "stdout",
     "output_type": "stream",
     "text": [
      "Epoch: 30\tInterval Time: 1 min 15.8 s\tTraining Loss: 1.185205\t\tTraining Accuracy: 0.650750\n",
      "\t\t\t\t\t\tValidation Loss:1.304860\tValidation Accuracy: 0.578200\n"
     ]
    },
    {
     "name": "stderr",
     "output_type": "stream",
     "text": [
      " 36%|██████████████████████████████████████████████████▍                                                                                         | 36/100 [08:37<15:49, 14.83s/it]"
     ]
    },
    {
     "name": "stdout",
     "output_type": "stream",
     "text": [
      "Epoch: 35\tInterval Time: 1 min 13.6 s\tTraining Loss: 1.162693\t\tTraining Accuracy: 0.664000\n",
      "\t\t\t\t\t\tValidation Loss:1.294464\tValidation Accuracy: 0.589500\n"
     ]
    },
    {
     "name": "stderr",
     "output_type": "stream",
     "text": [
      " 38%|█████████████████████████████████████████████████████▏                                                                                      | 38/100 [09:25<15:22, 14.88s/it]"
     ]
    },
    {
     "name": "stdout",
     "output_type": "stream",
     "text": [
      "\n",
      "\n",
      "Minimum percent change (1e-25%) in training loss not exceeded.\n",
      "\n",
      "Convergence criteria achieved.\n",
      "Training completed @ Epoch 38.\n",
      "Total training time: 9 min 25.5 s\n",
      "\n",
      "                Best model found @ Epoch 37\n",
      "                --------------------------------------------\n",
      "                Training Loss: 1.150585\n",
      "                Validation Loss: 1.287696\n",
      "                --------------------------------------------\n",
      "                Training Accuracy: 0.669550\n",
      "                Validation Accuracy: 0.589800\n",
      "\n",
      "\n",
      "Best model 'Adam_network_200' saved in 'model/' directory.\n"
     ]
    },
    {
     "name": "stderr",
     "output_type": "stream",
     "text": [
      "\n"
     ]
    },
    {
     "data": {
      "text/plain": [
       "<Figure size 720x504 with 0 Axes>"
      ]
     },
     "metadata": {},
     "output_type": "display_data"
    },
    {
     "data": {
      "image/png": "[encoded data removed]",
      "text/plain": [
       "<Figure size 432x288 with 4 Axes>"
      ]
     },
     "metadata": {
      "needs_background": "light"
     },
     "output_type": "display_data"
    },
    {
     "name": "stdout",
     "output_type": "stream",
     "text": [
      "-------------------------------------------\n",
      "Accuracy on train data: 84.20%\n",
      "Total Count:  40000\n",
      "Total Match:  33680\n",
      "-------------------------------------------\n",
      "Test Accuracy of\t0: 90.22% (3635/4029)\n",
      "Test Accuracy of\t1: 79.26% (3187/4021)\n",
      "Test Accuracy of\t2: 73.16% (2914/3983)\n",
      "Test Accuracy of\t3: 81.61% (3227/3954)\n",
      "Test Accuracy of\t4: 71.15% (2851/4007)\n",
      "Test Accuracy of\t5: 89.90% (3623/4030)\n",
      "Test Accuracy of\t6: 89.95% (3643/4050)\n",
      "Test Accuracy of\t7: 90.90% (3616/3978)\n",
      "Test Accuracy of\t8: 89.71% (3574/3984)\n",
      "Test Accuracy of\t9: 86.02% (3410/3964)\n",
      "-------------------------------------------\n",
      "Accuracy on valid data: 58.98%\n",
      "Total Count:  10000\n",
      "Total Match:  5898\n",
      "-------------------------------------------\n",
      "Test Accuracy of\t0: 70.44% (684/971)\n",
      "Test Accuracy of\t1: 44.64% (437/979)\n",
      "Test Accuracy of\t2: 39.53% (402/1017)\n",
      "Test Accuracy of\t3: 52.10% (545/1046)\n",
      "Test Accuracy of\t4: 43.40% (431/993)\n",
      "Test Accuracy of\t5: 68.97% (669/970)\n",
      "Test Accuracy of\t6: 66.32% (630/950)\n",
      "Test Accuracy of\t7: 75.73% (774/1022)\n",
      "Test Accuracy of\t8: 65.26% (663/1016)\n",
      "Test Accuracy of\t9: 64.00% (663/1036)\n",
      "-------------------------------------------\n",
      "Accuracy on test data: 58.33%\n",
      "Total Count:  10000\n",
      "Total Match:  5833\n",
      "-------------------------------------------\n",
      "Test Accuracy of\t0: 69.00% (690/1000)\n",
      "Test Accuracy of\t1: 44.70% (447/1000)\n",
      "Test Accuracy of\t2: 39.10% (391/1000)\n",
      "Test Accuracy of\t3: 49.40% (494/1000)\n",
      "Test Accuracy of\t4: 43.40% (434/1000)\n",
      "Test Accuracy of\t5: 69.40% (694/1000)\n",
      "Test Accuracy of\t6: 67.40% (674/1000)\n",
      "Test Accuracy of\t7: 71.60% (716/1000)\n",
      "Test Accuracy of\t8: 65.60% (656/1000)\n",
      "Test Accuracy of\t9: 63.70% (637/1000)\n"
     ]
    }
   ],
   "source": [
    "mlp.set_name(\"Adam_network_200\")\n",
    "\n",
    "mlp200 = mlp.train_convergence(\n",
    "    train_set = train_set,\n",
    "    valid_set = valid_set,\n",
    "    batch_size = 200,\n",
    "    planned_epochs = 100,\n",
    "    last_check = 10,\n",
    "    threshold = 1e-25,\n",
    "    report_interval = 5\n",
    ")\n",
    "\n",
    "{\"tags\": [\"hide-output\"]}\n",
    "\n",
    "plot_results(mlp200)  # plot curves\n",
    "\n",
    "# Loading best model found:\n",
    "\n",
    "best_model = Net.load_model(\"model/\" + mlp.model_name)\n",
    "best_model.test_network(train_set, \"train data\")\n",
    "best_model.test_network(valid_set, \"valid data\")\n",
    "best_model.test_network(test_set, \"test data\")\n",
    "\n",
    "mlp = Net.load_model(\"model/\" + \"Adam_network\")  # reload original model"
   ]
  },
  {
   "cell_type": "markdown",
   "id": "da5443fd",
   "metadata": {},
   "source": [
    "## Train and Evaluate with Batch size = 1000 "
   ]
  },
  {
   "cell_type": "code",
   "execution_count": 8,
   "id": "75b7f38d",
   "metadata": {},
   "outputs": [
    {
     "name": "stderr",
     "output_type": "stream",
     "text": [
      "  1%|█▍                                                                                                                                           | 1/100 [00:07<11:41,  7.09s/it]"
     ]
    },
    {
     "name": "stdout",
     "output_type": "stream",
     "text": [
      "Epoch: 0\tInterval Time: 7.0 sec(s)\tTraining Loss: 2.287450\t\tTraining Accuracy: 0.201200\n",
      "\t\t\t\t\t\tValidation Loss:1.935799\tValidation Accuracy: 0.317900\n"
     ]
    },
    {
     "name": "stderr",
     "output_type": "stream",
     "text": [
      "  6%|████████▍                                                                                                                                    | 6/100 [00:41<10:42,  6.84s/it]"
     ]
    },
    {
     "name": "stdout",
     "output_type": "stream",
     "text": [
      "Epoch: 5\tInterval Time: 34.1 sec(s)\tTraining Loss: 1.651174\t\tTraining Accuracy: 0.426675\n",
      "\t\t\t\t\t\tValidation Loss:1.547433\tValidation Accuracy: 0.478700\n"
     ]
    },
    {
     "name": "stderr",
     "output_type": "stream",
     "text": [
      " 11%|███████████████▍                                                                                                                            | 11/100 [01:16<10:28,  7.06s/it]"
     ]
    },
    {
     "name": "stdout",
     "output_type": "stream",
     "text": [
      "Epoch: 10\tInterval Time: 35.0 sec(s)\tTraining Loss: 1.480461\t\tTraining Accuracy: 0.502225\n",
      "\t\t\t\t\t\tValidation Loss:1.420647\tValidation Accuracy: 0.532100\n"
     ]
    },
    {
     "name": "stderr",
     "output_type": "stream",
     "text": [
      " 16%|██████████████████████▍                                                                                                                     | 16/100 [01:53<10:20,  7.38s/it]"
     ]
    },
    {
     "name": "stdout",
     "output_type": "stream",
     "text": [
      "Epoch: 15\tInterval Time: 37.0 sec(s)\tTraining Loss: 1.381204\t\tTraining Accuracy: 0.553500\n",
      "\t\t\t\t\t\tValidation Loss:1.365220\tValidation Accuracy: 0.555300\n"
     ]
    },
    {
     "name": "stderr",
     "output_type": "stream",
     "text": [
      " 21%|█████████████████████████████▍                                                                                                              | 21/100 [02:28<09:13,  7.00s/it]"
     ]
    },
    {
     "name": "stdout",
     "output_type": "stream",
     "text": [
      "Epoch: 20\tInterval Time: 34.9 sec(s)\tTraining Loss: 1.315398\t\tTraining Accuracy: 0.583900\n",
      "\t\t\t\t\t\tValidation Loss:1.336060\tValidation Accuracy: 0.563700\n"
     ]
    },
    {
     "name": "stderr",
     "output_type": "stream",
     "text": [
      " 26%|████████████████████████████████████▍                                                                                                       | 26/100 [03:05<09:19,  7.56s/it]"
     ]
    },
    {
     "name": "stdout",
     "output_type": "stream",
     "text": [
      "Epoch: 25\tInterval Time: 37.7 sec(s)\tTraining Loss: 1.260567\t\tTraining Accuracy: 0.615525\n",
      "\t\t\t\t\t\tValidation Loss:1.325189\tValidation Accuracy: 0.576300\n"
     ]
    },
    {
     "name": "stderr",
     "output_type": "stream",
     "text": [
      " 29%|████████████████████████████████████████▌                                                                                                   | 29/100 [03:33<08:43,  7.37s/it]"
     ]
    },
    {
     "name": "stdout",
     "output_type": "stream",
     "text": [
      "\n",
      "\n",
      "Minimum percent change (1e-25%) in training loss not exceeded.\n",
      "\n",
      "Convergence criteria achieved.\n",
      "Training completed @ Epoch 29.\n",
      "Total training time: 3 min 33.8 s\n",
      "\n",
      "                Best model found @ Epoch 29\n",
      "                --------------------------------------------\n",
      "                Training Loss: 1.237687\n",
      "                Validation Loss: 1.311526\n",
      "                --------------------------------------------\n",
      "                Training Accuracy: 0.620875\n",
      "                Validation Accuracy: 0.576300\n",
      "\n",
      "\n",
      "Best model 'Adam_network_1K' saved in 'model/' directory.\n"
     ]
    },
    {
     "name": "stderr",
     "output_type": "stream",
     "text": [
      "\n"
     ]
    },
    {
     "data": {
      "text/plain": [
       "<Figure size 720x504 with 0 Axes>"
      ]
     },
     "metadata": {},
     "output_type": "display_data"
    },
    {
     "data": {
      "image/png": "[encoded data removed]",
      "text/plain": [
       "<Figure size 432x288 with 4 Axes>"
      ]
     },
     "metadata": {
      "needs_background": "light"
     },
     "output_type": "display_data"
    },
    {
     "name": "stdout",
     "output_type": "stream",
     "text": [
      "-------------------------------------------\n",
      "Accuracy on train data: 79.09%\n",
      "Total Count:  40000\n",
      "Total Match:  31634\n",
      "-------------------------------------------\n",
      "Test Accuracy of\t0: 87.89% (3541/4029)\n",
      "Test Accuracy of\t1: 76.82% (3089/4021)\n",
      "Test Accuracy of\t2: 63.80% (2541/3983)\n",
      "Test Accuracy of\t3: 71.90% (2843/3954)\n",
      "Test Accuracy of\t4: 61.74% (2474/4007)\n",
      "Test Accuracy of\t5: 87.59% (3530/4030)\n",
      "Test Accuracy of\t6: 87.11% (3528/4050)\n",
      "Test Accuracy of\t7: 87.15% (3467/3978)\n",
      "Test Accuracy of\t8: 84.44% (3364/3984)\n",
      "Test Accuracy of\t9: 82.16% (3257/3964)\n",
      "-------------------------------------------\n",
      "Accuracy on valid data: 57.63%\n",
      "Total Count:  10000\n",
      "Total Match:  5763\n",
      "-------------------------------------------\n",
      "Test Accuracy of\t0: 68.38% (664/971)\n",
      "Test Accuracy of\t1: 49.44% (484/979)\n",
      "Test Accuracy of\t2: 38.15% (388/1017)\n",
      "Test Accuracy of\t3: 47.71% (499/1046)\n",
      "Test Accuracy of\t4: 39.17% (389/993)\n",
      "Test Accuracy of\t5: 67.22% (652/970)\n",
      "Test Accuracy of\t6: 66.00% (627/950)\n",
      "Test Accuracy of\t7: 72.02% (736/1022)\n",
      "Test Accuracy of\t8: 64.47% (655/1016)\n",
      "Test Accuracy of\t9: 64.58% (669/1036)\n",
      "-------------------------------------------\n",
      "Accuracy on test data: 57.70%\n",
      "Total Count:  10000\n",
      "Total Match:  5770\n",
      "-------------------------------------------\n",
      "Test Accuracy of\t0: 69.20% (692/1000)\n",
      "Test Accuracy of\t1: 50.00% (500/1000)\n",
      "Test Accuracy of\t2: 36.60% (366/1000)\n",
      "Test Accuracy of\t3: 44.80% (448/1000)\n",
      "Test Accuracy of\t4: 41.90% (419/1000)\n",
      "Test Accuracy of\t5: 71.30% (713/1000)\n",
      "Test Accuracy of\t6: 69.00% (690/1000)\n",
      "Test Accuracy of\t7: 68.80% (688/1000)\n",
      "Test Accuracy of\t8: 61.00% (610/1000)\n",
      "Test Accuracy of\t9: 64.40% (644/1000)\n"
     ]
    }
   ],
   "source": [
    "mlp.set_name(\"Adam_network_1K\")\n",
    "\n",
    "mlp1K = mlp.train_convergence(\n",
    "    train_set = train_set,\n",
    "    valid_set = valid_set,\n",
    "    batch_size = 1000,\n",
    "    planned_epochs = 100,\n",
    "    last_check = 10,\n",
    "    threshold = 1e-25,\n",
    "    report_interval = 5\n",
    ")\n",
    "\n",
    "{\"tags\": [\"hide-output\"]}\n",
    "\n",
    "plot_results(mlp1K)  # plot curves\n",
    "\n",
    "# Loading best model found:\n",
    "\n",
    "best_model = Net.load_model(\"model/\" + mlp.model_name)\n",
    "best_model.test_network(train_set, \"train data\")\n",
    "best_model.test_network(valid_set, \"valid data\")\n",
    "best_model.test_network(test_set, \"test data\")\n",
    "\n",
    "mlp = Net.load_model(\"model/\" + \"Adam_network\")  # reload original model"
   ]
  },
  {
   "cell_type": "markdown",
   "id": "b5f1071b",
   "metadata": {},
   "source": [
    "## Train and Evaluate with Batch size = 700 "
   ]
  },
  {
   "cell_type": "code",
   "execution_count": 9,
   "id": "bbe02c21",
   "metadata": {},
   "outputs": [
    {
     "name": "stderr",
     "output_type": "stream",
     "text": [
      "  1%|█▍                                                                                                                                           | 1/100 [00:06<11:02,  6.69s/it]"
     ]
    },
    {
     "name": "stdout",
     "output_type": "stream",
     "text": [
      "Epoch: 0\tInterval Time: 6.7 sec(s)\tTraining Loss: 2.291618\t\tTraining Accuracy: 0.215664\n",
      "\t\t\t\t\t\tValidation Loss:1.896436\tValidation Accuracy: 0.332300\n"
     ]
    },
    {
     "name": "stderr",
     "output_type": "stream",
     "text": [
      "  6%|████████▍                                                                                                                                    | 6/100 [00:40<10:46,  6.88s/it]"
     ]
    },
    {
     "name": "stdout",
     "output_type": "stream",
     "text": [
      "Epoch: 5\tInterval Time: 34.2 sec(s)\tTraining Loss: 1.639276\t\tTraining Accuracy: 0.451479\n",
      "\t\t\t\t\t\tValidation Loss:1.510548\tValidation Accuracy: 0.491200\n"
     ]
    },
    {
     "name": "stderr",
     "output_type": "stream",
     "text": [
      " 11%|███████████████▍                                                                                                                            | 11/100 [01:19<11:28,  7.74s/it]"
     ]
    },
    {
     "name": "stdout",
     "output_type": "stream",
     "text": [
      "Epoch: 10\tInterval Time: 38.5 sec(s)\tTraining Loss: 1.478701\t\tTraining Accuracy: 0.525188\n",
      "\t\t\t\t\t\tValidation Loss:1.402211\tValidation Accuracy: 0.536600\n"
     ]
    },
    {
     "name": "stderr",
     "output_type": "stream",
     "text": [
      " 16%|██████████████████████▍                                                                                                                     | 16/100 [01:58<11:02,  7.88s/it]"
     ]
    },
    {
     "name": "stdout",
     "output_type": "stream",
     "text": [
      "Epoch: 15\tInterval Time: 39.4 sec(s)\tTraining Loss: 1.383612\t\tTraining Accuracy: 0.572231\n",
      "\t\t\t\t\t\tValidation Loss:1.352986\tValidation Accuracy: 0.557200\n"
     ]
    },
    {
     "name": "stderr",
     "output_type": "stream",
     "text": [
      " 21%|█████████████████████████████▍                                                                                                              | 21/100 [02:35<09:41,  7.37s/it]"
     ]
    },
    {
     "name": "stdout",
     "output_type": "stream",
     "text": [
      "Epoch: 20\tInterval Time: 36.9 sec(s)\tTraining Loss: 1.323773\t\tTraining Accuracy: 0.602231\n",
      "\t\t\t\t\t\tValidation Loss:1.327113\tValidation Accuracy: 0.566700\n"
     ]
    },
    {
     "name": "stderr",
     "output_type": "stream",
     "text": [
      " 26%|████████████████████████████████████▍                                                                                                       | 26/100 [03:12<08:54,  7.22s/it]"
     ]
    },
    {
     "name": "stdout",
     "output_type": "stream",
     "text": [
      "Epoch: 25\tInterval Time: 36.5 sec(s)\tTraining Loss: 1.280134\t\tTraining Accuracy: 0.621754\n",
      "\t\t\t\t\t\tValidation Loss:1.312983\tValidation Accuracy: 0.579500\n"
     ]
    },
    {
     "name": "stderr",
     "output_type": "stream",
     "text": [
      " 31%|███████████████████████████████████████████▍                                                                                                | 31/100 [03:53<09:15,  8.05s/it]"
     ]
    },
    {
     "name": "stdout",
     "output_type": "stream",
     "text": [
      "Epoch: 30\tInterval Time: 41.2 sec(s)\tTraining Loss: 1.243967\t\tTraining Accuracy: 0.643158\n",
      "\t\t\t\t\t\tValidation Loss:1.310658\tValidation Accuracy: 0.584200\n"
     ]
    },
    {
     "name": "stderr",
     "output_type": "stream",
     "text": [
      " 32%|████████████████████████████████████████████▊                                                                                               | 32/100 [04:09<08:50,  7.80s/it]"
     ]
    },
    {
     "name": "stdout",
     "output_type": "stream",
     "text": [
      "\n",
      "\n",
      "Minimum percent change (1e-25%) in training loss not exceeded.\n",
      "\n",
      "Convergence criteria achieved.\n",
      "Training completed @ Epoch 32.\n",
      "Total training time: 4 min 9.6 s\n",
      "\n",
      "                Best model found @ Epoch 32\n",
      "                --------------------------------------------\n",
      "                Training Loss: 1.232112\n",
      "                Validation Loss: 1.305896\n",
      "                --------------------------------------------\n",
      "                Training Accuracy: 0.648020\n",
      "                Validation Accuracy: 0.582800\n",
      "\n",
      "\n",
      "Best model 'Adam_network_700' saved in 'model/' directory.\n"
     ]
    },
    {
     "name": "stderr",
     "output_type": "stream",
     "text": [
      "\n"
     ]
    },
    {
     "data": {
      "text/plain": [
       "<Figure size 720x504 with 0 Axes>"
      ]
     },
     "metadata": {},
     "output_type": "display_data"
    },
    {
     "data": {
      "image/png": "[encoded data removed]",
      "text/plain": [
       "<Figure size 432x288 with 4 Axes>"
      ]
     },
     "metadata": {
      "needs_background": "light"
     },
     "output_type": "display_data"
    },
    {
     "name": "stdout",
     "output_type": "stream",
     "text": [
      "-------------------------------------------\n",
      "Accuracy on train data: 80.34%\n",
      "Total Count:  40000\n",
      "Total Match:  32138\n",
      "-------------------------------------------\n",
      "Test Accuracy of\t0: 87.89% (3541/4029)\n",
      "Test Accuracy of\t1: 72.87% (2930/4021)\n",
      "Test Accuracy of\t2: 69.55% (2770/3983)\n",
      "Test Accuracy of\t3: 76.96% (3043/3954)\n",
      "Test Accuracy of\t4: 62.74% (2514/4007)\n",
      "Test Accuracy of\t5: 88.61% (3571/4030)\n",
      "Test Accuracy of\t6: 86.96% (3522/4050)\n",
      "Test Accuracy of\t7: 91.45% (3638/3978)\n",
      "Test Accuracy of\t8: 83.99% (3346/3984)\n",
      "Test Accuracy of\t9: 82.32% (3263/3964)\n",
      "-------------------------------------------\n",
      "Accuracy on valid data: 58.28%\n",
      "Total Count:  10000\n",
      "Total Match:  5828\n",
      "-------------------------------------------\n",
      "Test Accuracy of\t0: 71.58% (695/971)\n",
      "Test Accuracy of\t1: 43.82% (429/979)\n",
      "Test Accuracy of\t2: 41.20% (419/1017)\n",
      "Test Accuracy of\t3: 52.20% (546/1046)\n",
      "Test Accuracy of\t4: 39.58% (393/993)\n",
      "Test Accuracy of\t5: 68.56% (665/970)\n",
      "Test Accuracy of\t6: 64.53% (613/950)\n",
      "Test Accuracy of\t7: 78.18% (799/1022)\n",
      "Test Accuracy of\t8: 60.63% (616/1016)\n",
      "Test Accuracy of\t9: 63.03% (653/1036)\n",
      "-------------------------------------------\n",
      "Accuracy on test data: 57.62%\n",
      "Total Count:  10000\n",
      "Total Match:  5762\n",
      "-------------------------------------------\n",
      "Test Accuracy of\t0: 69.50% (695/1000)\n",
      "Test Accuracy of\t1: 41.50% (415/1000)\n",
      "Test Accuracy of\t2: 38.60% (386/1000)\n",
      "Test Accuracy of\t3: 49.30% (493/1000)\n",
      "Test Accuracy of\t4: 40.00% (400/1000)\n",
      "Test Accuracy of\t5: 71.30% (713/1000)\n",
      "Test Accuracy of\t6: 67.70% (677/1000)\n",
      "Test Accuracy of\t7: 74.60% (746/1000)\n",
      "Test Accuracy of\t8: 60.20% (602/1000)\n",
      "Test Accuracy of\t9: 63.50% (635/1000)\n"
     ]
    }
   ],
   "source": [
    "mlp.set_name(\"Adam_network_700\")\n",
    "\n",
    "mlp700 = mlp.train_convergence(\n",
    "    train_set = train_set,\n",
    "    valid_set = valid_set,\n",
    "    batch_size = 700,\n",
    "    planned_epochs = 100,\n",
    "    last_check = 10,\n",
    "    threshold = 1e-25,\n",
    "    report_interval = 5\n",
    ")\n",
    "\n",
    "{\"tags\": [\"hide-output\"]}\n",
    "\n",
    "plot_results(mlp700)  # plot curves\n",
    "\n",
    "# Loading best model found:\n",
    "\n",
    "best_model = Net.load_model(\"model/\" + mlp.model_name)\n",
    "best_model.test_network(train_set, \"train data\")\n",
    "best_model.test_network(valid_set, \"valid data\")\n",
    "best_model.test_network(test_set, \"test data\")\n",
    "\n",
    "mlp = Net.load_model(\"model/\" + \"Adam_network\")  # reload original model"
   ]
  }
 ],
 "metadata": {
  "kernelspec": {
   "display_name": "Python 3 (ipykernel)",
   "language": "python",
   "name": "python3"
  },
  "language_info": {
   "codemirror_mode": {
    "name": "ipython",
    "version": 3
   },
   "file_extension": ".py",
   "mimetype": "text/x-python",
   "name": "python",
   "nbconvert_exporter": "python",
   "pygments_lexer": "ipython3",
   "version": "3.10.2"
  }
 },
 "nbformat": 4,
 "nbformat_minor": 5
}
