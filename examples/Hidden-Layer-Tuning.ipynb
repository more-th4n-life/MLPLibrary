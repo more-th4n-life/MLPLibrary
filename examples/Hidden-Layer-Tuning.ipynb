{
 "cells": [
  {
   "cell_type": "markdown",
   "id": "3ba18ebe",
   "metadata": {},
   "source": [
    "# Hyper-Parameter Tuning # Hidden Layers"
   ]
  },
  {
   "cell_type": "code",
   "execution_count": 1,
   "id": "39086bcc",
   "metadata": {},
   "outputs": [],
   "source": [
    "# Importing all the modules and functions related to constructing MLP network models\n",
    "\n",
    "from network.net import Net                   # Net class, base class for constructing MLP networks\n",
    "from network.layer import Linear              # Linear class, child class of parent class Layer \n",
    "from network.loss import CrossEntropyLoss     # CrossEntropyLoss class, child class of parent class Loss\n",
    "from network.activ import ReLU, LeakyReLU     # ReLU, LeakyReLU classes, child classes of parent class Activation\n",
    "from network.optim import SGD, Adam           # SGD, Adam classes, child classes of parent class Optimizer"
   ]
  },
  {
   "cell_type": "code",
   "execution_count": 2,
   "id": "c9cd70c8",
   "metadata": {},
   "outputs": [],
   "source": [
    "# Importing all the modules and functions related to data processing including loaders for the assignment data\n",
    "\n",
    "# Process module contains functions relating to data processing:\n",
    "from network.loader.process import (\n",
    "    train_test_split,        # Function to split data with chosen ratio, data can be shuffled\n",
    "    normalize,               # Normalizes data to have mean of zero and unit variance\n",
    "    standardize,             # Normalizes data to be between range 0-1, i.e. standardizes data\n",
    "    one_hot,                 # One hot encoding: 100% prob of 2 is [0, 0, 1] with 3 classes\n",
    "    pca                      # Reduces data to chosen K principal components\n",
    ") \n",
    "\n",
    "# Data module for loading the assignment data\n",
    "from network.dataset.source import (\n",
    "    get_data_from_file,   # Loads assignment data from file (must be within main directory)\n",
    "    get_data_from_url     # Loads assignment data from public GitHub repo that stores data\n",
    ")\n",
    "\n",
    "# Data loader module for automating processing of and loading of assignment data based on parameter selections\n",
    "from network.loader.data_loader import load_train_val_test  # Parameter selections decide method of processing\n",
    "\n",
    "import numpy as np\n",
    "import matplotlib.pyplot as pl\n",
    "import pandas as pd \n",
    "import seaborn as sns\n",
    "\n",
    "# setting random seed\n",
    "np.random.seed(123)"
   ]
  },
  {
   "cell_type": "code",
   "execution_count": 3,
   "id": "dc662da3",
   "metadata": {},
   "outputs": [],
   "source": [
    "def plot_results(stats):\n",
    "    ep, tl, ta, vl, va = stats\n",
    "    pl.figure(figsize = (10, 7))\n",
    "\n",
    "    fig, ((ax1, ax2), (ax3, ax4)) = pl.subplots(2, 2)\n",
    "    fig.suptitle(f'Training Results, best model found @ Epoch {ep}')\n",
    "\n",
    "    ax1.plot(tl)\n",
    "    ax1.set_title('Training Loss')\n",
    "\n",
    "    ax2.plot(vl, 'tab:orange')\n",
    "    ax2.set_title('Validation Loss')\n",
    "\n",
    "    ax3.plot(ta, 'tab:green')\n",
    "    ax3.set_title('Training Accuracy')\n",
    "\n",
    "    ax4.plot(va, 'tab:red')\n",
    "    ax4.set_title('Validation Accuracy')\n",
    "    \n",
    "    for ax in fig.get_axes():\n",
    "        ax.label_outer()\n",
    "\n",
    "    pl.show()\n",
    "\n",
    "# Note as we are loading data from URL it will take longer than from file.\n",
    "train_set, valid_set, test_set = load_train_val_test(\n",
    "    source = \"url\", method = \"standardize\", pca_N = 0, n_categories = 10, ratio = 0.2, shuffle = True\n",
    ")         "
   ]
  },
  {
   "cell_type": "markdown",
   "id": "0a53ccf3",
   "metadata": {},
   "source": [
    "## Current Best Model"
   ]
  },
  {
   "cell_type": "code",
   "execution_count": 4,
   "id": "959360fe",
   "metadata": {},
   "outputs": [
    {
     "name": "stdout",
     "output_type": "stream",
     "text": [
      "Adam_network is initialized and ready to be trained.\n"
     ]
    }
   ],
   "source": [
    "mlp = Net(\n",
    "    optimizer = Adam(),\n",
    "    criterion = CrossEntropyLoss(),\n",
    "    batch_norm = True,\n",
    "    L2_reg_term = 0.001\n",
    ")\n",
    "\n",
    "mlp.add(Linear(128, 1024, dropout=0.4))\n",
    "mlp.add(ReLU())\n",
    "mlp.add(Linear(1024, 512, dropout=0.2))\n",
    "mlp.add(ReLU())\n",
    "mlp.add(Linear(512, 64, dropout=0.2))\n",
    "mlp.add(ReLU())\n",
    "mlp.add(Linear(64, 16, dropout=0.2))\n",
    "mlp.add(ReLU())\n",
    "mlp.add(Linear(16, 10))  \n",
    "\n",
    "\n",
    "mlp.set_name(\"Adam_network\")\n",
    "print(f\"{mlp.model_name} is initialized and ready to be trained.\")"
   ]
  },
  {
   "cell_type": "markdown",
   "id": "9cf38bbe",
   "metadata": {},
   "source": [
    "## 0: Train and Evaluate Current Best Model"
   ]
  },
  {
   "cell_type": "code",
   "execution_count": 5,
   "id": "9e7b0d2e",
   "metadata": {},
   "outputs": [
    {
     "name": "stderr",
     "output_type": "stream",
     "text": [
      "  1%|█▍                                                                                                                                           | 1/100 [00:07<11:59,  7.27s/it]"
     ]
    },
    {
     "name": "stdout",
     "output_type": "stream",
     "text": [
      "Epoch: 0\tInterval Time: 7.3 sec(s)\tTraining Loss: 2.213828\t\tTraining Accuracy: 0.226825\n",
      "\t\t\t\t\t\tValidation Loss:1.867397\tValidation Accuracy: 0.350100\n"
     ]
    },
    {
     "name": "stderr",
     "output_type": "stream",
     "text": [
      "  6%|████████▍                                                                                                                                    | 6/100 [00:43<11:17,  7.21s/it]"
     ]
    },
    {
     "name": "stdout",
     "output_type": "stream",
     "text": [
      "Epoch: 5\tInterval Time: 36.1 sec(s)\tTraining Loss: 1.574976\t\tTraining Accuracy: 0.458350\n",
      "\t\t\t\t\t\tValidation Loss:1.481806\tValidation Accuracy: 0.504200\n"
     ]
    },
    {
     "name": "stderr",
     "output_type": "stream",
     "text": [
      " 11%|███████████████▍                                                                                                                            | 11/100 [01:19<10:41,  7.21s/it]"
     ]
    },
    {
     "name": "stdout",
     "output_type": "stream",
     "text": [
      "Epoch: 10\tInterval Time: 36.2 sec(s)\tTraining Loss: 1.417001\t\tTraining Accuracy: 0.531750\n",
      "\t\t\t\t\t\tValidation Loss:1.382571\tValidation Accuracy: 0.546100\n"
     ]
    },
    {
     "name": "stderr",
     "output_type": "stream",
     "text": [
      " 16%|██████████████████████▍                                                                                                                     | 16/100 [01:55<09:58,  7.13s/it]"
     ]
    },
    {
     "name": "stdout",
     "output_type": "stream",
     "text": [
      "Epoch: 15\tInterval Time: 35.7 sec(s)\tTraining Loss: 1.331786\t\tTraining Accuracy: 0.573775\n",
      "\t\t\t\t\t\tValidation Loss:1.346598\tValidation Accuracy: 0.563900\n"
     ]
    },
    {
     "name": "stderr",
     "output_type": "stream",
     "text": [
      " 21%|█████████████████████████████▍                                                                                                              | 21/100 [02:32<09:36,  7.30s/it]"
     ]
    },
    {
     "name": "stdout",
     "output_type": "stream",
     "text": [
      "Epoch: 20\tInterval Time: 37.4 sec(s)\tTraining Loss: 1.273557\t\tTraining Accuracy: 0.604275\n",
      "\t\t\t\t\t\tValidation Loss:1.315492\tValidation Accuracy: 0.576700\n"
     ]
    },
    {
     "name": "stderr",
     "output_type": "stream",
     "text": [
      " 26%|████████████████████████████████████▍                                                                                                       | 26/100 [03:08<08:50,  7.16s/it]"
     ]
    },
    {
     "name": "stdout",
     "output_type": "stream",
     "text": [
      "Epoch: 25\tInterval Time: 35.9 sec(s)\tTraining Loss: 1.231234\t\tTraining Accuracy: 0.628075\n",
      "\t\t\t\t\t\tValidation Loss:1.314901\tValidation Accuracy: 0.579400\n"
     ]
    },
    {
     "name": "stderr",
     "output_type": "stream",
     "text": [
      " 31%|███████████████████████████████████████████▍                                                                                                | 31/100 [03:44<08:18,  7.22s/it]"
     ]
    },
    {
     "name": "stdout",
     "output_type": "stream",
     "text": [
      "Epoch: 30\tInterval Time: 36.4 sec(s)\tTraining Loss: 1.193900\t\tTraining Accuracy: 0.647725\n",
      "\t\t\t\t\t\tValidation Loss:1.301203\tValidation Accuracy: 0.587400\n"
     ]
    },
    {
     "name": "stderr",
     "output_type": "stream",
     "text": [
      " 36%|██████████████████████████████████████████████████▍                                                                                         | 36/100 [04:23<08:09,  7.65s/it]"
     ]
    },
    {
     "name": "stdout",
     "output_type": "stream",
     "text": [
      "Epoch: 35\tInterval Time: 38.9 sec(s)\tTraining Loss: 1.168793\t\tTraining Accuracy: 0.659200\n",
      "\t\t\t\t\t\tValidation Loss:1.301198\tValidation Accuracy: 0.583700\n"
     ]
    },
    {
     "name": "stderr",
     "output_type": "stream",
     "text": [
      " 41%|█████████████████████████████████████████████████████████▍                                                                                  | 41/100 [05:04<07:52,  8.01s/it]"
     ]
    },
    {
     "name": "stdout",
     "output_type": "stream",
     "text": [
      "Epoch: 40\tInterval Time: 40.4 sec(s)\tTraining Loss: 1.150525\t\tTraining Accuracy: 0.668050\n",
      "\t\t\t\t\t\tValidation Loss:1.294413\tValidation Accuracy: 0.587600\n"
     ]
    },
    {
     "name": "stderr",
     "output_type": "stream",
     "text": [
      " 46%|████████████████████████████████████████████████████████████████▍                                                                           | 46/100 [05:50<08:14,  9.16s/it]"
     ]
    },
    {
     "name": "stdout",
     "output_type": "stream",
     "text": [
      "Epoch: 45\tInterval Time: 46.2 sec(s)\tTraining Loss: 1.126710\t\tTraining Accuracy: 0.677550\n",
      "\t\t\t\t\t\tValidation Loss:1.291413\tValidation Accuracy: 0.593300\n"
     ]
    },
    {
     "name": "stderr",
     "output_type": "stream",
     "text": [
      " 50%|██████████████████████████████████████████████████████████████████████                                                                      | 50/100 [06:32<06:32,  7.85s/it]"
     ]
    },
    {
     "name": "stdout",
     "output_type": "stream",
     "text": [
      "Epoch: 50\tInterval Time: 42.2 sec(s)\tTraining Loss: 1.109057\t\tTraining Accuracy: 0.688575\n",
      "\t\t\t\t\t\tValidation Loss:1.292969\tValidation Accuracy: 0.592400\n",
      "\n",
      "\n",
      "Minimum percent change (1e-25%) in training loss not exceeded.\n",
      "\n",
      "Convergence criteria achieved.\n",
      "Training completed @ Epoch 50.\n",
      "Total training time: 6 min 32.5 s\n",
      "\n",
      "                Best model found @ Epoch 45\n",
      "                --------------------------------------------\n",
      "                Training Loss: 1.126710\n",
      "                Validation Loss: 1.291413\n",
      "                --------------------------------------------\n",
      "                Training Accuracy: 0.677550\n",
      "                Validation Accuracy: 0.593300\n",
      "\n",
      "\n",
      "Best model 'Adam_network' saved in 'model/' directory.\n"
     ]
    },
    {
     "name": "stderr",
     "output_type": "stream",
     "text": [
      "\n"
     ]
    },
    {
     "data": {
      "text/plain": [
       "{'tags': ['hide-output']}"
      ]
     },
     "execution_count": 5,
     "metadata": {},
     "output_type": "execute_result"
    }
   ],
   "source": [
    "best = mlp.train_convergence(\n",
    "    train_set = train_set,\n",
    "    valid_set = valid_set,\n",
    "    batch_size = 500,\n",
    "    planned_epochs = 100,\n",
    "    last_check = 10,\n",
    "    threshold = 1e-25,\n",
    "    report_interval = 5\n",
    ")\n",
    "\n",
    "{\"tags\": [\"hide-output\"]}"
   ]
  },
  {
   "cell_type": "code",
   "execution_count": 6,
   "id": "cae55fb2",
   "metadata": {},
   "outputs": [
    {
     "data": {
      "text/plain": [
       "<Figure size 720x504 with 0 Axes>"
      ]
     },
     "metadata": {},
     "output_type": "display_data"
    },
    {
     "data": {
      "image/png": "[encoded data removed]",
      "text/plain": [
       "<Figure size 432x288 with 4 Axes>"
      ]
     },
     "metadata": {
      "needs_background": "light"
     },
     "output_type": "display_data"
    }
   ],
   "source": [
    "plot_results(best)"
   ]
  },
  {
   "cell_type": "code",
   "execution_count": 7,
   "id": "ecf4c73c",
   "metadata": {},
   "outputs": [
    {
     "name": "stdout",
     "output_type": "stream",
     "text": [
      "-------------------------------------------\n",
      "Accuracy on train data: 86.06%\n",
      "Total Count:  40000\n",
      "Total Match:  34425\n",
      "-------------------------------------------\n",
      "Test Accuracy of\t0: 92.75% (3737/4029)\n",
      "Test Accuracy of\t1: 80.45% (3235/4021)\n",
      "Test Accuracy of\t2: 76.63% (3052/3983)\n",
      "Test Accuracy of\t3: 84.88% (3356/3954)\n",
      "Test Accuracy of\t4: 76.94% (3083/4007)\n",
      "Test Accuracy of\t5: 90.69% (3655/4030)\n",
      "Test Accuracy of\t6: 90.49% (3665/4050)\n",
      "Test Accuracy of\t7: 91.00% (3620/3978)\n",
      "Test Accuracy of\t8: 88.53% (3527/3984)\n",
      "Test Accuracy of\t9: 88.17% (3495/3964)\n",
      "-------------------------------------------\n",
      "Accuracy on valid data: 59.33%\n",
      "Total Count:  10000\n",
      "Total Match:  5933\n",
      "-------------------------------------------\n",
      "Test Accuracy of\t0: 73.12% (710/971)\n",
      "Test Accuracy of\t1: 45.45% (445/979)\n",
      "Test Accuracy of\t2: 40.31% (410/1017)\n",
      "Test Accuracy of\t3: 54.49% (570/1046)\n",
      "Test Accuracy of\t4: 44.61% (443/993)\n",
      "Test Accuracy of\t5: 67.63% (656/970)\n",
      "Test Accuracy of\t6: 65.37% (621/950)\n",
      "Test Accuracy of\t7: 73.09% (747/1022)\n",
      "Test Accuracy of\t8: 62.20% (632/1016)\n",
      "Test Accuracy of\t9: 67.47% (699/1036)\n",
      "-------------------------------------------\n",
      "Accuracy on test data: 58.65%\n",
      "Total Count:  10000\n",
      "Total Match:  5865\n",
      "-------------------------------------------\n",
      "Test Accuracy of\t0: 70.50% (705/1000)\n",
      "Test Accuracy of\t1: 43.40% (434/1000)\n",
      "Test Accuracy of\t2: 39.10% (391/1000)\n",
      "Test Accuracy of\t3: 51.30% (513/1000)\n",
      "Test Accuracy of\t4: 46.00% (460/1000)\n",
      "Test Accuracy of\t5: 69.80% (698/1000)\n",
      "Test Accuracy of\t6: 70.00% (700/1000)\n",
      "Test Accuracy of\t7: 70.10% (701/1000)\n",
      "Test Accuracy of\t8: 59.40% (594/1000)\n",
      "Test Accuracy of\t9: 66.90% (669/1000)\n"
     ]
    }
   ],
   "source": [
    "# Loading best model found:\n",
    "\n",
    "best_model = Net.load_model(\"model/\" + mlp.model_name)\n",
    "best_model.test_network(train_set, \"train data\")\n",
    "best_model.test_network(valid_set, \"valid data\")\n",
    "best_model.test_network(test_set, \"test data\")"
   ]
  },
  {
   "cell_type": "markdown",
   "id": "067fe9d5",
   "metadata": {},
   "source": [
    "# 1: Removing a layer"
   ]
  },
  {
   "cell_type": "markdown",
   "id": "e4ca7c98",
   "metadata": {},
   "source": [
    "Note: need to ensure output dims match input dims of next layer:\n",
    "\n",
    "### Scenario A"
   ]
  },
  {
   "cell_type": "code",
   "execution_count": 8,
   "id": "a6cd039c",
   "metadata": {},
   "outputs": [],
   "source": [
    "remA = Net(\n",
    "    optimizer = Adam(),\n",
    "    criterion = CrossEntropyLoss(),\n",
    "    batch_norm = True,\n",
    "    L2_reg_term = 0.001\n",
    ")\n",
    "\n",
    "remA.add(Linear(128, 1024, dropout=0.4))\n",
    "remA.add(ReLU())\n",
    "remA.add(Linear(1024, 512, dropout=0.2))\n",
    "remA.add(ReLU())\n",
    "remA.add(Linear(512, 16, dropout=0.2))\n",
    "remA.add(ReLU())\n",
    "#mlp.add(Linear(64, 16, dropout=0.2))   # removing this layer\n",
    "#mlp.add(ReLU())\n",
    "remA.add(Linear(16, 10))  "
   ]
  },
  {
   "cell_type": "markdown",
   "id": "7cd11afb",
   "metadata": {},
   "source": [
    "### Train and Evaluate Scenario A"
   ]
  },
  {
   "cell_type": "code",
   "execution_count": 9,
   "id": "6899bd4d",
   "metadata": {},
   "outputs": [
    {
     "name": "stdout",
     "output_type": "stream",
     "text": [
      "Adam_network is initialized and ready to be trained.\n"
     ]
    },
    {
     "name": "stderr",
     "output_type": "stream",
     "text": [
      "  1%|█▍                                                                                                                                           | 1/100 [00:07<12:23,  7.51s/it]"
     ]
    },
    {
     "name": "stdout",
     "output_type": "stream",
     "text": [
      "Epoch: 0\tInterval Time: 7.5 sec(s)\tTraining Loss: 2.024905\t\tTraining Accuracy: 0.273700\n",
      "\t\t\t\t\t\tValidation Loss:1.750469\tValidation Accuracy: 0.396800\n"
     ]
    },
    {
     "name": "stderr",
     "output_type": "stream",
     "text": [
      "  6%|████████▍                                                                                                                                    | 6/100 [00:44<11:45,  7.51s/it]"
     ]
    },
    {
     "name": "stdout",
     "output_type": "stream",
     "text": [
      "Epoch: 5\tInterval Time: 37.0 sec(s)\tTraining Loss: 1.515017\t\tTraining Accuracy: 0.489375\n",
      "\t\t\t\t\t\tValidation Loss:1.474686\tValidation Accuracy: 0.510900\n"
     ]
    },
    {
     "name": "stderr",
     "output_type": "stream",
     "text": [
      " 11%|███████████████▍                                                                                                                            | 11/100 [01:22<10:51,  7.32s/it]"
     ]
    },
    {
     "name": "stdout",
     "output_type": "stream",
     "text": [
      "Epoch: 10\tInterval Time: 37.7 sec(s)\tTraining Loss: 1.378228\t\tTraining Accuracy: 0.550250\n",
      "\t\t\t\t\t\tValidation Loss:1.378452\tValidation Accuracy: 0.549300\n"
     ]
    },
    {
     "name": "stderr",
     "output_type": "stream",
     "text": [
      " 16%|██████████████████████▍                                                                                                                     | 16/100 [01:58<10:07,  7.23s/it]"
     ]
    },
    {
     "name": "stdout",
     "output_type": "stream",
     "text": [
      "Epoch: 15\tInterval Time: 36.0 sec(s)\tTraining Loss: 1.304036\t\tTraining Accuracy: 0.583700\n",
      "\t\t\t\t\t\tValidation Loss:1.349824\tValidation Accuracy: 0.568500\n"
     ]
    },
    {
     "name": "stderr",
     "output_type": "stream",
     "text": [
      " 21%|█████████████████████████████▍                                                                                                              | 21/100 [02:35<09:43,  7.39s/it]"
     ]
    },
    {
     "name": "stdout",
     "output_type": "stream",
     "text": [
      "Epoch: 20\tInterval Time: 36.9 sec(s)\tTraining Loss: 1.257405\t\tTraining Accuracy: 0.606800\n",
      "\t\t\t\t\t\tValidation Loss:1.334707\tValidation Accuracy: 0.575000\n"
     ]
    },
    {
     "name": "stderr",
     "output_type": "stream",
     "text": [
      " 24%|█████████████████████████████████▌                                                                                                          | 24/100 [03:04<09:45,  7.71s/it]"
     ]
    },
    {
     "name": "stdout",
     "output_type": "stream",
     "text": [
      "\n",
      "\n",
      "Minimum percent change (1e-25%) in training loss not exceeded.\n",
      "\n",
      "Convergence criteria achieved.\n",
      "Training completed @ Epoch 24.\n",
      "Total training time: 3 min 5.0 s\n",
      "\n",
      "                Best model found @ Epoch 24\n",
      "                --------------------------------------------\n",
      "                Training Loss: 1.238887\n",
      "                Validation Loss: 1.319198\n",
      "                --------------------------------------------\n",
      "                Training Accuracy: 0.614475\n",
      "                Validation Accuracy: 0.577400\n",
      "\n",
      "\n",
      "Best model 'remA' saved in 'model/' directory.\n"
     ]
    },
    {
     "name": "stderr",
     "output_type": "stream",
     "text": [
      "\n"
     ]
    },
    {
     "data": {
      "text/plain": [
       "{'tags': ['hide-output']}"
      ]
     },
     "execution_count": 9,
     "metadata": {},
     "output_type": "execute_result"
    }
   ],
   "source": [
    "\n",
    "remA.set_name(\"remA\")\n",
    "print(f\"{mlp.model_name} is initialized and ready to be trained.\")\n",
    "\n",
    "remAT = remA.train_convergence(\n",
    "    train_set = train_set,\n",
    "    valid_set = valid_set,\n",
    "    batch_size = 500,\n",
    "    planned_epochs = 100,\n",
    "    last_check = 10,\n",
    "    threshold = 1e-25,\n",
    "    report_interval = 5\n",
    ")\n",
    "\n",
    "{\"tags\": [\"hide-output\"]}"
   ]
  },
  {
   "cell_type": "code",
   "execution_count": 10,
   "id": "546fa314",
   "metadata": {},
   "outputs": [
    {
     "data": {
      "text/plain": [
       "<Figure size 720x504 with 0 Axes>"
      ]
     },
     "metadata": {},
     "output_type": "display_data"
    },
    {
     "data": {
      "image/png": "[encoded data removed]",
      "text/plain": [
       "<Figure size 432x288 with 4 Axes>"
      ]
     },
     "metadata": {
      "needs_background": "light"
     },
     "output_type": "display_data"
    }
   ],
   "source": [
    "plot_results(remAT)"
   ]
  },
  {
   "cell_type": "code",
   "execution_count": 11,
   "id": "abe36e28",
   "metadata": {},
   "outputs": [
    {
     "ename": "AttributeError",
     "evalue": "'tuple' object has no attribute 'model_name'",
     "output_type": "error",
     "traceback": [
      "\u001b[1;31m---------------------------------------------------------------------------\u001b[0m",
      "\u001b[1;31mAttributeError\u001b[0m                            Traceback (most recent call last)",
      "Input \u001b[1;32mIn [11]\u001b[0m, in \u001b[0;36m<module>\u001b[1;34m\u001b[0m\n\u001b[0;32m      1\u001b[0m \u001b[38;5;66;03m# Loading best model found:\u001b[39;00m\n\u001b[1;32m----> 3\u001b[0m best_model \u001b[38;5;241m=\u001b[39m Net\u001b[38;5;241m.\u001b[39mload_model(\u001b[38;5;124m\"\u001b[39m\u001b[38;5;124mmodel/\u001b[39m\u001b[38;5;124m\"\u001b[39m \u001b[38;5;241m+\u001b[39m \u001b[43mremAT\u001b[49m\u001b[38;5;241;43m.\u001b[39;49m\u001b[43mmodel_name\u001b[49m)\n\u001b[0;32m      4\u001b[0m best_model\u001b[38;5;241m.\u001b[39mtest_network(train_set, \u001b[38;5;124m\"\u001b[39m\u001b[38;5;124mtrain data\u001b[39m\u001b[38;5;124m\"\u001b[39m)\n\u001b[0;32m      5\u001b[0m best_model\u001b[38;5;241m.\u001b[39mtest_network(valid_set, \u001b[38;5;124m\"\u001b[39m\u001b[38;5;124mvalid data\u001b[39m\u001b[38;5;124m\"\u001b[39m)\n",
      "\u001b[1;31mAttributeError\u001b[0m: 'tuple' object has no attribute 'model_name'"
     ]
    }
   ],
   "source": [
    "# Loading best model found:\n",
    "\n",
    "best_model = Net.load_model(\"model/\" + remAT.model_name)\n",
    "best_model.test_network(train_set, \"train data\")\n",
    "best_model.test_network(valid_set, \"valid data\")\n",
    "best_model.test_network(test_set, \"test data\")"
   ]
  },
  {
   "cell_type": "markdown",
   "id": "daf4da0b",
   "metadata": {},
   "source": [
    "### Scenario B"
   ]
  },
  {
   "cell_type": "code",
   "execution_count": null,
   "id": "5c07a95e",
   "metadata": {},
   "outputs": [],
   "source": [
    "remB = Net(\n",
    "    optimizer = Adam(),\n",
    "    criterion = CrossEntropyLoss(),\n",
    "    batch_norm = True,\n",
    "    L2_reg_term = 0.001\n",
    ")\n",
    "\n",
    "remB.add(Linear(128, 1024, dropout=0.4))\n",
    "remB.add(ReLU())\n",
    "remB.add(Linear(1024, 64, dropout=0.2))\n",
    "remB.add(ReLU())\n",
    "#remB.add(Linear(512, 16, dropout=0.2))  # removing this layer\n",
    "#remB.add(ReLU())\n",
    "remB.add(Linear(64, 16, dropout=0.2))   \n",
    "remB.add(ReLU())\n",
    "remB.add(Linear(16, 10))"
   ]
  },
  {
   "cell_type": "markdown",
   "id": "96e79a04",
   "metadata": {},
   "source": [
    "### Train and Evaluate Scenario B"
   ]
  },
  {
   "cell_type": "code",
   "execution_count": null,
   "id": "e7b9e986",
   "metadata": {},
   "outputs": [],
   "source": [
    "remB.set_name(\"remB\")\n",
    "print(f\"{mlp.model_name} is initialized and ready to be trained.\")\n",
    "\n",
    "remB_stat = remB.train_convergence(\n",
    "    train_set = train_set,\n",
    "    valid_set = valid_set,\n",
    "    batch_size = 500,\n",
    "    planned_epochs = 100,\n",
    "    last_check = 10,\n",
    "    threshold = 1e-25,\n",
    "    report_interval = 5\n",
    ")\n",
    "\n",
    "{\"tags\": [\"hide-output\"]}"
   ]
  },
  {
   "cell_type": "code",
   "execution_count": null,
   "id": "2cff270a",
   "metadata": {},
   "outputs": [],
   "source": [
    "plot_results(remB_stat)"
   ]
  },
  {
   "cell_type": "code",
   "execution_count": null,
   "id": "7dc8f913",
   "metadata": {},
   "outputs": [],
   "source": [
    "# Loading best model found:\n",
    "\n",
    "best_model = Net.load_model(\"model/\" + remB.model_name)\n",
    "best_model.test_network(train_set, \"train data\")\n",
    "best_model.test_network(valid_set, \"valid data\")\n",
    "best_model.test_network(test_set, \"test data\")"
   ]
  },
  {
   "cell_type": "markdown",
   "id": "e4826b53",
   "metadata": {},
   "source": [
    "### Scenario C"
   ]
  },
  {
   "cell_type": "code",
   "execution_count": null,
   "id": "d82a95f6",
   "metadata": {},
   "outputs": [],
   "source": [
    "remC = Net(\n",
    "    optimizer = Adam(),\n",
    "    criterion = CrossEntropyLoss(),\n",
    "    batch_norm = True,\n",
    "    L2_reg_term = 0.001\n",
    ")\n",
    "\n",
    "remC.add(Linear(128, 1024, dropout=0.4))\n",
    "remC.add(ReLU())\n",
    "#remC.add(Linear(1024, 64, dropout=0.2))   # removing this layer\n",
    "#remC.add(ReLU())\n",
    "remC.add(Linear(1024, 64, dropout=0.2))  \n",
    "remC.add(ReLU())\n",
    "remC.add(Linear(64, 16, dropout=0.2))   \n",
    "remC.add(ReLU())\n",
    "remC.add(Linear(16, 10))"
   ]
  },
  {
   "cell_type": "markdown",
   "id": "f81c6dc4",
   "metadata": {},
   "source": [
    "### Train and Evaluate Scenario C"
   ]
  },
  {
   "cell_type": "code",
   "execution_count": null,
   "id": "a1d5e161",
   "metadata": {},
   "outputs": [],
   "source": [
    "\n",
    "remC.set_name(\"remC\")\n",
    "print(f\"{remC.model_name} is initialized and ready to be trained.\")\n",
    "\n",
    "remC_stat = remC.train_convergence(\n",
    "    train_set = train_set,\n",
    "    valid_set = valid_set,\n",
    "    batch_size = 500,\n",
    "    planned_epochs = 100,\n",
    "    last_check = 10,\n",
    "    threshold = 1e-25,\n",
    "    report_interval = 5\n",
    ")\n",
    "\n",
    "{\"tags\": [\"hide-output\"]}"
   ]
  },
  {
   "cell_type": "code",
   "execution_count": null,
   "id": "ea20f8c2",
   "metadata": {},
   "outputs": [],
   "source": [
    "plot_results(remC_stat)"
   ]
  },
  {
   "cell_type": "code",
   "execution_count": null,
   "id": "d43d281a",
   "metadata": {},
   "outputs": [],
   "source": [
    "# Loading best model found:\n",
    "\n",
    "best_model = Net.load_model(\"model/\" + remC.model_name)\n",
    "best_model.test_network(train_set, \"train data\")\n",
    "best_model.test_network(valid_set, \"valid data\")\n",
    "best_model.test_network(test_set, \"test data\")"
   ]
  },
  {
   "cell_type": "markdown",
   "id": "e21fee4e",
   "metadata": {},
   "source": [
    "# 2: Adding a Layer"
   ]
  },
  {
   "cell_type": "markdown",
   "id": "b7eebd73",
   "metadata": {},
   "source": [
    "For consistency, let's choose an output dimension for an added hidden layer to be half the size of the output dims in the previous layer."
   ]
  },
  {
   "cell_type": "markdown",
   "id": "9a0be827",
   "metadata": {},
   "source": [
    "### Scenario A"
   ]
  },
  {
   "cell_type": "code",
   "execution_count": null,
   "id": "a5cae34c",
   "metadata": {},
   "outputs": [],
   "source": [
    "mlp = Net(\n",
    "    optimizer = Adam(),\n",
    "    criterion = CrossEntropyLoss(),\n",
    "    batch_norm = True,\n",
    "    L2_reg_term = 0.001\n",
    ")\n",
    "\n",
    "mlp.add(Linear(128, 1024, dropout=0.4))\n",
    "mlp.add(ReLU())\n",
    "mlp.add(Linear(1024, 512, dropout=0.2))\n",
    "mlp.add(ReLU())\n",
    "mlp.add(Linear(512, 64, dropout=0.2))\n",
    "mlp.add(ReLU())\n",
    "# Adding layer\n",
    "mlp.add(Linear(64, 32, dropout=0.2))  # half above output\n",
    "mlp.add(ReLU())\n",
    "mlp.add(Linear(32, 16, dropout=0.2))  # reduce 64 to match 32\n",
    "mlp.add(ReLU())\n",
    "mlp.add(Linear(16, 10))  \n",
    "\n",
    "\n",
    "mlp.set_name(\"Adam_network\")\n",
    "print(f\"{mlp.model_name} is initialized and ready to be trained.\")"
   ]
  },
  {
   "cell_type": "markdown",
   "id": "fa7ac7a7",
   "metadata": {},
   "source": [
    "### Train and Evaluate Scenario A"
   ]
  },
  {
   "cell_type": "code",
   "execution_count": null,
   "id": "9bfee5fe",
   "metadata": {},
   "outputs": [],
   "source": [
    "\n",
    "mlp.set_name(\"add\")\n",
    "print(f\"{mlp.model_name} is initialized and ready to be trained.\")\n",
    "\n",
    "addA = mlp.train_convergence(\n",
    "    train_set = train_set,\n",
    "    valid_set = valid_set,\n",
    "    batch_size = 500,\n",
    "    planned_epochs = 100,\n",
    "    last_check = 10,\n",
    "    threshold = 1e-25,\n",
    "    report_interval = 5\n",
    ")\n",
    "\n",
    "{\"tags\": [\"hide-output\"]}"
   ]
  },
  {
   "cell_type": "code",
   "execution_count": null,
   "id": "f71fdc0d",
   "metadata": {},
   "outputs": [],
   "source": [
    "plot_results(add_stat)"
   ]
  },
  {
   "cell_type": "code",
   "execution_count": null,
   "id": "021cdab0",
   "metadata": {},
   "outputs": [],
   "source": [
    "# Loading best model found:\n",
    "\n",
    "best_model = Net.load_model(\"model/\" + mlp.model_name)\n",
    "best_model.test_network(train_set, \"train data\")\n",
    "best_model.test_network(valid_set, \"valid data\")\n",
    "best_model.test_network(test_set, \"test data\")"
   ]
  },
  {
   "cell_type": "markdown",
   "id": "f1d02f2d",
   "metadata": {},
   "source": [
    "### Scenario B"
   ]
  },
  {
   "cell_type": "code",
   "execution_count": null,
   "id": "99f6c688",
   "metadata": {},
   "outputs": [],
   "source": [
    "mlp = Net(\n",
    "    optimizer = Adam(),\n",
    "    criterion = CrossEntropyLoss(),\n",
    "    batch_norm = True,\n",
    "    L2_reg_term = 0.001\n",
    ")\n",
    "\n",
    "mlp.add(Linear(128, 1024, dropout=0.4))\n",
    "mlp.add(ReLU())\n",
    "mlp.add(Linear(1024, 512, dropout=0.2))\n",
    "mlp.add(ReLU())\n",
    "# adding layer\n",
    "mlp.add(Linear(512, 64, dropout=0.2))\n",
    "mlp.add(ReLU())\n",
    "mlp.add(Linear(64, 32, dropout=0.2))\n",
    "mlp.add(ReLU())\n",
    "mlp.add(Linear(32, 16, dropout=0.2))  \n",
    "mlp.add(ReLU())\n",
    "mlp.add(Linear(16, 10))  \n",
    "\n",
    "\n",
    "mlp.set_name(\"Adam_network\")\n",
    "print(f\"{mlp.model_name} is initialized and ready to be trained.\")"
   ]
  },
  {
   "cell_type": "markdown",
   "id": "71a74faa",
   "metadata": {},
   "source": [
    "### Train and Evaluate Scenario B"
   ]
  },
  {
   "cell_type": "code",
   "execution_count": null,
   "id": "9a634ee8",
   "metadata": {},
   "outputs": [],
   "source": [
    "\n",
    "mlp.set_name(\"add2\")\n",
    "print(f\"{mlp.model_name} is initialized and ready to be trained.\")\n",
    "\n",
    "addB = mlp.train_convergence(\n",
    "    train_set = train_set,\n",
    "    valid_set = valid_set,\n",
    "    batch_size = 500,\n",
    "    planned_epochs = 100,\n",
    "    last_check = 10,\n",
    "    threshold = 1e-25,\n",
    "    report_interval = 5\n",
    ")\n",
    "\n",
    "{\"tags\": [\"hide-output\"]}"
   ]
  },
  {
   "cell_type": "code",
   "execution_count": null,
   "id": "e8ff5ec8",
   "metadata": {},
   "outputs": [],
   "source": [
    "plot_results(add_stat)"
   ]
  },
  {
   "cell_type": "code",
   "execution_count": null,
   "id": "275c1b3e",
   "metadata": {},
   "outputs": [],
   "source": [
    "# Loading best model found:\n",
    "\n",
    "best_model = Net.load_model(\"model/\" + mlp.model_name)\n",
    "best_model.test_network(train_set, \"train data\")\n",
    "best_model.test_network(valid_set, \"valid data\")\n",
    "best_model.test_network(test_set, \"test data\")"
   ]
  },
  {
   "cell_type": "markdown",
   "id": "2c4e2024",
   "metadata": {},
   "source": [
    "## Scenario C"
   ]
  },
  {
   "cell_type": "code",
   "execution_count": null,
   "id": "74a5894c",
   "metadata": {},
   "outputs": [],
   "source": [
    "mlp = Net(\n",
    "    optimizer = Adam(),\n",
    "    criterion = CrossEntropyLoss(),\n",
    "    batch_norm = True,\n",
    "    L2_reg_term = 0.001\n",
    ")\n",
    "\n",
    "mlp.add(Linear(128, 1024, dropout=0.4))\n",
    "mlp.add(ReLU())\n",
    "# adding layer\n",
    "mlp.add(Linear(1024, 512, dropout=0.4))\n",
    "mlp.add(ReLU())\n",
    "mlp.add(Linear(512, 128, dropout=0.2))\n",
    "mlp.add(ReLU())\n",
    "mlp.add(Linear(128, 32, dropout=0.2))\n",
    "mlp.add(ReLU())\n",
    "mlp.add(Linear(32, 16, dropout=0.2))  \n",
    "mlp.add(ReLU())\n",
    "mlp.add(Linear(16, 10))  \n",
    "\n",
    "\n",
    "mlp.set_name(\"Adam_network\")\n",
    "print(f\"{mlp.model_name} is initialized and ready to be trained.\")"
   ]
  },
  {
   "cell_type": "markdown",
   "id": "6ec23a47",
   "metadata": {},
   "source": [
    "## Train and Evaluate Scenario C"
   ]
  },
  {
   "cell_type": "code",
   "execution_count": null,
   "id": "d943e55e",
   "metadata": {},
   "outputs": [],
   "source": [
    "\n",
    "mlp.set_name(\"add3\")\n",
    "print(f\"{mlp.model_name} is initialized and ready to be trained.\")\n",
    "\n",
    "addC = mlp.train_convergence(\n",
    "    train_set = train_set,\n",
    "    valid_set = valid_set,\n",
    "    batch_size = 500,\n",
    "    planned_epochs = 100,\n",
    "    last_check = 10,\n",
    "    threshold = 1e-25,\n",
    "    report_interval = 5\n",
    ")\n",
    "\n",
    "{\"tags\": [\"hide-output\"]}"
   ]
  },
  {
   "cell_type": "code",
   "execution_count": null,
   "id": "03330ccc",
   "metadata": {},
   "outputs": [],
   "source": [
    "plot_results(add_stat)"
   ]
  },
  {
   "cell_type": "code",
   "execution_count": null,
   "id": "6c882b4c",
   "metadata": {},
   "outputs": [],
   "source": [
    "# Loading best model found:\n",
    "\n",
    "best_model = Net.load_model(\"model/\" + mlp.model_name)\n",
    "best_model.test_network(train_set, \"train data\")\n",
    "best_model.test_network(valid_set, \"valid data\")\n",
    "best_model.test_network(test_set, \"test data\")"
   ]
  }
 ],
 "metadata": {
  "kernelspec": {
   "display_name": "Python 3 (ipykernel)",
   "language": "python",
   "name": "python3"
  },
  "language_info": {
   "codemirror_mode": {
    "name": "ipython",
    "version": 3
   },
   "file_extension": ".py",
   "mimetype": "text/x-python",
   "name": "python",
   "nbconvert_exporter": "python",
   "pygments_lexer": "ipython3",
   "version": "3.10.2"
  }
 },
 "nbformat": 4,
 "nbformat_minor": 5
}
